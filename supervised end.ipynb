{
 "cells": [
  {
   "cell_type": "raw",
   "source": [
    "First load all data from the files into individual dataframes (and import necessary libraries)"
   ],
   "metadata": {
    "collapsed": false,
    "pycharm": {
     "name": ""
    }
   }
  },
  {
   "cell_type": "code",
   "source": [
    "import pandas as pd\n",
    "import numpy as np\n",
    "import sklearn\n",
    "from sklearn.model_selection import train_test_split\n",
    "from sklearn.linear_model import LinearRegression\n",
    "from sklearn.metrics import mean_squared_error, r2_score\n",
    "from sklearn.linear_model import LogisticRegression\n",
    "from sklearn.model_selection import train_test_split, cross_val_score, GridSearchCV\n",
    "from sklearn.metrics import accuracy_score, confusion_matrix\n",
    "from sklearn.neighbors import KNeighborsClassifier\n",
    "from  sklearn.ensemble import RandomForestClassifier\n",
    "from sklearn.neural_network import MLPClassifier\n",
    "from sklearn.ensemble import VotingClassifier\n",
    "from sklearn.svm import SVC\n",
    "from sklearn.metrics import classification_report"
   ],
   "metadata": {
    "collapsed": false,
    "ExecuteTime": {
     "end_time": "2024-05-30T17:41:44.358496Z",
     "start_time": "2024-05-30T17:41:44.342540Z"
    }
   },
   "outputs": [],
   "execution_count": 2
  },
  {
   "cell_type": "code",
   "source": [
    "#laptop\n",
    "#MCF_DS = pd.read_csv(\"C:\\\\Users\\\\camer\\\\Desktop\\\\class stuff\\\\Semester 4\\\\ai lab\\\\DropSeq\\\\MCF7_Filtered_Normalised_3000_Data_train.txt\", delimiter=\"\\ \", engine='python', index_col=0)\n",
    "#desktop\n",
    "#C:\\Users\\Cameron\\Desktop\\AILab24\\DropSeq\n",
    "MCF_DS = pd.read_csv(\"C:\\\\Users\\\\Cameron\\\\Desktop\\\\AILab24\\\\DropSeq\\\\MCF7_Filtered_Normalised_3000_Data_train.txt\",delimiter=\"\\ \", engine='python', index_col=0)"
   ],
   "metadata": {
    "collapsed": false,
    "ExecuteTime": {
     "end_time": "2024-05-30T17:46:58.925382Z",
     "start_time": "2024-05-30T17:46:17.332504Z"
    }
   },
   "outputs": [],
   "execution_count": 7
  },
  {
   "cell_type": "code",
   "source": [
    "#laptop\n",
    "#HCC_DS = pd.read_csv(\"C:\\\\Users\\\\camer\\\\Desktop\\\\class stuff\\\\Semester 4\\\\ai lab\\\\DropSeq\\\\HCC1806_Filtered_Normalised_3000_Data_train.txt\", delimiter=\"\\ \", engine='python', index_col=0)\n",
    "#desktop\n",
    "#C:\\Users\\Cameron\\Desktop\\AILab24\\DropSeq\n",
    "HCC_DS = pd.read_csv(\"C:\\\\Users\\\\Cameron\\\\Desktop\\\\AILab24\\\\DropSeq\\\\HCC1806_Filtered_Normalised_3000_Data_train.txt\", delimiter=\"\\ \", engine='python', index_col=0)"
   ],
   "metadata": {
    "collapsed": false,
    "ExecuteTime": {
     "end_time": "2024-05-30T17:47:26.172978Z",
     "start_time": "2024-05-30T17:46:58.927346Z"
    }
   },
   "outputs": [],
   "execution_count": 8
  },
  {
   "cell_type": "code",
   "source": [
    "MCF_SS = pd.read_csv(\"C:\\\\Users\\\\Cameron\\\\Desktop\\\\AILab24\\\\SmartSeq\\\\MCF7_SmartS_Filtered_Normalised_3000_Data_train.txt\", delimiter=\"\\ \",engine='python',index_col=0)\n",
    "HCC_SS = pd.read_csv(\"C:\\\\Users\\\\Cameron\\\\Desktop\\\\AILab24\\\\SmartSeq\\\\HCC1806_SmartS_Filtered_Normalised_3000_Data_train.txt\", delimiter=\"\\ \",engine='python',index_col=0)"
   ],
   "metadata": {
    "collapsed": false,
    "ExecuteTime": {
     "end_time": "2024-05-30T17:47:26.977502Z",
     "start_time": "2024-05-30T17:47:26.174001Z"
    }
   },
   "outputs": [],
   "execution_count": 9
  },
  {
   "cell_type": "code",
   "source": [
    "#function to create a y column as a separate dataframe\n",
    "#1 is Normoxia, 0 is Hypoxia\n",
    "def oxia(df):\n",
    "    new_row = {col: None for col in df.columns}\n",
    "    for col in df.columns:\n",
    "        if '_Nor' in col:\n",
    "            new_row[col] = 1\n",
    "        elif '_Hyp' in col:\n",
    "            new_row[col] = 0\n",
    "    return pd.DataFrame(new_row, index=['oxia'])"
   ],
   "metadata": {
    "collapsed": false,
    "ExecuteTime": {
     "end_time": "2024-05-30T17:47:26.993430Z",
     "start_time": "2024-05-30T17:47:26.979469Z"
    }
   },
   "outputs": [],
   "execution_count": 10
  },
  {
   "cell_type": "code",
   "source": [
    "#Oxia them and split them into X and y\n",
    "y_MCF_DS = oxia(MCF_DS).T\n",
    "y_HCC_DS = oxia(HCC_DS).T\n",
    "y_MCF_SS = oxia(MCF_SS)\n",
    "y_HCC_SS = oxia(HCC_SS)"
   ],
   "metadata": {
    "collapsed": false,
    "ExecuteTime": {
     "end_time": "2024-05-30T17:53:10.025046Z",
     "start_time": "2024-05-30T17:53:08.352733Z"
    }
   },
   "outputs": [],
   "execution_count": 11
  },
  {
   "cell_type": "code",
   "execution_count": 15,
   "outputs": [
    {
     "data": {
      "text/plain": "                         oxia\n\"AAAAACCTATCG_Normoxia\"     1\n\"AAAACAACCCTA_Normoxia\"     1\n\"AAAACACTCTCA_Normoxia\"     1\n\"AAAACCAGGCAC_Normoxia\"     1\n\"AAAACCTAGCTC_Normoxia\"     1\n...                       ...\n\"TTTTCGCGTAGA_Hypoxia\"      0\n\"TTTTCGTCCGCT_Hypoxia\"      0\n\"TTTTCTCCGGCT_Hypoxia\"      0\n\"TTTTGTTCAAAG_Hypoxia\"      0\n\"TTTTTTGTATGT_Hypoxia\"      0\n\n[21626 rows x 1 columns]",
      "text/html": "<div>\n<style scoped>\n    .dataframe tbody tr th:only-of-type {\n        vertical-align: middle;\n    }\n\n    .dataframe tbody tr th {\n        vertical-align: top;\n    }\n\n    .dataframe thead th {\n        text-align: right;\n    }\n</style>\n<table border=\"1\" class=\"dataframe\">\n  <thead>\n    <tr style=\"text-align: right;\">\n      <th></th>\n      <th>oxia</th>\n    </tr>\n  </thead>\n  <tbody>\n    <tr>\n      <th>\"AAAAACCTATCG_Normoxia\"</th>\n      <td>1</td>\n    </tr>\n    <tr>\n      <th>\"AAAACAACCCTA_Normoxia\"</th>\n      <td>1</td>\n    </tr>\n    <tr>\n      <th>\"AAAACACTCTCA_Normoxia\"</th>\n      <td>1</td>\n    </tr>\n    <tr>\n      <th>\"AAAACCAGGCAC_Normoxia\"</th>\n      <td>1</td>\n    </tr>\n    <tr>\n      <th>\"AAAACCTAGCTC_Normoxia\"</th>\n      <td>1</td>\n    </tr>\n    <tr>\n      <th>...</th>\n      <td>...</td>\n    </tr>\n    <tr>\n      <th>\"TTTTCGCGTAGA_Hypoxia\"</th>\n      <td>0</td>\n    </tr>\n    <tr>\n      <th>\"TTTTCGTCCGCT_Hypoxia\"</th>\n      <td>0</td>\n    </tr>\n    <tr>\n      <th>\"TTTTCTCCGGCT_Hypoxia\"</th>\n      <td>0</td>\n    </tr>\n    <tr>\n      <th>\"TTTTGTTCAAAG_Hypoxia\"</th>\n      <td>0</td>\n    </tr>\n    <tr>\n      <th>\"TTTTTTGTATGT_Hypoxia\"</th>\n      <td>0</td>\n    </tr>\n  </tbody>\n</table>\n<p>21626 rows × 1 columns</p>\n</div>"
     },
     "execution_count": 15,
     "metadata": {},
     "output_type": "execute_result"
    }
   ],
   "source": [
    "y_MCF_DS"
   ],
   "metadata": {
    "collapsed": false
   }
  },
  {
   "metadata": {
    "ExecuteTime": {
     "end_time": "2024-05-30T17:53:41.584750Z",
     "start_time": "2024-05-30T17:53:41.475380Z"
    }
   },
   "cell_type": "code",
   "source": [
    "MCF_DS = MCF_DS.T\n",
    "HCC_DS = HCC_DS.T"
   ],
   "outputs": [],
   "execution_count": 17
  },
  {
   "cell_type": "code",
   "source": [
    "#split X and y into training and testing\n",
    "X_train_MCF_DS, X_test_MCF_DS, y_train_MCF_DS, y_test_MCF_DS = train_test_split(MCF_DS, y_MCF_DS, test_size=0.2)\n",
    "X_train_HCC_DS, X_test_HCC_DS, y_train_HCC_DS, y_test_HCC_DS = train_test_split(HCC_DS, y_HCC_DS, test_size=0.2)\n",
    "X_train_MCF_SS, X_test_MCF_SS, y_train_MCF_SS, y_test_MCF_SS = train_test_split(MCF_SS, y_MCF_SS, test_size=0.2)\n",
    "X_train_HCC_SS, X_test_HCC_SS, y_train_HCC_SS, y_test_HCC_SS = train_test_split(HCC_SS, y_HCC_SS, test_size=0.2)"
   ],
   "metadata": {
    "collapsed": false,
    "ExecuteTime": {
     "end_time": "2024-05-30T17:54:42.460263Z",
     "start_time": "2024-05-30T17:54:41.455727Z"
    }
   },
   "outputs": [],
   "execution_count": 18
  },
  {
   "cell_type": "code",
   "source": [
    "#put all the data into a dictionary\n",
    "data = {'MCF_DS': [X_train_MCF_DS, X_test_MCF_DS, y_train_MCF_DS, y_test_MCF_DS], 'HCC_DS': [X_train_HCC_DS, X_test_HCC_DS, y_train_HCC_DS, y_test_HCC_DS], 'MCF_SS': [X_train_MCF_SS, X_test_MCF_SS, y_train_MCF_SS, y_test_MCF_SS], 'HCC_SS': [X_train_HCC_SS, X_test_HCC_SS, y_train_HCC_SS, y_test_HCC_SS]}"
   ],
   "metadata": {
    "collapsed": false
   },
   "outputs": [],
   "execution_count": null
  },
  {
   "cell_type": "code",
   "source": [
    "#dictionary of models:\n",
    "models = {'Logistic Regression': LogisticRegression(), 'KNN': KNeighborsClassifier(), 'Random Forest': RandomForestClassifier(), 'SVM': SVC(), 'Neural Network': MLPClassifier(), 'Linear Regression': LinearRegression()}"
   ],
   "metadata": {
    "collapsed": false
   },
   "outputs": [],
   "execution_count": null
  },
  {
   "cell_type": "code",
   "source": [
    "#now iterate through all the models and all the data\n",
    "# print(\"Confusion Matrix: \", confusion_matrix(y_test_MCF, y_pred_MCF))\n",
    "#     print(classification_report(y_test_loop, y_pred))\n",
    "for key in data:\n",
    "    for model in models:\n",
    "        models[model].fit(data[key][0], data[key][2])\n",
    "        y_pred = models[model].predict(data[key][1])\n",
    "        print(model, key, accuracy_score(data[key][3], y_pred), classification_report(data[key][3], y_pred))"
   ],
   "metadata": {
    "collapsed": false
   },
   "outputs": [],
   "execution_count": null
  },
  {
   "cell_type": "code",
   "source": [
    "#now do this with a grid search to find optimal parameters\n",
    "params = {'penalty': ['l1', 'l2'], 'C': [0.001, 0.01, 0.1, 1, 10, 100, 1000]}"
   ],
   "metadata": {
    "collapsed": false
   },
   "outputs": [],
   "execution_count": null
  },
  {
   "cell_type": "code",
   "source": [
    "#print best parameters\n",
    "for key in data:\n",
    "    for model in models:\n",
    "        grid = GridSearchCV(models[model], params, cv=5)\n",
    "        grid.fit(data[key][0], data[key][2])\n",
    "        y_pred = grid.predict(data[key][1])\n",
    "        print(model, key, accuracy_score(data[key][3], y_pred), classification_report(data[key][3], y_pred))\n",
    "        print(grid.best_params_)"
   ],
   "metadata": {
    "collapsed": false
   },
   "outputs": [],
   "execution_count": null
  }
 ],
 "metadata": {
  "kernelspec": {
   "display_name": "Python 3",
   "language": "python",
   "name": "python3"
  },
  "language_info": {
   "codemirror_mode": {
    "name": "ipython",
    "version": 2
   },
   "file_extension": ".py",
   "mimetype": "text/x-python",
   "name": "python",
   "nbconvert_exporter": "python",
   "pygments_lexer": "ipython2",
   "version": "2.7.6"
  }
 },
 "nbformat": 4,
 "nbformat_minor": 0
}
