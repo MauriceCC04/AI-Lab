{
 "cells": [
  {
   "cell_type": "code",
   "execution_count": 33,
   "metadata": {
    "collapsed": true
   },
   "outputs": [],
   "source": [
    "import sys\n",
    "import sklearn\n",
    "import pandas as pd\n",
    "import numpy as np\n",
    "import matplotlib.pyplot as plt             #visualisation\n",
    "import seaborn as sns   #visualisation\n",
    "%matplotlib inline\n",
    "sns.set(color_codes=True)"
   ]
  },
  {
   "cell_type": "code",
   "execution_count": 34,
   "outputs": [],
   "source": [
    "df = pd.read_csv(\"C:\\\\Users\\\\camer\\\\Desktop\\\\class stuff\\\\Semester 4\\\\ai lab\\\\DropSeq\\\\MCF7_Filtered_Normalised_3000_Data_train.txt\", delimiter=\"\\ \", engine='python', index_col=0)"
   ],
   "metadata": {
    "collapsed": false
   }
  },
  {
   "cell_type": "code",
   "execution_count": 35,
   "outputs": [],
   "source": [
    "#add a new row to the data frame\n",
    "#add the row to the bottom\n",
    "#if at the column index contains _Normoxia then add 1 to the row, _Hypoxia then add -1\n",
    "#this is just binary classification"
   ],
   "metadata": {
    "collapsed": false
   }
  },
  {
   "cell_type": "code",
   "execution_count": 36,
   "outputs": [],
   "source": [
    "# Step 1: Create a new row as a dictionary with None values and keys matching the DataFrame columns\n",
    "new_row = {col: None for col in df.columns}\n",
    "\n",
    "# Step 2: Iterate over the columns and set the new row values based on column names\n",
    "for col in df.columns:\n",
    "    if '_Normoxia' in col:\n",
    "        new_row[col] = 1\n",
    "    elif '_Hypoxia' in col:\n",
    "        new_row[col] = -1\n",
    "\n",
    "# Step 3: Append the new row to the DataFrame using concat\n",
    "df = pd.concat([df, pd.DataFrame(new_row, index=['oxia'])])"
   ],
   "metadata": {
    "collapsed": false
   }
  },
  {
   "cell_type": "code",
   "execution_count": 37,
   "outputs": [
    {
     "data": {
      "text/plain": "           \"AAAAACCTATCG_Normoxia\"  \"AAAACAACCCTA_Normoxia\"  \\\n\"MALAT1\"                         1                        3   \n\"MT-RNR2\"                        0                        0   \n\"NEAT1\"                          0                        0   \n\"H1-5\"                           0                        0   \n\"TFF1\"                           4                        1   \n\n           \"AAAACACTCTCA_Normoxia\"  \"AAAACCAGGCAC_Normoxia\"  \\\n\"MALAT1\"                         3                        6   \n\"MT-RNR2\"                        0                        2   \n\"NEAT1\"                          0                        0   \n\"H1-5\"                           0                        0   \n\"TFF1\"                           1                        1   \n\n           \"AAAACCTAGCTC_Normoxia\"  \"AAAACCTCCGGG_Normoxia\"  \\\n\"MALAT1\"                         4                        5   \n\"MT-RNR2\"                        0                        0   \n\"NEAT1\"                          0                        2   \n\"H1-5\"                           0                        2   \n\"TFF1\"                           0                        0   \n\n           \"AAAACTCGTTGC_Normoxia\"  \"AAAAGAGCTCTC_Normoxia\"  \\\n\"MALAT1\"                         1                       13   \n\"MT-RNR2\"                        2                        1   \n\"NEAT1\"                          0                        1   \n\"H1-5\"                           0                        0   \n\"TFF1\"                           0                        2   \n\n           \"AAAAGCTAGGCG_Normoxia\"  \"AAAATCGCATTT_Normoxia\"  ...  \\\n\"MALAT1\"                         3                        3  ...   \n\"MT-RNR2\"                        7                        0  ...   \n\"NEAT1\"                          2                        0  ...   \n\"H1-5\"                           0                        0  ...   \n\"TFF1\"                           0                        1  ...   \n\n           \"TTTTACAGGATC_Hypoxia\"  \"TTTTACCACGTA_Hypoxia\"  \\\n\"MALAT1\"                        0                       2   \n\"MT-RNR2\"                       0                       0   \n\"NEAT1\"                         0                       0   \n\"H1-5\"                          0                       1   \n\"TFF1\"                          2                       3   \n\n           \"TTTTATGCTACG_Hypoxia\"  \"TTTTCCAGACGC_Hypoxia\"  \\\n\"MALAT1\"                        1                       0   \n\"MT-RNR2\"                       0                       0   \n\"NEAT1\"                         0                       0   \n\"H1-5\"                          0                       0   \n\"TFF1\"                          8                       0   \n\n           \"TTTTCGCGCTCG_Hypoxia\"  \"TTTTCGCGTAGA_Hypoxia\"  \\\n\"MALAT1\"                        1                       0   \n\"MT-RNR2\"                       0                       0   \n\"NEAT1\"                         0                       0   \n\"H1-5\"                          1                       0   \n\"TFF1\"                          0                       3   \n\n           \"TTTTCGTCCGCT_Hypoxia\"  \"TTTTCTCCGGCT_Hypoxia\"  \\\n\"MALAT1\"                        1                       0   \n\"MT-RNR2\"                       0                       0   \n\"NEAT1\"                         0                       0   \n\"H1-5\"                          0                       1   \n\"TFF1\"                          4                       2   \n\n           \"TTTTGTTCAAAG_Hypoxia\"  \"TTTTTTGTATGT_Hypoxia\"  \n\"MALAT1\"                        0                       4  \n\"MT-RNR2\"                       0                       0  \n\"NEAT1\"                         0                       0  \n\"H1-5\"                          0                       0  \n\"TFF1\"                          6                       0  \n\n[5 rows x 21626 columns]",
      "text/html": "<div>\n<style scoped>\n    .dataframe tbody tr th:only-of-type {\n        vertical-align: middle;\n    }\n\n    .dataframe tbody tr th {\n        vertical-align: top;\n    }\n\n    .dataframe thead th {\n        text-align: right;\n    }\n</style>\n<table border=\"1\" class=\"dataframe\">\n  <thead>\n    <tr style=\"text-align: right;\">\n      <th></th>\n      <th>\"AAAAACCTATCG_Normoxia\"</th>\n      <th>\"AAAACAACCCTA_Normoxia\"</th>\n      <th>\"AAAACACTCTCA_Normoxia\"</th>\n      <th>\"AAAACCAGGCAC_Normoxia\"</th>\n      <th>\"AAAACCTAGCTC_Normoxia\"</th>\n      <th>\"AAAACCTCCGGG_Normoxia\"</th>\n      <th>\"AAAACTCGTTGC_Normoxia\"</th>\n      <th>\"AAAAGAGCTCTC_Normoxia\"</th>\n      <th>\"AAAAGCTAGGCG_Normoxia\"</th>\n      <th>\"AAAATCGCATTT_Normoxia\"</th>\n      <th>...</th>\n      <th>\"TTTTACAGGATC_Hypoxia\"</th>\n      <th>\"TTTTACCACGTA_Hypoxia\"</th>\n      <th>\"TTTTATGCTACG_Hypoxia\"</th>\n      <th>\"TTTTCCAGACGC_Hypoxia\"</th>\n      <th>\"TTTTCGCGCTCG_Hypoxia\"</th>\n      <th>\"TTTTCGCGTAGA_Hypoxia\"</th>\n      <th>\"TTTTCGTCCGCT_Hypoxia\"</th>\n      <th>\"TTTTCTCCGGCT_Hypoxia\"</th>\n      <th>\"TTTTGTTCAAAG_Hypoxia\"</th>\n      <th>\"TTTTTTGTATGT_Hypoxia\"</th>\n    </tr>\n  </thead>\n  <tbody>\n    <tr>\n      <th>\"MALAT1\"</th>\n      <td>1</td>\n      <td>3</td>\n      <td>3</td>\n      <td>6</td>\n      <td>4</td>\n      <td>5</td>\n      <td>1</td>\n      <td>13</td>\n      <td>3</td>\n      <td>3</td>\n      <td>...</td>\n      <td>0</td>\n      <td>2</td>\n      <td>1</td>\n      <td>0</td>\n      <td>1</td>\n      <td>0</td>\n      <td>1</td>\n      <td>0</td>\n      <td>0</td>\n      <td>4</td>\n    </tr>\n    <tr>\n      <th>\"MT-RNR2\"</th>\n      <td>0</td>\n      <td>0</td>\n      <td>0</td>\n      <td>2</td>\n      <td>0</td>\n      <td>0</td>\n      <td>2</td>\n      <td>1</td>\n      <td>7</td>\n      <td>0</td>\n      <td>...</td>\n      <td>0</td>\n      <td>0</td>\n      <td>0</td>\n      <td>0</td>\n      <td>0</td>\n      <td>0</td>\n      <td>0</td>\n      <td>0</td>\n      <td>0</td>\n      <td>0</td>\n    </tr>\n    <tr>\n      <th>\"NEAT1\"</th>\n      <td>0</td>\n      <td>0</td>\n      <td>0</td>\n      <td>0</td>\n      <td>0</td>\n      <td>2</td>\n      <td>0</td>\n      <td>1</td>\n      <td>2</td>\n      <td>0</td>\n      <td>...</td>\n      <td>0</td>\n      <td>0</td>\n      <td>0</td>\n      <td>0</td>\n      <td>0</td>\n      <td>0</td>\n      <td>0</td>\n      <td>0</td>\n      <td>0</td>\n      <td>0</td>\n    </tr>\n    <tr>\n      <th>\"H1-5\"</th>\n      <td>0</td>\n      <td>0</td>\n      <td>0</td>\n      <td>0</td>\n      <td>0</td>\n      <td>2</td>\n      <td>0</td>\n      <td>0</td>\n      <td>0</td>\n      <td>0</td>\n      <td>...</td>\n      <td>0</td>\n      <td>1</td>\n      <td>0</td>\n      <td>0</td>\n      <td>1</td>\n      <td>0</td>\n      <td>0</td>\n      <td>1</td>\n      <td>0</td>\n      <td>0</td>\n    </tr>\n    <tr>\n      <th>\"TFF1\"</th>\n      <td>4</td>\n      <td>1</td>\n      <td>1</td>\n      <td>1</td>\n      <td>0</td>\n      <td>0</td>\n      <td>0</td>\n      <td>2</td>\n      <td>0</td>\n      <td>1</td>\n      <td>...</td>\n      <td>2</td>\n      <td>3</td>\n      <td>8</td>\n      <td>0</td>\n      <td>0</td>\n      <td>3</td>\n      <td>4</td>\n      <td>2</td>\n      <td>6</td>\n      <td>0</td>\n    </tr>\n  </tbody>\n</table>\n<p>5 rows × 21626 columns</p>\n</div>"
     },
     "execution_count": 37,
     "metadata": {},
     "output_type": "execute_result"
    }
   ],
   "source": [
    "df.head()"
   ],
   "metadata": {
    "collapsed": false
   }
  },
  {
   "cell_type": "code",
   "execution_count": 38,
   "outputs": [
    {
     "data": {
      "text/plain": "            \"AAAAACCTATCG_Normoxia\"  \"AAAACAACCCTA_Normoxia\"  \\\n\"RPS19BP1\"                        0                        0   \n\"AUNIP\"                           0                        0   \n\"TNK2\"                            0                        0   \n\"SUDS3\"                           0                        0   \noxia                              1                        1   \n\n            \"AAAACACTCTCA_Normoxia\"  \"AAAACCAGGCAC_Normoxia\"  \\\n\"RPS19BP1\"                        0                        0   \n\"AUNIP\"                           0                        0   \n\"TNK2\"                            0                        0   \n\"SUDS3\"                           0                        0   \noxia                              1                        1   \n\n            \"AAAACCTAGCTC_Normoxia\"  \"AAAACCTCCGGG_Normoxia\"  \\\n\"RPS19BP1\"                        0                        0   \n\"AUNIP\"                           0                        0   \n\"TNK2\"                            0                        0   \n\"SUDS3\"                           0                        0   \noxia                              1                        1   \n\n            \"AAAACTCGTTGC_Normoxia\"  \"AAAAGAGCTCTC_Normoxia\"  \\\n\"RPS19BP1\"                        0                        0   \n\"AUNIP\"                           0                        0   \n\"TNK2\"                            0                        0   \n\"SUDS3\"                           0                        0   \noxia                              1                        1   \n\n            \"AAAAGCTAGGCG_Normoxia\"  \"AAAATCGCATTT_Normoxia\"  ...  \\\n\"RPS19BP1\"                        0                        0  ...   \n\"AUNIP\"                           0                        0  ...   \n\"TNK2\"                            0                        0  ...   \n\"SUDS3\"                           0                        0  ...   \noxia                              1                        1  ...   \n\n            \"TTTTACAGGATC_Hypoxia\"  \"TTTTACCACGTA_Hypoxia\"  \\\n\"RPS19BP1\"                       0                       0   \n\"AUNIP\"                          0                       0   \n\"TNK2\"                           0                       0   \n\"SUDS3\"                          0                       0   \noxia                            -1                      -1   \n\n            \"TTTTATGCTACG_Hypoxia\"  \"TTTTCCAGACGC_Hypoxia\"  \\\n\"RPS19BP1\"                       0                       0   \n\"AUNIP\"                          0                       0   \n\"TNK2\"                           0                       0   \n\"SUDS3\"                          0                       0   \noxia                            -1                      -1   \n\n            \"TTTTCGCGCTCG_Hypoxia\"  \"TTTTCGCGTAGA_Hypoxia\"  \\\n\"RPS19BP1\"                       0                       0   \n\"AUNIP\"                          0                       0   \n\"TNK2\"                           0                       0   \n\"SUDS3\"                          0                       0   \noxia                            -1                      -1   \n\n            \"TTTTCGTCCGCT_Hypoxia\"  \"TTTTCTCCGGCT_Hypoxia\"  \\\n\"RPS19BP1\"                       0                       0   \n\"AUNIP\"                          0                       0   \n\"TNK2\"                           0                       0   \n\"SUDS3\"                          0                       1   \noxia                            -1                      -1   \n\n            \"TTTTGTTCAAAG_Hypoxia\"  \"TTTTTTGTATGT_Hypoxia\"  \n\"RPS19BP1\"                       0                       0  \n\"AUNIP\"                          0                       0  \n\"TNK2\"                           0                       0  \n\"SUDS3\"                          0                       0  \noxia                            -1                      -1  \n\n[5 rows x 21626 columns]",
      "text/html": "<div>\n<style scoped>\n    .dataframe tbody tr th:only-of-type {\n        vertical-align: middle;\n    }\n\n    .dataframe tbody tr th {\n        vertical-align: top;\n    }\n\n    .dataframe thead th {\n        text-align: right;\n    }\n</style>\n<table border=\"1\" class=\"dataframe\">\n  <thead>\n    <tr style=\"text-align: right;\">\n      <th></th>\n      <th>\"AAAAACCTATCG_Normoxia\"</th>\n      <th>\"AAAACAACCCTA_Normoxia\"</th>\n      <th>\"AAAACACTCTCA_Normoxia\"</th>\n      <th>\"AAAACCAGGCAC_Normoxia\"</th>\n      <th>\"AAAACCTAGCTC_Normoxia\"</th>\n      <th>\"AAAACCTCCGGG_Normoxia\"</th>\n      <th>\"AAAACTCGTTGC_Normoxia\"</th>\n      <th>\"AAAAGAGCTCTC_Normoxia\"</th>\n      <th>\"AAAAGCTAGGCG_Normoxia\"</th>\n      <th>\"AAAATCGCATTT_Normoxia\"</th>\n      <th>...</th>\n      <th>\"TTTTACAGGATC_Hypoxia\"</th>\n      <th>\"TTTTACCACGTA_Hypoxia\"</th>\n      <th>\"TTTTATGCTACG_Hypoxia\"</th>\n      <th>\"TTTTCCAGACGC_Hypoxia\"</th>\n      <th>\"TTTTCGCGCTCG_Hypoxia\"</th>\n      <th>\"TTTTCGCGTAGA_Hypoxia\"</th>\n      <th>\"TTTTCGTCCGCT_Hypoxia\"</th>\n      <th>\"TTTTCTCCGGCT_Hypoxia\"</th>\n      <th>\"TTTTGTTCAAAG_Hypoxia\"</th>\n      <th>\"TTTTTTGTATGT_Hypoxia\"</th>\n    </tr>\n  </thead>\n  <tbody>\n    <tr>\n      <th>\"RPS19BP1\"</th>\n      <td>0</td>\n      <td>0</td>\n      <td>0</td>\n      <td>0</td>\n      <td>0</td>\n      <td>0</td>\n      <td>0</td>\n      <td>0</td>\n      <td>0</td>\n      <td>0</td>\n      <td>...</td>\n      <td>0</td>\n      <td>0</td>\n      <td>0</td>\n      <td>0</td>\n      <td>0</td>\n      <td>0</td>\n      <td>0</td>\n      <td>0</td>\n      <td>0</td>\n      <td>0</td>\n    </tr>\n    <tr>\n      <th>\"AUNIP\"</th>\n      <td>0</td>\n      <td>0</td>\n      <td>0</td>\n      <td>0</td>\n      <td>0</td>\n      <td>0</td>\n      <td>0</td>\n      <td>0</td>\n      <td>0</td>\n      <td>0</td>\n      <td>...</td>\n      <td>0</td>\n      <td>0</td>\n      <td>0</td>\n      <td>0</td>\n      <td>0</td>\n      <td>0</td>\n      <td>0</td>\n      <td>0</td>\n      <td>0</td>\n      <td>0</td>\n    </tr>\n    <tr>\n      <th>\"TNK2\"</th>\n      <td>0</td>\n      <td>0</td>\n      <td>0</td>\n      <td>0</td>\n      <td>0</td>\n      <td>0</td>\n      <td>0</td>\n      <td>0</td>\n      <td>0</td>\n      <td>0</td>\n      <td>...</td>\n      <td>0</td>\n      <td>0</td>\n      <td>0</td>\n      <td>0</td>\n      <td>0</td>\n      <td>0</td>\n      <td>0</td>\n      <td>0</td>\n      <td>0</td>\n      <td>0</td>\n    </tr>\n    <tr>\n      <th>\"SUDS3\"</th>\n      <td>0</td>\n      <td>0</td>\n      <td>0</td>\n      <td>0</td>\n      <td>0</td>\n      <td>0</td>\n      <td>0</td>\n      <td>0</td>\n      <td>0</td>\n      <td>0</td>\n      <td>...</td>\n      <td>0</td>\n      <td>0</td>\n      <td>0</td>\n      <td>0</td>\n      <td>0</td>\n      <td>0</td>\n      <td>0</td>\n      <td>1</td>\n      <td>0</td>\n      <td>0</td>\n    </tr>\n    <tr>\n      <th>oxia</th>\n      <td>1</td>\n      <td>1</td>\n      <td>1</td>\n      <td>1</td>\n      <td>1</td>\n      <td>1</td>\n      <td>1</td>\n      <td>1</td>\n      <td>1</td>\n      <td>1</td>\n      <td>...</td>\n      <td>-1</td>\n      <td>-1</td>\n      <td>-1</td>\n      <td>-1</td>\n      <td>-1</td>\n      <td>-1</td>\n      <td>-1</td>\n      <td>-1</td>\n      <td>-1</td>\n      <td>-1</td>\n    </tr>\n  </tbody>\n</table>\n<p>5 rows × 21626 columns</p>\n</div>"
     },
     "execution_count": 38,
     "metadata": {},
     "output_type": "execute_result"
    }
   ],
   "source": [
    "df.tail()"
   ],
   "metadata": {
    "collapsed": false
   }
  },
  {
   "cell_type": "code",
   "execution_count": 39,
   "outputs": [
    {
     "data": {
      "text/plain": "\"MALAT1\"      0.155296\n\"MT-RNR2\"     0.366593\n\"NEAT1\"      -0.029503\n\"H1-5\"        0.058652\n\"TFF1\"       -0.503544\n                ...   \n\"RPS19BP1\"    0.003207\n\"AUNIP\"       0.009572\n\"TNK2\"        0.002408\n\"SUDS3\"       0.038423\noxia          1.000000\nLength: 3001, dtype: float64"
     },
     "execution_count": 39,
     "metadata": {},
     "output_type": "execute_result"
    }
   ],
   "source": [
    "#create a correlation table of each row against just the oxia row\n",
    "corrs = df.apply(lambda row: row.corr(df.loc['oxia']), axis=1)\n",
    "corrs"
   ],
   "metadata": {
    "collapsed": false
   }
  },
  {
   "cell_type": "code",
   "execution_count": 40,
   "outputs": [
    {
     "data": {
      "text/plain": "oxia         1.000000\n\"MT-RNR2\"    0.366593\n\"MT-RNR1\"    0.313027\n\"MT-ND4\"     0.250744\n\"SET\"        0.229521\n               ...   \n\"RPL13\"     -0.451473\n\"KRT19\"     -0.453162\n\"RPS19\"     -0.461537\n\"TMSB10\"    -0.466682\n\"TFF1\"      -0.503544\nLength: 3001, dtype: float64"
     },
     "execution_count": 40,
     "metadata": {},
     "output_type": "execute_result"
    }
   ],
   "source": [
    "#sort the correlation table\n",
    "corrs = corrs.sort_values(ascending=False)\n",
    "corrs"
   ],
   "metadata": {
    "collapsed": false
   }
  },
  {
   "cell_type": "code",
   "execution_count": 49,
   "outputs": [
    {
     "data": {
      "text/plain": "                         \"MALAT1\"  \"MT-RNR2\"  \"NEAT1\"  \"H1-5\"  \"TFF1\"  \\\n\"AAAAACCTATCG_Normoxia\"         1          0        0       0       4   \n\"AAAACAACCCTA_Normoxia\"         3          0        0       0       1   \n\"AAAACACTCTCA_Normoxia\"         3          0        0       0       1   \n\"AAAACCAGGCAC_Normoxia\"         6          2        0       0       1   \n\"AAAACCTAGCTC_Normoxia\"         4          0        0       0       0   \n...                           ...        ...      ...     ...     ...   \n\"TTTTCGCGTAGA_Hypoxia\"          0          0        0       0       3   \n\"TTTTCGTCCGCT_Hypoxia\"          1          0        0       0       4   \n\"TTTTCTCCGGCT_Hypoxia\"          0          0        0       1       2   \n\"TTTTGTTCAAAG_Hypoxia\"          0          0        0       0       6   \n\"TTTTTTGTATGT_Hypoxia\"          4          0        0       0       0   \n\n                         \"MT-RNR1\"  \"H4C3\"  \"GDF15\"  \"KRT81\"  \"MT-CO3\"  ...  \\\n\"AAAAACCTATCG_Normoxia\"          0       0        0        0         0  ...   \n\"AAAACAACCCTA_Normoxia\"          0       1        0        0         0  ...   \n\"AAAACACTCTCA_Normoxia\"          0       0        0        0         0  ...   \n\"AAAACCAGGCAC_Normoxia\"          0       1        0        0         0  ...   \n\"AAAACCTAGCTC_Normoxia\"          0       0        0        0         1  ...   \n...                            ...     ...      ...      ...       ...  ...   \n\"TTTTCGCGTAGA_Hypoxia\"           0       7        0        0         0  ...   \n\"TTTTCGTCCGCT_Hypoxia\"           0       1        0        1         0  ...   \n\"TTTTCTCCGGCT_Hypoxia\"           0       4        0        0         0  ...   \n\"TTTTGTTCAAAG_Hypoxia\"           0       0        0        0         0  ...   \n\"TTTTTTGTATGT_Hypoxia\"           0       6        0        0         0  ...   \n\n                         \"MICALL1\"  \"RARG\"  \"MYO1F\"  \"BRWD1-AS2\"  \"RPS19BP1\"  \\\n\"AAAAACCTATCG_Normoxia\"          0       0        0            0           0   \n\"AAAACAACCCTA_Normoxia\"          0       0        0            0           0   \n\"AAAACACTCTCA_Normoxia\"          0       0        0            0           0   \n\"AAAACCAGGCAC_Normoxia\"          0       0        0            0           0   \n\"AAAACCTAGCTC_Normoxia\"          0       0        0            0           0   \n...                            ...     ...      ...          ...         ...   \n\"TTTTCGCGTAGA_Hypoxia\"           0       0        0            0           0   \n\"TTTTCGTCCGCT_Hypoxia\"           0       0        0            0           0   \n\"TTTTCTCCGGCT_Hypoxia\"           0       0        0            0           0   \n\"TTTTGTTCAAAG_Hypoxia\"           0       0        0            0           0   \n\"TTTTTTGTATGT_Hypoxia\"           0       0        0            0           0   \n\n                         \"AUNIP\"  \"TNK2\"  \"SUDS3\"  oxia  cluster  \n\"AAAAACCTATCG_Normoxia\"        0       0        0     1        4  \n\"AAAACAACCCTA_Normoxia\"        0       0        0     1        4  \n\"AAAACACTCTCA_Normoxia\"        0       0        0     1        8  \n\"AAAACCAGGCAC_Normoxia\"        0       0        0     1        1  \n\"AAAACCTAGCTC_Normoxia\"        0       0        0     1        4  \n...                          ...     ...      ...   ...      ...  \n\"TTTTCGCGTAGA_Hypoxia\"         0       0        0    -1        3  \n\"TTTTCGTCCGCT_Hypoxia\"         0       0        0    -1        0  \n\"TTTTCTCCGGCT_Hypoxia\"         0       0        1    -1        0  \n\"TTTTGTTCAAAG_Hypoxia\"         0       0        0    -1        3  \n\"TTTTTTGTATGT_Hypoxia\"         0       0        0    -1        5  \n\n[21626 rows x 3002 columns]",
      "text/html": "<div>\n<style scoped>\n    .dataframe tbody tr th:only-of-type {\n        vertical-align: middle;\n    }\n\n    .dataframe tbody tr th {\n        vertical-align: top;\n    }\n\n    .dataframe thead th {\n        text-align: right;\n    }\n</style>\n<table border=\"1\" class=\"dataframe\">\n  <thead>\n    <tr style=\"text-align: right;\">\n      <th></th>\n      <th>\"MALAT1\"</th>\n      <th>\"MT-RNR2\"</th>\n      <th>\"NEAT1\"</th>\n      <th>\"H1-5\"</th>\n      <th>\"TFF1\"</th>\n      <th>\"MT-RNR1\"</th>\n      <th>\"H4C3\"</th>\n      <th>\"GDF15\"</th>\n      <th>\"KRT81\"</th>\n      <th>\"MT-CO3\"</th>\n      <th>...</th>\n      <th>\"MICALL1\"</th>\n      <th>\"RARG\"</th>\n      <th>\"MYO1F\"</th>\n      <th>\"BRWD1-AS2\"</th>\n      <th>\"RPS19BP1\"</th>\n      <th>\"AUNIP\"</th>\n      <th>\"TNK2\"</th>\n      <th>\"SUDS3\"</th>\n      <th>oxia</th>\n      <th>cluster</th>\n    </tr>\n  </thead>\n  <tbody>\n    <tr>\n      <th>\"AAAAACCTATCG_Normoxia\"</th>\n      <td>1</td>\n      <td>0</td>\n      <td>0</td>\n      <td>0</td>\n      <td>4</td>\n      <td>0</td>\n      <td>0</td>\n      <td>0</td>\n      <td>0</td>\n      <td>0</td>\n      <td>...</td>\n      <td>0</td>\n      <td>0</td>\n      <td>0</td>\n      <td>0</td>\n      <td>0</td>\n      <td>0</td>\n      <td>0</td>\n      <td>0</td>\n      <td>1</td>\n      <td>4</td>\n    </tr>\n    <tr>\n      <th>\"AAAACAACCCTA_Normoxia\"</th>\n      <td>3</td>\n      <td>0</td>\n      <td>0</td>\n      <td>0</td>\n      <td>1</td>\n      <td>0</td>\n      <td>1</td>\n      <td>0</td>\n      <td>0</td>\n      <td>0</td>\n      <td>...</td>\n      <td>0</td>\n      <td>0</td>\n      <td>0</td>\n      <td>0</td>\n      <td>0</td>\n      <td>0</td>\n      <td>0</td>\n      <td>0</td>\n      <td>1</td>\n      <td>4</td>\n    </tr>\n    <tr>\n      <th>\"AAAACACTCTCA_Normoxia\"</th>\n      <td>3</td>\n      <td>0</td>\n      <td>0</td>\n      <td>0</td>\n      <td>1</td>\n      <td>0</td>\n      <td>0</td>\n      <td>0</td>\n      <td>0</td>\n      <td>0</td>\n      <td>...</td>\n      <td>0</td>\n      <td>0</td>\n      <td>0</td>\n      <td>0</td>\n      <td>0</td>\n      <td>0</td>\n      <td>0</td>\n      <td>0</td>\n      <td>1</td>\n      <td>8</td>\n    </tr>\n    <tr>\n      <th>\"AAAACCAGGCAC_Normoxia\"</th>\n      <td>6</td>\n      <td>2</td>\n      <td>0</td>\n      <td>0</td>\n      <td>1</td>\n      <td>0</td>\n      <td>1</td>\n      <td>0</td>\n      <td>0</td>\n      <td>0</td>\n      <td>...</td>\n      <td>0</td>\n      <td>0</td>\n      <td>0</td>\n      <td>0</td>\n      <td>0</td>\n      <td>0</td>\n      <td>0</td>\n      <td>0</td>\n      <td>1</td>\n      <td>1</td>\n    </tr>\n    <tr>\n      <th>\"AAAACCTAGCTC_Normoxia\"</th>\n      <td>4</td>\n      <td>0</td>\n      <td>0</td>\n      <td>0</td>\n      <td>0</td>\n      <td>0</td>\n      <td>0</td>\n      <td>0</td>\n      <td>0</td>\n      <td>1</td>\n      <td>...</td>\n      <td>0</td>\n      <td>0</td>\n      <td>0</td>\n      <td>0</td>\n      <td>0</td>\n      <td>0</td>\n      <td>0</td>\n      <td>0</td>\n      <td>1</td>\n      <td>4</td>\n    </tr>\n    <tr>\n      <th>...</th>\n      <td>...</td>\n      <td>...</td>\n      <td>...</td>\n      <td>...</td>\n      <td>...</td>\n      <td>...</td>\n      <td>...</td>\n      <td>...</td>\n      <td>...</td>\n      <td>...</td>\n      <td>...</td>\n      <td>...</td>\n      <td>...</td>\n      <td>...</td>\n      <td>...</td>\n      <td>...</td>\n      <td>...</td>\n      <td>...</td>\n      <td>...</td>\n      <td>...</td>\n      <td>...</td>\n    </tr>\n    <tr>\n      <th>\"TTTTCGCGTAGA_Hypoxia\"</th>\n      <td>0</td>\n      <td>0</td>\n      <td>0</td>\n      <td>0</td>\n      <td>3</td>\n      <td>0</td>\n      <td>7</td>\n      <td>0</td>\n      <td>0</td>\n      <td>0</td>\n      <td>...</td>\n      <td>0</td>\n      <td>0</td>\n      <td>0</td>\n      <td>0</td>\n      <td>0</td>\n      <td>0</td>\n      <td>0</td>\n      <td>0</td>\n      <td>-1</td>\n      <td>3</td>\n    </tr>\n    <tr>\n      <th>\"TTTTCGTCCGCT_Hypoxia\"</th>\n      <td>1</td>\n      <td>0</td>\n      <td>0</td>\n      <td>0</td>\n      <td>4</td>\n      <td>0</td>\n      <td>1</td>\n      <td>0</td>\n      <td>1</td>\n      <td>0</td>\n      <td>...</td>\n      <td>0</td>\n      <td>0</td>\n      <td>0</td>\n      <td>0</td>\n      <td>0</td>\n      <td>0</td>\n      <td>0</td>\n      <td>0</td>\n      <td>-1</td>\n      <td>0</td>\n    </tr>\n    <tr>\n      <th>\"TTTTCTCCGGCT_Hypoxia\"</th>\n      <td>0</td>\n      <td>0</td>\n      <td>0</td>\n      <td>1</td>\n      <td>2</td>\n      <td>0</td>\n      <td>4</td>\n      <td>0</td>\n      <td>0</td>\n      <td>0</td>\n      <td>...</td>\n      <td>0</td>\n      <td>0</td>\n      <td>0</td>\n      <td>0</td>\n      <td>0</td>\n      <td>0</td>\n      <td>0</td>\n      <td>1</td>\n      <td>-1</td>\n      <td>0</td>\n    </tr>\n    <tr>\n      <th>\"TTTTGTTCAAAG_Hypoxia\"</th>\n      <td>0</td>\n      <td>0</td>\n      <td>0</td>\n      <td>0</td>\n      <td>6</td>\n      <td>0</td>\n      <td>0</td>\n      <td>0</td>\n      <td>0</td>\n      <td>0</td>\n      <td>...</td>\n      <td>0</td>\n      <td>0</td>\n      <td>0</td>\n      <td>0</td>\n      <td>0</td>\n      <td>0</td>\n      <td>0</td>\n      <td>0</td>\n      <td>-1</td>\n      <td>3</td>\n    </tr>\n    <tr>\n      <th>\"TTTTTTGTATGT_Hypoxia\"</th>\n      <td>4</td>\n      <td>0</td>\n      <td>0</td>\n      <td>0</td>\n      <td>0</td>\n      <td>0</td>\n      <td>6</td>\n      <td>0</td>\n      <td>0</td>\n      <td>0</td>\n      <td>...</td>\n      <td>0</td>\n      <td>0</td>\n      <td>0</td>\n      <td>0</td>\n      <td>0</td>\n      <td>0</td>\n      <td>0</td>\n      <td>0</td>\n      <td>-1</td>\n      <td>5</td>\n    </tr>\n  </tbody>\n</table>\n<p>21626 rows × 3002 columns</p>\n</div>"
     },
     "execution_count": 49,
     "metadata": {},
     "output_type": "execute_result"
    }
   ],
   "source": [
    "#use K means to cluster the data by columns, which are closest\n",
    "from sklearn.cluster import KMeans\n",
    "\n",
    "# Transpose the DataFrame\n",
    "df_transposed = df.T\n",
    "\n",
    "# Define the number of clusters\n",
    "n_clusters = 10\n",
    "\n",
    "# Create a KMeans object\n",
    "kmeans = KMeans(n_clusters=n_clusters)\n",
    "\n",
    "# Fit the KMeans object to your transposed data\n",
    "kmeans.fit(df_transposed)\n",
    "\n",
    "# Get the labels and add them to the transposed DataFrame\n",
    "df_transposed['cluster'] = kmeans.labels_\n",
    "\n",
    "# Print the first few rows of the DataFrame\n",
    "df_transposed"
   ],
   "metadata": {
    "collapsed": false
   }
  },
  {
   "cell_type": "code",
   "execution_count": 50,
   "outputs": [
    {
     "data": {
      "text/plain": "                        \"MALAT1\"  \"MT-RNR2\"  \"NEAT1\"  \"H1-5\"  \"TFF1\"  \\\n\"AAAAAATCCGGC_Hypoxia\"         0          0        0       0       9   \n\"AAAAACACGATC_Hypoxia\"         0          0        0       0       1   \n\"AAAAATGGGGGA_Hypoxia\"         0          0        0       0       1   \n\"AAAACATCTTGC_Hypoxia\"         2          0        0       0       1   \n\"AAAACCAGCCCA_Hypoxia\"         0          0        0       1       4   \n...                          ...        ...      ...     ...     ...   \n\"TTTTCGCGTAGA_Hypoxia\"         0          0        0       0       3   \n\"TTTTCGTCCGCT_Hypoxia\"         1          0        0       0       4   \n\"TTTTCTCCGGCT_Hypoxia\"         0          0        0       1       2   \n\"TTTTGTTCAAAG_Hypoxia\"         0          0        0       0       6   \n\"TTTTTTGTATGT_Hypoxia\"         4          0        0       0       0   \n\n                        \"MT-RNR1\"  \"H4C3\"  \"GDF15\"  \"KRT81\"  \"MT-CO3\"  ...  \\\n\"AAAAAATCCGGC_Hypoxia\"          0       6        0        0         0  ...   \n\"AAAAACACGATC_Hypoxia\"          0       3        0        0         0  ...   \n\"AAAAATGGGGGA_Hypoxia\"          0       2        0        0         0  ...   \n\"AAAACATCTTGC_Hypoxia\"          0       1        0        0         0  ...   \n\"AAAACCAGCCCA_Hypoxia\"          0       5        0        0         0  ...   \n...                           ...     ...      ...      ...       ...  ...   \n\"TTTTCGCGTAGA_Hypoxia\"          0       7        0        0         0  ...   \n\"TTTTCGTCCGCT_Hypoxia\"          0       1        0        1         0  ...   \n\"TTTTCTCCGGCT_Hypoxia\"          0       4        0        0         0  ...   \n\"TTTTGTTCAAAG_Hypoxia\"          0       0        0        0         0  ...   \n\"TTTTTTGTATGT_Hypoxia\"          0       6        0        0         0  ...   \n\n                        \"MICALL1\"  \"RARG\"  \"MYO1F\"  \"BRWD1-AS2\"  \"RPS19BP1\"  \\\n\"AAAAAATCCGGC_Hypoxia\"          0       0        0            0           0   \n\"AAAAACACGATC_Hypoxia\"          0       0        0            0           0   \n\"AAAAATGGGGGA_Hypoxia\"          0       0        0            0           0   \n\"AAAACATCTTGC_Hypoxia\"          0       0        0            0           1   \n\"AAAACCAGCCCA_Hypoxia\"          0       0        0            0           0   \n...                           ...     ...      ...          ...         ...   \n\"TTTTCGCGTAGA_Hypoxia\"          0       0        0            0           0   \n\"TTTTCGTCCGCT_Hypoxia\"          0       0        0            0           0   \n\"TTTTCTCCGGCT_Hypoxia\"          0       0        0            0           0   \n\"TTTTGTTCAAAG_Hypoxia\"          0       0        0            0           0   \n\"TTTTTTGTATGT_Hypoxia\"          0       0        0            0           0   \n\n                        \"AUNIP\"  \"TNK2\"  \"SUDS3\"  oxia  cluster  \n\"AAAAAATCCGGC_Hypoxia\"        0       0        0    -1        0  \n\"AAAAACACGATC_Hypoxia\"        0       0        1    -1        1  \n\"AAAAATGGGGGA_Hypoxia\"        0       0        0    -1        0  \n\"AAAACATCTTGC_Hypoxia\"        0       0        0    -1        0  \n\"AAAACCAGCCCA_Hypoxia\"        0       0        0    -1        0  \n...                         ...     ...      ...   ...      ...  \n\"TTTTCGCGTAGA_Hypoxia\"        0       0        0    -1        0  \n\"TTTTCGTCCGCT_Hypoxia\"        0       0        0    -1        1  \n\"TTTTCTCCGGCT_Hypoxia\"        0       0        1    -1        1  \n\"TTTTGTTCAAAG_Hypoxia\"        0       0        0    -1        0  \n\"TTTTTTGTATGT_Hypoxia\"        0       0        0    -1        0  \n\n[8921 rows x 3002 columns]",
      "text/html": "<div>\n<style scoped>\n    .dataframe tbody tr th:only-of-type {\n        vertical-align: middle;\n    }\n\n    .dataframe tbody tr th {\n        vertical-align: top;\n    }\n\n    .dataframe thead th {\n        text-align: right;\n    }\n</style>\n<table border=\"1\" class=\"dataframe\">\n  <thead>\n    <tr style=\"text-align: right;\">\n      <th></th>\n      <th>\"MALAT1\"</th>\n      <th>\"MT-RNR2\"</th>\n      <th>\"NEAT1\"</th>\n      <th>\"H1-5\"</th>\n      <th>\"TFF1\"</th>\n      <th>\"MT-RNR1\"</th>\n      <th>\"H4C3\"</th>\n      <th>\"GDF15\"</th>\n      <th>\"KRT81\"</th>\n      <th>\"MT-CO3\"</th>\n      <th>...</th>\n      <th>\"MICALL1\"</th>\n      <th>\"RARG\"</th>\n      <th>\"MYO1F\"</th>\n      <th>\"BRWD1-AS2\"</th>\n      <th>\"RPS19BP1\"</th>\n      <th>\"AUNIP\"</th>\n      <th>\"TNK2\"</th>\n      <th>\"SUDS3\"</th>\n      <th>oxia</th>\n      <th>cluster</th>\n    </tr>\n  </thead>\n  <tbody>\n    <tr>\n      <th>\"AAAAAATCCGGC_Hypoxia\"</th>\n      <td>0</td>\n      <td>0</td>\n      <td>0</td>\n      <td>0</td>\n      <td>9</td>\n      <td>0</td>\n      <td>6</td>\n      <td>0</td>\n      <td>0</td>\n      <td>0</td>\n      <td>...</td>\n      <td>0</td>\n      <td>0</td>\n      <td>0</td>\n      <td>0</td>\n      <td>0</td>\n      <td>0</td>\n      <td>0</td>\n      <td>0</td>\n      <td>-1</td>\n      <td>0</td>\n    </tr>\n    <tr>\n      <th>\"AAAAACACGATC_Hypoxia\"</th>\n      <td>0</td>\n      <td>0</td>\n      <td>0</td>\n      <td>0</td>\n      <td>1</td>\n      <td>0</td>\n      <td>3</td>\n      <td>0</td>\n      <td>0</td>\n      <td>0</td>\n      <td>...</td>\n      <td>0</td>\n      <td>0</td>\n      <td>0</td>\n      <td>0</td>\n      <td>0</td>\n      <td>0</td>\n      <td>0</td>\n      <td>1</td>\n      <td>-1</td>\n      <td>1</td>\n    </tr>\n    <tr>\n      <th>\"AAAAATGGGGGA_Hypoxia\"</th>\n      <td>0</td>\n      <td>0</td>\n      <td>0</td>\n      <td>0</td>\n      <td>1</td>\n      <td>0</td>\n      <td>2</td>\n      <td>0</td>\n      <td>0</td>\n      <td>0</td>\n      <td>...</td>\n      <td>0</td>\n      <td>0</td>\n      <td>0</td>\n      <td>0</td>\n      <td>0</td>\n      <td>0</td>\n      <td>0</td>\n      <td>0</td>\n      <td>-1</td>\n      <td>0</td>\n    </tr>\n    <tr>\n      <th>\"AAAACATCTTGC_Hypoxia\"</th>\n      <td>2</td>\n      <td>0</td>\n      <td>0</td>\n      <td>0</td>\n      <td>1</td>\n      <td>0</td>\n      <td>1</td>\n      <td>0</td>\n      <td>0</td>\n      <td>0</td>\n      <td>...</td>\n      <td>0</td>\n      <td>0</td>\n      <td>0</td>\n      <td>0</td>\n      <td>1</td>\n      <td>0</td>\n      <td>0</td>\n      <td>0</td>\n      <td>-1</td>\n      <td>0</td>\n    </tr>\n    <tr>\n      <th>\"AAAACCAGCCCA_Hypoxia\"</th>\n      <td>0</td>\n      <td>0</td>\n      <td>0</td>\n      <td>1</td>\n      <td>4</td>\n      <td>0</td>\n      <td>5</td>\n      <td>0</td>\n      <td>0</td>\n      <td>0</td>\n      <td>...</td>\n      <td>0</td>\n      <td>0</td>\n      <td>0</td>\n      <td>0</td>\n      <td>0</td>\n      <td>0</td>\n      <td>0</td>\n      <td>0</td>\n      <td>-1</td>\n      <td>0</td>\n    </tr>\n    <tr>\n      <th>...</th>\n      <td>...</td>\n      <td>...</td>\n      <td>...</td>\n      <td>...</td>\n      <td>...</td>\n      <td>...</td>\n      <td>...</td>\n      <td>...</td>\n      <td>...</td>\n      <td>...</td>\n      <td>...</td>\n      <td>...</td>\n      <td>...</td>\n      <td>...</td>\n      <td>...</td>\n      <td>...</td>\n      <td>...</td>\n      <td>...</td>\n      <td>...</td>\n      <td>...</td>\n      <td>...</td>\n    </tr>\n    <tr>\n      <th>\"TTTTCGCGTAGA_Hypoxia\"</th>\n      <td>0</td>\n      <td>0</td>\n      <td>0</td>\n      <td>0</td>\n      <td>3</td>\n      <td>0</td>\n      <td>7</td>\n      <td>0</td>\n      <td>0</td>\n      <td>0</td>\n      <td>...</td>\n      <td>0</td>\n      <td>0</td>\n      <td>0</td>\n      <td>0</td>\n      <td>0</td>\n      <td>0</td>\n      <td>0</td>\n      <td>0</td>\n      <td>-1</td>\n      <td>0</td>\n    </tr>\n    <tr>\n      <th>\"TTTTCGTCCGCT_Hypoxia\"</th>\n      <td>1</td>\n      <td>0</td>\n      <td>0</td>\n      <td>0</td>\n      <td>4</td>\n      <td>0</td>\n      <td>1</td>\n      <td>0</td>\n      <td>1</td>\n      <td>0</td>\n      <td>...</td>\n      <td>0</td>\n      <td>0</td>\n      <td>0</td>\n      <td>0</td>\n      <td>0</td>\n      <td>0</td>\n      <td>0</td>\n      <td>0</td>\n      <td>-1</td>\n      <td>1</td>\n    </tr>\n    <tr>\n      <th>\"TTTTCTCCGGCT_Hypoxia\"</th>\n      <td>0</td>\n      <td>0</td>\n      <td>0</td>\n      <td>1</td>\n      <td>2</td>\n      <td>0</td>\n      <td>4</td>\n      <td>0</td>\n      <td>0</td>\n      <td>0</td>\n      <td>...</td>\n      <td>0</td>\n      <td>0</td>\n      <td>0</td>\n      <td>0</td>\n      <td>0</td>\n      <td>0</td>\n      <td>0</td>\n      <td>1</td>\n      <td>-1</td>\n      <td>1</td>\n    </tr>\n    <tr>\n      <th>\"TTTTGTTCAAAG_Hypoxia\"</th>\n      <td>0</td>\n      <td>0</td>\n      <td>0</td>\n      <td>0</td>\n      <td>6</td>\n      <td>0</td>\n      <td>0</td>\n      <td>0</td>\n      <td>0</td>\n      <td>0</td>\n      <td>...</td>\n      <td>0</td>\n      <td>0</td>\n      <td>0</td>\n      <td>0</td>\n      <td>0</td>\n      <td>0</td>\n      <td>0</td>\n      <td>0</td>\n      <td>-1</td>\n      <td>0</td>\n    </tr>\n    <tr>\n      <th>\"TTTTTTGTATGT_Hypoxia\"</th>\n      <td>4</td>\n      <td>0</td>\n      <td>0</td>\n      <td>0</td>\n      <td>0</td>\n      <td>0</td>\n      <td>6</td>\n      <td>0</td>\n      <td>0</td>\n      <td>0</td>\n      <td>...</td>\n      <td>0</td>\n      <td>0</td>\n      <td>0</td>\n      <td>0</td>\n      <td>0</td>\n      <td>0</td>\n      <td>0</td>\n      <td>0</td>\n      <td>-1</td>\n      <td>0</td>\n    </tr>\n  </tbody>\n</table>\n<p>8921 rows × 3002 columns</p>\n</div>"
     },
     "execution_count": 50,
     "metadata": {},
     "output_type": "execute_result"
    }
   ],
   "source": [
    "#try also k means clustering but only on columns with oxia -1\n",
    "# Filter the DataFrame to only include columns where the 'oxia' row is -1\n",
    "df_hypoxic = df.loc[:, df.loc['oxia'] == -1]\n",
    "\n",
    "# Transpose the DataFrame\n",
    "df_hypoxic_transposed = df_hypoxic.T\n",
    "\n",
    "# Define the number of clusters\n",
    "n_clusters = 3\n",
    "\n",
    "# Create a KMeans object\n",
    "kmeans = KMeans(n_clusters=n_clusters)\n",
    "\n",
    "# Fit the KMeans object to your transposed data\n",
    "kmeans.fit(df_hypoxic_transposed)\n",
    "\n",
    "# Get the labels and add them to the transposed DataFrame\n",
    "df_hypoxic_transposed['cluster'] = kmeans.labels_\n",
    "\n",
    "# Print the first few rows of the DataFrame\n",
    "df_hypoxic_transposed"
   ],
   "metadata": {
    "collapsed": false
   }
  },
  {
   "cell_type": "code",
   "execution_count": 48,
   "outputs": [
    {
     "data": {
      "text/plain": "                         \"MALAT1\"  \"MT-RNR2\"  \"NEAT1\"  \"H1-5\"  \"TFF1\"  \\\n\"AAAAACCTATCG_Normoxia\"         1          0        0       0       4   \n\"AAAACAACCCTA_Normoxia\"         3          0        0       0       1   \n\"AAAACACTCTCA_Normoxia\"         3          0        0       0       1   \n\"AAAACCAGGCAC_Normoxia\"         6          2        0       0       1   \n\"AAAACCTAGCTC_Normoxia\"         4          0        0       0       0   \n...                           ...        ...      ...     ...     ...   \n\"TTTTTACCTCCC_Normoxia\"         0          1        1       1       0   \n\"TTTTTCGAATCA_Normoxia\"         2          1        0       1       2   \n\"TTTTTCGACCAC_Normoxia\"         1          1        0       0       4   \n\"TTTTTGCGCCAT_Normoxia\"         1          0        0       0       4   \n\"TTTTTTGTCATA_Normoxia\"         5          1        0       0       1   \n\n                         \"MT-RNR1\"  \"H4C3\"  \"GDF15\"  \"KRT81\"  \"MT-CO3\"  ...  \\\n\"AAAAACCTATCG_Normoxia\"          0       0        0        0         0  ...   \n\"AAAACAACCCTA_Normoxia\"          0       1        0        0         0  ...   \n\"AAAACACTCTCA_Normoxia\"          0       0        0        0         0  ...   \n\"AAAACCAGGCAC_Normoxia\"          0       1        0        0         0  ...   \n\"AAAACCTAGCTC_Normoxia\"          0       0        0        0         1  ...   \n...                            ...     ...      ...      ...       ...  ...   \n\"TTTTTACCTCCC_Normoxia\"          1       2        0        0         0  ...   \n\"TTTTTCGAATCA_Normoxia\"          1       2        0        0         0  ...   \n\"TTTTTCGACCAC_Normoxia\"          0       0        0        0         0  ...   \n\"TTTTTGCGCCAT_Normoxia\"          0       0        0        0         2  ...   \n\"TTTTTTGTCATA_Normoxia\"          0       2        0        0         0  ...   \n\n                         \"MICALL1\"  \"RARG\"  \"MYO1F\"  \"BRWD1-AS2\"  \"RPS19BP1\"  \\\n\"AAAAACCTATCG_Normoxia\"          0       0        0            0           0   \n\"AAAACAACCCTA_Normoxia\"          0       0        0            0           0   \n\"AAAACACTCTCA_Normoxia\"          0       0        0            0           0   \n\"AAAACCAGGCAC_Normoxia\"          0       0        0            0           0   \n\"AAAACCTAGCTC_Normoxia\"          0       0        0            0           0   \n...                            ...     ...      ...          ...         ...   \n\"TTTTTACCTCCC_Normoxia\"          0       0        0            0           0   \n\"TTTTTCGAATCA_Normoxia\"          0       0        0            0           0   \n\"TTTTTCGACCAC_Normoxia\"          0       0        0            0           0   \n\"TTTTTGCGCCAT_Normoxia\"          0       0        0            0           0   \n\"TTTTTTGTCATA_Normoxia\"          0       0        0            0           0   \n\n                         \"AUNIP\"  \"TNK2\"  \"SUDS3\"  oxia  cluster  \n\"AAAAACCTATCG_Normoxia\"        0       0        0     1        2  \n\"AAAACAACCCTA_Normoxia\"        0       0        0     1        2  \n\"AAAACACTCTCA_Normoxia\"        0       0        0     1        2  \n\"AAAACCAGGCAC_Normoxia\"        0       0        0     1        1  \n\"AAAACCTAGCTC_Normoxia\"        0       0        0     1        2  \n...                          ...     ...      ...   ...      ...  \n\"TTTTTACCTCCC_Normoxia\"        0       0        0     1        2  \n\"TTTTTCGAATCA_Normoxia\"        0       0        0     1        2  \n\"TTTTTCGACCAC_Normoxia\"        0       0        0     1        2  \n\"TTTTTGCGCCAT_Normoxia\"        0       0        0     1        2  \n\"TTTTTTGTCATA_Normoxia\"        0       0        0     1        2  \n\n[12705 rows x 3002 columns]",
      "text/html": "<div>\n<style scoped>\n    .dataframe tbody tr th:only-of-type {\n        vertical-align: middle;\n    }\n\n    .dataframe tbody tr th {\n        vertical-align: top;\n    }\n\n    .dataframe thead th {\n        text-align: right;\n    }\n</style>\n<table border=\"1\" class=\"dataframe\">\n  <thead>\n    <tr style=\"text-align: right;\">\n      <th></th>\n      <th>\"MALAT1\"</th>\n      <th>\"MT-RNR2\"</th>\n      <th>\"NEAT1\"</th>\n      <th>\"H1-5\"</th>\n      <th>\"TFF1\"</th>\n      <th>\"MT-RNR1\"</th>\n      <th>\"H4C3\"</th>\n      <th>\"GDF15\"</th>\n      <th>\"KRT81\"</th>\n      <th>\"MT-CO3\"</th>\n      <th>...</th>\n      <th>\"MICALL1\"</th>\n      <th>\"RARG\"</th>\n      <th>\"MYO1F\"</th>\n      <th>\"BRWD1-AS2\"</th>\n      <th>\"RPS19BP1\"</th>\n      <th>\"AUNIP\"</th>\n      <th>\"TNK2\"</th>\n      <th>\"SUDS3\"</th>\n      <th>oxia</th>\n      <th>cluster</th>\n    </tr>\n  </thead>\n  <tbody>\n    <tr>\n      <th>\"AAAAACCTATCG_Normoxia\"</th>\n      <td>1</td>\n      <td>0</td>\n      <td>0</td>\n      <td>0</td>\n      <td>4</td>\n      <td>0</td>\n      <td>0</td>\n      <td>0</td>\n      <td>0</td>\n      <td>0</td>\n      <td>...</td>\n      <td>0</td>\n      <td>0</td>\n      <td>0</td>\n      <td>0</td>\n      <td>0</td>\n      <td>0</td>\n      <td>0</td>\n      <td>0</td>\n      <td>1</td>\n      <td>2</td>\n    </tr>\n    <tr>\n      <th>\"AAAACAACCCTA_Normoxia\"</th>\n      <td>3</td>\n      <td>0</td>\n      <td>0</td>\n      <td>0</td>\n      <td>1</td>\n      <td>0</td>\n      <td>1</td>\n      <td>0</td>\n      <td>0</td>\n      <td>0</td>\n      <td>...</td>\n      <td>0</td>\n      <td>0</td>\n      <td>0</td>\n      <td>0</td>\n      <td>0</td>\n      <td>0</td>\n      <td>0</td>\n      <td>0</td>\n      <td>1</td>\n      <td>2</td>\n    </tr>\n    <tr>\n      <th>\"AAAACACTCTCA_Normoxia\"</th>\n      <td>3</td>\n      <td>0</td>\n      <td>0</td>\n      <td>0</td>\n      <td>1</td>\n      <td>0</td>\n      <td>0</td>\n      <td>0</td>\n      <td>0</td>\n      <td>0</td>\n      <td>...</td>\n      <td>0</td>\n      <td>0</td>\n      <td>0</td>\n      <td>0</td>\n      <td>0</td>\n      <td>0</td>\n      <td>0</td>\n      <td>0</td>\n      <td>1</td>\n      <td>2</td>\n    </tr>\n    <tr>\n      <th>\"AAAACCAGGCAC_Normoxia\"</th>\n      <td>6</td>\n      <td>2</td>\n      <td>0</td>\n      <td>0</td>\n      <td>1</td>\n      <td>0</td>\n      <td>1</td>\n      <td>0</td>\n      <td>0</td>\n      <td>0</td>\n      <td>...</td>\n      <td>0</td>\n      <td>0</td>\n      <td>0</td>\n      <td>0</td>\n      <td>0</td>\n      <td>0</td>\n      <td>0</td>\n      <td>0</td>\n      <td>1</td>\n      <td>1</td>\n    </tr>\n    <tr>\n      <th>\"AAAACCTAGCTC_Normoxia\"</th>\n      <td>4</td>\n      <td>0</td>\n      <td>0</td>\n      <td>0</td>\n      <td>0</td>\n      <td>0</td>\n      <td>0</td>\n      <td>0</td>\n      <td>0</td>\n      <td>1</td>\n      <td>...</td>\n      <td>0</td>\n      <td>0</td>\n      <td>0</td>\n      <td>0</td>\n      <td>0</td>\n      <td>0</td>\n      <td>0</td>\n      <td>0</td>\n      <td>1</td>\n      <td>2</td>\n    </tr>\n    <tr>\n      <th>...</th>\n      <td>...</td>\n      <td>...</td>\n      <td>...</td>\n      <td>...</td>\n      <td>...</td>\n      <td>...</td>\n      <td>...</td>\n      <td>...</td>\n      <td>...</td>\n      <td>...</td>\n      <td>...</td>\n      <td>...</td>\n      <td>...</td>\n      <td>...</td>\n      <td>...</td>\n      <td>...</td>\n      <td>...</td>\n      <td>...</td>\n      <td>...</td>\n      <td>...</td>\n      <td>...</td>\n    </tr>\n    <tr>\n      <th>\"TTTTTACCTCCC_Normoxia\"</th>\n      <td>0</td>\n      <td>1</td>\n      <td>1</td>\n      <td>1</td>\n      <td>0</td>\n      <td>1</td>\n      <td>2</td>\n      <td>0</td>\n      <td>0</td>\n      <td>0</td>\n      <td>...</td>\n      <td>0</td>\n      <td>0</td>\n      <td>0</td>\n      <td>0</td>\n      <td>0</td>\n      <td>0</td>\n      <td>0</td>\n      <td>0</td>\n      <td>1</td>\n      <td>2</td>\n    </tr>\n    <tr>\n      <th>\"TTTTTCGAATCA_Normoxia\"</th>\n      <td>2</td>\n      <td>1</td>\n      <td>0</td>\n      <td>1</td>\n      <td>2</td>\n      <td>1</td>\n      <td>2</td>\n      <td>0</td>\n      <td>0</td>\n      <td>0</td>\n      <td>...</td>\n      <td>0</td>\n      <td>0</td>\n      <td>0</td>\n      <td>0</td>\n      <td>0</td>\n      <td>0</td>\n      <td>0</td>\n      <td>0</td>\n      <td>1</td>\n      <td>2</td>\n    </tr>\n    <tr>\n      <th>\"TTTTTCGACCAC_Normoxia\"</th>\n      <td>1</td>\n      <td>1</td>\n      <td>0</td>\n      <td>0</td>\n      <td>4</td>\n      <td>0</td>\n      <td>0</td>\n      <td>0</td>\n      <td>0</td>\n      <td>0</td>\n      <td>...</td>\n      <td>0</td>\n      <td>0</td>\n      <td>0</td>\n      <td>0</td>\n      <td>0</td>\n      <td>0</td>\n      <td>0</td>\n      <td>0</td>\n      <td>1</td>\n      <td>2</td>\n    </tr>\n    <tr>\n      <th>\"TTTTTGCGCCAT_Normoxia\"</th>\n      <td>1</td>\n      <td>0</td>\n      <td>0</td>\n      <td>0</td>\n      <td>4</td>\n      <td>0</td>\n      <td>0</td>\n      <td>0</td>\n      <td>0</td>\n      <td>2</td>\n      <td>...</td>\n      <td>0</td>\n      <td>0</td>\n      <td>0</td>\n      <td>0</td>\n      <td>0</td>\n      <td>0</td>\n      <td>0</td>\n      <td>0</td>\n      <td>1</td>\n      <td>2</td>\n    </tr>\n    <tr>\n      <th>\"TTTTTTGTCATA_Normoxia\"</th>\n      <td>5</td>\n      <td>1</td>\n      <td>0</td>\n      <td>0</td>\n      <td>1</td>\n      <td>0</td>\n      <td>2</td>\n      <td>0</td>\n      <td>0</td>\n      <td>0</td>\n      <td>...</td>\n      <td>0</td>\n      <td>0</td>\n      <td>0</td>\n      <td>0</td>\n      <td>0</td>\n      <td>0</td>\n      <td>0</td>\n      <td>0</td>\n      <td>1</td>\n      <td>2</td>\n    </tr>\n  </tbody>\n</table>\n<p>12705 rows × 3002 columns</p>\n</div>"
     },
     "execution_count": 48,
     "metadata": {},
     "output_type": "execute_result"
    }
   ],
   "source": [
    "#try also for only columns with oxia 1\n",
    "# Filter the DataFrame to only include columns where the 'oxia' row is -1\n",
    "df_normoxic = df.loc[:, df.loc['oxia'] == 1]\n",
    "\n",
    "# Transpose the DataFrame\n",
    "df_normoxic_transposed = df_normoxic.T\n",
    "\n",
    "# Define the number of clusters\n",
    "n_clusters = 3\n",
    "\n",
    "# Create a KMeans object\n",
    "kmeans = KMeans(n_clusters=n_clusters)\n",
    "\n",
    "# Fit the KMeans object to your transposed data\n",
    "kmeans.fit(df_normoxic_transposed)\n",
    "\n",
    "# Get the labels and add them to the transposed DataFrame\n",
    "df_normoxic_transposed['cluster'] = kmeans.labels_\n",
    "\n",
    "# Print the first few rows of the DataFrame\n",
    "df_normoxic_transposed\n"
   ],
   "metadata": {
    "collapsed": false
   }
  },
  {
   "cell_type": "code",
   "execution_count": null,
   "outputs": [],
   "source": [
    "#now to develop a model\n"
   ],
   "metadata": {
    "collapsed": false
   }
  }
 ],
 "metadata": {
  "kernelspec": {
   "display_name": "Python 3",
   "language": "python",
   "name": "python3"
  },
  "language_info": {
   "codemirror_mode": {
    "name": "ipython",
    "version": 2
   },
   "file_extension": ".py",
   "mimetype": "text/x-python",
   "name": "python",
   "nbconvert_exporter": "python",
   "pygments_lexer": "ipython2",
   "version": "2.7.6"
  }
 },
 "nbformat": 4,
 "nbformat_minor": 0
}
