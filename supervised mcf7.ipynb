{
 "cells": [
  {
   "cell_type": "code",
   "execution_count": 2,
   "metadata": {
    "collapsed": true
   },
   "outputs": [],
   "source": [
    "import sys\n",
    "import pandas as pd\n",
    "import numpy as np\n",
    "import matplotlib.pyplot as plt             #visualisation\n",
    "import seaborn as sns   #visualisation\n",
    "%matplotlib inline\n",
    "sns.set(color_codes=True)"
   ]
  },
  {
   "cell_type": "code",
   "execution_count": null,
   "outputs": [],
   "source": [
    "df = pd.read_csv(\"C:\\\\Users\\\\camer\\\\Desktop\\\\class stuff\\\\Semester 4\\\\ai lab\\\\DropSeq\\\\MCF7_Filtered_Normalised_3000_Data_train.txt\", delimiter=\"\\ \", engine='python', index_col=0)"
   ],
   "metadata": {
    "collapsed": false
   }
  },
  {
   "cell_type": "code",
   "execution_count": 35,
   "outputs": [],
   "source": [
    "#add a new row to the data frame\n",
    "#add the row to the bottom\n",
    "#if at the column index contains _Normoxia then add 1 to the row, _Hypoxia then add -1\n",
    "#this is just binary classification"
   ],
   "metadata": {
    "collapsed": false
   }
  },
  {
   "cell_type": "code",
   "execution_count": 8,
   "outputs": [],
   "source": [
    "# Step 1: Create a new row as a dictionary with None values and keys matching the DataFrame columns\n",
    "new_row = {col: None for col in df.columns}\n",
    "\n",
    "# Step 2: Iterate over the columns and set the new row values based on column names\n",
    "for col in df.columns:\n",
    "    if '_Normoxia' in col:\n",
    "        new_row[col] = 1\n",
    "    elif '_Hypoxia' in col:\n",
    "        new_row[col] = -1\n",
    "\n",
    "# Step 3: Append the new row to the DataFrame using concat\n",
    "df = pd.concat([df, pd.DataFrame(new_row, index=['oxia'])])"
   ],
   "metadata": {
    "collapsed": false
   }
  },
  {
   "cell_type": "code",
   "execution_count": 9,
   "outputs": [
    {
     "data": {
      "text/plain": "            \"AAAAACCTATCG_Normoxia\"  \"AAAACAACCCTA_Normoxia\"  \\\n\"MALAT1\"                          1                        3   \n\"MT-RNR2\"                         0                        0   \n\"NEAT1\"                           0                        0   \n\"H1-5\"                            0                        0   \n\"TFF1\"                            4                        1   \n...                             ...                      ...   \n\"RPS19BP1\"                        0                        0   \n\"AUNIP\"                           0                        0   \n\"TNK2\"                            0                        0   \n\"SUDS3\"                           0                        0   \noxia                              1                        1   \n\n            \"AAAACACTCTCA_Normoxia\"  \"AAAACCAGGCAC_Normoxia\"  \\\n\"MALAT1\"                          3                        6   \n\"MT-RNR2\"                         0                        2   \n\"NEAT1\"                           0                        0   \n\"H1-5\"                            0                        0   \n\"TFF1\"                            1                        1   \n...                             ...                      ...   \n\"RPS19BP1\"                        0                        0   \n\"AUNIP\"                           0                        0   \n\"TNK2\"                            0                        0   \n\"SUDS3\"                           0                        0   \noxia                              1                        1   \n\n            \"AAAACCTAGCTC_Normoxia\"  \"AAAACCTCCGGG_Normoxia\"  \\\n\"MALAT1\"                          4                        5   \n\"MT-RNR2\"                         0                        0   \n\"NEAT1\"                           0                        2   \n\"H1-5\"                            0                        2   \n\"TFF1\"                            0                        0   \n...                             ...                      ...   \n\"RPS19BP1\"                        0                        0   \n\"AUNIP\"                           0                        0   \n\"TNK2\"                            0                        0   \n\"SUDS3\"                           0                        0   \noxia                              1                        1   \n\n            \"AAAACTCGTTGC_Normoxia\"  \"AAAAGAGCTCTC_Normoxia\"  \\\n\"MALAT1\"                          1                       13   \n\"MT-RNR2\"                         2                        1   \n\"NEAT1\"                           0                        1   \n\"H1-5\"                            0                        0   \n\"TFF1\"                            0                        2   \n...                             ...                      ...   \n\"RPS19BP1\"                        0                        0   \n\"AUNIP\"                           0                        0   \n\"TNK2\"                            0                        0   \n\"SUDS3\"                           0                        0   \noxia                              1                        1   \n\n            \"AAAAGCTAGGCG_Normoxia\"  \"AAAATCGCATTT_Normoxia\"  ...  \\\n\"MALAT1\"                          3                        3  ...   \n\"MT-RNR2\"                         7                        0  ...   \n\"NEAT1\"                           2                        0  ...   \n\"H1-5\"                            0                        0  ...   \n\"TFF1\"                            0                        1  ...   \n...                             ...                      ...  ...   \n\"RPS19BP1\"                        0                        0  ...   \n\"AUNIP\"                           0                        0  ...   \n\"TNK2\"                            0                        0  ...   \n\"SUDS3\"                           0                        0  ...   \noxia                              1                        1  ...   \n\n            \"TTTTACAGGATC_Hypoxia\"  \"TTTTACCACGTA_Hypoxia\"  \\\n\"MALAT1\"                         0                       2   \n\"MT-RNR2\"                        0                       0   \n\"NEAT1\"                          0                       0   \n\"H1-5\"                           0                       1   \n\"TFF1\"                           2                       3   \n...                            ...                     ...   \n\"RPS19BP1\"                       0                       0   \n\"AUNIP\"                          0                       0   \n\"TNK2\"                           0                       0   \n\"SUDS3\"                          0                       0   \noxia                            -1                      -1   \n\n            \"TTTTATGCTACG_Hypoxia\"  \"TTTTCCAGACGC_Hypoxia\"  \\\n\"MALAT1\"                         1                       0   \n\"MT-RNR2\"                        0                       0   \n\"NEAT1\"                          0                       0   \n\"H1-5\"                           0                       0   \n\"TFF1\"                           8                       0   \n...                            ...                     ...   \n\"RPS19BP1\"                       0                       0   \n\"AUNIP\"                          0                       0   \n\"TNK2\"                           0                       0   \n\"SUDS3\"                          0                       0   \noxia                            -1                      -1   \n\n            \"TTTTCGCGCTCG_Hypoxia\"  \"TTTTCGCGTAGA_Hypoxia\"  \\\n\"MALAT1\"                         1                       0   \n\"MT-RNR2\"                        0                       0   \n\"NEAT1\"                          0                       0   \n\"H1-5\"                           1                       0   \n\"TFF1\"                           0                       3   \n...                            ...                     ...   \n\"RPS19BP1\"                       0                       0   \n\"AUNIP\"                          0                       0   \n\"TNK2\"                           0                       0   \n\"SUDS3\"                          0                       0   \noxia                            -1                      -1   \n\n            \"TTTTCGTCCGCT_Hypoxia\"  \"TTTTCTCCGGCT_Hypoxia\"  \\\n\"MALAT1\"                         1                       0   \n\"MT-RNR2\"                        0                       0   \n\"NEAT1\"                          0                       0   \n\"H1-5\"                           0                       1   \n\"TFF1\"                           4                       2   \n...                            ...                     ...   \n\"RPS19BP1\"                       0                       0   \n\"AUNIP\"                          0                       0   \n\"TNK2\"                           0                       0   \n\"SUDS3\"                          0                       1   \noxia                            -1                      -1   \n\n            \"TTTTGTTCAAAG_Hypoxia\"  \"TTTTTTGTATGT_Hypoxia\"  \n\"MALAT1\"                         0                       4  \n\"MT-RNR2\"                        0                       0  \n\"NEAT1\"                          0                       0  \n\"H1-5\"                           0                       0  \n\"TFF1\"                           6                       0  \n...                            ...                     ...  \n\"RPS19BP1\"                       0                       0  \n\"AUNIP\"                          0                       0  \n\"TNK2\"                           0                       0  \n\"SUDS3\"                          0                       0  \noxia                            -1                      -1  \n\n[3001 rows x 21626 columns]",
      "text/html": "<div>\n<style scoped>\n    .dataframe tbody tr th:only-of-type {\n        vertical-align: middle;\n    }\n\n    .dataframe tbody tr th {\n        vertical-align: top;\n    }\n\n    .dataframe thead th {\n        text-align: right;\n    }\n</style>\n<table border=\"1\" class=\"dataframe\">\n  <thead>\n    <tr style=\"text-align: right;\">\n      <th></th>\n      <th>\"AAAAACCTATCG_Normoxia\"</th>\n      <th>\"AAAACAACCCTA_Normoxia\"</th>\n      <th>\"AAAACACTCTCA_Normoxia\"</th>\n      <th>\"AAAACCAGGCAC_Normoxia\"</th>\n      <th>\"AAAACCTAGCTC_Normoxia\"</th>\n      <th>\"AAAACCTCCGGG_Normoxia\"</th>\n      <th>\"AAAACTCGTTGC_Normoxia\"</th>\n      <th>\"AAAAGAGCTCTC_Normoxia\"</th>\n      <th>\"AAAAGCTAGGCG_Normoxia\"</th>\n      <th>\"AAAATCGCATTT_Normoxia\"</th>\n      <th>...</th>\n      <th>\"TTTTACAGGATC_Hypoxia\"</th>\n      <th>\"TTTTACCACGTA_Hypoxia\"</th>\n      <th>\"TTTTATGCTACG_Hypoxia\"</th>\n      <th>\"TTTTCCAGACGC_Hypoxia\"</th>\n      <th>\"TTTTCGCGCTCG_Hypoxia\"</th>\n      <th>\"TTTTCGCGTAGA_Hypoxia\"</th>\n      <th>\"TTTTCGTCCGCT_Hypoxia\"</th>\n      <th>\"TTTTCTCCGGCT_Hypoxia\"</th>\n      <th>\"TTTTGTTCAAAG_Hypoxia\"</th>\n      <th>\"TTTTTTGTATGT_Hypoxia\"</th>\n    </tr>\n  </thead>\n  <tbody>\n    <tr>\n      <th>\"MALAT1\"</th>\n      <td>1</td>\n      <td>3</td>\n      <td>3</td>\n      <td>6</td>\n      <td>4</td>\n      <td>5</td>\n      <td>1</td>\n      <td>13</td>\n      <td>3</td>\n      <td>3</td>\n      <td>...</td>\n      <td>0</td>\n      <td>2</td>\n      <td>1</td>\n      <td>0</td>\n      <td>1</td>\n      <td>0</td>\n      <td>1</td>\n      <td>0</td>\n      <td>0</td>\n      <td>4</td>\n    </tr>\n    <tr>\n      <th>\"MT-RNR2\"</th>\n      <td>0</td>\n      <td>0</td>\n      <td>0</td>\n      <td>2</td>\n      <td>0</td>\n      <td>0</td>\n      <td>2</td>\n      <td>1</td>\n      <td>7</td>\n      <td>0</td>\n      <td>...</td>\n      <td>0</td>\n      <td>0</td>\n      <td>0</td>\n      <td>0</td>\n      <td>0</td>\n      <td>0</td>\n      <td>0</td>\n      <td>0</td>\n      <td>0</td>\n      <td>0</td>\n    </tr>\n    <tr>\n      <th>\"NEAT1\"</th>\n      <td>0</td>\n      <td>0</td>\n      <td>0</td>\n      <td>0</td>\n      <td>0</td>\n      <td>2</td>\n      <td>0</td>\n      <td>1</td>\n      <td>2</td>\n      <td>0</td>\n      <td>...</td>\n      <td>0</td>\n      <td>0</td>\n      <td>0</td>\n      <td>0</td>\n      <td>0</td>\n      <td>0</td>\n      <td>0</td>\n      <td>0</td>\n      <td>0</td>\n      <td>0</td>\n    </tr>\n    <tr>\n      <th>\"H1-5\"</th>\n      <td>0</td>\n      <td>0</td>\n      <td>0</td>\n      <td>0</td>\n      <td>0</td>\n      <td>2</td>\n      <td>0</td>\n      <td>0</td>\n      <td>0</td>\n      <td>0</td>\n      <td>...</td>\n      <td>0</td>\n      <td>1</td>\n      <td>0</td>\n      <td>0</td>\n      <td>1</td>\n      <td>0</td>\n      <td>0</td>\n      <td>1</td>\n      <td>0</td>\n      <td>0</td>\n    </tr>\n    <tr>\n      <th>\"TFF1\"</th>\n      <td>4</td>\n      <td>1</td>\n      <td>1</td>\n      <td>1</td>\n      <td>0</td>\n      <td>0</td>\n      <td>0</td>\n      <td>2</td>\n      <td>0</td>\n      <td>1</td>\n      <td>...</td>\n      <td>2</td>\n      <td>3</td>\n      <td>8</td>\n      <td>0</td>\n      <td>0</td>\n      <td>3</td>\n      <td>4</td>\n      <td>2</td>\n      <td>6</td>\n      <td>0</td>\n    </tr>\n    <tr>\n      <th>...</th>\n      <td>...</td>\n      <td>...</td>\n      <td>...</td>\n      <td>...</td>\n      <td>...</td>\n      <td>...</td>\n      <td>...</td>\n      <td>...</td>\n      <td>...</td>\n      <td>...</td>\n      <td>...</td>\n      <td>...</td>\n      <td>...</td>\n      <td>...</td>\n      <td>...</td>\n      <td>...</td>\n      <td>...</td>\n      <td>...</td>\n      <td>...</td>\n      <td>...</td>\n      <td>...</td>\n    </tr>\n    <tr>\n      <th>\"RPS19BP1\"</th>\n      <td>0</td>\n      <td>0</td>\n      <td>0</td>\n      <td>0</td>\n      <td>0</td>\n      <td>0</td>\n      <td>0</td>\n      <td>0</td>\n      <td>0</td>\n      <td>0</td>\n      <td>...</td>\n      <td>0</td>\n      <td>0</td>\n      <td>0</td>\n      <td>0</td>\n      <td>0</td>\n      <td>0</td>\n      <td>0</td>\n      <td>0</td>\n      <td>0</td>\n      <td>0</td>\n    </tr>\n    <tr>\n      <th>\"AUNIP\"</th>\n      <td>0</td>\n      <td>0</td>\n      <td>0</td>\n      <td>0</td>\n      <td>0</td>\n      <td>0</td>\n      <td>0</td>\n      <td>0</td>\n      <td>0</td>\n      <td>0</td>\n      <td>...</td>\n      <td>0</td>\n      <td>0</td>\n      <td>0</td>\n      <td>0</td>\n      <td>0</td>\n      <td>0</td>\n      <td>0</td>\n      <td>0</td>\n      <td>0</td>\n      <td>0</td>\n    </tr>\n    <tr>\n      <th>\"TNK2\"</th>\n      <td>0</td>\n      <td>0</td>\n      <td>0</td>\n      <td>0</td>\n      <td>0</td>\n      <td>0</td>\n      <td>0</td>\n      <td>0</td>\n      <td>0</td>\n      <td>0</td>\n      <td>...</td>\n      <td>0</td>\n      <td>0</td>\n      <td>0</td>\n      <td>0</td>\n      <td>0</td>\n      <td>0</td>\n      <td>0</td>\n      <td>0</td>\n      <td>0</td>\n      <td>0</td>\n    </tr>\n    <tr>\n      <th>\"SUDS3\"</th>\n      <td>0</td>\n      <td>0</td>\n      <td>0</td>\n      <td>0</td>\n      <td>0</td>\n      <td>0</td>\n      <td>0</td>\n      <td>0</td>\n      <td>0</td>\n      <td>0</td>\n      <td>...</td>\n      <td>0</td>\n      <td>0</td>\n      <td>0</td>\n      <td>0</td>\n      <td>0</td>\n      <td>0</td>\n      <td>0</td>\n      <td>1</td>\n      <td>0</td>\n      <td>0</td>\n    </tr>\n    <tr>\n      <th>oxia</th>\n      <td>1</td>\n      <td>1</td>\n      <td>1</td>\n      <td>1</td>\n      <td>1</td>\n      <td>1</td>\n      <td>1</td>\n      <td>1</td>\n      <td>1</td>\n      <td>1</td>\n      <td>...</td>\n      <td>-1</td>\n      <td>-1</td>\n      <td>-1</td>\n      <td>-1</td>\n      <td>-1</td>\n      <td>-1</td>\n      <td>-1</td>\n      <td>-1</td>\n      <td>-1</td>\n      <td>-1</td>\n    </tr>\n  </tbody>\n</table>\n<p>3001 rows × 21626 columns</p>\n</div>"
     },
     "execution_count": 9,
     "metadata": {},
     "output_type": "execute_result"
    }
   ],
   "source": [
    "#check the new row was added\n",
    "df"
   ],
   "metadata": {
    "collapsed": false
   }
  },
  {
   "cell_type": "code",
   "execution_count": 10,
   "outputs": [
    {
     "data": {
      "text/plain": "\"MALAT1\"      0.155296\n\"MT-RNR2\"     0.366593\n\"NEAT1\"      -0.029503\n\"H1-5\"        0.058652\n\"TFF1\"       -0.503544\n                ...   \n\"RPS19BP1\"    0.003207\n\"AUNIP\"       0.009572\n\"TNK2\"        0.002408\n\"SUDS3\"       0.038423\noxia          1.000000\nLength: 3001, dtype: float64"
     },
     "execution_count": 10,
     "metadata": {},
     "output_type": "execute_result"
    }
   ],
   "source": [
    "#create a correlation table of each row against just the oxia row\n",
    "corrs = df.apply(lambda row: row.corr(df.loc['oxia']), axis=1)\n",
    "corrs"
   ],
   "metadata": {
    "collapsed": false
   }
  },
  {
   "cell_type": "code",
   "execution_count": 13,
   "outputs": [
    {
     "data": {
      "text/plain": "oxia         1.000000\n\"MT-RNR2\"    0.366593\n\"MT-RNR1\"    0.313027\n\"MT-ND4\"     0.250744\n\"SET\"        0.229521\n               ...   \n\"RPL13\"     -0.451473\n\"KRT19\"     -0.453162\n\"RPS19\"     -0.461537\n\"TMSB10\"    -0.466682\n\"TFF1\"      -0.503544\nLength: 3001, dtype: float64"
     },
     "execution_count": 13,
     "metadata": {},
     "output_type": "execute_result"
    }
   ],
   "source": [
    "#sort the correlation table\n",
    "corrs = corrs.sort_values(ascending=False)\n",
    "corrs"
   ],
   "metadata": {
    "collapsed": false
   }
  },
  {
   "cell_type": "code",
   "execution_count": 14,
   "outputs": [
    {
     "data": {
      "text/plain": "                         \"MALAT1\"  \"MT-RNR2\"  \"NEAT1\"  \"H1-5\"  \"TFF1\"  \\\n\"AAAAACCTATCG_Normoxia\"         1          0        0       0       4   \n\"AAAACAACCCTA_Normoxia\"         3          0        0       0       1   \n\"AAAACACTCTCA_Normoxia\"         3          0        0       0       1   \n\"AAAACCAGGCAC_Normoxia\"         6          2        0       0       1   \n\"AAAACCTAGCTC_Normoxia\"         4          0        0       0       0   \n...                           ...        ...      ...     ...     ...   \n\"TTTTCGCGTAGA_Hypoxia\"          0          0        0       0       3   \n\"TTTTCGTCCGCT_Hypoxia\"          1          0        0       0       4   \n\"TTTTCTCCGGCT_Hypoxia\"          0          0        0       1       2   \n\"TTTTGTTCAAAG_Hypoxia\"          0          0        0       0       6   \n\"TTTTTTGTATGT_Hypoxia\"          4          0        0       0       0   \n\n                         \"MT-RNR1\"  \"H4C3\"  \"GDF15\"  \"KRT81\"  \"MT-CO3\"  ...  \\\n\"AAAAACCTATCG_Normoxia\"          0       0        0        0         0  ...   \n\"AAAACAACCCTA_Normoxia\"          0       1        0        0         0  ...   \n\"AAAACACTCTCA_Normoxia\"          0       0        0        0         0  ...   \n\"AAAACCAGGCAC_Normoxia\"          0       1        0        0         0  ...   \n\"AAAACCTAGCTC_Normoxia\"          0       0        0        0         1  ...   \n...                            ...     ...      ...      ...       ...  ...   \n\"TTTTCGCGTAGA_Hypoxia\"           0       7        0        0         0  ...   \n\"TTTTCGTCCGCT_Hypoxia\"           0       1        0        1         0  ...   \n\"TTTTCTCCGGCT_Hypoxia\"           0       4        0        0         0  ...   \n\"TTTTGTTCAAAG_Hypoxia\"           0       0        0        0         0  ...   \n\"TTTTTTGTATGT_Hypoxia\"           0       6        0        0         0  ...   \n\n                         \"SKIDA1\"  \"MICALL1\"  \"RARG\"  \"MYO1F\"  \"BRWD1-AS2\"  \\\n\"AAAAACCTATCG_Normoxia\"         0          0       0        0            0   \n\"AAAACAACCCTA_Normoxia\"         0          0       0        0            0   \n\"AAAACACTCTCA_Normoxia\"         0          0       0        0            0   \n\"AAAACCAGGCAC_Normoxia\"         0          0       0        0            0   \n\"AAAACCTAGCTC_Normoxia\"         0          0       0        0            0   \n...                           ...        ...     ...      ...          ...   \n\"TTTTCGCGTAGA_Hypoxia\"          0          0       0        0            0   \n\"TTTTCGTCCGCT_Hypoxia\"          0          0       0        0            0   \n\"TTTTCTCCGGCT_Hypoxia\"          0          0       0        0            0   \n\"TTTTGTTCAAAG_Hypoxia\"          0          0       0        0            0   \n\"TTTTTTGTATGT_Hypoxia\"          0          0       0        0            0   \n\n                         \"RPS19BP1\"  \"AUNIP\"  \"TNK2\"  \"SUDS3\"  oxia  \n\"AAAAACCTATCG_Normoxia\"           0        0       0        0     1  \n\"AAAACAACCCTA_Normoxia\"           0        0       0        0     1  \n\"AAAACACTCTCA_Normoxia\"           0        0       0        0     1  \n\"AAAACCAGGCAC_Normoxia\"           0        0       0        0     1  \n\"AAAACCTAGCTC_Normoxia\"           0        0       0        0     1  \n...                             ...      ...     ...      ...   ...  \n\"TTTTCGCGTAGA_Hypoxia\"            0        0       0        0    -1  \n\"TTTTCGTCCGCT_Hypoxia\"            0        0       0        0    -1  \n\"TTTTCTCCGGCT_Hypoxia\"            0        0       0        1    -1  \n\"TTTTGTTCAAAG_Hypoxia\"            0        0       0        0    -1  \n\"TTTTTTGTATGT_Hypoxia\"            0        0       0        0    -1  \n\n[21626 rows x 3001 columns]",
      "text/html": "<div>\n<style scoped>\n    .dataframe tbody tr th:only-of-type {\n        vertical-align: middle;\n    }\n\n    .dataframe tbody tr th {\n        vertical-align: top;\n    }\n\n    .dataframe thead th {\n        text-align: right;\n    }\n</style>\n<table border=\"1\" class=\"dataframe\">\n  <thead>\n    <tr style=\"text-align: right;\">\n      <th></th>\n      <th>\"MALAT1\"</th>\n      <th>\"MT-RNR2\"</th>\n      <th>\"NEAT1\"</th>\n      <th>\"H1-5\"</th>\n      <th>\"TFF1\"</th>\n      <th>\"MT-RNR1\"</th>\n      <th>\"H4C3\"</th>\n      <th>\"GDF15\"</th>\n      <th>\"KRT81\"</th>\n      <th>\"MT-CO3\"</th>\n      <th>...</th>\n      <th>\"SKIDA1\"</th>\n      <th>\"MICALL1\"</th>\n      <th>\"RARG\"</th>\n      <th>\"MYO1F\"</th>\n      <th>\"BRWD1-AS2\"</th>\n      <th>\"RPS19BP1\"</th>\n      <th>\"AUNIP\"</th>\n      <th>\"TNK2\"</th>\n      <th>\"SUDS3\"</th>\n      <th>oxia</th>\n    </tr>\n  </thead>\n  <tbody>\n    <tr>\n      <th>\"AAAAACCTATCG_Normoxia\"</th>\n      <td>1</td>\n      <td>0</td>\n      <td>0</td>\n      <td>0</td>\n      <td>4</td>\n      <td>0</td>\n      <td>0</td>\n      <td>0</td>\n      <td>0</td>\n      <td>0</td>\n      <td>...</td>\n      <td>0</td>\n      <td>0</td>\n      <td>0</td>\n      <td>0</td>\n      <td>0</td>\n      <td>0</td>\n      <td>0</td>\n      <td>0</td>\n      <td>0</td>\n      <td>1</td>\n    </tr>\n    <tr>\n      <th>\"AAAACAACCCTA_Normoxia\"</th>\n      <td>3</td>\n      <td>0</td>\n      <td>0</td>\n      <td>0</td>\n      <td>1</td>\n      <td>0</td>\n      <td>1</td>\n      <td>0</td>\n      <td>0</td>\n      <td>0</td>\n      <td>...</td>\n      <td>0</td>\n      <td>0</td>\n      <td>0</td>\n      <td>0</td>\n      <td>0</td>\n      <td>0</td>\n      <td>0</td>\n      <td>0</td>\n      <td>0</td>\n      <td>1</td>\n    </tr>\n    <tr>\n      <th>\"AAAACACTCTCA_Normoxia\"</th>\n      <td>3</td>\n      <td>0</td>\n      <td>0</td>\n      <td>0</td>\n      <td>1</td>\n      <td>0</td>\n      <td>0</td>\n      <td>0</td>\n      <td>0</td>\n      <td>0</td>\n      <td>...</td>\n      <td>0</td>\n      <td>0</td>\n      <td>0</td>\n      <td>0</td>\n      <td>0</td>\n      <td>0</td>\n      <td>0</td>\n      <td>0</td>\n      <td>0</td>\n      <td>1</td>\n    </tr>\n    <tr>\n      <th>\"AAAACCAGGCAC_Normoxia\"</th>\n      <td>6</td>\n      <td>2</td>\n      <td>0</td>\n      <td>0</td>\n      <td>1</td>\n      <td>0</td>\n      <td>1</td>\n      <td>0</td>\n      <td>0</td>\n      <td>0</td>\n      <td>...</td>\n      <td>0</td>\n      <td>0</td>\n      <td>0</td>\n      <td>0</td>\n      <td>0</td>\n      <td>0</td>\n      <td>0</td>\n      <td>0</td>\n      <td>0</td>\n      <td>1</td>\n    </tr>\n    <tr>\n      <th>\"AAAACCTAGCTC_Normoxia\"</th>\n      <td>4</td>\n      <td>0</td>\n      <td>0</td>\n      <td>0</td>\n      <td>0</td>\n      <td>0</td>\n      <td>0</td>\n      <td>0</td>\n      <td>0</td>\n      <td>1</td>\n      <td>...</td>\n      <td>0</td>\n      <td>0</td>\n      <td>0</td>\n      <td>0</td>\n      <td>0</td>\n      <td>0</td>\n      <td>0</td>\n      <td>0</td>\n      <td>0</td>\n      <td>1</td>\n    </tr>\n    <tr>\n      <th>...</th>\n      <td>...</td>\n      <td>...</td>\n      <td>...</td>\n      <td>...</td>\n      <td>...</td>\n      <td>...</td>\n      <td>...</td>\n      <td>...</td>\n      <td>...</td>\n      <td>...</td>\n      <td>...</td>\n      <td>...</td>\n      <td>...</td>\n      <td>...</td>\n      <td>...</td>\n      <td>...</td>\n      <td>...</td>\n      <td>...</td>\n      <td>...</td>\n      <td>...</td>\n      <td>...</td>\n    </tr>\n    <tr>\n      <th>\"TTTTCGCGTAGA_Hypoxia\"</th>\n      <td>0</td>\n      <td>0</td>\n      <td>0</td>\n      <td>0</td>\n      <td>3</td>\n      <td>0</td>\n      <td>7</td>\n      <td>0</td>\n      <td>0</td>\n      <td>0</td>\n      <td>...</td>\n      <td>0</td>\n      <td>0</td>\n      <td>0</td>\n      <td>0</td>\n      <td>0</td>\n      <td>0</td>\n      <td>0</td>\n      <td>0</td>\n      <td>0</td>\n      <td>-1</td>\n    </tr>\n    <tr>\n      <th>\"TTTTCGTCCGCT_Hypoxia\"</th>\n      <td>1</td>\n      <td>0</td>\n      <td>0</td>\n      <td>0</td>\n      <td>4</td>\n      <td>0</td>\n      <td>1</td>\n      <td>0</td>\n      <td>1</td>\n      <td>0</td>\n      <td>...</td>\n      <td>0</td>\n      <td>0</td>\n      <td>0</td>\n      <td>0</td>\n      <td>0</td>\n      <td>0</td>\n      <td>0</td>\n      <td>0</td>\n      <td>0</td>\n      <td>-1</td>\n    </tr>\n    <tr>\n      <th>\"TTTTCTCCGGCT_Hypoxia\"</th>\n      <td>0</td>\n      <td>0</td>\n      <td>0</td>\n      <td>1</td>\n      <td>2</td>\n      <td>0</td>\n      <td>4</td>\n      <td>0</td>\n      <td>0</td>\n      <td>0</td>\n      <td>...</td>\n      <td>0</td>\n      <td>0</td>\n      <td>0</td>\n      <td>0</td>\n      <td>0</td>\n      <td>0</td>\n      <td>0</td>\n      <td>0</td>\n      <td>1</td>\n      <td>-1</td>\n    </tr>\n    <tr>\n      <th>\"TTTTGTTCAAAG_Hypoxia\"</th>\n      <td>0</td>\n      <td>0</td>\n      <td>0</td>\n      <td>0</td>\n      <td>6</td>\n      <td>0</td>\n      <td>0</td>\n      <td>0</td>\n      <td>0</td>\n      <td>0</td>\n      <td>...</td>\n      <td>0</td>\n      <td>0</td>\n      <td>0</td>\n      <td>0</td>\n      <td>0</td>\n      <td>0</td>\n      <td>0</td>\n      <td>0</td>\n      <td>0</td>\n      <td>-1</td>\n    </tr>\n    <tr>\n      <th>\"TTTTTTGTATGT_Hypoxia\"</th>\n      <td>4</td>\n      <td>0</td>\n      <td>0</td>\n      <td>0</td>\n      <td>0</td>\n      <td>0</td>\n      <td>6</td>\n      <td>0</td>\n      <td>0</td>\n      <td>0</td>\n      <td>...</td>\n      <td>0</td>\n      <td>0</td>\n      <td>0</td>\n      <td>0</td>\n      <td>0</td>\n      <td>0</td>\n      <td>0</td>\n      <td>0</td>\n      <td>0</td>\n      <td>-1</td>\n    </tr>\n  </tbody>\n</table>\n<p>21626 rows × 3001 columns</p>\n</div>"
     },
     "execution_count": 14,
     "metadata": {},
     "output_type": "execute_result"
    }
   ],
   "source": [
    "#now to the data\n",
    "#transpose the data\n",
    "df = df.T\n",
    "df"
   ],
   "metadata": {
    "collapsed": false
   }
  },
  {
   "cell_type": "code",
   "execution_count": 15,
   "outputs": [
    {
     "data": {
      "text/plain": "oxia\n 1    12705\n-1     8921\nName: count, dtype: int64"
     },
     "execution_count": 15,
     "metadata": {},
     "output_type": "execute_result"
    }
   ],
   "source": [
    "#count the number of hypoxic and normoxic samples\n",
    "df['oxia'].value_counts()"
   ],
   "metadata": {
    "collapsed": false
   }
  },
  {
   "cell_type": "code",
   "execution_count": 16,
   "outputs": [],
   "source": [
    "#now we need to split the data into training and testing data\n",
    "#remove the oxia row and store it in a variable\n",
    "y = df['oxia']\n",
    "X = df.drop('oxia', axis=1)"
   ],
   "metadata": {
    "collapsed": false
   }
  },
  {
   "cell_type": "markdown",
   "source": [],
   "metadata": {
    "collapsed": false
   }
  },
  {
   "cell_type": "code",
   "execution_count": 17,
   "outputs": [
    {
     "data": {
      "text/plain": "                         \"MALAT1\"  \"MT-RNR2\"  \"NEAT1\"  \"H1-5\"  \"TFF1\"  \\\n\"AAAAACCTATCG_Normoxia\"         1          0        0       0       4   \n\"AAAACAACCCTA_Normoxia\"         3          0        0       0       1   \n\"AAAACACTCTCA_Normoxia\"         3          0        0       0       1   \n\"AAAACCAGGCAC_Normoxia\"         6          2        0       0       1   \n\"AAAACCTAGCTC_Normoxia\"         4          0        0       0       0   \n...                           ...        ...      ...     ...     ...   \n\"TTTTCGCGTAGA_Hypoxia\"          0          0        0       0       3   \n\"TTTTCGTCCGCT_Hypoxia\"          1          0        0       0       4   \n\"TTTTCTCCGGCT_Hypoxia\"          0          0        0       1       2   \n\"TTTTGTTCAAAG_Hypoxia\"          0          0        0       0       6   \n\"TTTTTTGTATGT_Hypoxia\"          4          0        0       0       0   \n\n                         \"MT-RNR1\"  \"H4C3\"  \"GDF15\"  \"KRT81\"  \"MT-CO3\"  ...  \\\n\"AAAAACCTATCG_Normoxia\"          0       0        0        0         0  ...   \n\"AAAACAACCCTA_Normoxia\"          0       1        0        0         0  ...   \n\"AAAACACTCTCA_Normoxia\"          0       0        0        0         0  ...   \n\"AAAACCAGGCAC_Normoxia\"          0       1        0        0         0  ...   \n\"AAAACCTAGCTC_Normoxia\"          0       0        0        0         1  ...   \n...                            ...     ...      ...      ...       ...  ...   \n\"TTTTCGCGTAGA_Hypoxia\"           0       7        0        0         0  ...   \n\"TTTTCGTCCGCT_Hypoxia\"           0       1        0        1         0  ...   \n\"TTTTCTCCGGCT_Hypoxia\"           0       4        0        0         0  ...   \n\"TTTTGTTCAAAG_Hypoxia\"           0       0        0        0         0  ...   \n\"TTTTTTGTATGT_Hypoxia\"           0       6        0        0         0  ...   \n\n                         \"MROH1\"  \"SKIDA1\"  \"MICALL1\"  \"RARG\"  \"MYO1F\"  \\\n\"AAAAACCTATCG_Normoxia\"        0         0          0       0        0   \n\"AAAACAACCCTA_Normoxia\"        0         0          0       0        0   \n\"AAAACACTCTCA_Normoxia\"        0         0          0       0        0   \n\"AAAACCAGGCAC_Normoxia\"        0         0          0       0        0   \n\"AAAACCTAGCTC_Normoxia\"        0         0          0       0        0   \n...                          ...       ...        ...     ...      ...   \n\"TTTTCGCGTAGA_Hypoxia\"         0         0          0       0        0   \n\"TTTTCGTCCGCT_Hypoxia\"         0         0          0       0        0   \n\"TTTTCTCCGGCT_Hypoxia\"         0         0          0       0        0   \n\"TTTTGTTCAAAG_Hypoxia\"         0         0          0       0        0   \n\"TTTTTTGTATGT_Hypoxia\"         0         0          0       0        0   \n\n                         \"BRWD1-AS2\"  \"RPS19BP1\"  \"AUNIP\"  \"TNK2\"  \"SUDS3\"  \n\"AAAAACCTATCG_Normoxia\"            0           0        0       0        0  \n\"AAAACAACCCTA_Normoxia\"            0           0        0       0        0  \n\"AAAACACTCTCA_Normoxia\"            0           0        0       0        0  \n\"AAAACCAGGCAC_Normoxia\"            0           0        0       0        0  \n\"AAAACCTAGCTC_Normoxia\"            0           0        0       0        0  \n...                              ...         ...      ...     ...      ...  \n\"TTTTCGCGTAGA_Hypoxia\"             0           0        0       0        0  \n\"TTTTCGTCCGCT_Hypoxia\"             0           0        0       0        0  \n\"TTTTCTCCGGCT_Hypoxia\"             0           0        0       0        1  \n\"TTTTGTTCAAAG_Hypoxia\"             0           0        0       0        0  \n\"TTTTTTGTATGT_Hypoxia\"             0           0        0       0        0  \n\n[21626 rows x 3000 columns]",
      "text/html": "<div>\n<style scoped>\n    .dataframe tbody tr th:only-of-type {\n        vertical-align: middle;\n    }\n\n    .dataframe tbody tr th {\n        vertical-align: top;\n    }\n\n    .dataframe thead th {\n        text-align: right;\n    }\n</style>\n<table border=\"1\" class=\"dataframe\">\n  <thead>\n    <tr style=\"text-align: right;\">\n      <th></th>\n      <th>\"MALAT1\"</th>\n      <th>\"MT-RNR2\"</th>\n      <th>\"NEAT1\"</th>\n      <th>\"H1-5\"</th>\n      <th>\"TFF1\"</th>\n      <th>\"MT-RNR1\"</th>\n      <th>\"H4C3\"</th>\n      <th>\"GDF15\"</th>\n      <th>\"KRT81\"</th>\n      <th>\"MT-CO3\"</th>\n      <th>...</th>\n      <th>\"MROH1\"</th>\n      <th>\"SKIDA1\"</th>\n      <th>\"MICALL1\"</th>\n      <th>\"RARG\"</th>\n      <th>\"MYO1F\"</th>\n      <th>\"BRWD1-AS2\"</th>\n      <th>\"RPS19BP1\"</th>\n      <th>\"AUNIP\"</th>\n      <th>\"TNK2\"</th>\n      <th>\"SUDS3\"</th>\n    </tr>\n  </thead>\n  <tbody>\n    <tr>\n      <th>\"AAAAACCTATCG_Normoxia\"</th>\n      <td>1</td>\n      <td>0</td>\n      <td>0</td>\n      <td>0</td>\n      <td>4</td>\n      <td>0</td>\n      <td>0</td>\n      <td>0</td>\n      <td>0</td>\n      <td>0</td>\n      <td>...</td>\n      <td>0</td>\n      <td>0</td>\n      <td>0</td>\n      <td>0</td>\n      <td>0</td>\n      <td>0</td>\n      <td>0</td>\n      <td>0</td>\n      <td>0</td>\n      <td>0</td>\n    </tr>\n    <tr>\n      <th>\"AAAACAACCCTA_Normoxia\"</th>\n      <td>3</td>\n      <td>0</td>\n      <td>0</td>\n      <td>0</td>\n      <td>1</td>\n      <td>0</td>\n      <td>1</td>\n      <td>0</td>\n      <td>0</td>\n      <td>0</td>\n      <td>...</td>\n      <td>0</td>\n      <td>0</td>\n      <td>0</td>\n      <td>0</td>\n      <td>0</td>\n      <td>0</td>\n      <td>0</td>\n      <td>0</td>\n      <td>0</td>\n      <td>0</td>\n    </tr>\n    <tr>\n      <th>\"AAAACACTCTCA_Normoxia\"</th>\n      <td>3</td>\n      <td>0</td>\n      <td>0</td>\n      <td>0</td>\n      <td>1</td>\n      <td>0</td>\n      <td>0</td>\n      <td>0</td>\n      <td>0</td>\n      <td>0</td>\n      <td>...</td>\n      <td>0</td>\n      <td>0</td>\n      <td>0</td>\n      <td>0</td>\n      <td>0</td>\n      <td>0</td>\n      <td>0</td>\n      <td>0</td>\n      <td>0</td>\n      <td>0</td>\n    </tr>\n    <tr>\n      <th>\"AAAACCAGGCAC_Normoxia\"</th>\n      <td>6</td>\n      <td>2</td>\n      <td>0</td>\n      <td>0</td>\n      <td>1</td>\n      <td>0</td>\n      <td>1</td>\n      <td>0</td>\n      <td>0</td>\n      <td>0</td>\n      <td>...</td>\n      <td>0</td>\n      <td>0</td>\n      <td>0</td>\n      <td>0</td>\n      <td>0</td>\n      <td>0</td>\n      <td>0</td>\n      <td>0</td>\n      <td>0</td>\n      <td>0</td>\n    </tr>\n    <tr>\n      <th>\"AAAACCTAGCTC_Normoxia\"</th>\n      <td>4</td>\n      <td>0</td>\n      <td>0</td>\n      <td>0</td>\n      <td>0</td>\n      <td>0</td>\n      <td>0</td>\n      <td>0</td>\n      <td>0</td>\n      <td>1</td>\n      <td>...</td>\n      <td>0</td>\n      <td>0</td>\n      <td>0</td>\n      <td>0</td>\n      <td>0</td>\n      <td>0</td>\n      <td>0</td>\n      <td>0</td>\n      <td>0</td>\n      <td>0</td>\n    </tr>\n    <tr>\n      <th>...</th>\n      <td>...</td>\n      <td>...</td>\n      <td>...</td>\n      <td>...</td>\n      <td>...</td>\n      <td>...</td>\n      <td>...</td>\n      <td>...</td>\n      <td>...</td>\n      <td>...</td>\n      <td>...</td>\n      <td>...</td>\n      <td>...</td>\n      <td>...</td>\n      <td>...</td>\n      <td>...</td>\n      <td>...</td>\n      <td>...</td>\n      <td>...</td>\n      <td>...</td>\n      <td>...</td>\n    </tr>\n    <tr>\n      <th>\"TTTTCGCGTAGA_Hypoxia\"</th>\n      <td>0</td>\n      <td>0</td>\n      <td>0</td>\n      <td>0</td>\n      <td>3</td>\n      <td>0</td>\n      <td>7</td>\n      <td>0</td>\n      <td>0</td>\n      <td>0</td>\n      <td>...</td>\n      <td>0</td>\n      <td>0</td>\n      <td>0</td>\n      <td>0</td>\n      <td>0</td>\n      <td>0</td>\n      <td>0</td>\n      <td>0</td>\n      <td>0</td>\n      <td>0</td>\n    </tr>\n    <tr>\n      <th>\"TTTTCGTCCGCT_Hypoxia\"</th>\n      <td>1</td>\n      <td>0</td>\n      <td>0</td>\n      <td>0</td>\n      <td>4</td>\n      <td>0</td>\n      <td>1</td>\n      <td>0</td>\n      <td>1</td>\n      <td>0</td>\n      <td>...</td>\n      <td>0</td>\n      <td>0</td>\n      <td>0</td>\n      <td>0</td>\n      <td>0</td>\n      <td>0</td>\n      <td>0</td>\n      <td>0</td>\n      <td>0</td>\n      <td>0</td>\n    </tr>\n    <tr>\n      <th>\"TTTTCTCCGGCT_Hypoxia\"</th>\n      <td>0</td>\n      <td>0</td>\n      <td>0</td>\n      <td>1</td>\n      <td>2</td>\n      <td>0</td>\n      <td>4</td>\n      <td>0</td>\n      <td>0</td>\n      <td>0</td>\n      <td>...</td>\n      <td>0</td>\n      <td>0</td>\n      <td>0</td>\n      <td>0</td>\n      <td>0</td>\n      <td>0</td>\n      <td>0</td>\n      <td>0</td>\n      <td>0</td>\n      <td>1</td>\n    </tr>\n    <tr>\n      <th>\"TTTTGTTCAAAG_Hypoxia\"</th>\n      <td>0</td>\n      <td>0</td>\n      <td>0</td>\n      <td>0</td>\n      <td>6</td>\n      <td>0</td>\n      <td>0</td>\n      <td>0</td>\n      <td>0</td>\n      <td>0</td>\n      <td>...</td>\n      <td>0</td>\n      <td>0</td>\n      <td>0</td>\n      <td>0</td>\n      <td>0</td>\n      <td>0</td>\n      <td>0</td>\n      <td>0</td>\n      <td>0</td>\n      <td>0</td>\n    </tr>\n    <tr>\n      <th>\"TTTTTTGTATGT_Hypoxia\"</th>\n      <td>4</td>\n      <td>0</td>\n      <td>0</td>\n      <td>0</td>\n      <td>0</td>\n      <td>0</td>\n      <td>6</td>\n      <td>0</td>\n      <td>0</td>\n      <td>0</td>\n      <td>...</td>\n      <td>0</td>\n      <td>0</td>\n      <td>0</td>\n      <td>0</td>\n      <td>0</td>\n      <td>0</td>\n      <td>0</td>\n      <td>0</td>\n      <td>0</td>\n      <td>0</td>\n    </tr>\n  </tbody>\n</table>\n<p>21626 rows × 3000 columns</p>\n</div>"
     },
     "execution_count": 17,
     "metadata": {},
     "output_type": "execute_result"
    }
   ],
   "source": [
    "X #this is all the data, needs to be split for testing and training"
   ],
   "metadata": {
    "collapsed": false
   }
  },
  {
   "cell_type": "code",
   "execution_count": 21,
   "outputs": [
    {
     "data": {
      "text/plain": "\"AAAAACCTATCG_Normoxia\"    1\n\"AAAACAACCCTA_Normoxia\"    1\n\"AAAACACTCTCA_Normoxia\"    1\n\"AAAACCAGGCAC_Normoxia\"    1\n\"AAAACCTAGCTC_Normoxia\"    1\n                          ..\n\"TTTTCGCGTAGA_Hypoxia\"    -1\n\"TTTTCGTCCGCT_Hypoxia\"    -1\n\"TTTTCTCCGGCT_Hypoxia\"    -1\n\"TTTTGTTCAAAG_Hypoxia\"    -1\n\"TTTTTTGTATGT_Hypoxia\"    -1\nName: oxia, Length: 21626, dtype: int64"
     },
     "execution_count": 21,
     "metadata": {},
     "output_type": "execute_result"
    }
   ],
   "source": [
    "y #this is the target data, were trying to predict this"
   ],
   "metadata": {
    "collapsed": false
   }
  },
  {
   "cell_type": "code",
   "execution_count": 22,
   "outputs": [],
   "source": [
    "import sklearn\n",
    "from sklearn.model_selection import train_test_split\n",
    "#split the data into training and testing data\n",
    "X_train, X_test, y_train, y_test = train_test_split(X, y, test_size=0.2, random_state=42)\n",
    "#lets see how they split"
   ],
   "metadata": {
    "collapsed": false
   }
  },
  {
   "cell_type": "code",
   "execution_count": 23,
   "outputs": [
    {
     "data": {
      "text/plain": "                         \"MALAT1\"  \"MT-RNR2\"  \"NEAT1\"  \"H1-5\"  \"TFF1\"  \\\n\"CACCGACCTTCG_Normoxia\"         2          2        0       0       0   \n\"GCGTGGCTCCGA_Hypoxia\"          0          0        0       0       4   \n\"AGCATCGGCAAT_Hypoxia\"          1          0        0       1       8   \n\"GAACTGTCCCCT_Hypoxia\"          6          0        0       1       2   \n\"CTAGTGCTGATT_Hypoxia\"          2          0        1       0       0   \n...                           ...        ...      ...     ...     ...   \n\"TGTCTGGCAATG_Normoxia\"         1          0        0       0       0   \n\"TTTCCTTCCGTG_Hypoxia\"         11          0        0       0      13   \n\"CGGTCTTGCAGG_Normoxia\"         0          0        0       2       0   \n\"ACGAGAAAGACA_Normoxia\"         1          2        0       0       0   \n\"CCTACCGAACTA_Hypoxia\"          0          0        0       0       9   \n\n                         \"MT-RNR1\"  \"H4C3\"  \"GDF15\"  \"KRT81\"  \"MT-CO3\"  ...  \\\n\"CACCGACCTTCG_Normoxia\"          0       3        0        0         0  ...   \n\"GCGTGGCTCCGA_Hypoxia\"           0       1        0        0         0  ...   \n\"AGCATCGGCAAT_Hypoxia\"           0       4        0        0         0  ...   \n\"GAACTGTCCCCT_Hypoxia\"           0       0        1        0         0  ...   \n\"CTAGTGCTGATT_Hypoxia\"           0       0        0        0         0  ...   \n...                            ...     ...      ...      ...       ...  ...   \n\"TGTCTGGCAATG_Normoxia\"          0       0        0        0         0  ...   \n\"TTTCCTTCCGTG_Hypoxia\"           0       0        0        4         0  ...   \n\"CGGTCTTGCAGG_Normoxia\"          0       0        0        0         0  ...   \n\"ACGAGAAAGACA_Normoxia\"          2       4        0        0         0  ...   \n\"CCTACCGAACTA_Hypoxia\"           0       3        0        0         0  ...   \n\n                         \"MROH1\"  \"SKIDA1\"  \"MICALL1\"  \"RARG\"  \"MYO1F\"  \\\n\"CACCGACCTTCG_Normoxia\"        0         0          0       0        0   \n\"GCGTGGCTCCGA_Hypoxia\"         0         0          0       0        0   \n\"AGCATCGGCAAT_Hypoxia\"         0         0          0       0        0   \n\"GAACTGTCCCCT_Hypoxia\"         0         0          0       0        0   \n\"CTAGTGCTGATT_Hypoxia\"         0         0          0       0        0   \n...                          ...       ...        ...     ...      ...   \n\"TGTCTGGCAATG_Normoxia\"        0         0          0       0        0   \n\"TTTCCTTCCGTG_Hypoxia\"         0         0          0       0        0   \n\"CGGTCTTGCAGG_Normoxia\"        0         0          0       0        0   \n\"ACGAGAAAGACA_Normoxia\"        0         0          0       0        0   \n\"CCTACCGAACTA_Hypoxia\"         0         0          0       0        0   \n\n                         \"BRWD1-AS2\"  \"RPS19BP1\"  \"AUNIP\"  \"TNK2\"  \"SUDS3\"  \n\"CACCGACCTTCG_Normoxia\"            0           0        0       0        0  \n\"GCGTGGCTCCGA_Hypoxia\"             0           0        0       0        0  \n\"AGCATCGGCAAT_Hypoxia\"             0           0        0       0        0  \n\"GAACTGTCCCCT_Hypoxia\"             0           0        0       0        0  \n\"CTAGTGCTGATT_Hypoxia\"             0           0        0       0        0  \n...                              ...         ...      ...     ...      ...  \n\"TGTCTGGCAATG_Normoxia\"            0           0        0       0        0  \n\"TTTCCTTCCGTG_Hypoxia\"             0           0        0       0        0  \n\"CGGTCTTGCAGG_Normoxia\"            0           0        0       0        2  \n\"ACGAGAAAGACA_Normoxia\"            0           0        0       0        0  \n\"CCTACCGAACTA_Hypoxia\"             0           0        0       0        0  \n\n[17300 rows x 3000 columns]",
      "text/html": "<div>\n<style scoped>\n    .dataframe tbody tr th:only-of-type {\n        vertical-align: middle;\n    }\n\n    .dataframe tbody tr th {\n        vertical-align: top;\n    }\n\n    .dataframe thead th {\n        text-align: right;\n    }\n</style>\n<table border=\"1\" class=\"dataframe\">\n  <thead>\n    <tr style=\"text-align: right;\">\n      <th></th>\n      <th>\"MALAT1\"</th>\n      <th>\"MT-RNR2\"</th>\n      <th>\"NEAT1\"</th>\n      <th>\"H1-5\"</th>\n      <th>\"TFF1\"</th>\n      <th>\"MT-RNR1\"</th>\n      <th>\"H4C3\"</th>\n      <th>\"GDF15\"</th>\n      <th>\"KRT81\"</th>\n      <th>\"MT-CO3\"</th>\n      <th>...</th>\n      <th>\"MROH1\"</th>\n      <th>\"SKIDA1\"</th>\n      <th>\"MICALL1\"</th>\n      <th>\"RARG\"</th>\n      <th>\"MYO1F\"</th>\n      <th>\"BRWD1-AS2\"</th>\n      <th>\"RPS19BP1\"</th>\n      <th>\"AUNIP\"</th>\n      <th>\"TNK2\"</th>\n      <th>\"SUDS3\"</th>\n    </tr>\n  </thead>\n  <tbody>\n    <tr>\n      <th>\"CACCGACCTTCG_Normoxia\"</th>\n      <td>2</td>\n      <td>2</td>\n      <td>0</td>\n      <td>0</td>\n      <td>0</td>\n      <td>0</td>\n      <td>3</td>\n      <td>0</td>\n      <td>0</td>\n      <td>0</td>\n      <td>...</td>\n      <td>0</td>\n      <td>0</td>\n      <td>0</td>\n      <td>0</td>\n      <td>0</td>\n      <td>0</td>\n      <td>0</td>\n      <td>0</td>\n      <td>0</td>\n      <td>0</td>\n    </tr>\n    <tr>\n      <th>\"GCGTGGCTCCGA_Hypoxia\"</th>\n      <td>0</td>\n      <td>0</td>\n      <td>0</td>\n      <td>0</td>\n      <td>4</td>\n      <td>0</td>\n      <td>1</td>\n      <td>0</td>\n      <td>0</td>\n      <td>0</td>\n      <td>...</td>\n      <td>0</td>\n      <td>0</td>\n      <td>0</td>\n      <td>0</td>\n      <td>0</td>\n      <td>0</td>\n      <td>0</td>\n      <td>0</td>\n      <td>0</td>\n      <td>0</td>\n    </tr>\n    <tr>\n      <th>\"AGCATCGGCAAT_Hypoxia\"</th>\n      <td>1</td>\n      <td>0</td>\n      <td>0</td>\n      <td>1</td>\n      <td>8</td>\n      <td>0</td>\n      <td>4</td>\n      <td>0</td>\n      <td>0</td>\n      <td>0</td>\n      <td>...</td>\n      <td>0</td>\n      <td>0</td>\n      <td>0</td>\n      <td>0</td>\n      <td>0</td>\n      <td>0</td>\n      <td>0</td>\n      <td>0</td>\n      <td>0</td>\n      <td>0</td>\n    </tr>\n    <tr>\n      <th>\"GAACTGTCCCCT_Hypoxia\"</th>\n      <td>6</td>\n      <td>0</td>\n      <td>0</td>\n      <td>1</td>\n      <td>2</td>\n      <td>0</td>\n      <td>0</td>\n      <td>1</td>\n      <td>0</td>\n      <td>0</td>\n      <td>...</td>\n      <td>0</td>\n      <td>0</td>\n      <td>0</td>\n      <td>0</td>\n      <td>0</td>\n      <td>0</td>\n      <td>0</td>\n      <td>0</td>\n      <td>0</td>\n      <td>0</td>\n    </tr>\n    <tr>\n      <th>\"CTAGTGCTGATT_Hypoxia\"</th>\n      <td>2</td>\n      <td>0</td>\n      <td>1</td>\n      <td>0</td>\n      <td>0</td>\n      <td>0</td>\n      <td>0</td>\n      <td>0</td>\n      <td>0</td>\n      <td>0</td>\n      <td>...</td>\n      <td>0</td>\n      <td>0</td>\n      <td>0</td>\n      <td>0</td>\n      <td>0</td>\n      <td>0</td>\n      <td>0</td>\n      <td>0</td>\n      <td>0</td>\n      <td>0</td>\n    </tr>\n    <tr>\n      <th>...</th>\n      <td>...</td>\n      <td>...</td>\n      <td>...</td>\n      <td>...</td>\n      <td>...</td>\n      <td>...</td>\n      <td>...</td>\n      <td>...</td>\n      <td>...</td>\n      <td>...</td>\n      <td>...</td>\n      <td>...</td>\n      <td>...</td>\n      <td>...</td>\n      <td>...</td>\n      <td>...</td>\n      <td>...</td>\n      <td>...</td>\n      <td>...</td>\n      <td>...</td>\n      <td>...</td>\n    </tr>\n    <tr>\n      <th>\"TGTCTGGCAATG_Normoxia\"</th>\n      <td>1</td>\n      <td>0</td>\n      <td>0</td>\n      <td>0</td>\n      <td>0</td>\n      <td>0</td>\n      <td>0</td>\n      <td>0</td>\n      <td>0</td>\n      <td>0</td>\n      <td>...</td>\n      <td>0</td>\n      <td>0</td>\n      <td>0</td>\n      <td>0</td>\n      <td>0</td>\n      <td>0</td>\n      <td>0</td>\n      <td>0</td>\n      <td>0</td>\n      <td>0</td>\n    </tr>\n    <tr>\n      <th>\"TTTCCTTCCGTG_Hypoxia\"</th>\n      <td>11</td>\n      <td>0</td>\n      <td>0</td>\n      <td>0</td>\n      <td>13</td>\n      <td>0</td>\n      <td>0</td>\n      <td>0</td>\n      <td>4</td>\n      <td>0</td>\n      <td>...</td>\n      <td>0</td>\n      <td>0</td>\n      <td>0</td>\n      <td>0</td>\n      <td>0</td>\n      <td>0</td>\n      <td>0</td>\n      <td>0</td>\n      <td>0</td>\n      <td>0</td>\n    </tr>\n    <tr>\n      <th>\"CGGTCTTGCAGG_Normoxia\"</th>\n      <td>0</td>\n      <td>0</td>\n      <td>0</td>\n      <td>2</td>\n      <td>0</td>\n      <td>0</td>\n      <td>0</td>\n      <td>0</td>\n      <td>0</td>\n      <td>0</td>\n      <td>...</td>\n      <td>0</td>\n      <td>0</td>\n      <td>0</td>\n      <td>0</td>\n      <td>0</td>\n      <td>0</td>\n      <td>0</td>\n      <td>0</td>\n      <td>0</td>\n      <td>2</td>\n    </tr>\n    <tr>\n      <th>\"ACGAGAAAGACA_Normoxia\"</th>\n      <td>1</td>\n      <td>2</td>\n      <td>0</td>\n      <td>0</td>\n      <td>0</td>\n      <td>2</td>\n      <td>4</td>\n      <td>0</td>\n      <td>0</td>\n      <td>0</td>\n      <td>...</td>\n      <td>0</td>\n      <td>0</td>\n      <td>0</td>\n      <td>0</td>\n      <td>0</td>\n      <td>0</td>\n      <td>0</td>\n      <td>0</td>\n      <td>0</td>\n      <td>0</td>\n    </tr>\n    <tr>\n      <th>\"CCTACCGAACTA_Hypoxia\"</th>\n      <td>0</td>\n      <td>0</td>\n      <td>0</td>\n      <td>0</td>\n      <td>9</td>\n      <td>0</td>\n      <td>3</td>\n      <td>0</td>\n      <td>0</td>\n      <td>0</td>\n      <td>...</td>\n      <td>0</td>\n      <td>0</td>\n      <td>0</td>\n      <td>0</td>\n      <td>0</td>\n      <td>0</td>\n      <td>0</td>\n      <td>0</td>\n      <td>0</td>\n      <td>0</td>\n    </tr>\n  </tbody>\n</table>\n<p>17300 rows × 3000 columns</p>\n</div>"
     },
     "execution_count": 23,
     "metadata": {},
     "output_type": "execute_result"
    }
   ],
   "source": [
    "X_train"
   ],
   "metadata": {
    "collapsed": false
   }
  },
  {
   "cell_type": "code",
   "execution_count": 24,
   "outputs": [
    {
     "data": {
      "text/plain": "                         \"MALAT1\"  \"MT-RNR2\"  \"NEAT1\"  \"H1-5\"  \"TFF1\"  \\\n\"ACGACCACTCCC_Normoxia\"         3          1        0       0       0   \n\"ACGCTTTTTAAC_Normoxia\"         2          0        1       3       2   \n\"ACACGTAGTCTC_Hypoxia\"          0          1        0       0       4   \n\"GTAGCCACTCTC_Normoxia\"         2          0        0       0       0   \n\"AGCCTTCGATAA_Hypoxia\"          0          0        0       3       8   \n...                           ...        ...      ...     ...     ...   \n\"GGTTCAAGAGGG_Normoxia\"         2          0        0       0       1   \n\"ATCTCGCAGAGG_Hypoxia\"          0          0        0       0       5   \n\"GGCTTTGTATGC_Normoxia\"         1          0        0       0       1   \n\"GGCCTATCCGCT_Normoxia\"         5          2        0       0       3   \n\"GCAGCAGCCACA_Hypoxia\"          0          0        0       0       0   \n\n                         \"MT-RNR1\"  \"H4C3\"  \"GDF15\"  \"KRT81\"  \"MT-CO3\"  ...  \\\n\"ACGACCACTCCC_Normoxia\"          0       0        0        0         1  ...   \n\"ACGCTTTTTAAC_Normoxia\"          0       3        0        0         0  ...   \n\"ACACGTAGTCTC_Hypoxia\"           0       3        0        0         0  ...   \n\"GTAGCCACTCTC_Normoxia\"          0       1        0        0         0  ...   \n\"AGCCTTCGATAA_Hypoxia\"           0      13        0        0         0  ...   \n...                            ...     ...      ...      ...       ...  ...   \n\"GGTTCAAGAGGG_Normoxia\"          0       0        0        0         0  ...   \n\"ATCTCGCAGAGG_Hypoxia\"           0       2        0        0         0  ...   \n\"GGCTTTGTATGC_Normoxia\"          0       1        0        1         0  ...   \n\"GGCCTATCCGCT_Normoxia\"          0       2        0        0         0  ...   \n\"GCAGCAGCCACA_Hypoxia\"           0       2        0        0         0  ...   \n\n                         \"MROH1\"  \"SKIDA1\"  \"MICALL1\"  \"RARG\"  \"MYO1F\"  \\\n\"ACGACCACTCCC_Normoxia\"        0         0          0       0        0   \n\"ACGCTTTTTAAC_Normoxia\"        0         0          0       0        0   \n\"ACACGTAGTCTC_Hypoxia\"         0         0          0       0        0   \n\"GTAGCCACTCTC_Normoxia\"        0         0          0       0        0   \n\"AGCCTTCGATAA_Hypoxia\"         0         0          0       0        0   \n...                          ...       ...        ...     ...      ...   \n\"GGTTCAAGAGGG_Normoxia\"        0         0          0       0        0   \n\"ATCTCGCAGAGG_Hypoxia\"         0         0          0       0        0   \n\"GGCTTTGTATGC_Normoxia\"        0         0          0       0        0   \n\"GGCCTATCCGCT_Normoxia\"        0         0          0       0        0   \n\"GCAGCAGCCACA_Hypoxia\"         0         0          0       0        0   \n\n                         \"BRWD1-AS2\"  \"RPS19BP1\"  \"AUNIP\"  \"TNK2\"  \"SUDS3\"  \n\"ACGACCACTCCC_Normoxia\"            0           0        0       0        0  \n\"ACGCTTTTTAAC_Normoxia\"            0           0        0       0        0  \n\"ACACGTAGTCTC_Hypoxia\"             0           0        0       0        0  \n\"GTAGCCACTCTC_Normoxia\"            0           0        0       0        0  \n\"AGCCTTCGATAA_Hypoxia\"             0           0        0       0        0  \n...                              ...         ...      ...     ...      ...  \n\"GGTTCAAGAGGG_Normoxia\"            0           0        0       0        0  \n\"ATCTCGCAGAGG_Hypoxia\"             0           0        0       0        0  \n\"GGCTTTGTATGC_Normoxia\"            0           0        0       0        0  \n\"GGCCTATCCGCT_Normoxia\"            0           0        0       0        0  \n\"GCAGCAGCCACA_Hypoxia\"             0           0        0       0        0  \n\n[4326 rows x 3000 columns]",
      "text/html": "<div>\n<style scoped>\n    .dataframe tbody tr th:only-of-type {\n        vertical-align: middle;\n    }\n\n    .dataframe tbody tr th {\n        vertical-align: top;\n    }\n\n    .dataframe thead th {\n        text-align: right;\n    }\n</style>\n<table border=\"1\" class=\"dataframe\">\n  <thead>\n    <tr style=\"text-align: right;\">\n      <th></th>\n      <th>\"MALAT1\"</th>\n      <th>\"MT-RNR2\"</th>\n      <th>\"NEAT1\"</th>\n      <th>\"H1-5\"</th>\n      <th>\"TFF1\"</th>\n      <th>\"MT-RNR1\"</th>\n      <th>\"H4C3\"</th>\n      <th>\"GDF15\"</th>\n      <th>\"KRT81\"</th>\n      <th>\"MT-CO3\"</th>\n      <th>...</th>\n      <th>\"MROH1\"</th>\n      <th>\"SKIDA1\"</th>\n      <th>\"MICALL1\"</th>\n      <th>\"RARG\"</th>\n      <th>\"MYO1F\"</th>\n      <th>\"BRWD1-AS2\"</th>\n      <th>\"RPS19BP1\"</th>\n      <th>\"AUNIP\"</th>\n      <th>\"TNK2\"</th>\n      <th>\"SUDS3\"</th>\n    </tr>\n  </thead>\n  <tbody>\n    <tr>\n      <th>\"ACGACCACTCCC_Normoxia\"</th>\n      <td>3</td>\n      <td>1</td>\n      <td>0</td>\n      <td>0</td>\n      <td>0</td>\n      <td>0</td>\n      <td>0</td>\n      <td>0</td>\n      <td>0</td>\n      <td>1</td>\n      <td>...</td>\n      <td>0</td>\n      <td>0</td>\n      <td>0</td>\n      <td>0</td>\n      <td>0</td>\n      <td>0</td>\n      <td>0</td>\n      <td>0</td>\n      <td>0</td>\n      <td>0</td>\n    </tr>\n    <tr>\n      <th>\"ACGCTTTTTAAC_Normoxia\"</th>\n      <td>2</td>\n      <td>0</td>\n      <td>1</td>\n      <td>3</td>\n      <td>2</td>\n      <td>0</td>\n      <td>3</td>\n      <td>0</td>\n      <td>0</td>\n      <td>0</td>\n      <td>...</td>\n      <td>0</td>\n      <td>0</td>\n      <td>0</td>\n      <td>0</td>\n      <td>0</td>\n      <td>0</td>\n      <td>0</td>\n      <td>0</td>\n      <td>0</td>\n      <td>0</td>\n    </tr>\n    <tr>\n      <th>\"ACACGTAGTCTC_Hypoxia\"</th>\n      <td>0</td>\n      <td>1</td>\n      <td>0</td>\n      <td>0</td>\n      <td>4</td>\n      <td>0</td>\n      <td>3</td>\n      <td>0</td>\n      <td>0</td>\n      <td>0</td>\n      <td>...</td>\n      <td>0</td>\n      <td>0</td>\n      <td>0</td>\n      <td>0</td>\n      <td>0</td>\n      <td>0</td>\n      <td>0</td>\n      <td>0</td>\n      <td>0</td>\n      <td>0</td>\n    </tr>\n    <tr>\n      <th>\"GTAGCCACTCTC_Normoxia\"</th>\n      <td>2</td>\n      <td>0</td>\n      <td>0</td>\n      <td>0</td>\n      <td>0</td>\n      <td>0</td>\n      <td>1</td>\n      <td>0</td>\n      <td>0</td>\n      <td>0</td>\n      <td>...</td>\n      <td>0</td>\n      <td>0</td>\n      <td>0</td>\n      <td>0</td>\n      <td>0</td>\n      <td>0</td>\n      <td>0</td>\n      <td>0</td>\n      <td>0</td>\n      <td>0</td>\n    </tr>\n    <tr>\n      <th>\"AGCCTTCGATAA_Hypoxia\"</th>\n      <td>0</td>\n      <td>0</td>\n      <td>0</td>\n      <td>3</td>\n      <td>8</td>\n      <td>0</td>\n      <td>13</td>\n      <td>0</td>\n      <td>0</td>\n      <td>0</td>\n      <td>...</td>\n      <td>0</td>\n      <td>0</td>\n      <td>0</td>\n      <td>0</td>\n      <td>0</td>\n      <td>0</td>\n      <td>0</td>\n      <td>0</td>\n      <td>0</td>\n      <td>0</td>\n    </tr>\n    <tr>\n      <th>...</th>\n      <td>...</td>\n      <td>...</td>\n      <td>...</td>\n      <td>...</td>\n      <td>...</td>\n      <td>...</td>\n      <td>...</td>\n      <td>...</td>\n      <td>...</td>\n      <td>...</td>\n      <td>...</td>\n      <td>...</td>\n      <td>...</td>\n      <td>...</td>\n      <td>...</td>\n      <td>...</td>\n      <td>...</td>\n      <td>...</td>\n      <td>...</td>\n      <td>...</td>\n      <td>...</td>\n    </tr>\n    <tr>\n      <th>\"GGTTCAAGAGGG_Normoxia\"</th>\n      <td>2</td>\n      <td>0</td>\n      <td>0</td>\n      <td>0</td>\n      <td>1</td>\n      <td>0</td>\n      <td>0</td>\n      <td>0</td>\n      <td>0</td>\n      <td>0</td>\n      <td>...</td>\n      <td>0</td>\n      <td>0</td>\n      <td>0</td>\n      <td>0</td>\n      <td>0</td>\n      <td>0</td>\n      <td>0</td>\n      <td>0</td>\n      <td>0</td>\n      <td>0</td>\n    </tr>\n    <tr>\n      <th>\"ATCTCGCAGAGG_Hypoxia\"</th>\n      <td>0</td>\n      <td>0</td>\n      <td>0</td>\n      <td>0</td>\n      <td>5</td>\n      <td>0</td>\n      <td>2</td>\n      <td>0</td>\n      <td>0</td>\n      <td>0</td>\n      <td>...</td>\n      <td>0</td>\n      <td>0</td>\n      <td>0</td>\n      <td>0</td>\n      <td>0</td>\n      <td>0</td>\n      <td>0</td>\n      <td>0</td>\n      <td>0</td>\n      <td>0</td>\n    </tr>\n    <tr>\n      <th>\"GGCTTTGTATGC_Normoxia\"</th>\n      <td>1</td>\n      <td>0</td>\n      <td>0</td>\n      <td>0</td>\n      <td>1</td>\n      <td>0</td>\n      <td>1</td>\n      <td>0</td>\n      <td>1</td>\n      <td>0</td>\n      <td>...</td>\n      <td>0</td>\n      <td>0</td>\n      <td>0</td>\n      <td>0</td>\n      <td>0</td>\n      <td>0</td>\n      <td>0</td>\n      <td>0</td>\n      <td>0</td>\n      <td>0</td>\n    </tr>\n    <tr>\n      <th>\"GGCCTATCCGCT_Normoxia\"</th>\n      <td>5</td>\n      <td>2</td>\n      <td>0</td>\n      <td>0</td>\n      <td>3</td>\n      <td>0</td>\n      <td>2</td>\n      <td>0</td>\n      <td>0</td>\n      <td>0</td>\n      <td>...</td>\n      <td>0</td>\n      <td>0</td>\n      <td>0</td>\n      <td>0</td>\n      <td>0</td>\n      <td>0</td>\n      <td>0</td>\n      <td>0</td>\n      <td>0</td>\n      <td>0</td>\n    </tr>\n    <tr>\n      <th>\"GCAGCAGCCACA_Hypoxia\"</th>\n      <td>0</td>\n      <td>0</td>\n      <td>0</td>\n      <td>0</td>\n      <td>0</td>\n      <td>0</td>\n      <td>2</td>\n      <td>0</td>\n      <td>0</td>\n      <td>0</td>\n      <td>...</td>\n      <td>0</td>\n      <td>0</td>\n      <td>0</td>\n      <td>0</td>\n      <td>0</td>\n      <td>0</td>\n      <td>0</td>\n      <td>0</td>\n      <td>0</td>\n      <td>0</td>\n    </tr>\n  </tbody>\n</table>\n<p>4326 rows × 3000 columns</p>\n</div>"
     },
     "execution_count": 24,
     "metadata": {},
     "output_type": "execute_result"
    }
   ],
   "source": [
    "X_test"
   ],
   "metadata": {
    "collapsed": false
   }
  },
  {
   "cell_type": "code",
   "execution_count": 25,
   "outputs": [
    {
     "data": {
      "text/plain": "\"CACCGACCTTCG_Normoxia\"    1\n\"GCGTGGCTCCGA_Hypoxia\"    -1\n\"AGCATCGGCAAT_Hypoxia\"    -1\n\"GAACTGTCCCCT_Hypoxia\"    -1\n\"CTAGTGCTGATT_Hypoxia\"    -1\n                          ..\n\"TGTCTGGCAATG_Normoxia\"    1\n\"TTTCCTTCCGTG_Hypoxia\"    -1\n\"CGGTCTTGCAGG_Normoxia\"    1\n\"ACGAGAAAGACA_Normoxia\"    1\n\"CCTACCGAACTA_Hypoxia\"    -1\nName: oxia, Length: 17300, dtype: int64"
     },
     "execution_count": 25,
     "metadata": {},
     "output_type": "execute_result"
    }
   ],
   "source": [
    "y_train"
   ],
   "metadata": {
    "collapsed": false
   }
  },
  {
   "cell_type": "code",
   "execution_count": 26,
   "outputs": [
    {
     "data": {
      "text/plain": "\"ACGACCACTCCC_Normoxia\"    1\n\"ACGCTTTTTAAC_Normoxia\"    1\n\"ACACGTAGTCTC_Hypoxia\"    -1\n\"GTAGCCACTCTC_Normoxia\"    1\n\"AGCCTTCGATAA_Hypoxia\"    -1\n                          ..\n\"GGTTCAAGAGGG_Normoxia\"    1\n\"ATCTCGCAGAGG_Hypoxia\"    -1\n\"GGCTTTGTATGC_Normoxia\"    1\n\"GGCCTATCCGCT_Normoxia\"    1\n\"GCAGCAGCCACA_Hypoxia\"    -1\nName: oxia, Length: 4326, dtype: int64"
     },
     "execution_count": 26,
     "metadata": {},
     "output_type": "execute_result"
    }
   ],
   "source": [
    "y_test"
   ],
   "metadata": {
    "collapsed": false
   }
  },
  {
   "cell_type": "code",
   "execution_count": 27,
   "outputs": [
    {
     "name": "stdout",
     "output_type": "stream",
     "text": [
      "X_train shape:  (17300, 3000) X_test shape:  (4326, 3000) y_train shape:  (17300,) y_test shape:  (4326,)\n"
     ]
    }
   ],
   "source": [
    "#and their shapes:\n",
    "print(\"X_train shape: \", X_train.shape, \"X_test shape: \", X_test.shape, \"y_train shape: \", y_train.shape, \"y_test shape: \", y_test.shape)"
   ],
   "metadata": {
    "collapsed": false
   }
  },
  {
   "cell_type": "code",
   "execution_count": 28,
   "outputs": [
    {
     "name": "stdout",
     "output_type": "stream",
     "text": [
      "Mean Squared Error: 0.24728370612180534\n",
      "R^2 Score: 0.7438691949867691\n"
     ]
    }
   ],
   "source": [
    "#now to train the model\n",
    "#lets start with simple linear regression and see how it goes\n",
    "from sklearn.linear_model import LinearRegression\n",
    "from sklearn.metrics import mean_squared_error, r2_score\n",
    "\n",
    "# Step 1: Initialize the Linear Regression model\n",
    "model = LinearRegression()\n",
    "\n",
    "# Step 2: Fit the model on the training data\n",
    "model.fit(X_train, y_train)\n",
    "\n",
    "# Step 3: Predict the target variable for the testing data\n",
    "y_pred = model.predict(X_test)\n",
    "\n",
    "# Step 4: Evaluate the model's performance\n",
    "mse = mean_squared_error(y_test, y_pred)\n",
    "r2 = r2_score(y_test, y_pred)\n",
    "\n",
    "print(f\"Mean Squared Error: {mse}\")\n",
    "print(f\"R^2 Score: {r2}\")"
   ],
   "metadata": {
    "collapsed": false
   }
  },
  {
   "cell_type": "code",
   "execution_count": null,
   "outputs": [],
   "source": [
    "#now to try a different model, something more advanced ... Perceptron?"
   ],
   "metadata": {
    "collapsed": false
   }
  }
 ],
 "metadata": {
  "kernelspec": {
   "display_name": "Python 3",
   "language": "python",
   "name": "python3"
  },
  "language_info": {
   "codemirror_mode": {
    "name": "ipython",
    "version": 2
   },
   "file_extension": ".py",
   "mimetype": "text/x-python",
   "name": "python",
   "nbconvert_exporter": "python",
   "pygments_lexer": "ipython2",
   "version": "2.7.6"
  }
 },
 "nbformat": 4,
 "nbformat_minor": 0
}
