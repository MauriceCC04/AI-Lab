{
 "cells": [
  {
   "cell_type": "markdown",
   "source": [
    "The best parameters for the models were as follows:\n",
    "MCF/DropSeq: 'Neural Network': {'hidden_layer_sizes': (50, 50), 'learning_rate_init': 0.1}\n",
    "HCC/DropSeq: Ensemble: of Logistic Regression, SVM, and Random Forest with their best parameters:\n",
    "'Logistic Regression': {'C': 0.1, 'penalty': 'l2'}, 'Random Forest': {'max_depth': 100, 'n_estimators': 200}, 'SVM': {'C': 10, 'kernel': 'rbf'}\n",
    "MCF/SmartSeq: 'Random Forest': {'max_depth': 10, 'n_estimators': 50}\n",
    "HCC/SmartSeq: 'Random Forest': {'max_depth': 10, 'n_estimators': 50}"
   ],
   "metadata": {
    "collapsed": false
   }
  },
  {
   "cell_type": "markdown",
   "source": [
    "models = {'Logistic Regression': LogisticRegression(solver='liblinear', random_state=42),\n",
    "          'KNN': KNeighborsClassifier(),\n",
    "          'Random Forest': RandomForestClassifier(random_state=42),\n",
    "          'SVM': SVC(probability=True, random_state=42),\n",
    "          'Neural Network': MLPClassifier(random_state=42, batch_size='auto', max_iter=1000000, solver='sgd')\n",
    "          }\n"
   ],
   "metadata": {
    "collapsed": false
   }
  },
  {
   "cell_type": "code",
   "execution_count": 18,
   "outputs": [],
   "source": [
    "import pandas as pd\n",
    "import numpy as np\n",
    "import sklearn\n",
    "from sklearn.model_selection import train_test_split\n",
    "from sklearn.linear_model import LinearRegression\n",
    "from sklearn.metrics import mean_squared_error, r2_score\n",
    "from sklearn.linear_model import LogisticRegression\n",
    "from sklearn.model_selection import train_test_split, cross_val_score, GridSearchCV\n",
    "from sklearn.metrics import accuracy_score, confusion_matrix\n",
    "from sklearn.neighbors import KNeighborsClassifier\n",
    "from  sklearn.ensemble import RandomForestClassifier\n",
    "from sklearn.neural_network import MLPClassifier\n",
    "from sklearn.ensemble import VotingClassifier\n",
    "from sklearn.svm import SVC\n",
    "from sklearn.metrics import classification_report\n",
    "import matplotlib.pyplot as plt"
   ],
   "metadata": {
    "collapsed": false
   }
  },
  {
   "cell_type": "code",
   "execution_count": 19,
   "metadata": {
    "collapsed": true
   },
   "outputs": [],
   "source": [
    "#laptop\n",
    "MCF_DS = pd.read_csv(\"C:\\\\Users\\\\camer\\\\Desktop\\\\class stuff\\\\Semester 4\\\\ai lab\\\\DropSeq\\\\MCF7_Filtered_Normalised_3000_Data_train.txt\", delimiter=\"\\ \", engine='python', index_col=0)"
   ]
  },
  {
   "cell_type": "code",
   "execution_count": 20,
   "outputs": [
    {
     "data": {
      "text/plain": "             \"AAAAACCTATCG_Normoxia\"  \"AAAACAACCCTA_Normoxia\"  \\\n\"MALAT1\"                           1                        3   \n\"MT-RNR2\"                          0                        0   \n\"NEAT1\"                            0                        0   \n\"H1-5\"                             0                        0   \n\"TFF1\"                             4                        1   \n...                              ...                      ...   \n\"BRWD1-AS2\"                        0                        0   \n\"RPS19BP1\"                         0                        0   \n\"AUNIP\"                            0                        0   \n\"TNK2\"                             0                        0   \n\"SUDS3\"                            0                        0   \n\n             \"AAAACACTCTCA_Normoxia\"  \"AAAACCAGGCAC_Normoxia\"  \\\n\"MALAT1\"                           3                        6   \n\"MT-RNR2\"                          0                        2   \n\"NEAT1\"                            0                        0   \n\"H1-5\"                             0                        0   \n\"TFF1\"                             1                        1   \n...                              ...                      ...   \n\"BRWD1-AS2\"                        0                        0   \n\"RPS19BP1\"                         0                        0   \n\"AUNIP\"                            0                        0   \n\"TNK2\"                             0                        0   \n\"SUDS3\"                            0                        0   \n\n             \"AAAACCTAGCTC_Normoxia\"  \"AAAACCTCCGGG_Normoxia\"  \\\n\"MALAT1\"                           4                        5   \n\"MT-RNR2\"                          0                        0   \n\"NEAT1\"                            0                        2   \n\"H1-5\"                             0                        2   \n\"TFF1\"                             0                        0   \n...                              ...                      ...   \n\"BRWD1-AS2\"                        0                        0   \n\"RPS19BP1\"                         0                        0   \n\"AUNIP\"                            0                        0   \n\"TNK2\"                             0                        0   \n\"SUDS3\"                            0                        0   \n\n             \"AAAACTCGTTGC_Normoxia\"  \"AAAAGAGCTCTC_Normoxia\"  \\\n\"MALAT1\"                           1                       13   \n\"MT-RNR2\"                          2                        1   \n\"NEAT1\"                            0                        1   \n\"H1-5\"                             0                        0   \n\"TFF1\"                             0                        2   \n...                              ...                      ...   \n\"BRWD1-AS2\"                        0                        0   \n\"RPS19BP1\"                         0                        0   \n\"AUNIP\"                            0                        0   \n\"TNK2\"                             0                        0   \n\"SUDS3\"                            0                        0   \n\n             \"AAAAGCTAGGCG_Normoxia\"  \"AAAATCGCATTT_Normoxia\"  ...  \\\n\"MALAT1\"                           3                        3  ...   \n\"MT-RNR2\"                          7                        0  ...   \n\"NEAT1\"                            2                        0  ...   \n\"H1-5\"                             0                        0  ...   \n\"TFF1\"                             0                        1  ...   \n...                              ...                      ...  ...   \n\"BRWD1-AS2\"                        0                        0  ...   \n\"RPS19BP1\"                         0                        0  ...   \n\"AUNIP\"                            0                        0  ...   \n\"TNK2\"                             0                        0  ...   \n\"SUDS3\"                            0                        0  ...   \n\n             \"TTTTACAGGATC_Hypoxia\"  \"TTTTACCACGTA_Hypoxia\"  \\\n\"MALAT1\"                          0                       2   \n\"MT-RNR2\"                         0                       0   \n\"NEAT1\"                           0                       0   \n\"H1-5\"                            0                       1   \n\"TFF1\"                            2                       3   \n...                             ...                     ...   \n\"BRWD1-AS2\"                       0                       0   \n\"RPS19BP1\"                        0                       0   \n\"AUNIP\"                           0                       0   \n\"TNK2\"                            0                       0   \n\"SUDS3\"                           0                       0   \n\n             \"TTTTATGCTACG_Hypoxia\"  \"TTTTCCAGACGC_Hypoxia\"  \\\n\"MALAT1\"                          1                       0   \n\"MT-RNR2\"                         0                       0   \n\"NEAT1\"                           0                       0   \n\"H1-5\"                            0                       0   \n\"TFF1\"                            8                       0   \n...                             ...                     ...   \n\"BRWD1-AS2\"                       0                       0   \n\"RPS19BP1\"                        0                       0   \n\"AUNIP\"                           0                       0   \n\"TNK2\"                            0                       0   \n\"SUDS3\"                           0                       0   \n\n             \"TTTTCGCGCTCG_Hypoxia\"  \"TTTTCGCGTAGA_Hypoxia\"  \\\n\"MALAT1\"                          1                       0   \n\"MT-RNR2\"                         0                       0   \n\"NEAT1\"                           0                       0   \n\"H1-5\"                            1                       0   \n\"TFF1\"                            0                       3   \n...                             ...                     ...   \n\"BRWD1-AS2\"                       0                       0   \n\"RPS19BP1\"                        0                       0   \n\"AUNIP\"                           0                       0   \n\"TNK2\"                            0                       0   \n\"SUDS3\"                           0                       0   \n\n             \"TTTTCGTCCGCT_Hypoxia\"  \"TTTTCTCCGGCT_Hypoxia\"  \\\n\"MALAT1\"                          1                       0   \n\"MT-RNR2\"                         0                       0   \n\"NEAT1\"                           0                       0   \n\"H1-5\"                            0                       1   \n\"TFF1\"                            4                       2   \n...                             ...                     ...   \n\"BRWD1-AS2\"                       0                       0   \n\"RPS19BP1\"                        0                       0   \n\"AUNIP\"                           0                       0   \n\"TNK2\"                            0                       0   \n\"SUDS3\"                           0                       1   \n\n             \"TTTTGTTCAAAG_Hypoxia\"  \"TTTTTTGTATGT_Hypoxia\"  \n\"MALAT1\"                          0                       4  \n\"MT-RNR2\"                         0                       0  \n\"NEAT1\"                           0                       0  \n\"H1-5\"                            0                       0  \n\"TFF1\"                            6                       0  \n...                             ...                     ...  \n\"BRWD1-AS2\"                       0                       0  \n\"RPS19BP1\"                        0                       0  \n\"AUNIP\"                           0                       0  \n\"TNK2\"                            0                       0  \n\"SUDS3\"                           0                       0  \n\n[3000 rows x 21626 columns]",
      "text/html": "<div>\n<style scoped>\n    .dataframe tbody tr th:only-of-type {\n        vertical-align: middle;\n    }\n\n    .dataframe tbody tr th {\n        vertical-align: top;\n    }\n\n    .dataframe thead th {\n        text-align: right;\n    }\n</style>\n<table border=\"1\" class=\"dataframe\">\n  <thead>\n    <tr style=\"text-align: right;\">\n      <th></th>\n      <th>\"AAAAACCTATCG_Normoxia\"</th>\n      <th>\"AAAACAACCCTA_Normoxia\"</th>\n      <th>\"AAAACACTCTCA_Normoxia\"</th>\n      <th>\"AAAACCAGGCAC_Normoxia\"</th>\n      <th>\"AAAACCTAGCTC_Normoxia\"</th>\n      <th>\"AAAACCTCCGGG_Normoxia\"</th>\n      <th>\"AAAACTCGTTGC_Normoxia\"</th>\n      <th>\"AAAAGAGCTCTC_Normoxia\"</th>\n      <th>\"AAAAGCTAGGCG_Normoxia\"</th>\n      <th>\"AAAATCGCATTT_Normoxia\"</th>\n      <th>...</th>\n      <th>\"TTTTACAGGATC_Hypoxia\"</th>\n      <th>\"TTTTACCACGTA_Hypoxia\"</th>\n      <th>\"TTTTATGCTACG_Hypoxia\"</th>\n      <th>\"TTTTCCAGACGC_Hypoxia\"</th>\n      <th>\"TTTTCGCGCTCG_Hypoxia\"</th>\n      <th>\"TTTTCGCGTAGA_Hypoxia\"</th>\n      <th>\"TTTTCGTCCGCT_Hypoxia\"</th>\n      <th>\"TTTTCTCCGGCT_Hypoxia\"</th>\n      <th>\"TTTTGTTCAAAG_Hypoxia\"</th>\n      <th>\"TTTTTTGTATGT_Hypoxia\"</th>\n    </tr>\n  </thead>\n  <tbody>\n    <tr>\n      <th>\"MALAT1\"</th>\n      <td>1</td>\n      <td>3</td>\n      <td>3</td>\n      <td>6</td>\n      <td>4</td>\n      <td>5</td>\n      <td>1</td>\n      <td>13</td>\n      <td>3</td>\n      <td>3</td>\n      <td>...</td>\n      <td>0</td>\n      <td>2</td>\n      <td>1</td>\n      <td>0</td>\n      <td>1</td>\n      <td>0</td>\n      <td>1</td>\n      <td>0</td>\n      <td>0</td>\n      <td>4</td>\n    </tr>\n    <tr>\n      <th>\"MT-RNR2\"</th>\n      <td>0</td>\n      <td>0</td>\n      <td>0</td>\n      <td>2</td>\n      <td>0</td>\n      <td>0</td>\n      <td>2</td>\n      <td>1</td>\n      <td>7</td>\n      <td>0</td>\n      <td>...</td>\n      <td>0</td>\n      <td>0</td>\n      <td>0</td>\n      <td>0</td>\n      <td>0</td>\n      <td>0</td>\n      <td>0</td>\n      <td>0</td>\n      <td>0</td>\n      <td>0</td>\n    </tr>\n    <tr>\n      <th>\"NEAT1\"</th>\n      <td>0</td>\n      <td>0</td>\n      <td>0</td>\n      <td>0</td>\n      <td>0</td>\n      <td>2</td>\n      <td>0</td>\n      <td>1</td>\n      <td>2</td>\n      <td>0</td>\n      <td>...</td>\n      <td>0</td>\n      <td>0</td>\n      <td>0</td>\n      <td>0</td>\n      <td>0</td>\n      <td>0</td>\n      <td>0</td>\n      <td>0</td>\n      <td>0</td>\n      <td>0</td>\n    </tr>\n    <tr>\n      <th>\"H1-5\"</th>\n      <td>0</td>\n      <td>0</td>\n      <td>0</td>\n      <td>0</td>\n      <td>0</td>\n      <td>2</td>\n      <td>0</td>\n      <td>0</td>\n      <td>0</td>\n      <td>0</td>\n      <td>...</td>\n      <td>0</td>\n      <td>1</td>\n      <td>0</td>\n      <td>0</td>\n      <td>1</td>\n      <td>0</td>\n      <td>0</td>\n      <td>1</td>\n      <td>0</td>\n      <td>0</td>\n    </tr>\n    <tr>\n      <th>\"TFF1\"</th>\n      <td>4</td>\n      <td>1</td>\n      <td>1</td>\n      <td>1</td>\n      <td>0</td>\n      <td>0</td>\n      <td>0</td>\n      <td>2</td>\n      <td>0</td>\n      <td>1</td>\n      <td>...</td>\n      <td>2</td>\n      <td>3</td>\n      <td>8</td>\n      <td>0</td>\n      <td>0</td>\n      <td>3</td>\n      <td>4</td>\n      <td>2</td>\n      <td>6</td>\n      <td>0</td>\n    </tr>\n    <tr>\n      <th>...</th>\n      <td>...</td>\n      <td>...</td>\n      <td>...</td>\n      <td>...</td>\n      <td>...</td>\n      <td>...</td>\n      <td>...</td>\n      <td>...</td>\n      <td>...</td>\n      <td>...</td>\n      <td>...</td>\n      <td>...</td>\n      <td>...</td>\n      <td>...</td>\n      <td>...</td>\n      <td>...</td>\n      <td>...</td>\n      <td>...</td>\n      <td>...</td>\n      <td>...</td>\n      <td>...</td>\n    </tr>\n    <tr>\n      <th>\"BRWD1-AS2\"</th>\n      <td>0</td>\n      <td>0</td>\n      <td>0</td>\n      <td>0</td>\n      <td>0</td>\n      <td>0</td>\n      <td>0</td>\n      <td>0</td>\n      <td>0</td>\n      <td>0</td>\n      <td>...</td>\n      <td>0</td>\n      <td>0</td>\n      <td>0</td>\n      <td>0</td>\n      <td>0</td>\n      <td>0</td>\n      <td>0</td>\n      <td>0</td>\n      <td>0</td>\n      <td>0</td>\n    </tr>\n    <tr>\n      <th>\"RPS19BP1\"</th>\n      <td>0</td>\n      <td>0</td>\n      <td>0</td>\n      <td>0</td>\n      <td>0</td>\n      <td>0</td>\n      <td>0</td>\n      <td>0</td>\n      <td>0</td>\n      <td>0</td>\n      <td>...</td>\n      <td>0</td>\n      <td>0</td>\n      <td>0</td>\n      <td>0</td>\n      <td>0</td>\n      <td>0</td>\n      <td>0</td>\n      <td>0</td>\n      <td>0</td>\n      <td>0</td>\n    </tr>\n    <tr>\n      <th>\"AUNIP\"</th>\n      <td>0</td>\n      <td>0</td>\n      <td>0</td>\n      <td>0</td>\n      <td>0</td>\n      <td>0</td>\n      <td>0</td>\n      <td>0</td>\n      <td>0</td>\n      <td>0</td>\n      <td>...</td>\n      <td>0</td>\n      <td>0</td>\n      <td>0</td>\n      <td>0</td>\n      <td>0</td>\n      <td>0</td>\n      <td>0</td>\n      <td>0</td>\n      <td>0</td>\n      <td>0</td>\n    </tr>\n    <tr>\n      <th>\"TNK2\"</th>\n      <td>0</td>\n      <td>0</td>\n      <td>0</td>\n      <td>0</td>\n      <td>0</td>\n      <td>0</td>\n      <td>0</td>\n      <td>0</td>\n      <td>0</td>\n      <td>0</td>\n      <td>...</td>\n      <td>0</td>\n      <td>0</td>\n      <td>0</td>\n      <td>0</td>\n      <td>0</td>\n      <td>0</td>\n      <td>0</td>\n      <td>0</td>\n      <td>0</td>\n      <td>0</td>\n    </tr>\n    <tr>\n      <th>\"SUDS3\"</th>\n      <td>0</td>\n      <td>0</td>\n      <td>0</td>\n      <td>0</td>\n      <td>0</td>\n      <td>0</td>\n      <td>0</td>\n      <td>0</td>\n      <td>0</td>\n      <td>0</td>\n      <td>...</td>\n      <td>0</td>\n      <td>0</td>\n      <td>0</td>\n      <td>0</td>\n      <td>0</td>\n      <td>0</td>\n      <td>0</td>\n      <td>1</td>\n      <td>0</td>\n      <td>0</td>\n    </tr>\n  </tbody>\n</table>\n<p>3000 rows × 21626 columns</p>\n</div>"
     },
     "execution_count": 20,
     "metadata": {},
     "output_type": "execute_result"
    }
   ],
   "source": [
    "MCF_DS"
   ],
   "metadata": {
    "collapsed": false
   }
  },
  {
   "cell_type": "code",
   "execution_count": 21,
   "outputs": [],
   "source": [
    "#testing daata\n",
    "MCF_DS_test = pd.read_csv(\"C:\\\\Users\\\\camer\\\\Desktop\\\\class stuff\\\\Semester 4\\\\ai lab\\\\DropSeq\\\\MCF7_Filtered_Normalised_3000_Data_test_anonim.txt\", delimiter=\"\\ \", engine='python', index_col=0)"
   ],
   "metadata": {
    "collapsed": false
   }
  },
  {
   "cell_type": "code",
   "execution_count": 22,
   "outputs": [],
   "source": [
    "def oxia(df):\n",
    "    new_row = {col: None for col in df.columns}\n",
    "    for col in df.columns:\n",
    "        if '_Nor' in col:\n",
    "            new_row[col] = 1\n",
    "        elif '_Hyp' in col:\n",
    "            new_row[col] = 0\n",
    "    return pd.DataFrame(new_row, index=['oxia'])\n"
   ],
   "metadata": {
    "collapsed": false
   }
  },
  {
   "cell_type": "code",
   "execution_count": 23,
   "outputs": [],
   "source": [
    "#Oxia them and split them into X and y\n",
    "y_MCF_DS = oxia(MCF_DS).T"
   ],
   "metadata": {
    "collapsed": false
   }
  },
  {
   "cell_type": "code",
   "execution_count": 24,
   "outputs": [
    {
     "data": {
      "text/plain": "                         oxia\n\"AAAAACCTATCG_Normoxia\"     1\n\"AAAACAACCCTA_Normoxia\"     1\n\"AAAACACTCTCA_Normoxia\"     1\n\"AAAACCAGGCAC_Normoxia\"     1\n\"AAAACCTAGCTC_Normoxia\"     1\n...                       ...\n\"TTTTCGCGTAGA_Hypoxia\"      0\n\"TTTTCGTCCGCT_Hypoxia\"      0\n\"TTTTCTCCGGCT_Hypoxia\"      0\n\"TTTTGTTCAAAG_Hypoxia\"      0\n\"TTTTTTGTATGT_Hypoxia\"      0\n\n[21626 rows x 1 columns]",
      "text/html": "<div>\n<style scoped>\n    .dataframe tbody tr th:only-of-type {\n        vertical-align: middle;\n    }\n\n    .dataframe tbody tr th {\n        vertical-align: top;\n    }\n\n    .dataframe thead th {\n        text-align: right;\n    }\n</style>\n<table border=\"1\" class=\"dataframe\">\n  <thead>\n    <tr style=\"text-align: right;\">\n      <th></th>\n      <th>oxia</th>\n    </tr>\n  </thead>\n  <tbody>\n    <tr>\n      <th>\"AAAAACCTATCG_Normoxia\"</th>\n      <td>1</td>\n    </tr>\n    <tr>\n      <th>\"AAAACAACCCTA_Normoxia\"</th>\n      <td>1</td>\n    </tr>\n    <tr>\n      <th>\"AAAACACTCTCA_Normoxia\"</th>\n      <td>1</td>\n    </tr>\n    <tr>\n      <th>\"AAAACCAGGCAC_Normoxia\"</th>\n      <td>1</td>\n    </tr>\n    <tr>\n      <th>\"AAAACCTAGCTC_Normoxia\"</th>\n      <td>1</td>\n    </tr>\n    <tr>\n      <th>...</th>\n      <td>...</td>\n    </tr>\n    <tr>\n      <th>\"TTTTCGCGTAGA_Hypoxia\"</th>\n      <td>0</td>\n    </tr>\n    <tr>\n      <th>\"TTTTCGTCCGCT_Hypoxia\"</th>\n      <td>0</td>\n    </tr>\n    <tr>\n      <th>\"TTTTCTCCGGCT_Hypoxia\"</th>\n      <td>0</td>\n    </tr>\n    <tr>\n      <th>\"TTTTGTTCAAAG_Hypoxia\"</th>\n      <td>0</td>\n    </tr>\n    <tr>\n      <th>\"TTTTTTGTATGT_Hypoxia\"</th>\n      <td>0</td>\n    </tr>\n  </tbody>\n</table>\n<p>21626 rows × 1 columns</p>\n</div>"
     },
     "execution_count": 24,
     "metadata": {},
     "output_type": "execute_result"
    }
   ],
   "source": [
    "y_MCF_DS"
   ],
   "metadata": {
    "collapsed": false
   }
  },
  {
   "cell_type": "code",
   "execution_count": 25,
   "outputs": [],
   "source": [
    "MCF_DS = MCF_DS.T"
   ],
   "metadata": {
    "collapsed": false
   }
  },
  {
   "cell_type": "code",
   "execution_count": 26,
   "outputs": [
    {
     "data": {
      "text/plain": "        \"MALAT1\"  \"MT-RNR2\"  \"NEAT1\"  \"H1-5\"  \"TFF1\"  \"MT-RNR1\"  \"H4C3\"  \\\n\"1\"            0          0        0       0       3          0       0   \n\"2\"            0          2        0       0       5          0       3   \n\"3\"            3          1        0       0       2          0       0   \n\"4\"            0          0        0       0       3          0       2   \n\"5\"            1          0        0       0       3          0       8   \n...          ...        ...      ...     ...     ...        ...     ...   \n\"5402\"         0          0        0       0       3          0       3   \n\"5403\"         0          0        0       0       2          0       1   \n\"5404\"         1          0        0       0       0          0       1   \n\"5405\"         5          0        0       0       0          1       0   \n\"5406\"         1          0        0       0       1          0       2   \n\n        \"GDF15\"  \"KRT81\"  \"MT-CO3\"  ...  \"MROH1\"  \"SKIDA1\"  \"MICALL1\"  \"RARG\"  \\\n\"1\"           0        0         0  ...        0         0          0       0   \n\"2\"           0        0         0  ...        0         0          0       0   \n\"3\"           0        0         0  ...        0         0          0       0   \n\"4\"           0        0         0  ...        0         0          0       0   \n\"5\"           0        0         0  ...        0         0          0       0   \n...         ...      ...       ...  ...      ...       ...        ...     ...   \n\"5402\"        0        0         0  ...        0         0          0       0   \n\"5403\"        0        0         0  ...        0         0          0       0   \n\"5404\"        0        0         0  ...        0         0          0       0   \n\"5405\"        0        0         0  ...        0         0          0       0   \n\"5406\"        0        0         0  ...        0         0          0       0   \n\n        \"MYO1F\"  \"BRWD1-AS2\"  \"RPS19BP1\"  \"AUNIP\"  \"TNK2\"  \"SUDS3\"  \n\"1\"           0            0           0        0       0        0  \n\"2\"           0            0           0        0       0        0  \n\"3\"           0            0           0        0       0        0  \n\"4\"           0            0           0        0       0        0  \n\"5\"           0            0           0        0       0        0  \n...         ...          ...         ...      ...     ...      ...  \n\"5402\"        0            0           0        0       0        0  \n\"5403\"        0            0           0        0       0        2  \n\"5404\"        0            0           0        0       0        1  \n\"5405\"        0            0           0        0       0        3  \n\"5406\"        0            0           0        0       0        0  \n\n[5406 rows x 3000 columns]",
      "text/html": "<div>\n<style scoped>\n    .dataframe tbody tr th:only-of-type {\n        vertical-align: middle;\n    }\n\n    .dataframe tbody tr th {\n        vertical-align: top;\n    }\n\n    .dataframe thead th {\n        text-align: right;\n    }\n</style>\n<table border=\"1\" class=\"dataframe\">\n  <thead>\n    <tr style=\"text-align: right;\">\n      <th></th>\n      <th>\"MALAT1\"</th>\n      <th>\"MT-RNR2\"</th>\n      <th>\"NEAT1\"</th>\n      <th>\"H1-5\"</th>\n      <th>\"TFF1\"</th>\n      <th>\"MT-RNR1\"</th>\n      <th>\"H4C3\"</th>\n      <th>\"GDF15\"</th>\n      <th>\"KRT81\"</th>\n      <th>\"MT-CO3\"</th>\n      <th>...</th>\n      <th>\"MROH1\"</th>\n      <th>\"SKIDA1\"</th>\n      <th>\"MICALL1\"</th>\n      <th>\"RARG\"</th>\n      <th>\"MYO1F\"</th>\n      <th>\"BRWD1-AS2\"</th>\n      <th>\"RPS19BP1\"</th>\n      <th>\"AUNIP\"</th>\n      <th>\"TNK2\"</th>\n      <th>\"SUDS3\"</th>\n    </tr>\n  </thead>\n  <tbody>\n    <tr>\n      <th>\"1\"</th>\n      <td>0</td>\n      <td>0</td>\n      <td>0</td>\n      <td>0</td>\n      <td>3</td>\n      <td>0</td>\n      <td>0</td>\n      <td>0</td>\n      <td>0</td>\n      <td>0</td>\n      <td>...</td>\n      <td>0</td>\n      <td>0</td>\n      <td>0</td>\n      <td>0</td>\n      <td>0</td>\n      <td>0</td>\n      <td>0</td>\n      <td>0</td>\n      <td>0</td>\n      <td>0</td>\n    </tr>\n    <tr>\n      <th>\"2\"</th>\n      <td>0</td>\n      <td>2</td>\n      <td>0</td>\n      <td>0</td>\n      <td>5</td>\n      <td>0</td>\n      <td>3</td>\n      <td>0</td>\n      <td>0</td>\n      <td>0</td>\n      <td>...</td>\n      <td>0</td>\n      <td>0</td>\n      <td>0</td>\n      <td>0</td>\n      <td>0</td>\n      <td>0</td>\n      <td>0</td>\n      <td>0</td>\n      <td>0</td>\n      <td>0</td>\n    </tr>\n    <tr>\n      <th>\"3\"</th>\n      <td>3</td>\n      <td>1</td>\n      <td>0</td>\n      <td>0</td>\n      <td>2</td>\n      <td>0</td>\n      <td>0</td>\n      <td>0</td>\n      <td>0</td>\n      <td>0</td>\n      <td>...</td>\n      <td>0</td>\n      <td>0</td>\n      <td>0</td>\n      <td>0</td>\n      <td>0</td>\n      <td>0</td>\n      <td>0</td>\n      <td>0</td>\n      <td>0</td>\n      <td>0</td>\n    </tr>\n    <tr>\n      <th>\"4\"</th>\n      <td>0</td>\n      <td>0</td>\n      <td>0</td>\n      <td>0</td>\n      <td>3</td>\n      <td>0</td>\n      <td>2</td>\n      <td>0</td>\n      <td>0</td>\n      <td>0</td>\n      <td>...</td>\n      <td>0</td>\n      <td>0</td>\n      <td>0</td>\n      <td>0</td>\n      <td>0</td>\n      <td>0</td>\n      <td>0</td>\n      <td>0</td>\n      <td>0</td>\n      <td>0</td>\n    </tr>\n    <tr>\n      <th>\"5\"</th>\n      <td>1</td>\n      <td>0</td>\n      <td>0</td>\n      <td>0</td>\n      <td>3</td>\n      <td>0</td>\n      <td>8</td>\n      <td>0</td>\n      <td>0</td>\n      <td>0</td>\n      <td>...</td>\n      <td>0</td>\n      <td>0</td>\n      <td>0</td>\n      <td>0</td>\n      <td>0</td>\n      <td>0</td>\n      <td>0</td>\n      <td>0</td>\n      <td>0</td>\n      <td>0</td>\n    </tr>\n    <tr>\n      <th>...</th>\n      <td>...</td>\n      <td>...</td>\n      <td>...</td>\n      <td>...</td>\n      <td>...</td>\n      <td>...</td>\n      <td>...</td>\n      <td>...</td>\n      <td>...</td>\n      <td>...</td>\n      <td>...</td>\n      <td>...</td>\n      <td>...</td>\n      <td>...</td>\n      <td>...</td>\n      <td>...</td>\n      <td>...</td>\n      <td>...</td>\n      <td>...</td>\n      <td>...</td>\n      <td>...</td>\n    </tr>\n    <tr>\n      <th>\"5402\"</th>\n      <td>0</td>\n      <td>0</td>\n      <td>0</td>\n      <td>0</td>\n      <td>3</td>\n      <td>0</td>\n      <td>3</td>\n      <td>0</td>\n      <td>0</td>\n      <td>0</td>\n      <td>...</td>\n      <td>0</td>\n      <td>0</td>\n      <td>0</td>\n      <td>0</td>\n      <td>0</td>\n      <td>0</td>\n      <td>0</td>\n      <td>0</td>\n      <td>0</td>\n      <td>0</td>\n    </tr>\n    <tr>\n      <th>\"5403\"</th>\n      <td>0</td>\n      <td>0</td>\n      <td>0</td>\n      <td>0</td>\n      <td>2</td>\n      <td>0</td>\n      <td>1</td>\n      <td>0</td>\n      <td>0</td>\n      <td>0</td>\n      <td>...</td>\n      <td>0</td>\n      <td>0</td>\n      <td>0</td>\n      <td>0</td>\n      <td>0</td>\n      <td>0</td>\n      <td>0</td>\n      <td>0</td>\n      <td>0</td>\n      <td>2</td>\n    </tr>\n    <tr>\n      <th>\"5404\"</th>\n      <td>1</td>\n      <td>0</td>\n      <td>0</td>\n      <td>0</td>\n      <td>0</td>\n      <td>0</td>\n      <td>1</td>\n      <td>0</td>\n      <td>0</td>\n      <td>0</td>\n      <td>...</td>\n      <td>0</td>\n      <td>0</td>\n      <td>0</td>\n      <td>0</td>\n      <td>0</td>\n      <td>0</td>\n      <td>0</td>\n      <td>0</td>\n      <td>0</td>\n      <td>1</td>\n    </tr>\n    <tr>\n      <th>\"5405\"</th>\n      <td>5</td>\n      <td>0</td>\n      <td>0</td>\n      <td>0</td>\n      <td>0</td>\n      <td>1</td>\n      <td>0</td>\n      <td>0</td>\n      <td>0</td>\n      <td>0</td>\n      <td>...</td>\n      <td>0</td>\n      <td>0</td>\n      <td>0</td>\n      <td>0</td>\n      <td>0</td>\n      <td>0</td>\n      <td>0</td>\n      <td>0</td>\n      <td>0</td>\n      <td>3</td>\n    </tr>\n    <tr>\n      <th>\"5406\"</th>\n      <td>1</td>\n      <td>0</td>\n      <td>0</td>\n      <td>0</td>\n      <td>1</td>\n      <td>0</td>\n      <td>2</td>\n      <td>0</td>\n      <td>0</td>\n      <td>0</td>\n      <td>...</td>\n      <td>0</td>\n      <td>0</td>\n      <td>0</td>\n      <td>0</td>\n      <td>0</td>\n      <td>0</td>\n      <td>0</td>\n      <td>0</td>\n      <td>0</td>\n      <td>0</td>\n    </tr>\n  </tbody>\n</table>\n<p>5406 rows × 3000 columns</p>\n</div>"
     },
     "execution_count": 26,
     "metadata": {},
     "output_type": "execute_result"
    }
   ],
   "source": [
    "MCF_DS_test = MCF_DS_test.T\n",
    "MCF_DS_test"
   ],
   "metadata": {
    "collapsed": false
   }
  },
  {
   "cell_type": "code",
   "execution_count": 27,
   "outputs": [
    {
     "data": {
      "text/plain": "                         \"MALAT1\"  \"MT-RNR2\"  \"NEAT1\"  \"H1-5\"  \"TFF1\"  \\\n\"AAAAACCTATCG_Normoxia\"         1          0        0       0       4   \n\"AAAACAACCCTA_Normoxia\"         3          0        0       0       1   \n\"AAAACACTCTCA_Normoxia\"         3          0        0       0       1   \n\"AAAACCAGGCAC_Normoxia\"         6          2        0       0       1   \n\"AAAACCTAGCTC_Normoxia\"         4          0        0       0       0   \n...                           ...        ...      ...     ...     ...   \n\"TTTTCGCGTAGA_Hypoxia\"          0          0        0       0       3   \n\"TTTTCGTCCGCT_Hypoxia\"          1          0        0       0       4   \n\"TTTTCTCCGGCT_Hypoxia\"          0          0        0       1       2   \n\"TTTTGTTCAAAG_Hypoxia\"          0          0        0       0       6   \n\"TTTTTTGTATGT_Hypoxia\"          4          0        0       0       0   \n\n                         \"MT-RNR1\"  \"H4C3\"  \"GDF15\"  \"KRT81\"  \"MT-CO3\"  ...  \\\n\"AAAAACCTATCG_Normoxia\"          0       0        0        0         0  ...   \n\"AAAACAACCCTA_Normoxia\"          0       1        0        0         0  ...   \n\"AAAACACTCTCA_Normoxia\"          0       0        0        0         0  ...   \n\"AAAACCAGGCAC_Normoxia\"          0       1        0        0         0  ...   \n\"AAAACCTAGCTC_Normoxia\"          0       0        0        0         1  ...   \n...                            ...     ...      ...      ...       ...  ...   \n\"TTTTCGCGTAGA_Hypoxia\"           0       7        0        0         0  ...   \n\"TTTTCGTCCGCT_Hypoxia\"           0       1        0        1         0  ...   \n\"TTTTCTCCGGCT_Hypoxia\"           0       4        0        0         0  ...   \n\"TTTTGTTCAAAG_Hypoxia\"           0       0        0        0         0  ...   \n\"TTTTTTGTATGT_Hypoxia\"           0       6        0        0         0  ...   \n\n                         \"MROH1\"  \"SKIDA1\"  \"MICALL1\"  \"RARG\"  \"MYO1F\"  \\\n\"AAAAACCTATCG_Normoxia\"        0         0          0       0        0   \n\"AAAACAACCCTA_Normoxia\"        0         0          0       0        0   \n\"AAAACACTCTCA_Normoxia\"        0         0          0       0        0   \n\"AAAACCAGGCAC_Normoxia\"        0         0          0       0        0   \n\"AAAACCTAGCTC_Normoxia\"        0         0          0       0        0   \n...                          ...       ...        ...     ...      ...   \n\"TTTTCGCGTAGA_Hypoxia\"         0         0          0       0        0   \n\"TTTTCGTCCGCT_Hypoxia\"         0         0          0       0        0   \n\"TTTTCTCCGGCT_Hypoxia\"         0         0          0       0        0   \n\"TTTTGTTCAAAG_Hypoxia\"         0         0          0       0        0   \n\"TTTTTTGTATGT_Hypoxia\"         0         0          0       0        0   \n\n                         \"BRWD1-AS2\"  \"RPS19BP1\"  \"AUNIP\"  \"TNK2\"  \"SUDS3\"  \n\"AAAAACCTATCG_Normoxia\"            0           0        0       0        0  \n\"AAAACAACCCTA_Normoxia\"            0           0        0       0        0  \n\"AAAACACTCTCA_Normoxia\"            0           0        0       0        0  \n\"AAAACCAGGCAC_Normoxia\"            0           0        0       0        0  \n\"AAAACCTAGCTC_Normoxia\"            0           0        0       0        0  \n...                              ...         ...      ...     ...      ...  \n\"TTTTCGCGTAGA_Hypoxia\"             0           0        0       0        0  \n\"TTTTCGTCCGCT_Hypoxia\"             0           0        0       0        0  \n\"TTTTCTCCGGCT_Hypoxia\"             0           0        0       0        1  \n\"TTTTGTTCAAAG_Hypoxia\"             0           0        0       0        0  \n\"TTTTTTGTATGT_Hypoxia\"             0           0        0       0        0  \n\n[21626 rows x 3000 columns]",
      "text/html": "<div>\n<style scoped>\n    .dataframe tbody tr th:only-of-type {\n        vertical-align: middle;\n    }\n\n    .dataframe tbody tr th {\n        vertical-align: top;\n    }\n\n    .dataframe thead th {\n        text-align: right;\n    }\n</style>\n<table border=\"1\" class=\"dataframe\">\n  <thead>\n    <tr style=\"text-align: right;\">\n      <th></th>\n      <th>\"MALAT1\"</th>\n      <th>\"MT-RNR2\"</th>\n      <th>\"NEAT1\"</th>\n      <th>\"H1-5\"</th>\n      <th>\"TFF1\"</th>\n      <th>\"MT-RNR1\"</th>\n      <th>\"H4C3\"</th>\n      <th>\"GDF15\"</th>\n      <th>\"KRT81\"</th>\n      <th>\"MT-CO3\"</th>\n      <th>...</th>\n      <th>\"MROH1\"</th>\n      <th>\"SKIDA1\"</th>\n      <th>\"MICALL1\"</th>\n      <th>\"RARG\"</th>\n      <th>\"MYO1F\"</th>\n      <th>\"BRWD1-AS2\"</th>\n      <th>\"RPS19BP1\"</th>\n      <th>\"AUNIP\"</th>\n      <th>\"TNK2\"</th>\n      <th>\"SUDS3\"</th>\n    </tr>\n  </thead>\n  <tbody>\n    <tr>\n      <th>\"AAAAACCTATCG_Normoxia\"</th>\n      <td>1</td>\n      <td>0</td>\n      <td>0</td>\n      <td>0</td>\n      <td>4</td>\n      <td>0</td>\n      <td>0</td>\n      <td>0</td>\n      <td>0</td>\n      <td>0</td>\n      <td>...</td>\n      <td>0</td>\n      <td>0</td>\n      <td>0</td>\n      <td>0</td>\n      <td>0</td>\n      <td>0</td>\n      <td>0</td>\n      <td>0</td>\n      <td>0</td>\n      <td>0</td>\n    </tr>\n    <tr>\n      <th>\"AAAACAACCCTA_Normoxia\"</th>\n      <td>3</td>\n      <td>0</td>\n      <td>0</td>\n      <td>0</td>\n      <td>1</td>\n      <td>0</td>\n      <td>1</td>\n      <td>0</td>\n      <td>0</td>\n      <td>0</td>\n      <td>...</td>\n      <td>0</td>\n      <td>0</td>\n      <td>0</td>\n      <td>0</td>\n      <td>0</td>\n      <td>0</td>\n      <td>0</td>\n      <td>0</td>\n      <td>0</td>\n      <td>0</td>\n    </tr>\n    <tr>\n      <th>\"AAAACACTCTCA_Normoxia\"</th>\n      <td>3</td>\n      <td>0</td>\n      <td>0</td>\n      <td>0</td>\n      <td>1</td>\n      <td>0</td>\n      <td>0</td>\n      <td>0</td>\n      <td>0</td>\n      <td>0</td>\n      <td>...</td>\n      <td>0</td>\n      <td>0</td>\n      <td>0</td>\n      <td>0</td>\n      <td>0</td>\n      <td>0</td>\n      <td>0</td>\n      <td>0</td>\n      <td>0</td>\n      <td>0</td>\n    </tr>\n    <tr>\n      <th>\"AAAACCAGGCAC_Normoxia\"</th>\n      <td>6</td>\n      <td>2</td>\n      <td>0</td>\n      <td>0</td>\n      <td>1</td>\n      <td>0</td>\n      <td>1</td>\n      <td>0</td>\n      <td>0</td>\n      <td>0</td>\n      <td>...</td>\n      <td>0</td>\n      <td>0</td>\n      <td>0</td>\n      <td>0</td>\n      <td>0</td>\n      <td>0</td>\n      <td>0</td>\n      <td>0</td>\n      <td>0</td>\n      <td>0</td>\n    </tr>\n    <tr>\n      <th>\"AAAACCTAGCTC_Normoxia\"</th>\n      <td>4</td>\n      <td>0</td>\n      <td>0</td>\n      <td>0</td>\n      <td>0</td>\n      <td>0</td>\n      <td>0</td>\n      <td>0</td>\n      <td>0</td>\n      <td>1</td>\n      <td>...</td>\n      <td>0</td>\n      <td>0</td>\n      <td>0</td>\n      <td>0</td>\n      <td>0</td>\n      <td>0</td>\n      <td>0</td>\n      <td>0</td>\n      <td>0</td>\n      <td>0</td>\n    </tr>\n    <tr>\n      <th>...</th>\n      <td>...</td>\n      <td>...</td>\n      <td>...</td>\n      <td>...</td>\n      <td>...</td>\n      <td>...</td>\n      <td>...</td>\n      <td>...</td>\n      <td>...</td>\n      <td>...</td>\n      <td>...</td>\n      <td>...</td>\n      <td>...</td>\n      <td>...</td>\n      <td>...</td>\n      <td>...</td>\n      <td>...</td>\n      <td>...</td>\n      <td>...</td>\n      <td>...</td>\n      <td>...</td>\n    </tr>\n    <tr>\n      <th>\"TTTTCGCGTAGA_Hypoxia\"</th>\n      <td>0</td>\n      <td>0</td>\n      <td>0</td>\n      <td>0</td>\n      <td>3</td>\n      <td>0</td>\n      <td>7</td>\n      <td>0</td>\n      <td>0</td>\n      <td>0</td>\n      <td>...</td>\n      <td>0</td>\n      <td>0</td>\n      <td>0</td>\n      <td>0</td>\n      <td>0</td>\n      <td>0</td>\n      <td>0</td>\n      <td>0</td>\n      <td>0</td>\n      <td>0</td>\n    </tr>\n    <tr>\n      <th>\"TTTTCGTCCGCT_Hypoxia\"</th>\n      <td>1</td>\n      <td>0</td>\n      <td>0</td>\n      <td>0</td>\n      <td>4</td>\n      <td>0</td>\n      <td>1</td>\n      <td>0</td>\n      <td>1</td>\n      <td>0</td>\n      <td>...</td>\n      <td>0</td>\n      <td>0</td>\n      <td>0</td>\n      <td>0</td>\n      <td>0</td>\n      <td>0</td>\n      <td>0</td>\n      <td>0</td>\n      <td>0</td>\n      <td>0</td>\n    </tr>\n    <tr>\n      <th>\"TTTTCTCCGGCT_Hypoxia\"</th>\n      <td>0</td>\n      <td>0</td>\n      <td>0</td>\n      <td>1</td>\n      <td>2</td>\n      <td>0</td>\n      <td>4</td>\n      <td>0</td>\n      <td>0</td>\n      <td>0</td>\n      <td>...</td>\n      <td>0</td>\n      <td>0</td>\n      <td>0</td>\n      <td>0</td>\n      <td>0</td>\n      <td>0</td>\n      <td>0</td>\n      <td>0</td>\n      <td>0</td>\n      <td>1</td>\n    </tr>\n    <tr>\n      <th>\"TTTTGTTCAAAG_Hypoxia\"</th>\n      <td>0</td>\n      <td>0</td>\n      <td>0</td>\n      <td>0</td>\n      <td>6</td>\n      <td>0</td>\n      <td>0</td>\n      <td>0</td>\n      <td>0</td>\n      <td>0</td>\n      <td>...</td>\n      <td>0</td>\n      <td>0</td>\n      <td>0</td>\n      <td>0</td>\n      <td>0</td>\n      <td>0</td>\n      <td>0</td>\n      <td>0</td>\n      <td>0</td>\n      <td>0</td>\n    </tr>\n    <tr>\n      <th>\"TTTTTTGTATGT_Hypoxia\"</th>\n      <td>4</td>\n      <td>0</td>\n      <td>0</td>\n      <td>0</td>\n      <td>0</td>\n      <td>0</td>\n      <td>6</td>\n      <td>0</td>\n      <td>0</td>\n      <td>0</td>\n      <td>...</td>\n      <td>0</td>\n      <td>0</td>\n      <td>0</td>\n      <td>0</td>\n      <td>0</td>\n      <td>0</td>\n      <td>0</td>\n      <td>0</td>\n      <td>0</td>\n      <td>0</td>\n    </tr>\n  </tbody>\n</table>\n<p>21626 rows × 3000 columns</p>\n</div>"
     },
     "execution_count": 27,
     "metadata": {},
     "output_type": "execute_result"
    }
   ],
   "source": [
    "MCF_DS"
   ],
   "metadata": {
    "collapsed": false
   }
  },
  {
   "cell_type": "code",
   "execution_count": 28,
   "outputs": [
    {
     "name": "stderr",
     "output_type": "stream",
     "text": [
      "C:\\Users\\camer\\PycharmProjects\\AI-Lab\\venv\\lib\\site-packages\\sklearn\\neural_network\\_multilayer_perceptron.py:1101: DataConversionWarning: A column-vector y was passed when a 1d array was expected. Please change the shape of y to (n_samples, ), for example using ravel().\n",
      "  y = column_or_1d(y, warn=True)\n"
     ]
    }
   ],
   "source": [
    "#{'hidden_layer_sizes': (50, 50), 'learning_rate_init': 0.1},\n",
    "#           'Neural Network': MLPClassifier(random_state=42, batch_size='auto', max_iter=1000000, solver='sgd')\n",
    "\n",
    "#MCF/DropSeq\n",
    "mlp = MLPClassifier(hidden_layer_sizes=(50, 50), learning_rate_init=0.1, random_state=42, batch_size='auto', max_iter=1000000, solver='sgd')\n",
    "mlp.fit(MCF_DS, y_MCF_DS)\n",
    "y_pred = mlp.predict(MCF_DS_test)"
   ],
   "metadata": {
    "collapsed": false
   }
  },
  {
   "cell_type": "code",
   "execution_count": 29,
   "outputs": [
    {
     "data": {
      "text/plain": "array([0, 1, 1, ..., 0, 1, 0], dtype=int64)"
     },
     "execution_count": 29,
     "metadata": {},
     "output_type": "execute_result"
    }
   ],
   "source": [
    "y_pred"
   ],
   "metadata": {
    "collapsed": false
   }
  },
  {
   "cell_type": "code",
   "execution_count": 30,
   "outputs": [
    {
     "data": {
      "text/plain": "0"
     },
     "execution_count": 30,
     "metadata": {},
     "output_type": "execute_result"
    }
   ],
   "source": [
    "#check none are missing\n",
    "np.isnan(y_pred).sum()"
   ],
   "metadata": {
    "collapsed": false
   }
  },
  {
   "cell_type": "code",
   "execution_count": 31,
   "outputs": [
    {
     "data": {
      "text/plain": "(5406,)"
     },
     "execution_count": 31,
     "metadata": {},
     "output_type": "execute_result"
    }
   ],
   "source": [
    "#check the dimensionality of the predictions\n",
    "y_pred.shape"
   ],
   "metadata": {
    "collapsed": false
   }
  },
  {
   "cell_type": "code",
   "execution_count": 17,
   "outputs": [
    {
     "data": {
      "text/plain": "(5406, 3000)"
     },
     "execution_count": 17,
     "metadata": {},
     "output_type": "execute_result"
    }
   ],
   "source": [
    "#check the dimensionality of the test data\n",
    "MCF_DS_test.shape"
   ],
   "metadata": {
    "collapsed": false
   }
  },
  {
   "cell_type": "code",
   "execution_count": 32,
   "outputs": [
    {
     "data": {
      "text/plain": "(array([2186.,    0.,    0.,    0.,    0.,    0.,    0.,    0.,    0.,\n        3220.]),\n array([0. , 0.1, 0.2, 0.3, 0.4, 0.5, 0.6, 0.7, 0.8, 0.9, 1. ]),\n <BarContainer object of 10 artists>)"
     },
     "execution_count": 32,
     "metadata": {},
     "output_type": "execute_result"
    },
    {
     "data": {
      "text/plain": "<Figure size 640x480 with 1 Axes>",
      "image/png": "[encoded data removed]"
     },
     "metadata": {},
     "output_type": "display_data"
    }
   ],
   "source": [
    "#check the shape histogram\n",
    "plt.hist(y_pred)"
   ],
   "metadata": {
    "collapsed": false
   }
  },
  {
   "cell_type": "code",
   "execution_count": 33,
   "outputs": [
    {
     "data": {
      "text/plain": "(array([ 8921.,     0.,     0.,     0.,     0.,     0.,     0.,     0.,\n            0., 12705.]),\n array([0. , 0.1, 0.2, 0.3, 0.4, 0.5, 0.6, 0.7, 0.8, 0.9, 1. ]),\n <BarContainer object of 10 artists>)"
     },
     "execution_count": 33,
     "metadata": {},
     "output_type": "execute_result"
    },
    {
     "data": {
      "text/plain": "<Figure size 640x480 with 1 Axes>",
      "image/png": "[encoded data removed]"
     },
     "metadata": {},
     "output_type": "display_data"
    }
   ],
   "source": [
    "#check the shape y histogram\n",
    "plt.hist(y_MCF_DS)"
   ],
   "metadata": {
    "collapsed": false
   }
  },
  {
   "cell_type": "code",
   "execution_count": 35,
   "outputs": [],
   "source": [
    "#save the predictions \"C:\\\\Users\\\\camer\\\\Desktop\\\\class stuff\\\\Semester 4\\\\ai lab\\\\DropSeq\\\n",
    "np.savetxt(\"C:\\\\Users\\\\camer\\\\Desktop\\\\class stuff\\\\Semester 4\\\\ai lab\\\\DropSeq\\\\MCF7_Filtered_Normalised_3000_Data_test_predictions.txt\", y_pred, fmt='%s')"
   ],
   "metadata": {
    "collapsed": false
   }
  },
  {
   "cell_type": "code",
   "execution_count": 69,
   "outputs": [
    {
     "name": "stderr",
     "output_type": "stream",
     "text": [
      "C:\\Users\\camer\\PycharmProjects\\AI-Lab\\venv\\lib\\site-packages\\sklearn\\preprocessing\\_label.py:97: DataConversionWarning: A column-vector y was passed when a 1d array was expected. Please change the shape of y to (n_samples, ), for example using ravel().\n",
      "  y = column_or_1d(y, warn=True)\n",
      "C:\\Users\\camer\\PycharmProjects\\AI-Lab\\venv\\lib\\site-packages\\sklearn\\preprocessing\\_label.py:132: DataConversionWarning: A column-vector y was passed when a 1d array was expected. Please change the shape of y to (n_samples, ), for example using ravel().\n",
      "  y = column_or_1d(y, dtype=self.classes_.dtype, warn=True)\n"
     ]
    }
   ],
   "source": [
    "#Ensemble: of Logistic Regression, SVM, and Random Forest with their best parameters:\n",
    "#'Logistic Regression': {'C': 0.1, 'penalty': 'l2'}, 'Random Forest': {'max_depth': 100, 'n_estimators': 200}, 'SVM': {'C': 10, 'kernel': 'rbf'}\n",
    "#HCC/DropSeq\n",
    "lr = LogisticRegression(C=0.1, penalty='l2', solver='liblinear', random_state=42)\n",
    "rf = RandomForestClassifier(max_depth=100, n_estimators=200, random_state=42)\n",
    "svm = SVC(C=10, kernel='rbf', probability=True, random_state=42)\n",
    "ensemble = VotingClassifier(estimators=[('lr', lr), ('rf', rf), ('svm', svm)], voting='soft')\n",
    "ensemble.fit(HCC_DS, y_HCC_DS)\n",
    "y_pred = ensemble.predict(HCC_DS_test)"
   ],
   "metadata": {
    "collapsed": false
   }
  },
  {
   "cell_type": "code",
   "execution_count": 70,
   "outputs": [
    {
     "data": {
      "text/plain": "array([1, 1, 1, ..., 0, 0, 1], dtype=int64)"
     },
     "execution_count": 70,
     "metadata": {},
     "output_type": "execute_result"
    }
   ],
   "source": [
    "y_pred"
   ],
   "metadata": {
    "collapsed": false
   }
  },
  {
   "cell_type": "code",
   "execution_count": 71,
   "outputs": [
    {
     "data": {
      "text/plain": "0"
     },
     "execution_count": 71,
     "metadata": {},
     "output_type": "execute_result"
    }
   ],
   "source": [
    "#check none are missing\n",
    "np.isnan(y_pred).sum()"
   ],
   "metadata": {
    "collapsed": false
   }
  },
  {
   "cell_type": "code",
   "execution_count": 72,
   "outputs": [],
   "source": [
    "#save the predictions \"C:\\\\Users\\\\camer\\\\Desktop\\\\class stuff\\\\Semester 4\\\\ai lab\\\\DropSeq\\\n",
    "np.savetxt(\"C:\\\\Users\\\\camer\\\\Desktop\\\\class stuff\\\\Semester 4\\\\ai lab\\\\DropSeq\\\\HCC1806_Filtered_Normalised_3000_Data_test_predictions.txt\", y_pred, fmt='%s')"
   ],
   "metadata": {
    "collapsed": false
   }
  },
  {
   "cell_type": "code",
   "execution_count": 73,
   "outputs": [
    {
     "name": "stderr",
     "output_type": "stream",
     "text": [
      "C:\\Users\\camer\\PycharmProjects\\AI-Lab\\venv\\lib\\site-packages\\sklearn\\base.py:1474: DataConversionWarning: A column-vector y was passed when a 1d array was expected. Please change the shape of y to (n_samples,), for example using ravel().\n",
      "  return fit_method(estimator, *args, **kwargs)\n"
     ]
    }
   ],
   "source": [
    "#MCF/SmartSeq\n",
    "rf = RandomForestClassifier(max_depth=10, n_estimators=50, random_state=42)\n",
    "rf.fit(MCF_SS, y_MCF_SS)\n",
    "y_pred = rf.predict(MCF_SS_test)"
   ],
   "metadata": {
    "collapsed": false
   }
  },
  {
   "cell_type": "code",
   "execution_count": 74,
   "outputs": [
    {
     "data": {
      "text/plain": "array([0, 0, 1, 1, 1, 1, 1, 0, 0, 1, 1, 1, 0, 0, 0, 0, 0, 1, 1, 1, 1, 1,\n       0, 1, 1, 0, 0, 0, 0, 1, 1, 0, 0, 1, 1, 1, 1, 0, 0, 1, 0, 0, 0, 0,\n       1, 1, 0, 0, 0, 0, 1, 1, 1, 1, 1, 1, 0, 0, 0, 0, 0, 1, 1],\n      dtype=int64)"
     },
     "execution_count": 74,
     "metadata": {},
     "output_type": "execute_result"
    }
   ],
   "source": [
    "y_pred"
   ],
   "metadata": {
    "collapsed": false
   }
  },
  {
   "cell_type": "code",
   "execution_count": 75,
   "outputs": [
    {
     "data": {
      "text/plain": "0"
     },
     "execution_count": 75,
     "metadata": {},
     "output_type": "execute_result"
    }
   ],
   "source": [
    "#check none are missing\n",
    "np.isnan(y_pred).sum()"
   ],
   "metadata": {
    "collapsed": false
   }
  },
  {
   "cell_type": "code",
   "execution_count": 76,
   "outputs": [],
   "source": [
    "#save the predictions \"C:\\\\Users\\\\camer\\\\Desktop\\\\class stuff\\\\Semester 4\\\\ai lab\\\\SmartSeq\\\n",
    "np.savetxt(\"C:\\\\Users\\\\camer\\\\Desktop\\\\class stuff\\\\Semester 4\\\\ai lab\\\\SmartSeq\\\\MCF7_SmartS_Filtered_Normalised_3000_Data_test_predictions.txt\", y_pred, fmt='%s')"
   ],
   "metadata": {
    "collapsed": false
   }
  },
  {
   "cell_type": "code",
   "execution_count": 77,
   "outputs": [
    {
     "name": "stderr",
     "output_type": "stream",
     "text": [
      "C:\\Users\\camer\\PycharmProjects\\AI-Lab\\venv\\lib\\site-packages\\sklearn\\base.py:1474: DataConversionWarning: A column-vector y was passed when a 1d array was expected. Please change the shape of y to (n_samples,), for example using ravel().\n",
      "  return fit_method(estimator, *args, **kwargs)\n"
     ]
    }
   ],
   "source": [
    "#HCC/SmartSeq\n",
    "rf = RandomForestClassifier(max_depth=10, n_estimators=50, random_state=42)\n",
    "rf.fit(HCC_SS, y_HCC_SS)\n",
    "y_pred = rf.predict(HCC_SS_test)"
   ],
   "metadata": {
    "collapsed": false
   }
  },
  {
   "cell_type": "code",
   "execution_count": 78,
   "outputs": [
    {
     "data": {
      "text/plain": "array([1, 1, 0, 0, 0, 0, 0, 1, 1, 1, 1, 1, 0, 0, 0, 0, 1, 1, 1, 1, 1, 0,\n       0, 0, 1, 1, 1, 0, 1, 0, 0, 1, 1, 0, 0, 0, 1, 1, 1, 0, 0, 1, 1, 1,\n       1], dtype=int64)"
     },
     "execution_count": 78,
     "metadata": {},
     "output_type": "execute_result"
    }
   ],
   "source": [
    "y_pred"
   ],
   "metadata": {
    "collapsed": false
   }
  },
  {
   "cell_type": "code",
   "execution_count": 79,
   "outputs": [
    {
     "data": {
      "text/plain": "0"
     },
     "execution_count": 79,
     "metadata": {},
     "output_type": "execute_result"
    }
   ],
   "source": [
    "#check none are missing\n",
    "np.isnan(y_pred).sum()"
   ],
   "metadata": {
    "collapsed": false
   }
  },
  {
   "cell_type": "code",
   "execution_count": 80,
   "outputs": [],
   "source": [
    "#save the predictions \"C:\\\\Users\\\\camer\\\\Desktop\\\\class stuff\\\\Semester 4\\\\ai lab\\\\SmartSeq\\\n",
    "np.savetxt(\"C:\\\\Users\\\\camer\\\\Desktop\\\\class stuff\\\\Semester 4\\\\ai lab\\\\SmartSeq\\\\HCC1806_SmartS_Filtered_Normalised_3000_Data_test_predictions.txt\", y_pred, fmt='%s')"
   ],
   "metadata": {
    "collapsed": false
   }
  },
  {
   "cell_type": "code",
   "execution_count": null,
   "outputs": [],
   "source": [],
   "metadata": {
    "collapsed": false
   }
  }
 ],
 "metadata": {
  "kernelspec": {
   "display_name": "Python 3",
   "language": "python",
   "name": "python3"
  },
  "language_info": {
   "codemirror_mode": {
    "name": "ipython",
    "version": 2
   },
   "file_extension": ".py",
   "mimetype": "text/x-python",
   "name": "python",
   "nbconvert_exporter": "python",
   "pygments_lexer": "ipython2",
   "version": "2.7.6"
  }
 },
 "nbformat": 4,
 "nbformat_minor": 0
}
