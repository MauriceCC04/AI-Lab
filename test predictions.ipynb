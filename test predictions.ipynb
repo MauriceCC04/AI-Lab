{
 "cells": [
  {
   "cell_type": "markdown",
   "source": [
    "The best parameters for the models were as follows:\n",
    "MCF/DropSeq: 'Neural Network': {'hidden_layer_sizes': (50, 50), 'learning_rate_init': 0.1}\n",
    "HCC/DropSeq: Ensemble: of Logistic Regression, SVM, and Random Forest with their best parameters:\n",
    "'Logistic Regression': {'C': 0.1, 'penalty': 'l2'}, 'Random Forest': {'max_depth': 100, 'n_estimators': 200}, 'SVM': {'C': 10, 'kernel': 'rbf'}\n",
    "MCF/SmartSeq: 'Random Forest': {'max_depth': 10, 'n_estimators': 50}\n",
    "HCC/SmartSeq: 'Random Forest': {'max_depth': 10, 'n_estimators': 50}"
   ],
   "metadata": {
    "collapsed": false
   }
  },
  {
   "cell_type": "markdown",
   "source": [
    "models = {'Logistic Regression': LogisticRegression(solver='liblinear', random_state=42),\n",
    "          'KNN': KNeighborsClassifier(),\n",
    "          'Random Forest': RandomForestClassifier(random_state=42),\n",
    "          'SVM': SVC(probability=True, random_state=42),\n",
    "          'Neural Network': MLPClassifier(random_state=42, batch_size='auto', max_iter=1000000, solver='sgd')\n",
    "          }\n"
   ],
   "metadata": {
    "collapsed": false
   }
  },
  {
   "cell_type": "code",
   "execution_count": 29,
   "outputs": [],
   "source": [
    "import pandas as pd\n",
    "import numpy as np\n",
    "import sklearn\n",
    "from sklearn.model_selection import train_test_split\n",
    "from sklearn.linear_model import LinearRegression\n",
    "from sklearn.metrics import mean_squared_error, r2_score\n",
    "from sklearn.linear_model import LogisticRegression\n",
    "from sklearn.model_selection import train_test_split, cross_val_score, GridSearchCV\n",
    "from sklearn.metrics import accuracy_score, confusion_matrix\n",
    "from sklearn.neighbors import KNeighborsClassifier\n",
    "from  sklearn.ensemble import RandomForestClassifier\n",
    "from sklearn.neural_network import MLPClassifier\n",
    "from sklearn.ensemble import VotingClassifier\n",
    "from sklearn.svm import SVC\n",
    "from sklearn.metrics import classification_report\n",
    "import matplotlib.pyplot as plt"
   ],
   "metadata": {
    "collapsed": false
   }
  },
  {
   "cell_type": "code",
   "execution_count": 30,
   "metadata": {
    "collapsed": true
   },
   "outputs": [],
   "source": [
    "#laptop\n",
    "MCF_DS = pd.read_csv(\"C:\\\\Users\\\\camer\\\\Desktop\\\\class stuff\\\\Semester 4\\\\ai lab\\\\DropSeq\\\\MCF7_Filtered_Normalised_3000_Data_train.txt\", delimiter=\"\\ \", engine='python', index_col=0)\n",
    "HCC_DS = pd.read_csv(\"C:\\\\Users\\\\camer\\\\Desktop\\\\class stuff\\\\Semester 4\\\\ai lab\\\\DropSeq\\\\HCC1806_Filtered_Normalised_3000_Data_train.txt\", delimiter=\"\\ \", engine='python', index_col=0)\n",
    "MCF_SS = pd.read_csv(\"C:\\\\Users\\\\camer\\\\Desktop\\\\class stuff\\\\Semester 4\\\\ai lab\\\\SmartSeq\\\\MCF7_SmartS_Filtered_Normalised_3000_Data_train.txt\", delimiter=\"\\ \", engine='python', index_col=0)\n",
    "HCC_SS = pd.read_csv(\"C:\\\\Users\\\\camer\\\\Desktop\\\\class stuff\\\\Semester 4\\\\ai lab\\\\SmartSeq\\\\HCC1806_SmartS_Filtered_Normalised_3000_Data_train.txt\", delimiter=\"\\ \", engine='python', index_col=0)"
   ]
  },
  {
   "cell_type": "code",
   "execution_count": 50,
   "outputs": [],
   "source": [
    "#testing daata\n",
    "MCF_DS_test = pd.read_csv(\"C:\\\\Users\\\\camer\\\\Desktop\\\\class stuff\\\\Semester 4\\\\ai lab\\\\DropSeq\\\\MCF7_Filtered_Normalised_3000_Data_train.txt\", delimiter=\"\\ \", engine='python', index_col=0)\n",
    "HCC_DS_test = pd.read_csv(\"C:\\\\Users\\\\camer\\\\Desktop\\\\class stuff\\\\Semester 4\\\\ai lab\\\\DropSeq\\\\HCC1806_Filtered_Normalised_3000_Data_test_anonim.txt\", delimiter=\"\\ \", engine='python', index_col=0)\n",
    "MCF_SS_test = pd.read_csv(\"C:\\\\Users\\\\camer\\\\Desktop\\\\class stuff\\\\Semester 4\\\\ai lab\\\\SmartSeq\\\\MCF7_SmartS_Filtered_Normalised_3000_Data_test_anonim.txt\", delimiter=\"\\ \", engine='python', index_col=0)\n",
    "HCC_SS_test = pd.read_csv(\"C:\\\\Users\\\\camer\\\\Desktop\\\\class stuff\\\\Semester 4\\\\ai lab\\\\SmartSeq\\\\HCC1806_SmartS_Filtered_Normalised_3000_Data_test_anonim.txt\", delimiter=\"\\ \", engine='python', index_col=0)"
   ],
   "metadata": {
    "collapsed": false
   }
  },
  {
   "cell_type": "code",
   "execution_count": 32,
   "outputs": [],
   "source": [
    "def oxia(df):\n",
    "    new_row = {col: None for col in df.columns}\n",
    "    for col in df.columns:\n",
    "        if '_Nor' in col:\n",
    "            new_row[col] = 1\n",
    "        elif '_Hyp' in col:\n",
    "            new_row[col] = 0\n",
    "    return pd.DataFrame(new_row, index=['oxia'])\n"
   ],
   "metadata": {
    "collapsed": false
   }
  },
  {
   "cell_type": "code",
   "execution_count": 33,
   "outputs": [],
   "source": [
    "#Oxia them and split them into X and y\n",
    "y_MCF_DS = oxia(MCF_DS).T\n",
    "y_HCC_DS = oxia(HCC_DS).T\n",
    "y_MCF_SS = oxia(MCF_SS)\n",
    "y_HCC_SS = oxia(HCC_SS)"
   ],
   "metadata": {
    "collapsed": false
   }
  },
  {
   "cell_type": "code",
   "execution_count": 34,
   "outputs": [
    {
     "data": {
      "text/plain": "                         oxia\n\"AAAAACCTATCG_Normoxia\"     1\n\"AAAACAACCCTA_Normoxia\"     1\n\"AAAACACTCTCA_Normoxia\"     1\n\"AAAACCAGGCAC_Normoxia\"     1\n\"AAAACCTAGCTC_Normoxia\"     1\n...                       ...\n\"TTTTCGCGTAGA_Hypoxia\"      0\n\"TTTTCGTCCGCT_Hypoxia\"      0\n\"TTTTCTCCGGCT_Hypoxia\"      0\n\"TTTTGTTCAAAG_Hypoxia\"      0\n\"TTTTTTGTATGT_Hypoxia\"      0\n\n[21626 rows x 1 columns]",
      "text/html": "<div>\n<style scoped>\n    .dataframe tbody tr th:only-of-type {\n        vertical-align: middle;\n    }\n\n    .dataframe tbody tr th {\n        vertical-align: top;\n    }\n\n    .dataframe thead th {\n        text-align: right;\n    }\n</style>\n<table border=\"1\" class=\"dataframe\">\n  <thead>\n    <tr style=\"text-align: right;\">\n      <th></th>\n      <th>oxia</th>\n    </tr>\n  </thead>\n  <tbody>\n    <tr>\n      <th>\"AAAAACCTATCG_Normoxia\"</th>\n      <td>1</td>\n    </tr>\n    <tr>\n      <th>\"AAAACAACCCTA_Normoxia\"</th>\n      <td>1</td>\n    </tr>\n    <tr>\n      <th>\"AAAACACTCTCA_Normoxia\"</th>\n      <td>1</td>\n    </tr>\n    <tr>\n      <th>\"AAAACCAGGCAC_Normoxia\"</th>\n      <td>1</td>\n    </tr>\n    <tr>\n      <th>\"AAAACCTAGCTC_Normoxia\"</th>\n      <td>1</td>\n    </tr>\n    <tr>\n      <th>...</th>\n      <td>...</td>\n    </tr>\n    <tr>\n      <th>\"TTTTCGCGTAGA_Hypoxia\"</th>\n      <td>0</td>\n    </tr>\n    <tr>\n      <th>\"TTTTCGTCCGCT_Hypoxia\"</th>\n      <td>0</td>\n    </tr>\n    <tr>\n      <th>\"TTTTCTCCGGCT_Hypoxia\"</th>\n      <td>0</td>\n    </tr>\n    <tr>\n      <th>\"TTTTGTTCAAAG_Hypoxia\"</th>\n      <td>0</td>\n    </tr>\n    <tr>\n      <th>\"TTTTTTGTATGT_Hypoxia\"</th>\n      <td>0</td>\n    </tr>\n  </tbody>\n</table>\n<p>21626 rows × 1 columns</p>\n</div>"
     },
     "execution_count": 34,
     "metadata": {},
     "output_type": "execute_result"
    }
   ],
   "source": [
    "y_MCF_DS"
   ],
   "metadata": {
    "collapsed": false
   }
  },
  {
   "cell_type": "code",
   "execution_count": 35,
   "outputs": [
    {
     "data": {
      "text/plain": "      \"output.STAR.PCRPlate1G12_Normoxia_S32_Aligned.sortedByCoord.out.bam\"  \\\noxia                                                  1                       \n\n      \"output.STAR.PCRPlate1G1_Hypoxia_S102_Aligned.sortedByCoord.out.bam\"  \\\noxia                                                  0                      \n\n      \"output.STAR.PCRPlate1G2_Hypoxia_S2_Aligned.sortedByCoord.out.bam\"  \\\noxia                                                  0                    \n\n      \"output.STAR.PCRPlate1G3_Hypoxia_S7_Aligned.sortedByCoord.out.bam\"  \\\noxia                                                  0                    \n\n      \"output.STAR.PCRPlate1G4_Hypoxia_S107_Aligned.sortedByCoord.out.bam\"  \\\noxia                                                  0                      \n\n      \"output.STAR.PCRPlate1G7_Normoxia_S118_Aligned.sortedByCoord.out.bam\"  \\\noxia                                                  1                       \n\n      \"output.STAR.PCRPlate1G8_Normoxia_S19_Aligned.sortedByCoord.out.bam\"  \\\noxia                                                  1                      \n\n      \"output.STAR.PCRPlate1G9_Normoxia_S121_Aligned.sortedByCoord.out.bam\"  \\\noxia                                                  1                       \n\n      \"output.STAR.PCRPlate1H1_Hypoxia_S103_Aligned.sortedByCoord.out.bam\"  \\\noxia                                                  0                      \n\n      \"output.STAR.PCRPlate1H2_Hypoxia_S3_Aligned.sortedByCoord.out.bam\"  ...  \\\noxia                                                  0                   ...   \n\n      \"output.STAR.PCRPlate4G12_Normoxia_S243_Aligned.sortedByCoord.out.bam\"  \\\noxia                                                  1                        \n\n      \"output.STAR.PCRPlate4G1_Hypoxia_S193_Aligned.sortedByCoord.out.bam\"  \\\noxia                                                  0                      \n\n      \"output.STAR.PCRPlate4G2_Hypoxia_S198_Aligned.sortedByCoord.out.bam\"  \\\noxia                                                  0                      \n\n      \"output.STAR.PCRPlate4G6_Hypoxia_S232_Aligned.sortedByCoord.out.bam\"  \\\noxia                                                  0                      \n\n      \"output.STAR.PCRPlate4G7_Normoxia_S204_Aligned.sortedByCoord.out.bam\"  \\\noxia                                                  1                       \n\n      \"output.STAR.PCRPlate4H10_Normoxia_S210_Aligned.sortedByCoord.out.bam\"  \\\noxia                                                  1                        \n\n      \"output.STAR.PCRPlate4H11_Normoxia_S214_Aligned.sortedByCoord.out.bam\"  \\\noxia                                                  1                        \n\n      \"output.STAR.PCRPlate4H2_Hypoxia_S199_Aligned.sortedByCoord.out.bam\"  \\\noxia                                                  0                      \n\n      \"output.STAR.PCRPlate4H7_Normoxia_S205_Aligned.sortedByCoord.out.bam\"  \\\noxia                                                  1                       \n\n      \"output.STAR.PCRPlate4H9_Normoxia_S236_Aligned.sortedByCoord.out.bam\"  \noxia                                                  1                      \n\n[1 rows x 182 columns]",
      "text/html": "<div>\n<style scoped>\n    .dataframe tbody tr th:only-of-type {\n        vertical-align: middle;\n    }\n\n    .dataframe tbody tr th {\n        vertical-align: top;\n    }\n\n    .dataframe thead th {\n        text-align: right;\n    }\n</style>\n<table border=\"1\" class=\"dataframe\">\n  <thead>\n    <tr style=\"text-align: right;\">\n      <th></th>\n      <th>\"output.STAR.PCRPlate1G12_Normoxia_S32_Aligned.sortedByCoord.out.bam\"</th>\n      <th>\"output.STAR.PCRPlate1G1_Hypoxia_S102_Aligned.sortedByCoord.out.bam\"</th>\n      <th>\"output.STAR.PCRPlate1G2_Hypoxia_S2_Aligned.sortedByCoord.out.bam\"</th>\n      <th>\"output.STAR.PCRPlate1G3_Hypoxia_S7_Aligned.sortedByCoord.out.bam\"</th>\n      <th>\"output.STAR.PCRPlate1G4_Hypoxia_S107_Aligned.sortedByCoord.out.bam\"</th>\n      <th>\"output.STAR.PCRPlate1G7_Normoxia_S118_Aligned.sortedByCoord.out.bam\"</th>\n      <th>\"output.STAR.PCRPlate1G8_Normoxia_S19_Aligned.sortedByCoord.out.bam\"</th>\n      <th>\"output.STAR.PCRPlate1G9_Normoxia_S121_Aligned.sortedByCoord.out.bam\"</th>\n      <th>\"output.STAR.PCRPlate1H1_Hypoxia_S103_Aligned.sortedByCoord.out.bam\"</th>\n      <th>\"output.STAR.PCRPlate1H2_Hypoxia_S3_Aligned.sortedByCoord.out.bam\"</th>\n      <th>...</th>\n      <th>\"output.STAR.PCRPlate4G12_Normoxia_S243_Aligned.sortedByCoord.out.bam\"</th>\n      <th>\"output.STAR.PCRPlate4G1_Hypoxia_S193_Aligned.sortedByCoord.out.bam\"</th>\n      <th>\"output.STAR.PCRPlate4G2_Hypoxia_S198_Aligned.sortedByCoord.out.bam\"</th>\n      <th>\"output.STAR.PCRPlate4G6_Hypoxia_S232_Aligned.sortedByCoord.out.bam\"</th>\n      <th>\"output.STAR.PCRPlate4G7_Normoxia_S204_Aligned.sortedByCoord.out.bam\"</th>\n      <th>\"output.STAR.PCRPlate4H10_Normoxia_S210_Aligned.sortedByCoord.out.bam\"</th>\n      <th>\"output.STAR.PCRPlate4H11_Normoxia_S214_Aligned.sortedByCoord.out.bam\"</th>\n      <th>\"output.STAR.PCRPlate4H2_Hypoxia_S199_Aligned.sortedByCoord.out.bam\"</th>\n      <th>\"output.STAR.PCRPlate4H7_Normoxia_S205_Aligned.sortedByCoord.out.bam\"</th>\n      <th>\"output.STAR.PCRPlate4H9_Normoxia_S236_Aligned.sortedByCoord.out.bam\"</th>\n    </tr>\n  </thead>\n  <tbody>\n    <tr>\n      <th>oxia</th>\n      <td>1</td>\n      <td>0</td>\n      <td>0</td>\n      <td>0</td>\n      <td>0</td>\n      <td>1</td>\n      <td>1</td>\n      <td>1</td>\n      <td>0</td>\n      <td>0</td>\n      <td>...</td>\n      <td>1</td>\n      <td>0</td>\n      <td>0</td>\n      <td>0</td>\n      <td>1</td>\n      <td>1</td>\n      <td>1</td>\n      <td>0</td>\n      <td>1</td>\n      <td>1</td>\n    </tr>\n  </tbody>\n</table>\n<p>1 rows × 182 columns</p>\n</div>"
     },
     "execution_count": 35,
     "metadata": {},
     "output_type": "execute_result"
    }
   ],
   "source": [
    "y_HCC_SS"
   ],
   "metadata": {
    "collapsed": false
   }
  },
  {
   "cell_type": "code",
   "execution_count": 36,
   "outputs": [],
   "source": [
    "MCF_DS = MCF_DS.T\n",
    "HCC_DS = HCC_DS.T\n",
    "HCC_SS = HCC_SS.T\n",
    "MCF_SS = MCF_SS.T\n",
    "y_MCF_SS = y_MCF_SS.T\n",
    "y_HCC_SS = y_HCC_SS.T"
   ],
   "metadata": {
    "collapsed": false
   }
  },
  {
   "cell_type": "code",
   "execution_count": 53,
   "outputs": [
    {
     "data": {
      "text/plain": "                         \"MALAT1\"  \"MT-RNR2\"  \"NEAT1\"  \"H1-5\"  \"TFF1\"  \\\n\"AAAAACCTATCG_Normoxia\"         1          0        0       0       4   \n\"AAAACAACCCTA_Normoxia\"         3          0        0       0       1   \n\"AAAACACTCTCA_Normoxia\"         3          0        0       0       1   \n\"AAAACCAGGCAC_Normoxia\"         6          2        0       0       1   \n\"AAAACCTAGCTC_Normoxia\"         4          0        0       0       0   \n...                           ...        ...      ...     ...     ...   \n\"TTTTCGCGTAGA_Hypoxia\"          0          0        0       0       3   \n\"TTTTCGTCCGCT_Hypoxia\"          1          0        0       0       4   \n\"TTTTCTCCGGCT_Hypoxia\"          0          0        0       1       2   \n\"TTTTGTTCAAAG_Hypoxia\"          0          0        0       0       6   \n\"TTTTTTGTATGT_Hypoxia\"          4          0        0       0       0   \n\n                         \"MT-RNR1\"  \"H4C3\"  \"GDF15\"  \"KRT81\"  \"MT-CO3\"  ...  \\\n\"AAAAACCTATCG_Normoxia\"          0       0        0        0         0  ...   \n\"AAAACAACCCTA_Normoxia\"          0       1        0        0         0  ...   \n\"AAAACACTCTCA_Normoxia\"          0       0        0        0         0  ...   \n\"AAAACCAGGCAC_Normoxia\"          0       1        0        0         0  ...   \n\"AAAACCTAGCTC_Normoxia\"          0       0        0        0         1  ...   \n...                            ...     ...      ...      ...       ...  ...   \n\"TTTTCGCGTAGA_Hypoxia\"           0       7        0        0         0  ...   \n\"TTTTCGTCCGCT_Hypoxia\"           0       1        0        1         0  ...   \n\"TTTTCTCCGGCT_Hypoxia\"           0       4        0        0         0  ...   \n\"TTTTGTTCAAAG_Hypoxia\"           0       0        0        0         0  ...   \n\"TTTTTTGTATGT_Hypoxia\"           0       6        0        0         0  ...   \n\n                         \"MROH1\"  \"SKIDA1\"  \"MICALL1\"  \"RARG\"  \"MYO1F\"  \\\n\"AAAAACCTATCG_Normoxia\"        0         0          0       0        0   \n\"AAAACAACCCTA_Normoxia\"        0         0          0       0        0   \n\"AAAACACTCTCA_Normoxia\"        0         0          0       0        0   \n\"AAAACCAGGCAC_Normoxia\"        0         0          0       0        0   \n\"AAAACCTAGCTC_Normoxia\"        0         0          0       0        0   \n...                          ...       ...        ...     ...      ...   \n\"TTTTCGCGTAGA_Hypoxia\"         0         0          0       0        0   \n\"TTTTCGTCCGCT_Hypoxia\"         0         0          0       0        0   \n\"TTTTCTCCGGCT_Hypoxia\"         0         0          0       0        0   \n\"TTTTGTTCAAAG_Hypoxia\"         0         0          0       0        0   \n\"TTTTTTGTATGT_Hypoxia\"         0         0          0       0        0   \n\n                         \"BRWD1-AS2\"  \"RPS19BP1\"  \"AUNIP\"  \"TNK2\"  \"SUDS3\"  \n\"AAAAACCTATCG_Normoxia\"            0           0        0       0        0  \n\"AAAACAACCCTA_Normoxia\"            0           0        0       0        0  \n\"AAAACACTCTCA_Normoxia\"            0           0        0       0        0  \n\"AAAACCAGGCAC_Normoxia\"            0           0        0       0        0  \n\"AAAACCTAGCTC_Normoxia\"            0           0        0       0        0  \n...                              ...         ...      ...     ...      ...  \n\"TTTTCGCGTAGA_Hypoxia\"             0           0        0       0        0  \n\"TTTTCGTCCGCT_Hypoxia\"             0           0        0       0        0  \n\"TTTTCTCCGGCT_Hypoxia\"             0           0        0       0        1  \n\"TTTTGTTCAAAG_Hypoxia\"             0           0        0       0        0  \n\"TTTTTTGTATGT_Hypoxia\"             0           0        0       0        0  \n\n[21626 rows x 3000 columns]",
      "text/html": "<div>\n<style scoped>\n    .dataframe tbody tr th:only-of-type {\n        vertical-align: middle;\n    }\n\n    .dataframe tbody tr th {\n        vertical-align: top;\n    }\n\n    .dataframe thead th {\n        text-align: right;\n    }\n</style>\n<table border=\"1\" class=\"dataframe\">\n  <thead>\n    <tr style=\"text-align: right;\">\n      <th></th>\n      <th>\"MALAT1\"</th>\n      <th>\"MT-RNR2\"</th>\n      <th>\"NEAT1\"</th>\n      <th>\"H1-5\"</th>\n      <th>\"TFF1\"</th>\n      <th>\"MT-RNR1\"</th>\n      <th>\"H4C3\"</th>\n      <th>\"GDF15\"</th>\n      <th>\"KRT81\"</th>\n      <th>\"MT-CO3\"</th>\n      <th>...</th>\n      <th>\"MROH1\"</th>\n      <th>\"SKIDA1\"</th>\n      <th>\"MICALL1\"</th>\n      <th>\"RARG\"</th>\n      <th>\"MYO1F\"</th>\n      <th>\"BRWD1-AS2\"</th>\n      <th>\"RPS19BP1\"</th>\n      <th>\"AUNIP\"</th>\n      <th>\"TNK2\"</th>\n      <th>\"SUDS3\"</th>\n    </tr>\n  </thead>\n  <tbody>\n    <tr>\n      <th>\"AAAAACCTATCG_Normoxia\"</th>\n      <td>1</td>\n      <td>0</td>\n      <td>0</td>\n      <td>0</td>\n      <td>4</td>\n      <td>0</td>\n      <td>0</td>\n      <td>0</td>\n      <td>0</td>\n      <td>0</td>\n      <td>...</td>\n      <td>0</td>\n      <td>0</td>\n      <td>0</td>\n      <td>0</td>\n      <td>0</td>\n      <td>0</td>\n      <td>0</td>\n      <td>0</td>\n      <td>0</td>\n      <td>0</td>\n    </tr>\n    <tr>\n      <th>\"AAAACAACCCTA_Normoxia\"</th>\n      <td>3</td>\n      <td>0</td>\n      <td>0</td>\n      <td>0</td>\n      <td>1</td>\n      <td>0</td>\n      <td>1</td>\n      <td>0</td>\n      <td>0</td>\n      <td>0</td>\n      <td>...</td>\n      <td>0</td>\n      <td>0</td>\n      <td>0</td>\n      <td>0</td>\n      <td>0</td>\n      <td>0</td>\n      <td>0</td>\n      <td>0</td>\n      <td>0</td>\n      <td>0</td>\n    </tr>\n    <tr>\n      <th>\"AAAACACTCTCA_Normoxia\"</th>\n      <td>3</td>\n      <td>0</td>\n      <td>0</td>\n      <td>0</td>\n      <td>1</td>\n      <td>0</td>\n      <td>0</td>\n      <td>0</td>\n      <td>0</td>\n      <td>0</td>\n      <td>...</td>\n      <td>0</td>\n      <td>0</td>\n      <td>0</td>\n      <td>0</td>\n      <td>0</td>\n      <td>0</td>\n      <td>0</td>\n      <td>0</td>\n      <td>0</td>\n      <td>0</td>\n    </tr>\n    <tr>\n      <th>\"AAAACCAGGCAC_Normoxia\"</th>\n      <td>6</td>\n      <td>2</td>\n      <td>0</td>\n      <td>0</td>\n      <td>1</td>\n      <td>0</td>\n      <td>1</td>\n      <td>0</td>\n      <td>0</td>\n      <td>0</td>\n      <td>...</td>\n      <td>0</td>\n      <td>0</td>\n      <td>0</td>\n      <td>0</td>\n      <td>0</td>\n      <td>0</td>\n      <td>0</td>\n      <td>0</td>\n      <td>0</td>\n      <td>0</td>\n    </tr>\n    <tr>\n      <th>\"AAAACCTAGCTC_Normoxia\"</th>\n      <td>4</td>\n      <td>0</td>\n      <td>0</td>\n      <td>0</td>\n      <td>0</td>\n      <td>0</td>\n      <td>0</td>\n      <td>0</td>\n      <td>0</td>\n      <td>1</td>\n      <td>...</td>\n      <td>0</td>\n      <td>0</td>\n      <td>0</td>\n      <td>0</td>\n      <td>0</td>\n      <td>0</td>\n      <td>0</td>\n      <td>0</td>\n      <td>0</td>\n      <td>0</td>\n    </tr>\n    <tr>\n      <th>...</th>\n      <td>...</td>\n      <td>...</td>\n      <td>...</td>\n      <td>...</td>\n      <td>...</td>\n      <td>...</td>\n      <td>...</td>\n      <td>...</td>\n      <td>...</td>\n      <td>...</td>\n      <td>...</td>\n      <td>...</td>\n      <td>...</td>\n      <td>...</td>\n      <td>...</td>\n      <td>...</td>\n      <td>...</td>\n      <td>...</td>\n      <td>...</td>\n      <td>...</td>\n      <td>...</td>\n    </tr>\n    <tr>\n      <th>\"TTTTCGCGTAGA_Hypoxia\"</th>\n      <td>0</td>\n      <td>0</td>\n      <td>0</td>\n      <td>0</td>\n      <td>3</td>\n      <td>0</td>\n      <td>7</td>\n      <td>0</td>\n      <td>0</td>\n      <td>0</td>\n      <td>...</td>\n      <td>0</td>\n      <td>0</td>\n      <td>0</td>\n      <td>0</td>\n      <td>0</td>\n      <td>0</td>\n      <td>0</td>\n      <td>0</td>\n      <td>0</td>\n      <td>0</td>\n    </tr>\n    <tr>\n      <th>\"TTTTCGTCCGCT_Hypoxia\"</th>\n      <td>1</td>\n      <td>0</td>\n      <td>0</td>\n      <td>0</td>\n      <td>4</td>\n      <td>0</td>\n      <td>1</td>\n      <td>0</td>\n      <td>1</td>\n      <td>0</td>\n      <td>...</td>\n      <td>0</td>\n      <td>0</td>\n      <td>0</td>\n      <td>0</td>\n      <td>0</td>\n      <td>0</td>\n      <td>0</td>\n      <td>0</td>\n      <td>0</td>\n      <td>0</td>\n    </tr>\n    <tr>\n      <th>\"TTTTCTCCGGCT_Hypoxia\"</th>\n      <td>0</td>\n      <td>0</td>\n      <td>0</td>\n      <td>1</td>\n      <td>2</td>\n      <td>0</td>\n      <td>4</td>\n      <td>0</td>\n      <td>0</td>\n      <td>0</td>\n      <td>...</td>\n      <td>0</td>\n      <td>0</td>\n      <td>0</td>\n      <td>0</td>\n      <td>0</td>\n      <td>0</td>\n      <td>0</td>\n      <td>0</td>\n      <td>0</td>\n      <td>1</td>\n    </tr>\n    <tr>\n      <th>\"TTTTGTTCAAAG_Hypoxia\"</th>\n      <td>0</td>\n      <td>0</td>\n      <td>0</td>\n      <td>0</td>\n      <td>6</td>\n      <td>0</td>\n      <td>0</td>\n      <td>0</td>\n      <td>0</td>\n      <td>0</td>\n      <td>...</td>\n      <td>0</td>\n      <td>0</td>\n      <td>0</td>\n      <td>0</td>\n      <td>0</td>\n      <td>0</td>\n      <td>0</td>\n      <td>0</td>\n      <td>0</td>\n      <td>0</td>\n    </tr>\n    <tr>\n      <th>\"TTTTTTGTATGT_Hypoxia\"</th>\n      <td>4</td>\n      <td>0</td>\n      <td>0</td>\n      <td>0</td>\n      <td>0</td>\n      <td>0</td>\n      <td>6</td>\n      <td>0</td>\n      <td>0</td>\n      <td>0</td>\n      <td>...</td>\n      <td>0</td>\n      <td>0</td>\n      <td>0</td>\n      <td>0</td>\n      <td>0</td>\n      <td>0</td>\n      <td>0</td>\n      <td>0</td>\n      <td>0</td>\n      <td>0</td>\n    </tr>\n  </tbody>\n</table>\n<p>21626 rows × 3000 columns</p>\n</div>"
     },
     "execution_count": 53,
     "metadata": {},
     "output_type": "execute_result"
    }
   ],
   "source": [
    "MCF_DS_test = MCF_DS_test.T\n",
    "MCF_DS_test"
   ],
   "metadata": {
    "collapsed": false
   }
  },
  {
   "cell_type": "code",
   "execution_count": 52,
   "outputs": [
    {
     "data": {
      "text/plain": "                         \"MALAT1\"  \"MT-RNR2\"  \"NEAT1\"  \"H1-5\"  \"TFF1\"  \\\n\"AAAAACCTATCG_Normoxia\"         1          0        0       0       4   \n\"AAAACAACCCTA_Normoxia\"         3          0        0       0       1   \n\"AAAACACTCTCA_Normoxia\"         3          0        0       0       1   \n\"AAAACCAGGCAC_Normoxia\"         6          2        0       0       1   \n\"AAAACCTAGCTC_Normoxia\"         4          0        0       0       0   \n...                           ...        ...      ...     ...     ...   \n\"TTTTCGCGTAGA_Hypoxia\"          0          0        0       0       3   \n\"TTTTCGTCCGCT_Hypoxia\"          1          0        0       0       4   \n\"TTTTCTCCGGCT_Hypoxia\"          0          0        0       1       2   \n\"TTTTGTTCAAAG_Hypoxia\"          0          0        0       0       6   \n\"TTTTTTGTATGT_Hypoxia\"          4          0        0       0       0   \n\n                         \"MT-RNR1\"  \"H4C3\"  \"GDF15\"  \"KRT81\"  \"MT-CO3\"  ...  \\\n\"AAAAACCTATCG_Normoxia\"          0       0        0        0         0  ...   \n\"AAAACAACCCTA_Normoxia\"          0       1        0        0         0  ...   \n\"AAAACACTCTCA_Normoxia\"          0       0        0        0         0  ...   \n\"AAAACCAGGCAC_Normoxia\"          0       1        0        0         0  ...   \n\"AAAACCTAGCTC_Normoxia\"          0       0        0        0         1  ...   \n...                            ...     ...      ...      ...       ...  ...   \n\"TTTTCGCGTAGA_Hypoxia\"           0       7        0        0         0  ...   \n\"TTTTCGTCCGCT_Hypoxia\"           0       1        0        1         0  ...   \n\"TTTTCTCCGGCT_Hypoxia\"           0       4        0        0         0  ...   \n\"TTTTGTTCAAAG_Hypoxia\"           0       0        0        0         0  ...   \n\"TTTTTTGTATGT_Hypoxia\"           0       6        0        0         0  ...   \n\n                         \"MROH1\"  \"SKIDA1\"  \"MICALL1\"  \"RARG\"  \"MYO1F\"  \\\n\"AAAAACCTATCG_Normoxia\"        0         0          0       0        0   \n\"AAAACAACCCTA_Normoxia\"        0         0          0       0        0   \n\"AAAACACTCTCA_Normoxia\"        0         0          0       0        0   \n\"AAAACCAGGCAC_Normoxia\"        0         0          0       0        0   \n\"AAAACCTAGCTC_Normoxia\"        0         0          0       0        0   \n...                          ...       ...        ...     ...      ...   \n\"TTTTCGCGTAGA_Hypoxia\"         0         0          0       0        0   \n\"TTTTCGTCCGCT_Hypoxia\"         0         0          0       0        0   \n\"TTTTCTCCGGCT_Hypoxia\"         0         0          0       0        0   \n\"TTTTGTTCAAAG_Hypoxia\"         0         0          0       0        0   \n\"TTTTTTGTATGT_Hypoxia\"         0         0          0       0        0   \n\n                         \"BRWD1-AS2\"  \"RPS19BP1\"  \"AUNIP\"  \"TNK2\"  \"SUDS3\"  \n\"AAAAACCTATCG_Normoxia\"            0           0        0       0        0  \n\"AAAACAACCCTA_Normoxia\"            0           0        0       0        0  \n\"AAAACACTCTCA_Normoxia\"            0           0        0       0        0  \n\"AAAACCAGGCAC_Normoxia\"            0           0        0       0        0  \n\"AAAACCTAGCTC_Normoxia\"            0           0        0       0        0  \n...                              ...         ...      ...     ...      ...  \n\"TTTTCGCGTAGA_Hypoxia\"             0           0        0       0        0  \n\"TTTTCGTCCGCT_Hypoxia\"             0           0        0       0        0  \n\"TTTTCTCCGGCT_Hypoxia\"             0           0        0       0        1  \n\"TTTTGTTCAAAG_Hypoxia\"             0           0        0       0        0  \n\"TTTTTTGTATGT_Hypoxia\"             0           0        0       0        0  \n\n[21626 rows x 3000 columns]",
      "text/html": "<div>\n<style scoped>\n    .dataframe tbody tr th:only-of-type {\n        vertical-align: middle;\n    }\n\n    .dataframe tbody tr th {\n        vertical-align: top;\n    }\n\n    .dataframe thead th {\n        text-align: right;\n    }\n</style>\n<table border=\"1\" class=\"dataframe\">\n  <thead>\n    <tr style=\"text-align: right;\">\n      <th></th>\n      <th>\"MALAT1\"</th>\n      <th>\"MT-RNR2\"</th>\n      <th>\"NEAT1\"</th>\n      <th>\"H1-5\"</th>\n      <th>\"TFF1\"</th>\n      <th>\"MT-RNR1\"</th>\n      <th>\"H4C3\"</th>\n      <th>\"GDF15\"</th>\n      <th>\"KRT81\"</th>\n      <th>\"MT-CO3\"</th>\n      <th>...</th>\n      <th>\"MROH1\"</th>\n      <th>\"SKIDA1\"</th>\n      <th>\"MICALL1\"</th>\n      <th>\"RARG\"</th>\n      <th>\"MYO1F\"</th>\n      <th>\"BRWD1-AS2\"</th>\n      <th>\"RPS19BP1\"</th>\n      <th>\"AUNIP\"</th>\n      <th>\"TNK2\"</th>\n      <th>\"SUDS3\"</th>\n    </tr>\n  </thead>\n  <tbody>\n    <tr>\n      <th>\"AAAAACCTATCG_Normoxia\"</th>\n      <td>1</td>\n      <td>0</td>\n      <td>0</td>\n      <td>0</td>\n      <td>4</td>\n      <td>0</td>\n      <td>0</td>\n      <td>0</td>\n      <td>0</td>\n      <td>0</td>\n      <td>...</td>\n      <td>0</td>\n      <td>0</td>\n      <td>0</td>\n      <td>0</td>\n      <td>0</td>\n      <td>0</td>\n      <td>0</td>\n      <td>0</td>\n      <td>0</td>\n      <td>0</td>\n    </tr>\n    <tr>\n      <th>\"AAAACAACCCTA_Normoxia\"</th>\n      <td>3</td>\n      <td>0</td>\n      <td>0</td>\n      <td>0</td>\n      <td>1</td>\n      <td>0</td>\n      <td>1</td>\n      <td>0</td>\n      <td>0</td>\n      <td>0</td>\n      <td>...</td>\n      <td>0</td>\n      <td>0</td>\n      <td>0</td>\n      <td>0</td>\n      <td>0</td>\n      <td>0</td>\n      <td>0</td>\n      <td>0</td>\n      <td>0</td>\n      <td>0</td>\n    </tr>\n    <tr>\n      <th>\"AAAACACTCTCA_Normoxia\"</th>\n      <td>3</td>\n      <td>0</td>\n      <td>0</td>\n      <td>0</td>\n      <td>1</td>\n      <td>0</td>\n      <td>0</td>\n      <td>0</td>\n      <td>0</td>\n      <td>0</td>\n      <td>...</td>\n      <td>0</td>\n      <td>0</td>\n      <td>0</td>\n      <td>0</td>\n      <td>0</td>\n      <td>0</td>\n      <td>0</td>\n      <td>0</td>\n      <td>0</td>\n      <td>0</td>\n    </tr>\n    <tr>\n      <th>\"AAAACCAGGCAC_Normoxia\"</th>\n      <td>6</td>\n      <td>2</td>\n      <td>0</td>\n      <td>0</td>\n      <td>1</td>\n      <td>0</td>\n      <td>1</td>\n      <td>0</td>\n      <td>0</td>\n      <td>0</td>\n      <td>...</td>\n      <td>0</td>\n      <td>0</td>\n      <td>0</td>\n      <td>0</td>\n      <td>0</td>\n      <td>0</td>\n      <td>0</td>\n      <td>0</td>\n      <td>0</td>\n      <td>0</td>\n    </tr>\n    <tr>\n      <th>\"AAAACCTAGCTC_Normoxia\"</th>\n      <td>4</td>\n      <td>0</td>\n      <td>0</td>\n      <td>0</td>\n      <td>0</td>\n      <td>0</td>\n      <td>0</td>\n      <td>0</td>\n      <td>0</td>\n      <td>1</td>\n      <td>...</td>\n      <td>0</td>\n      <td>0</td>\n      <td>0</td>\n      <td>0</td>\n      <td>0</td>\n      <td>0</td>\n      <td>0</td>\n      <td>0</td>\n      <td>0</td>\n      <td>0</td>\n    </tr>\n    <tr>\n      <th>...</th>\n      <td>...</td>\n      <td>...</td>\n      <td>...</td>\n      <td>...</td>\n      <td>...</td>\n      <td>...</td>\n      <td>...</td>\n      <td>...</td>\n      <td>...</td>\n      <td>...</td>\n      <td>...</td>\n      <td>...</td>\n      <td>...</td>\n      <td>...</td>\n      <td>...</td>\n      <td>...</td>\n      <td>...</td>\n      <td>...</td>\n      <td>...</td>\n      <td>...</td>\n      <td>...</td>\n    </tr>\n    <tr>\n      <th>\"TTTTCGCGTAGA_Hypoxia\"</th>\n      <td>0</td>\n      <td>0</td>\n      <td>0</td>\n      <td>0</td>\n      <td>3</td>\n      <td>0</td>\n      <td>7</td>\n      <td>0</td>\n      <td>0</td>\n      <td>0</td>\n      <td>...</td>\n      <td>0</td>\n      <td>0</td>\n      <td>0</td>\n      <td>0</td>\n      <td>0</td>\n      <td>0</td>\n      <td>0</td>\n      <td>0</td>\n      <td>0</td>\n      <td>0</td>\n    </tr>\n    <tr>\n      <th>\"TTTTCGTCCGCT_Hypoxia\"</th>\n      <td>1</td>\n      <td>0</td>\n      <td>0</td>\n      <td>0</td>\n      <td>4</td>\n      <td>0</td>\n      <td>1</td>\n      <td>0</td>\n      <td>1</td>\n      <td>0</td>\n      <td>...</td>\n      <td>0</td>\n      <td>0</td>\n      <td>0</td>\n      <td>0</td>\n      <td>0</td>\n      <td>0</td>\n      <td>0</td>\n      <td>0</td>\n      <td>0</td>\n      <td>0</td>\n    </tr>\n    <tr>\n      <th>\"TTTTCTCCGGCT_Hypoxia\"</th>\n      <td>0</td>\n      <td>0</td>\n      <td>0</td>\n      <td>1</td>\n      <td>2</td>\n      <td>0</td>\n      <td>4</td>\n      <td>0</td>\n      <td>0</td>\n      <td>0</td>\n      <td>...</td>\n      <td>0</td>\n      <td>0</td>\n      <td>0</td>\n      <td>0</td>\n      <td>0</td>\n      <td>0</td>\n      <td>0</td>\n      <td>0</td>\n      <td>0</td>\n      <td>1</td>\n    </tr>\n    <tr>\n      <th>\"TTTTGTTCAAAG_Hypoxia\"</th>\n      <td>0</td>\n      <td>0</td>\n      <td>0</td>\n      <td>0</td>\n      <td>6</td>\n      <td>0</td>\n      <td>0</td>\n      <td>0</td>\n      <td>0</td>\n      <td>0</td>\n      <td>...</td>\n      <td>0</td>\n      <td>0</td>\n      <td>0</td>\n      <td>0</td>\n      <td>0</td>\n      <td>0</td>\n      <td>0</td>\n      <td>0</td>\n      <td>0</td>\n      <td>0</td>\n    </tr>\n    <tr>\n      <th>\"TTTTTTGTATGT_Hypoxia\"</th>\n      <td>4</td>\n      <td>0</td>\n      <td>0</td>\n      <td>0</td>\n      <td>0</td>\n      <td>0</td>\n      <td>6</td>\n      <td>0</td>\n      <td>0</td>\n      <td>0</td>\n      <td>...</td>\n      <td>0</td>\n      <td>0</td>\n      <td>0</td>\n      <td>0</td>\n      <td>0</td>\n      <td>0</td>\n      <td>0</td>\n      <td>0</td>\n      <td>0</td>\n      <td>0</td>\n    </tr>\n  </tbody>\n</table>\n<p>21626 rows × 3000 columns</p>\n</div>"
     },
     "execution_count": 52,
     "metadata": {},
     "output_type": "execute_result"
    }
   ],
   "source": [
    "MCF_DS"
   ],
   "metadata": {
    "collapsed": false
   }
  },
  {
   "cell_type": "code",
   "execution_count": 55,
   "outputs": [
    {
     "data": {
      "text/plain": "        \"H1-5\"  \"MALAT1\"  \"MT-RNR2\"  \"ARVCF\"  \"BCYRN1\"  \"ATXN7L2\"  \"IGFBP3\"  \\\n\"1\"          0         3          1        0         2          0         0   \n\"2\"          0         1          0        0         1          0         0   \n\"3\"          2         1          0        0         1          0         0   \n\"4\"          0         0          0        0         0          0         0   \n\"5\"          0         0          0        0         0          0         0   \n...        ...       ...        ...      ...       ...        ...       ...   \n\"3667\"       1         5          1        0         0          0         0   \n\"3668\"       0         5          0        0         0          0         0   \n\"3669\"       0         0          0        0         2          0         0   \n\"3670\"       0         0          0        0         3          0         1   \n\"3671\"       3         0          0        0         0          0         0   \n\n        \"H1-3\"  \"CTIF\"  \"RNF123\"  ...  \"BATF3\"  \"CDKN3\"  \"DLD\"  \"PMPCA\"  \\\n\"1\"          0       0         0  ...        0        0      0        0   \n\"2\"          0       0         0  ...        0        0      0        0   \n\"3\"          1       0         0  ...        0        0      0        0   \n\"4\"          1       0         0  ...        0        0      0        0   \n\"5\"          0       0         0  ...        0        0      0        0   \n...        ...     ...       ...  ...      ...      ...    ...      ...   \n\"3667\"       0       0         0  ...        0        0      0        0   \n\"3668\"       0       0         0  ...        0        0      0        1   \n\"3669\"       0       0         0  ...        0        0      0        0   \n\"3670\"       1       0         0  ...        0        0      0        0   \n\"3671\"       3       0         0  ...        0        0      0        0   \n\n        \"ZNF165\"  \"SCCPDH\"  \"NTAN1\"  \"CLIP2\"  \"DUSP23\"  \"ZNF682\"  \n\"1\"            0         0        0        0         0         0  \n\"2\"            0         0        0        0         0         0  \n\"3\"            0         0        0        0         0         0  \n\"4\"            0         0        0        0         0         0  \n\"5\"            0         0        0        0         0         0  \n...          ...       ...      ...      ...       ...       ...  \n\"3667\"         0         0        0        0         0         0  \n\"3668\"         0         0        0        0         0         0  \n\"3669\"         0         0        0        0         0         0  \n\"3670\"         0         0        0        0         0         0  \n\"3671\"         0         0        0        0         0         0  \n\n[3671 rows x 3000 columns]",
      "text/html": "<div>\n<style scoped>\n    .dataframe tbody tr th:only-of-type {\n        vertical-align: middle;\n    }\n\n    .dataframe tbody tr th {\n        vertical-align: top;\n    }\n\n    .dataframe thead th {\n        text-align: right;\n    }\n</style>\n<table border=\"1\" class=\"dataframe\">\n  <thead>\n    <tr style=\"text-align: right;\">\n      <th></th>\n      <th>\"H1-5\"</th>\n      <th>\"MALAT1\"</th>\n      <th>\"MT-RNR2\"</th>\n      <th>\"ARVCF\"</th>\n      <th>\"BCYRN1\"</th>\n      <th>\"ATXN7L2\"</th>\n      <th>\"IGFBP3\"</th>\n      <th>\"H1-3\"</th>\n      <th>\"CTIF\"</th>\n      <th>\"RNF123\"</th>\n      <th>...</th>\n      <th>\"BATF3\"</th>\n      <th>\"CDKN3\"</th>\n      <th>\"DLD\"</th>\n      <th>\"PMPCA\"</th>\n      <th>\"ZNF165\"</th>\n      <th>\"SCCPDH\"</th>\n      <th>\"NTAN1\"</th>\n      <th>\"CLIP2\"</th>\n      <th>\"DUSP23\"</th>\n      <th>\"ZNF682\"</th>\n    </tr>\n  </thead>\n  <tbody>\n    <tr>\n      <th>\"1\"</th>\n      <td>0</td>\n      <td>3</td>\n      <td>1</td>\n      <td>0</td>\n      <td>2</td>\n      <td>0</td>\n      <td>0</td>\n      <td>0</td>\n      <td>0</td>\n      <td>0</td>\n      <td>...</td>\n      <td>0</td>\n      <td>0</td>\n      <td>0</td>\n      <td>0</td>\n      <td>0</td>\n      <td>0</td>\n      <td>0</td>\n      <td>0</td>\n      <td>0</td>\n      <td>0</td>\n    </tr>\n    <tr>\n      <th>\"2\"</th>\n      <td>0</td>\n      <td>1</td>\n      <td>0</td>\n      <td>0</td>\n      <td>1</td>\n      <td>0</td>\n      <td>0</td>\n      <td>0</td>\n      <td>0</td>\n      <td>0</td>\n      <td>...</td>\n      <td>0</td>\n      <td>0</td>\n      <td>0</td>\n      <td>0</td>\n      <td>0</td>\n      <td>0</td>\n      <td>0</td>\n      <td>0</td>\n      <td>0</td>\n      <td>0</td>\n    </tr>\n    <tr>\n      <th>\"3\"</th>\n      <td>2</td>\n      <td>1</td>\n      <td>0</td>\n      <td>0</td>\n      <td>1</td>\n      <td>0</td>\n      <td>0</td>\n      <td>1</td>\n      <td>0</td>\n      <td>0</td>\n      <td>...</td>\n      <td>0</td>\n      <td>0</td>\n      <td>0</td>\n      <td>0</td>\n      <td>0</td>\n      <td>0</td>\n      <td>0</td>\n      <td>0</td>\n      <td>0</td>\n      <td>0</td>\n    </tr>\n    <tr>\n      <th>\"4\"</th>\n      <td>0</td>\n      <td>0</td>\n      <td>0</td>\n      <td>0</td>\n      <td>0</td>\n      <td>0</td>\n      <td>0</td>\n      <td>1</td>\n      <td>0</td>\n      <td>0</td>\n      <td>...</td>\n      <td>0</td>\n      <td>0</td>\n      <td>0</td>\n      <td>0</td>\n      <td>0</td>\n      <td>0</td>\n      <td>0</td>\n      <td>0</td>\n      <td>0</td>\n      <td>0</td>\n    </tr>\n    <tr>\n      <th>\"5\"</th>\n      <td>0</td>\n      <td>0</td>\n      <td>0</td>\n      <td>0</td>\n      <td>0</td>\n      <td>0</td>\n      <td>0</td>\n      <td>0</td>\n      <td>0</td>\n      <td>0</td>\n      <td>...</td>\n      <td>0</td>\n      <td>0</td>\n      <td>0</td>\n      <td>0</td>\n      <td>0</td>\n      <td>0</td>\n      <td>0</td>\n      <td>0</td>\n      <td>0</td>\n      <td>0</td>\n    </tr>\n    <tr>\n      <th>...</th>\n      <td>...</td>\n      <td>...</td>\n      <td>...</td>\n      <td>...</td>\n      <td>...</td>\n      <td>...</td>\n      <td>...</td>\n      <td>...</td>\n      <td>...</td>\n      <td>...</td>\n      <td>...</td>\n      <td>...</td>\n      <td>...</td>\n      <td>...</td>\n      <td>...</td>\n      <td>...</td>\n      <td>...</td>\n      <td>...</td>\n      <td>...</td>\n      <td>...</td>\n      <td>...</td>\n    </tr>\n    <tr>\n      <th>\"3667\"</th>\n      <td>1</td>\n      <td>5</td>\n      <td>1</td>\n      <td>0</td>\n      <td>0</td>\n      <td>0</td>\n      <td>0</td>\n      <td>0</td>\n      <td>0</td>\n      <td>0</td>\n      <td>...</td>\n      <td>0</td>\n      <td>0</td>\n      <td>0</td>\n      <td>0</td>\n      <td>0</td>\n      <td>0</td>\n      <td>0</td>\n      <td>0</td>\n      <td>0</td>\n      <td>0</td>\n    </tr>\n    <tr>\n      <th>\"3668\"</th>\n      <td>0</td>\n      <td>5</td>\n      <td>0</td>\n      <td>0</td>\n      <td>0</td>\n      <td>0</td>\n      <td>0</td>\n      <td>0</td>\n      <td>0</td>\n      <td>0</td>\n      <td>...</td>\n      <td>0</td>\n      <td>0</td>\n      <td>0</td>\n      <td>1</td>\n      <td>0</td>\n      <td>0</td>\n      <td>0</td>\n      <td>0</td>\n      <td>0</td>\n      <td>0</td>\n    </tr>\n    <tr>\n      <th>\"3669\"</th>\n      <td>0</td>\n      <td>0</td>\n      <td>0</td>\n      <td>0</td>\n      <td>2</td>\n      <td>0</td>\n      <td>0</td>\n      <td>0</td>\n      <td>0</td>\n      <td>0</td>\n      <td>...</td>\n      <td>0</td>\n      <td>0</td>\n      <td>0</td>\n      <td>0</td>\n      <td>0</td>\n      <td>0</td>\n      <td>0</td>\n      <td>0</td>\n      <td>0</td>\n      <td>0</td>\n    </tr>\n    <tr>\n      <th>\"3670\"</th>\n      <td>0</td>\n      <td>0</td>\n      <td>0</td>\n      <td>0</td>\n      <td>3</td>\n      <td>0</td>\n      <td>1</td>\n      <td>1</td>\n      <td>0</td>\n      <td>0</td>\n      <td>...</td>\n      <td>0</td>\n      <td>0</td>\n      <td>0</td>\n      <td>0</td>\n      <td>0</td>\n      <td>0</td>\n      <td>0</td>\n      <td>0</td>\n      <td>0</td>\n      <td>0</td>\n    </tr>\n    <tr>\n      <th>\"3671\"</th>\n      <td>3</td>\n      <td>0</td>\n      <td>0</td>\n      <td>0</td>\n      <td>0</td>\n      <td>0</td>\n      <td>0</td>\n      <td>3</td>\n      <td>0</td>\n      <td>0</td>\n      <td>...</td>\n      <td>0</td>\n      <td>0</td>\n      <td>0</td>\n      <td>0</td>\n      <td>0</td>\n      <td>0</td>\n      <td>0</td>\n      <td>0</td>\n      <td>0</td>\n      <td>0</td>\n    </tr>\n  </tbody>\n</table>\n<p>3671 rows × 3000 columns</p>\n</div>"
     },
     "execution_count": 55,
     "metadata": {},
     "output_type": "execute_result"
    }
   ],
   "source": [
    "HCC_DS_test = HCC_DS_test.T\n",
    "HCC_DS_test"
   ],
   "metadata": {
    "collapsed": false
   }
  },
  {
   "cell_type": "code",
   "execution_count": 57,
   "outputs": [
    {
     "data": {
      "text/plain": "      \"CYP1B1\"  \"CYP1B1-AS1\"  \"CYP1A1\"  \"NDRG1\"  \"DDIT4\"  \"PFKFB3\"  \"HK2\"  \\\n\"1\"        492           253         0     1157     6805      5447   2662   \n\"2\"       7199          3245      7181     1857    20731      4374   5490   \n\"3\"         12            11         1        5      147       301      9   \n\"4\"        373           187         0        0       43        37      0   \n\"5\"         31            13         0        0        0        44      8   \n...        ...           ...       ...      ...      ...       ...    ...   \n\"59\"       287           126       666     3270    25776     12144   1119   \n\"60\"     15220          6316      1991      750    12176      7488   3172   \n\"61\"     21998          8898     21329     1498     5144      1146    914   \n\"62\"        39            17         1       29       20         0      0   \n\"63\"       195            81         0        6       93        55      0   \n\n      \"AREG\"  \"MYBL2\"  \"ADM\"  ...  \"CD27-AS1\"  \"DNAI7\"  \"MAFG\"  \"LZTR1\"  \\\n\"1\"     2448        0     58  ...           0        0     193        0   \n\"2\"        0        0   2150  ...           0        0     187        0   \n\"3\"      647     1890      1  ...           0        0      28        0   \n\"4\"        0      580      0  ...          21        0     131        0   \n\"5\"        0      554      0  ...          43        0      30        0   \n...      ...      ...    ...  ...         ...      ...     ...      ...   \n\"59\"       0        0    678  ...           0        0     473        0   \n\"60\"    2030        0     64  ...           0        0      36        0   \n\"61\"       0        0      0  ...          69        0       0        0   \n\"62\"      88     1399      0  ...          12        0       0        0   \n\"63\"       3      961     16  ...          26        0      22       20   \n\n      \"BCO2\"  \"GRIK5\"  \"SLC25A27\"  \"DENND5A\"  \"CDK5R1\"  \"FAM13A-AS1\"  \n\"1\"        0        0           0        285         0             1  \n\"2\"        0        0           0         55         0             0  \n\"3\"        0        0           0          1         0             0  \n\"4\"        0        0           0          3         0             0  \n\"5\"        0        0           0          1         0             0  \n...      ...      ...         ...        ...       ...           ...  \n\"59\"       0        0           0        315         0            26  \n\"60\"       0        0          34         78         0             0  \n\"61\"       0        0           0          0         0            35  \n\"62\"       0        0           0          0         0             0  \n\"63\"       0        0           0          3         0             0  \n\n[63 rows x 3000 columns]",
      "text/html": "<div>\n<style scoped>\n    .dataframe tbody tr th:only-of-type {\n        vertical-align: middle;\n    }\n\n    .dataframe tbody tr th {\n        vertical-align: top;\n    }\n\n    .dataframe thead th {\n        text-align: right;\n    }\n</style>\n<table border=\"1\" class=\"dataframe\">\n  <thead>\n    <tr style=\"text-align: right;\">\n      <th></th>\n      <th>\"CYP1B1\"</th>\n      <th>\"CYP1B1-AS1\"</th>\n      <th>\"CYP1A1\"</th>\n      <th>\"NDRG1\"</th>\n      <th>\"DDIT4\"</th>\n      <th>\"PFKFB3\"</th>\n      <th>\"HK2\"</th>\n      <th>\"AREG\"</th>\n      <th>\"MYBL2\"</th>\n      <th>\"ADM\"</th>\n      <th>...</th>\n      <th>\"CD27-AS1\"</th>\n      <th>\"DNAI7\"</th>\n      <th>\"MAFG\"</th>\n      <th>\"LZTR1\"</th>\n      <th>\"BCO2\"</th>\n      <th>\"GRIK5\"</th>\n      <th>\"SLC25A27\"</th>\n      <th>\"DENND5A\"</th>\n      <th>\"CDK5R1\"</th>\n      <th>\"FAM13A-AS1\"</th>\n    </tr>\n  </thead>\n  <tbody>\n    <tr>\n      <th>\"1\"</th>\n      <td>492</td>\n      <td>253</td>\n      <td>0</td>\n      <td>1157</td>\n      <td>6805</td>\n      <td>5447</td>\n      <td>2662</td>\n      <td>2448</td>\n      <td>0</td>\n      <td>58</td>\n      <td>...</td>\n      <td>0</td>\n      <td>0</td>\n      <td>193</td>\n      <td>0</td>\n      <td>0</td>\n      <td>0</td>\n      <td>0</td>\n      <td>285</td>\n      <td>0</td>\n      <td>1</td>\n    </tr>\n    <tr>\n      <th>\"2\"</th>\n      <td>7199</td>\n      <td>3245</td>\n      <td>7181</td>\n      <td>1857</td>\n      <td>20731</td>\n      <td>4374</td>\n      <td>5490</td>\n      <td>0</td>\n      <td>0</td>\n      <td>2150</td>\n      <td>...</td>\n      <td>0</td>\n      <td>0</td>\n      <td>187</td>\n      <td>0</td>\n      <td>0</td>\n      <td>0</td>\n      <td>0</td>\n      <td>55</td>\n      <td>0</td>\n      <td>0</td>\n    </tr>\n    <tr>\n      <th>\"3\"</th>\n      <td>12</td>\n      <td>11</td>\n      <td>1</td>\n      <td>5</td>\n      <td>147</td>\n      <td>301</td>\n      <td>9</td>\n      <td>647</td>\n      <td>1890</td>\n      <td>1</td>\n      <td>...</td>\n      <td>0</td>\n      <td>0</td>\n      <td>28</td>\n      <td>0</td>\n      <td>0</td>\n      <td>0</td>\n      <td>0</td>\n      <td>1</td>\n      <td>0</td>\n      <td>0</td>\n    </tr>\n    <tr>\n      <th>\"4\"</th>\n      <td>373</td>\n      <td>187</td>\n      <td>0</td>\n      <td>0</td>\n      <td>43</td>\n      <td>37</td>\n      <td>0</td>\n      <td>0</td>\n      <td>580</td>\n      <td>0</td>\n      <td>...</td>\n      <td>21</td>\n      <td>0</td>\n      <td>131</td>\n      <td>0</td>\n      <td>0</td>\n      <td>0</td>\n      <td>0</td>\n      <td>3</td>\n      <td>0</td>\n      <td>0</td>\n    </tr>\n    <tr>\n      <th>\"5\"</th>\n      <td>31</td>\n      <td>13</td>\n      <td>0</td>\n      <td>0</td>\n      <td>0</td>\n      <td>44</td>\n      <td>8</td>\n      <td>0</td>\n      <td>554</td>\n      <td>0</td>\n      <td>...</td>\n      <td>43</td>\n      <td>0</td>\n      <td>30</td>\n      <td>0</td>\n      <td>0</td>\n      <td>0</td>\n      <td>0</td>\n      <td>1</td>\n      <td>0</td>\n      <td>0</td>\n    </tr>\n    <tr>\n      <th>...</th>\n      <td>...</td>\n      <td>...</td>\n      <td>...</td>\n      <td>...</td>\n      <td>...</td>\n      <td>...</td>\n      <td>...</td>\n      <td>...</td>\n      <td>...</td>\n      <td>...</td>\n      <td>...</td>\n      <td>...</td>\n      <td>...</td>\n      <td>...</td>\n      <td>...</td>\n      <td>...</td>\n      <td>...</td>\n      <td>...</td>\n      <td>...</td>\n      <td>...</td>\n      <td>...</td>\n    </tr>\n    <tr>\n      <th>\"59\"</th>\n      <td>287</td>\n      <td>126</td>\n      <td>666</td>\n      <td>3270</td>\n      <td>25776</td>\n      <td>12144</td>\n      <td>1119</td>\n      <td>0</td>\n      <td>0</td>\n      <td>678</td>\n      <td>...</td>\n      <td>0</td>\n      <td>0</td>\n      <td>473</td>\n      <td>0</td>\n      <td>0</td>\n      <td>0</td>\n      <td>0</td>\n      <td>315</td>\n      <td>0</td>\n      <td>26</td>\n    </tr>\n    <tr>\n      <th>\"60\"</th>\n      <td>15220</td>\n      <td>6316</td>\n      <td>1991</td>\n      <td>750</td>\n      <td>12176</td>\n      <td>7488</td>\n      <td>3172</td>\n      <td>2030</td>\n      <td>0</td>\n      <td>64</td>\n      <td>...</td>\n      <td>0</td>\n      <td>0</td>\n      <td>36</td>\n      <td>0</td>\n      <td>0</td>\n      <td>0</td>\n      <td>34</td>\n      <td>78</td>\n      <td>0</td>\n      <td>0</td>\n    </tr>\n    <tr>\n      <th>\"61\"</th>\n      <td>21998</td>\n      <td>8898</td>\n      <td>21329</td>\n      <td>1498</td>\n      <td>5144</td>\n      <td>1146</td>\n      <td>914</td>\n      <td>0</td>\n      <td>0</td>\n      <td>0</td>\n      <td>...</td>\n      <td>69</td>\n      <td>0</td>\n      <td>0</td>\n      <td>0</td>\n      <td>0</td>\n      <td>0</td>\n      <td>0</td>\n      <td>0</td>\n      <td>0</td>\n      <td>35</td>\n    </tr>\n    <tr>\n      <th>\"62\"</th>\n      <td>39</td>\n      <td>17</td>\n      <td>1</td>\n      <td>29</td>\n      <td>20</td>\n      <td>0</td>\n      <td>0</td>\n      <td>88</td>\n      <td>1399</td>\n      <td>0</td>\n      <td>...</td>\n      <td>12</td>\n      <td>0</td>\n      <td>0</td>\n      <td>0</td>\n      <td>0</td>\n      <td>0</td>\n      <td>0</td>\n      <td>0</td>\n      <td>0</td>\n      <td>0</td>\n    </tr>\n    <tr>\n      <th>\"63\"</th>\n      <td>195</td>\n      <td>81</td>\n      <td>0</td>\n      <td>6</td>\n      <td>93</td>\n      <td>55</td>\n      <td>0</td>\n      <td>3</td>\n      <td>961</td>\n      <td>16</td>\n      <td>...</td>\n      <td>26</td>\n      <td>0</td>\n      <td>22</td>\n      <td>20</td>\n      <td>0</td>\n      <td>0</td>\n      <td>0</td>\n      <td>3</td>\n      <td>0</td>\n      <td>0</td>\n    </tr>\n  </tbody>\n</table>\n<p>63 rows × 3000 columns</p>\n</div>"
     },
     "execution_count": 57,
     "metadata": {},
     "output_type": "execute_result"
    }
   ],
   "source": [
    "MCF_SS_test = MCF_SS_test.T\n",
    "MCF_SS_test"
   ],
   "metadata": {
    "collapsed": false
   }
  },
  {
   "cell_type": "code",
   "execution_count": 59,
   "outputs": [
    {
     "data": {
      "text/plain": "      \"DDIT4\"  \"ANGPTL4\"  \"CALML5\"  \"KRT14\"  \"CCNB1\"  \"IGFBP3\"  \"AKR1C2\"  \\\n\"1\"         0          0         0      169      233       227       521   \n\"2\"      2475          0         0        0     3537       843       214   \n\"3\"      9088       2143         0        0      124         0         0   \n\"4\"      6909       3086         0      909       78       466       508   \n\"5\"     13655       2196         0        1        1     14688      3872   \n\"6\"      7684       1619         6       74        0      1205        79   \n\"7\"     13038       1917         0      108      991       134       681   \n\"8\"       640          1         0        1      128       168      2601   \n\"9\"         3          1         0     1794      256      1075      3335   \n\"10\"      542         81         0       99      180       183       660   \n\"11\"     2072        140         0       42      516       112         0   \n\"12\"      169        463         0        0     1091       109      2346   \n\"13\"    17451       6189         0     1473      397        79       506   \n\"14\"    12270        924         0     1842      296      1064        38   \n\"15\"     6434       2564       673      614        1      2613      1269   \n\"16\"     4820       3460         0       32     2237       441       823   \n\"17\"      231          0         0       35     2219        67       633   \n\"18\"      188         39         0        0      745      1194      4010   \n\"19\"      237         46         0       76      161       110       776   \n\"20\"        0         52         0      948       67        41      1169   \n\"21\"        3          1      1237        1     1716      1001      2451   \n\"22\"     4473       1434         0      710     2027       856      1864   \n\"23\"     5527       1705         0       14        0      3713      1029   \n\"24\"     4477       1756      1569      317      274      1776        29   \n\"25\"       36          0         0      139      659        38       835   \n\"26\"       81          0      1031     1264     1581      3921      6969   \n\"27\"     1468         53         0     3705     2958         0      1068   \n\"28\"     4945         62         0        1        1     15144      2308   \n\"29\"       37          0         0      427     2268       843       359   \n\"30\"    10509       4140         0       61      413      1437      1429   \n\"31\"     6710        348      1172        0      522      1335        64   \n\"32\"     1116          0         0       48     3952       182       140   \n\"33\"       58          0      1166      164      204      1033     13381   \n\"34\"    18584       3124         0      544      243       593        70   \n\"35\"     3916        645      1946        1     2112       245        23   \n\"36\"     4968       1634       797       53       81       464         1   \n\"37\"      301        153         0      745     1647         7      2082   \n\"38\"     2264        127         0        0      732       143        71   \n\"39\"      122         47         0     1917      380       385      4022   \n\"40\"     1845        643         0        1     3309       638       277   \n\"41\"     3654       1807         0        0      973       104        80   \n\"42\"      437          2      1526     3143       82      3354      1492   \n\"43\"    10496          0         1      643        0      4300       215   \n\"44\"     1506        374       635      349       26         0        21   \n\"45\"     1035          0         0      998     5161       392       887   \n\n      \"KRT6A\"  \"NDRG1\"  \"KRT4\"  ...  \"MST1R\"  \"ZYG11A\"  \"NRG1\"  \"RBMS3\"  \\\n\"1\"       577        0       0  ...        0         0     176        0   \n\"2\"         0        3       0  ...      106         0     333        0   \n\"3\"         0      415       0  ...      299         0       0       45   \n\"4\"       193      453       0  ...      319         0      95      167   \n\"5\"       184      884     176  ...        0         0       1        0   \n\"6\"        92      696     208  ...        0         0       0        0   \n\"7\"       171      524       0  ...      255         0     144        0   \n\"8\"      2421        1       0  ...        1         0     187        0   \n\"9\"      4781        1    4729  ...       71         0       1        0   \n\"10\"       93       77       0  ...       47        49       4       26   \n\"11\"        0        0       0  ...      206         0     113        0   \n\"12\"      229        0       0  ...       72         0     393        0   \n\"13\"      205      233       0  ...      271        88       0       60   \n\"14\"      494      576       0  ...      406         0     114        0   \n\"15\"      992      390     325  ...        1         0     117        0   \n\"16\"       79      840       3  ...       98         0      78        0   \n\"17\"      583        0       0  ...      341       125      17        0   \n\"18\"      545       32       1  ...       64         0     455       36   \n\"19\"     1574        0       0  ...        0         4      80        0   \n\"20\"      808      101       0  ...        0         0     228        0   \n\"21\"     1223        1       0  ...        0         0     144        0   \n\"22\"      890      204       0  ...        0         0     180        0   \n\"23\"      161      401       1  ...        0         3       0        0   \n\"24\"       57      373      62  ...        0         0       0        0   \n\"25\"      524        0       0  ...       53         7      75        0   \n\"26\"     8087        6     978  ...      139         0       0        0   \n\"27\"      907      116       0  ...      217         0      11       51   \n\"28\"        2      486       0  ...        0         0     125        0   \n\"29\"      108        3       0  ...      204         0      72       59   \n\"30\"        0      136       0  ...      160         0      87        0   \n\"31\"      197      309    2954  ...        0         0      86        0   \n\"32\"      607        1       0  ...       61         0      89        0   \n\"33\"     7494        4     570  ...      120        18      26        0   \n\"34\"      166     1259       0  ...       25         0      29       10   \n\"35\"      242      372       0  ...       62         0     183        0   \n\"36\"        1      141       0  ...       73        33     304       31   \n\"37\"      351        1       0  ...      301         0     139        0   \n\"38\"        0        1       0  ...      124         0     179       97   \n\"39\"     2509        0       0  ...        0         0     137        0   \n\"40\"       38       91       0  ...      502         9      61        0   \n\"41\"        0      245       0  ...      270         0     174       71   \n\"42\"     1255        1    1072  ...       83         3      61        0   \n\"43\"      407        7       0  ...       42         1     166       20   \n\"44\"       86      146       0  ...        0         0     118       40   \n\"45\"     3033        0       0  ...      176         0     270        0   \n\n      \"VCPIP1\"  \"LINC02693\"  \"OR8B9P\"  \"NEAT1\"  \"ZDHHC23\"  \"ODAD2\"  \n\"1\"          0           48         0      118          6        0  \n\"2\"         18           65         0       39          0        0  \n\"3\"          0            0         0      172          0        0  \n\"4\"          0            5         0       31          0       10  \n\"5\"          0            0         0      224          0        0  \n\"6\"          0           50         0      174          0        0  \n\"7\"          0            0         0       11         46        0  \n\"8\"         51           14         0       86          0        0  \n\"9\"          0            0         0       61          0        0  \n\"10\"         0          151         0       15         31        0  \n\"11\"         0           10         0       10          0        9  \n\"12\"        33            1         0       38          0        0  \n\"13\"         0           17         0       22          0        0  \n\"14\"         0            0         0       20          0        0  \n\"15\"         0          190         0        3          0        0  \n\"16\"        74           45         0       38         79        0  \n\"17\"       154          163         0       10          0        0  \n\"18\"        84            0         0       35         73       38  \n\"19\"         0           70         0        1          0       25  \n\"20\"         4           75         0      209          0        0  \n\"21\"        27            0         0       15          0        0  \n\"22\"         1           37         0      200          0        0  \n\"23\"        33            0         0        8         64        0  \n\"24\"         0          127         0      117          0        0  \n\"25\"         2           54         0       17         59        0  \n\"26\"         0           95         0       57         61        0  \n\"27\"        99          212         0       76          0        0  \n\"28\"       229          108         0       58          0        0  \n\"29\"         0           89         0       14          0       10  \n\"30\"        54            0         0       30         47        0  \n\"31\"         0            0         0       16          0        0  \n\"32\"        53           50         0        3          0        0  \n\"33\"         0            6         0       72         23        0  \n\"34\"        83           37         0      175          0        0  \n\"35\"        58           38         0       12          0        0  \n\"36\"         3            0         0        9          0        0  \n\"37\"         0            8         0       26          2        0  \n\"38\"         1           12         0        4          0       14  \n\"39\"         0           79         0       15          0        0  \n\"40\"         0            0         0      118          0        0  \n\"41\"        73          103         0       88          0        0  \n\"42\"         3           89         0        9          0        0  \n\"43\"         0          121         0      278          0        0  \n\"44\"       214          184         0       96        104       22  \n\"45\"         0            0         0       39          0        0  \n\n[45 rows x 3000 columns]",
      "text/html": "<div>\n<style scoped>\n    .dataframe tbody tr th:only-of-type {\n        vertical-align: middle;\n    }\n\n    .dataframe tbody tr th {\n        vertical-align: top;\n    }\n\n    .dataframe thead th {\n        text-align: right;\n    }\n</style>\n<table border=\"1\" class=\"dataframe\">\n  <thead>\n    <tr style=\"text-align: right;\">\n      <th></th>\n      <th>\"DDIT4\"</th>\n      <th>\"ANGPTL4\"</th>\n      <th>\"CALML5\"</th>\n      <th>\"KRT14\"</th>\n      <th>\"CCNB1\"</th>\n      <th>\"IGFBP3\"</th>\n      <th>\"AKR1C2\"</th>\n      <th>\"KRT6A\"</th>\n      <th>\"NDRG1\"</th>\n      <th>\"KRT4\"</th>\n      <th>...</th>\n      <th>\"MST1R\"</th>\n      <th>\"ZYG11A\"</th>\n      <th>\"NRG1\"</th>\n      <th>\"RBMS3\"</th>\n      <th>\"VCPIP1\"</th>\n      <th>\"LINC02693\"</th>\n      <th>\"OR8B9P\"</th>\n      <th>\"NEAT1\"</th>\n      <th>\"ZDHHC23\"</th>\n      <th>\"ODAD2\"</th>\n    </tr>\n  </thead>\n  <tbody>\n    <tr>\n      <th>\"1\"</th>\n      <td>0</td>\n      <td>0</td>\n      <td>0</td>\n      <td>169</td>\n      <td>233</td>\n      <td>227</td>\n      <td>521</td>\n      <td>577</td>\n      <td>0</td>\n      <td>0</td>\n      <td>...</td>\n      <td>0</td>\n      <td>0</td>\n      <td>176</td>\n      <td>0</td>\n      <td>0</td>\n      <td>48</td>\n      <td>0</td>\n      <td>118</td>\n      <td>6</td>\n      <td>0</td>\n    </tr>\n    <tr>\n      <th>\"2\"</th>\n      <td>2475</td>\n      <td>0</td>\n      <td>0</td>\n      <td>0</td>\n      <td>3537</td>\n      <td>843</td>\n      <td>214</td>\n      <td>0</td>\n      <td>3</td>\n      <td>0</td>\n      <td>...</td>\n      <td>106</td>\n      <td>0</td>\n      <td>333</td>\n      <td>0</td>\n      <td>18</td>\n      <td>65</td>\n      <td>0</td>\n      <td>39</td>\n      <td>0</td>\n      <td>0</td>\n    </tr>\n    <tr>\n      <th>\"3\"</th>\n      <td>9088</td>\n      <td>2143</td>\n      <td>0</td>\n      <td>0</td>\n      <td>124</td>\n      <td>0</td>\n      <td>0</td>\n      <td>0</td>\n      <td>415</td>\n      <td>0</td>\n      <td>...</td>\n      <td>299</td>\n      <td>0</td>\n      <td>0</td>\n      <td>45</td>\n      <td>0</td>\n      <td>0</td>\n      <td>0</td>\n      <td>172</td>\n      <td>0</td>\n      <td>0</td>\n    </tr>\n    <tr>\n      <th>\"4\"</th>\n      <td>6909</td>\n      <td>3086</td>\n      <td>0</td>\n      <td>909</td>\n      <td>78</td>\n      <td>466</td>\n      <td>508</td>\n      <td>193</td>\n      <td>453</td>\n      <td>0</td>\n      <td>...</td>\n      <td>319</td>\n      <td>0</td>\n      <td>95</td>\n      <td>167</td>\n      <td>0</td>\n      <td>5</td>\n      <td>0</td>\n      <td>31</td>\n      <td>0</td>\n      <td>10</td>\n    </tr>\n    <tr>\n      <th>\"5\"</th>\n      <td>13655</td>\n      <td>2196</td>\n      <td>0</td>\n      <td>1</td>\n      <td>1</td>\n      <td>14688</td>\n      <td>3872</td>\n      <td>184</td>\n      <td>884</td>\n      <td>176</td>\n      <td>...</td>\n      <td>0</td>\n      <td>0</td>\n      <td>1</td>\n      <td>0</td>\n      <td>0</td>\n      <td>0</td>\n      <td>0</td>\n      <td>224</td>\n      <td>0</td>\n      <td>0</td>\n    </tr>\n    <tr>\n      <th>\"6\"</th>\n      <td>7684</td>\n      <td>1619</td>\n      <td>6</td>\n      <td>74</td>\n      <td>0</td>\n      <td>1205</td>\n      <td>79</td>\n      <td>92</td>\n      <td>696</td>\n      <td>208</td>\n      <td>...</td>\n      <td>0</td>\n      <td>0</td>\n      <td>0</td>\n      <td>0</td>\n      <td>0</td>\n      <td>50</td>\n      <td>0</td>\n      <td>174</td>\n      <td>0</td>\n      <td>0</td>\n    </tr>\n    <tr>\n      <th>\"7\"</th>\n      <td>13038</td>\n      <td>1917</td>\n      <td>0</td>\n      <td>108</td>\n      <td>991</td>\n      <td>134</td>\n      <td>681</td>\n      <td>171</td>\n      <td>524</td>\n      <td>0</td>\n      <td>...</td>\n      <td>255</td>\n      <td>0</td>\n      <td>144</td>\n      <td>0</td>\n      <td>0</td>\n      <td>0</td>\n      <td>0</td>\n      <td>11</td>\n      <td>46</td>\n      <td>0</td>\n    </tr>\n    <tr>\n      <th>\"8\"</th>\n      <td>640</td>\n      <td>1</td>\n      <td>0</td>\n      <td>1</td>\n      <td>128</td>\n      <td>168</td>\n      <td>2601</td>\n      <td>2421</td>\n      <td>1</td>\n      <td>0</td>\n      <td>...</td>\n      <td>1</td>\n      <td>0</td>\n      <td>187</td>\n      <td>0</td>\n      <td>51</td>\n      <td>14</td>\n      <td>0</td>\n      <td>86</td>\n      <td>0</td>\n      <td>0</td>\n    </tr>\n    <tr>\n      <th>\"9\"</th>\n      <td>3</td>\n      <td>1</td>\n      <td>0</td>\n      <td>1794</td>\n      <td>256</td>\n      <td>1075</td>\n      <td>3335</td>\n      <td>4781</td>\n      <td>1</td>\n      <td>4729</td>\n      <td>...</td>\n      <td>71</td>\n      <td>0</td>\n      <td>1</td>\n      <td>0</td>\n      <td>0</td>\n      <td>0</td>\n      <td>0</td>\n      <td>61</td>\n      <td>0</td>\n      <td>0</td>\n    </tr>\n    <tr>\n      <th>\"10\"</th>\n      <td>542</td>\n      <td>81</td>\n      <td>0</td>\n      <td>99</td>\n      <td>180</td>\n      <td>183</td>\n      <td>660</td>\n      <td>93</td>\n      <td>77</td>\n      <td>0</td>\n      <td>...</td>\n      <td>47</td>\n      <td>49</td>\n      <td>4</td>\n      <td>26</td>\n      <td>0</td>\n      <td>151</td>\n      <td>0</td>\n      <td>15</td>\n      <td>31</td>\n      <td>0</td>\n    </tr>\n    <tr>\n      <th>\"11\"</th>\n      <td>2072</td>\n      <td>140</td>\n      <td>0</td>\n      <td>42</td>\n      <td>516</td>\n      <td>112</td>\n      <td>0</td>\n      <td>0</td>\n      <td>0</td>\n      <td>0</td>\n      <td>...</td>\n      <td>206</td>\n      <td>0</td>\n      <td>113</td>\n      <td>0</td>\n      <td>0</td>\n      <td>10</td>\n      <td>0</td>\n      <td>10</td>\n      <td>0</td>\n      <td>9</td>\n    </tr>\n    <tr>\n      <th>\"12\"</th>\n      <td>169</td>\n      <td>463</td>\n      <td>0</td>\n      <td>0</td>\n      <td>1091</td>\n      <td>109</td>\n      <td>2346</td>\n      <td>229</td>\n      <td>0</td>\n      <td>0</td>\n      <td>...</td>\n      <td>72</td>\n      <td>0</td>\n      <td>393</td>\n      <td>0</td>\n      <td>33</td>\n      <td>1</td>\n      <td>0</td>\n      <td>38</td>\n      <td>0</td>\n      <td>0</td>\n    </tr>\n    <tr>\n      <th>\"13\"</th>\n      <td>17451</td>\n      <td>6189</td>\n      <td>0</td>\n      <td>1473</td>\n      <td>397</td>\n      <td>79</td>\n      <td>506</td>\n      <td>205</td>\n      <td>233</td>\n      <td>0</td>\n      <td>...</td>\n      <td>271</td>\n      <td>88</td>\n      <td>0</td>\n      <td>60</td>\n      <td>0</td>\n      <td>17</td>\n      <td>0</td>\n      <td>22</td>\n      <td>0</td>\n      <td>0</td>\n    </tr>\n    <tr>\n      <th>\"14\"</th>\n      <td>12270</td>\n      <td>924</td>\n      <td>0</td>\n      <td>1842</td>\n      <td>296</td>\n      <td>1064</td>\n      <td>38</td>\n      <td>494</td>\n      <td>576</td>\n      <td>0</td>\n      <td>...</td>\n      <td>406</td>\n      <td>0</td>\n      <td>114</td>\n      <td>0</td>\n      <td>0</td>\n      <td>0</td>\n      <td>0</td>\n      <td>20</td>\n      <td>0</td>\n      <td>0</td>\n    </tr>\n    <tr>\n      <th>\"15\"</th>\n      <td>6434</td>\n      <td>2564</td>\n      <td>673</td>\n      <td>614</td>\n      <td>1</td>\n      <td>2613</td>\n      <td>1269</td>\n      <td>992</td>\n      <td>390</td>\n      <td>325</td>\n      <td>...</td>\n      <td>1</td>\n      <td>0</td>\n      <td>117</td>\n      <td>0</td>\n      <td>0</td>\n      <td>190</td>\n      <td>0</td>\n      <td>3</td>\n      <td>0</td>\n      <td>0</td>\n    </tr>\n    <tr>\n      <th>\"16\"</th>\n      <td>4820</td>\n      <td>3460</td>\n      <td>0</td>\n      <td>32</td>\n      <td>2237</td>\n      <td>441</td>\n      <td>823</td>\n      <td>79</td>\n      <td>840</td>\n      <td>3</td>\n      <td>...</td>\n      <td>98</td>\n      <td>0</td>\n      <td>78</td>\n      <td>0</td>\n      <td>74</td>\n      <td>45</td>\n      <td>0</td>\n      <td>38</td>\n      <td>79</td>\n      <td>0</td>\n    </tr>\n    <tr>\n      <th>\"17\"</th>\n      <td>231</td>\n      <td>0</td>\n      <td>0</td>\n      <td>35</td>\n      <td>2219</td>\n      <td>67</td>\n      <td>633</td>\n      <td>583</td>\n      <td>0</td>\n      <td>0</td>\n      <td>...</td>\n      <td>341</td>\n      <td>125</td>\n      <td>17</td>\n      <td>0</td>\n      <td>154</td>\n      <td>163</td>\n      <td>0</td>\n      <td>10</td>\n      <td>0</td>\n      <td>0</td>\n    </tr>\n    <tr>\n      <th>\"18\"</th>\n      <td>188</td>\n      <td>39</td>\n      <td>0</td>\n      <td>0</td>\n      <td>745</td>\n      <td>1194</td>\n      <td>4010</td>\n      <td>545</td>\n      <td>32</td>\n      <td>1</td>\n      <td>...</td>\n      <td>64</td>\n      <td>0</td>\n      <td>455</td>\n      <td>36</td>\n      <td>84</td>\n      <td>0</td>\n      <td>0</td>\n      <td>35</td>\n      <td>73</td>\n      <td>38</td>\n    </tr>\n    <tr>\n      <th>\"19\"</th>\n      <td>237</td>\n      <td>46</td>\n      <td>0</td>\n      <td>76</td>\n      <td>161</td>\n      <td>110</td>\n      <td>776</td>\n      <td>1574</td>\n      <td>0</td>\n      <td>0</td>\n      <td>...</td>\n      <td>0</td>\n      <td>4</td>\n      <td>80</td>\n      <td>0</td>\n      <td>0</td>\n      <td>70</td>\n      <td>0</td>\n      <td>1</td>\n      <td>0</td>\n      <td>25</td>\n    </tr>\n    <tr>\n      <th>\"20\"</th>\n      <td>0</td>\n      <td>52</td>\n      <td>0</td>\n      <td>948</td>\n      <td>67</td>\n      <td>41</td>\n      <td>1169</td>\n      <td>808</td>\n      <td>101</td>\n      <td>0</td>\n      <td>...</td>\n      <td>0</td>\n      <td>0</td>\n      <td>228</td>\n      <td>0</td>\n      <td>4</td>\n      <td>75</td>\n      <td>0</td>\n      <td>209</td>\n      <td>0</td>\n      <td>0</td>\n    </tr>\n    <tr>\n      <th>\"21\"</th>\n      <td>3</td>\n      <td>1</td>\n      <td>1237</td>\n      <td>1</td>\n      <td>1716</td>\n      <td>1001</td>\n      <td>2451</td>\n      <td>1223</td>\n      <td>1</td>\n      <td>0</td>\n      <td>...</td>\n      <td>0</td>\n      <td>0</td>\n      <td>144</td>\n      <td>0</td>\n      <td>27</td>\n      <td>0</td>\n      <td>0</td>\n      <td>15</td>\n      <td>0</td>\n      <td>0</td>\n    </tr>\n    <tr>\n      <th>\"22\"</th>\n      <td>4473</td>\n      <td>1434</td>\n      <td>0</td>\n      <td>710</td>\n      <td>2027</td>\n      <td>856</td>\n      <td>1864</td>\n      <td>890</td>\n      <td>204</td>\n      <td>0</td>\n      <td>...</td>\n      <td>0</td>\n      <td>0</td>\n      <td>180</td>\n      <td>0</td>\n      <td>1</td>\n      <td>37</td>\n      <td>0</td>\n      <td>200</td>\n      <td>0</td>\n      <td>0</td>\n    </tr>\n    <tr>\n      <th>\"23\"</th>\n      <td>5527</td>\n      <td>1705</td>\n      <td>0</td>\n      <td>14</td>\n      <td>0</td>\n      <td>3713</td>\n      <td>1029</td>\n      <td>161</td>\n      <td>401</td>\n      <td>1</td>\n      <td>...</td>\n      <td>0</td>\n      <td>3</td>\n      <td>0</td>\n      <td>0</td>\n      <td>33</td>\n      <td>0</td>\n      <td>0</td>\n      <td>8</td>\n      <td>64</td>\n      <td>0</td>\n    </tr>\n    <tr>\n      <th>\"24\"</th>\n      <td>4477</td>\n      <td>1756</td>\n      <td>1569</td>\n      <td>317</td>\n      <td>274</td>\n      <td>1776</td>\n      <td>29</td>\n      <td>57</td>\n      <td>373</td>\n      <td>62</td>\n      <td>...</td>\n      <td>0</td>\n      <td>0</td>\n      <td>0</td>\n      <td>0</td>\n      <td>0</td>\n      <td>127</td>\n      <td>0</td>\n      <td>117</td>\n      <td>0</td>\n      <td>0</td>\n    </tr>\n    <tr>\n      <th>\"25\"</th>\n      <td>36</td>\n      <td>0</td>\n      <td>0</td>\n      <td>139</td>\n      <td>659</td>\n      <td>38</td>\n      <td>835</td>\n      <td>524</td>\n      <td>0</td>\n      <td>0</td>\n      <td>...</td>\n      <td>53</td>\n      <td>7</td>\n      <td>75</td>\n      <td>0</td>\n      <td>2</td>\n      <td>54</td>\n      <td>0</td>\n      <td>17</td>\n      <td>59</td>\n      <td>0</td>\n    </tr>\n    <tr>\n      <th>\"26\"</th>\n      <td>81</td>\n      <td>0</td>\n      <td>1031</td>\n      <td>1264</td>\n      <td>1581</td>\n      <td>3921</td>\n      <td>6969</td>\n      <td>8087</td>\n      <td>6</td>\n      <td>978</td>\n      <td>...</td>\n      <td>139</td>\n      <td>0</td>\n      <td>0</td>\n      <td>0</td>\n      <td>0</td>\n      <td>95</td>\n      <td>0</td>\n      <td>57</td>\n      <td>61</td>\n      <td>0</td>\n    </tr>\n    <tr>\n      <th>\"27\"</th>\n      <td>1468</td>\n      <td>53</td>\n      <td>0</td>\n      <td>3705</td>\n      <td>2958</td>\n      <td>0</td>\n      <td>1068</td>\n      <td>907</td>\n      <td>116</td>\n      <td>0</td>\n      <td>...</td>\n      <td>217</td>\n      <td>0</td>\n      <td>11</td>\n      <td>51</td>\n      <td>99</td>\n      <td>212</td>\n      <td>0</td>\n      <td>76</td>\n      <td>0</td>\n      <td>0</td>\n    </tr>\n    <tr>\n      <th>\"28\"</th>\n      <td>4945</td>\n      <td>62</td>\n      <td>0</td>\n      <td>1</td>\n      <td>1</td>\n      <td>15144</td>\n      <td>2308</td>\n      <td>2</td>\n      <td>486</td>\n      <td>0</td>\n      <td>...</td>\n      <td>0</td>\n      <td>0</td>\n      <td>125</td>\n      <td>0</td>\n      <td>229</td>\n      <td>108</td>\n      <td>0</td>\n      <td>58</td>\n      <td>0</td>\n      <td>0</td>\n    </tr>\n    <tr>\n      <th>\"29\"</th>\n      <td>37</td>\n      <td>0</td>\n      <td>0</td>\n      <td>427</td>\n      <td>2268</td>\n      <td>843</td>\n      <td>359</td>\n      <td>108</td>\n      <td>3</td>\n      <td>0</td>\n      <td>...</td>\n      <td>204</td>\n      <td>0</td>\n      <td>72</td>\n      <td>59</td>\n      <td>0</td>\n      <td>89</td>\n      <td>0</td>\n      <td>14</td>\n      <td>0</td>\n      <td>10</td>\n    </tr>\n    <tr>\n      <th>\"30\"</th>\n      <td>10509</td>\n      <td>4140</td>\n      <td>0</td>\n      <td>61</td>\n      <td>413</td>\n      <td>1437</td>\n      <td>1429</td>\n      <td>0</td>\n      <td>136</td>\n      <td>0</td>\n      <td>...</td>\n      <td>160</td>\n      <td>0</td>\n      <td>87</td>\n      <td>0</td>\n      <td>54</td>\n      <td>0</td>\n      <td>0</td>\n      <td>30</td>\n      <td>47</td>\n      <td>0</td>\n    </tr>\n    <tr>\n      <th>\"31\"</th>\n      <td>6710</td>\n      <td>348</td>\n      <td>1172</td>\n      <td>0</td>\n      <td>522</td>\n      <td>1335</td>\n      <td>64</td>\n      <td>197</td>\n      <td>309</td>\n      <td>2954</td>\n      <td>...</td>\n      <td>0</td>\n      <td>0</td>\n      <td>86</td>\n      <td>0</td>\n      <td>0</td>\n      <td>0</td>\n      <td>0</td>\n      <td>16</td>\n      <td>0</td>\n      <td>0</td>\n    </tr>\n    <tr>\n      <th>\"32\"</th>\n      <td>1116</td>\n      <td>0</td>\n      <td>0</td>\n      <td>48</td>\n      <td>3952</td>\n      <td>182</td>\n      <td>140</td>\n      <td>607</td>\n      <td>1</td>\n      <td>0</td>\n      <td>...</td>\n      <td>61</td>\n      <td>0</td>\n      <td>89</td>\n      <td>0</td>\n      <td>53</td>\n      <td>50</td>\n      <td>0</td>\n      <td>3</td>\n      <td>0</td>\n      <td>0</td>\n    </tr>\n    <tr>\n      <th>\"33\"</th>\n      <td>58</td>\n      <td>0</td>\n      <td>1166</td>\n      <td>164</td>\n      <td>204</td>\n      <td>1033</td>\n      <td>13381</td>\n      <td>7494</td>\n      <td>4</td>\n      <td>570</td>\n      <td>...</td>\n      <td>120</td>\n      <td>18</td>\n      <td>26</td>\n      <td>0</td>\n      <td>0</td>\n      <td>6</td>\n      <td>0</td>\n      <td>72</td>\n      <td>23</td>\n      <td>0</td>\n    </tr>\n    <tr>\n      <th>\"34\"</th>\n      <td>18584</td>\n      <td>3124</td>\n      <td>0</td>\n      <td>544</td>\n      <td>243</td>\n      <td>593</td>\n      <td>70</td>\n      <td>166</td>\n      <td>1259</td>\n      <td>0</td>\n      <td>...</td>\n      <td>25</td>\n      <td>0</td>\n      <td>29</td>\n      <td>10</td>\n      <td>83</td>\n      <td>37</td>\n      <td>0</td>\n      <td>175</td>\n      <td>0</td>\n      <td>0</td>\n    </tr>\n    <tr>\n      <th>\"35\"</th>\n      <td>3916</td>\n      <td>645</td>\n      <td>1946</td>\n      <td>1</td>\n      <td>2112</td>\n      <td>245</td>\n      <td>23</td>\n      <td>242</td>\n      <td>372</td>\n      <td>0</td>\n      <td>...</td>\n      <td>62</td>\n      <td>0</td>\n      <td>183</td>\n      <td>0</td>\n      <td>58</td>\n      <td>38</td>\n      <td>0</td>\n      <td>12</td>\n      <td>0</td>\n      <td>0</td>\n    </tr>\n    <tr>\n      <th>\"36\"</th>\n      <td>4968</td>\n      <td>1634</td>\n      <td>797</td>\n      <td>53</td>\n      <td>81</td>\n      <td>464</td>\n      <td>1</td>\n      <td>1</td>\n      <td>141</td>\n      <td>0</td>\n      <td>...</td>\n      <td>73</td>\n      <td>33</td>\n      <td>304</td>\n      <td>31</td>\n      <td>3</td>\n      <td>0</td>\n      <td>0</td>\n      <td>9</td>\n      <td>0</td>\n      <td>0</td>\n    </tr>\n    <tr>\n      <th>\"37\"</th>\n      <td>301</td>\n      <td>153</td>\n      <td>0</td>\n      <td>745</td>\n      <td>1647</td>\n      <td>7</td>\n      <td>2082</td>\n      <td>351</td>\n      <td>1</td>\n      <td>0</td>\n      <td>...</td>\n      <td>301</td>\n      <td>0</td>\n      <td>139</td>\n      <td>0</td>\n      <td>0</td>\n      <td>8</td>\n      <td>0</td>\n      <td>26</td>\n      <td>2</td>\n      <td>0</td>\n    </tr>\n    <tr>\n      <th>\"38\"</th>\n      <td>2264</td>\n      <td>127</td>\n      <td>0</td>\n      <td>0</td>\n      <td>732</td>\n      <td>143</td>\n      <td>71</td>\n      <td>0</td>\n      <td>1</td>\n      <td>0</td>\n      <td>...</td>\n      <td>124</td>\n      <td>0</td>\n      <td>179</td>\n      <td>97</td>\n      <td>1</td>\n      <td>12</td>\n      <td>0</td>\n      <td>4</td>\n      <td>0</td>\n      <td>14</td>\n    </tr>\n    <tr>\n      <th>\"39\"</th>\n      <td>122</td>\n      <td>47</td>\n      <td>0</td>\n      <td>1917</td>\n      <td>380</td>\n      <td>385</td>\n      <td>4022</td>\n      <td>2509</td>\n      <td>0</td>\n      <td>0</td>\n      <td>...</td>\n      <td>0</td>\n      <td>0</td>\n      <td>137</td>\n      <td>0</td>\n      <td>0</td>\n      <td>79</td>\n      <td>0</td>\n      <td>15</td>\n      <td>0</td>\n      <td>0</td>\n    </tr>\n    <tr>\n      <th>\"40\"</th>\n      <td>1845</td>\n      <td>643</td>\n      <td>0</td>\n      <td>1</td>\n      <td>3309</td>\n      <td>638</td>\n      <td>277</td>\n      <td>38</td>\n      <td>91</td>\n      <td>0</td>\n      <td>...</td>\n      <td>502</td>\n      <td>9</td>\n      <td>61</td>\n      <td>0</td>\n      <td>0</td>\n      <td>0</td>\n      <td>0</td>\n      <td>118</td>\n      <td>0</td>\n      <td>0</td>\n    </tr>\n    <tr>\n      <th>\"41\"</th>\n      <td>3654</td>\n      <td>1807</td>\n      <td>0</td>\n      <td>0</td>\n      <td>973</td>\n      <td>104</td>\n      <td>80</td>\n      <td>0</td>\n      <td>245</td>\n      <td>0</td>\n      <td>...</td>\n      <td>270</td>\n      <td>0</td>\n      <td>174</td>\n      <td>71</td>\n      <td>73</td>\n      <td>103</td>\n      <td>0</td>\n      <td>88</td>\n      <td>0</td>\n      <td>0</td>\n    </tr>\n    <tr>\n      <th>\"42\"</th>\n      <td>437</td>\n      <td>2</td>\n      <td>1526</td>\n      <td>3143</td>\n      <td>82</td>\n      <td>3354</td>\n      <td>1492</td>\n      <td>1255</td>\n      <td>1</td>\n      <td>1072</td>\n      <td>...</td>\n      <td>83</td>\n      <td>3</td>\n      <td>61</td>\n      <td>0</td>\n      <td>3</td>\n      <td>89</td>\n      <td>0</td>\n      <td>9</td>\n      <td>0</td>\n      <td>0</td>\n    </tr>\n    <tr>\n      <th>\"43\"</th>\n      <td>10496</td>\n      <td>0</td>\n      <td>1</td>\n      <td>643</td>\n      <td>0</td>\n      <td>4300</td>\n      <td>215</td>\n      <td>407</td>\n      <td>7</td>\n      <td>0</td>\n      <td>...</td>\n      <td>42</td>\n      <td>1</td>\n      <td>166</td>\n      <td>20</td>\n      <td>0</td>\n      <td>121</td>\n      <td>0</td>\n      <td>278</td>\n      <td>0</td>\n      <td>0</td>\n    </tr>\n    <tr>\n      <th>\"44\"</th>\n      <td>1506</td>\n      <td>374</td>\n      <td>635</td>\n      <td>349</td>\n      <td>26</td>\n      <td>0</td>\n      <td>21</td>\n      <td>86</td>\n      <td>146</td>\n      <td>0</td>\n      <td>...</td>\n      <td>0</td>\n      <td>0</td>\n      <td>118</td>\n      <td>40</td>\n      <td>214</td>\n      <td>184</td>\n      <td>0</td>\n      <td>96</td>\n      <td>104</td>\n      <td>22</td>\n    </tr>\n    <tr>\n      <th>\"45\"</th>\n      <td>1035</td>\n      <td>0</td>\n      <td>0</td>\n      <td>998</td>\n      <td>5161</td>\n      <td>392</td>\n      <td>887</td>\n      <td>3033</td>\n      <td>0</td>\n      <td>0</td>\n      <td>...</td>\n      <td>176</td>\n      <td>0</td>\n      <td>270</td>\n      <td>0</td>\n      <td>0</td>\n      <td>0</td>\n      <td>0</td>\n      <td>39</td>\n      <td>0</td>\n      <td>0</td>\n    </tr>\n  </tbody>\n</table>\n<p>45 rows × 3000 columns</p>\n</div>"
     },
     "execution_count": 59,
     "metadata": {},
     "output_type": "execute_result"
    }
   ],
   "source": [
    "HCC_SS_test = HCC_SS_test.T\n",
    "HCC_SS_test"
   ],
   "metadata": {
    "collapsed": false
   }
  },
  {
   "cell_type": "code",
   "execution_count": 66,
   "outputs": [
    {
     "name": "stderr",
     "output_type": "stream",
     "text": [
      "C:\\Users\\camer\\PycharmProjects\\AI-Lab\\venv\\lib\\site-packages\\sklearn\\neural_network\\_multilayer_perceptron.py:1101: DataConversionWarning: A column-vector y was passed when a 1d array was expected. Please change the shape of y to (n_samples, ), for example using ravel().\n",
      "  y = column_or_1d(y, warn=True)\n"
     ]
    }
   ],
   "source": [
    "#{'hidden_layer_sizes': (50, 50), 'learning_rate_init': 0.1},\n",
    "#           'Neural Network': MLPClassifier(random_state=42, batch_size='auto', max_iter=1000000, solver='sgd')\n",
    "\n",
    "#MCF/DropSeq\n",
    "mlp = MLPClassifier(hidden_layer_sizes=(50, 50), learning_rate_init=0.1, random_state=42, batch_size='auto', max_iter=1000000, solver='sgd')\n",
    "mlp.fit(MCF_DS, y_MCF_DS)\n",
    "y_pred = mlp.predict(MCF_DS_test)"
   ],
   "metadata": {
    "collapsed": false
   }
  },
  {
   "cell_type": "code",
   "execution_count": 61,
   "outputs": [
    {
     "data": {
      "text/plain": "array([1, 1, 1, ..., 0, 0, 0], dtype=int64)"
     },
     "execution_count": 61,
     "metadata": {},
     "output_type": "execute_result"
    }
   ],
   "source": [
    "y_pred"
   ],
   "metadata": {
    "collapsed": false
   }
  },
  {
   "cell_type": "code",
   "execution_count": 67,
   "outputs": [
    {
     "data": {
      "text/plain": "0"
     },
     "execution_count": 67,
     "metadata": {},
     "output_type": "execute_result"
    }
   ],
   "source": [
    "#check none are missing\n",
    "np.isnan(y_pred).sum()"
   ],
   "metadata": {
    "collapsed": false
   }
  },
  {
   "cell_type": "code",
   "execution_count": 68,
   "outputs": [],
   "source": [
    "#save the predictions \"C:\\\\Users\\\\camer\\\\Desktop\\\\class stuff\\\\Semester 4\\\\ai lab\\\\DropSeq\\\n",
    "np.savetxt(\"C:\\\\Users\\\\camer\\\\Desktop\\\\class stuff\\\\Semester 4\\\\ai lab\\\\DropSeq\\\\MCF7_Filtered_Normalised_3000_Data_test_predictions.txt\", y_pred, fmt='%s')"
   ],
   "metadata": {
    "collapsed": false
   }
  },
  {
   "cell_type": "code",
   "execution_count": 69,
   "outputs": [
    {
     "name": "stderr",
     "output_type": "stream",
     "text": [
      "C:\\Users\\camer\\PycharmProjects\\AI-Lab\\venv\\lib\\site-packages\\sklearn\\preprocessing\\_label.py:97: DataConversionWarning: A column-vector y was passed when a 1d array was expected. Please change the shape of y to (n_samples, ), for example using ravel().\n",
      "  y = column_or_1d(y, warn=True)\n",
      "C:\\Users\\camer\\PycharmProjects\\AI-Lab\\venv\\lib\\site-packages\\sklearn\\preprocessing\\_label.py:132: DataConversionWarning: A column-vector y was passed when a 1d array was expected. Please change the shape of y to (n_samples, ), for example using ravel().\n",
      "  y = column_or_1d(y, dtype=self.classes_.dtype, warn=True)\n"
     ]
    }
   ],
   "source": [
    "#Ensemble: of Logistic Regression, SVM, and Random Forest with their best parameters:\n",
    "#'Logistic Regression': {'C': 0.1, 'penalty': 'l2'}, 'Random Forest': {'max_depth': 100, 'n_estimators': 200}, 'SVM': {'C': 10, 'kernel': 'rbf'}\n",
    "#HCC/DropSeq\n",
    "lr = LogisticRegression(C=0.1, penalty='l2', solver='liblinear', random_state=42)\n",
    "rf = RandomForestClassifier(max_depth=100, n_estimators=200, random_state=42)\n",
    "svm = SVC(C=10, kernel='rbf', probability=True, random_state=42)\n",
    "ensemble = VotingClassifier(estimators=[('lr', lr), ('rf', rf), ('svm', svm)], voting='soft')\n",
    "ensemble.fit(HCC_DS, y_HCC_DS)\n",
    "y_pred = ensemble.predict(HCC_DS_test)"
   ],
   "metadata": {
    "collapsed": false
   }
  },
  {
   "cell_type": "code",
   "execution_count": 70,
   "outputs": [
    {
     "data": {
      "text/plain": "array([1, 1, 1, ..., 0, 0, 1], dtype=int64)"
     },
     "execution_count": 70,
     "metadata": {},
     "output_type": "execute_result"
    }
   ],
   "source": [
    "y_pred"
   ],
   "metadata": {
    "collapsed": false
   }
  },
  {
   "cell_type": "code",
   "execution_count": 71,
   "outputs": [
    {
     "data": {
      "text/plain": "0"
     },
     "execution_count": 71,
     "metadata": {},
     "output_type": "execute_result"
    }
   ],
   "source": [
    "#check none are missing\n",
    "np.isnan(y_pred).sum()"
   ],
   "metadata": {
    "collapsed": false
   }
  },
  {
   "cell_type": "code",
   "execution_count": 72,
   "outputs": [],
   "source": [
    "#save the predictions \"C:\\\\Users\\\\camer\\\\Desktop\\\\class stuff\\\\Semester 4\\\\ai lab\\\\DropSeq\\\n",
    "np.savetxt(\"C:\\\\Users\\\\camer\\\\Desktop\\\\class stuff\\\\Semester 4\\\\ai lab\\\\DropSeq\\\\HCC1806_Filtered_Normalised_3000_Data_test_predictions.txt\", y_pred, fmt='%s')"
   ],
   "metadata": {
    "collapsed": false
   }
  },
  {
   "cell_type": "code",
   "execution_count": 73,
   "outputs": [
    {
     "name": "stderr",
     "output_type": "stream",
     "text": [
      "C:\\Users\\camer\\PycharmProjects\\AI-Lab\\venv\\lib\\site-packages\\sklearn\\base.py:1474: DataConversionWarning: A column-vector y was passed when a 1d array was expected. Please change the shape of y to (n_samples,), for example using ravel().\n",
      "  return fit_method(estimator, *args, **kwargs)\n"
     ]
    }
   ],
   "source": [
    "#MCF/SmartSeq\n",
    "rf = RandomForestClassifier(max_depth=10, n_estimators=50, random_state=42)\n",
    "rf.fit(MCF_SS, y_MCF_SS)\n",
    "y_pred = rf.predict(MCF_SS_test)"
   ],
   "metadata": {
    "collapsed": false
   }
  },
  {
   "cell_type": "code",
   "execution_count": 74,
   "outputs": [
    {
     "data": {
      "text/plain": "array([0, 0, 1, 1, 1, 1, 1, 0, 0, 1, 1, 1, 0, 0, 0, 0, 0, 1, 1, 1, 1, 1,\n       0, 1, 1, 0, 0, 0, 0, 1, 1, 0, 0, 1, 1, 1, 1, 0, 0, 1, 0, 0, 0, 0,\n       1, 1, 0, 0, 0, 0, 1, 1, 1, 1, 1, 1, 0, 0, 0, 0, 0, 1, 1],\n      dtype=int64)"
     },
     "execution_count": 74,
     "metadata": {},
     "output_type": "execute_result"
    }
   ],
   "source": [
    "y_pred"
   ],
   "metadata": {
    "collapsed": false
   }
  },
  {
   "cell_type": "code",
   "execution_count": 75,
   "outputs": [
    {
     "data": {
      "text/plain": "0"
     },
     "execution_count": 75,
     "metadata": {},
     "output_type": "execute_result"
    }
   ],
   "source": [
    "#check none are missing\n",
    "np.isnan(y_pred).sum()"
   ],
   "metadata": {
    "collapsed": false
   }
  },
  {
   "cell_type": "code",
   "execution_count": 76,
   "outputs": [],
   "source": [
    "#save the predictions \"C:\\\\Users\\\\camer\\\\Desktop\\\\class stuff\\\\Semester 4\\\\ai lab\\\\SmartSeq\\\n",
    "np.savetxt(\"C:\\\\Users\\\\camer\\\\Desktop\\\\class stuff\\\\Semester 4\\\\ai lab\\\\SmartSeq\\\\MCF7_SmartS_Filtered_Normalised_3000_Data_test_predictions.txt\", y_pred, fmt='%s')"
   ],
   "metadata": {
    "collapsed": false
   }
  },
  {
   "cell_type": "code",
   "execution_count": 77,
   "outputs": [
    {
     "name": "stderr",
     "output_type": "stream",
     "text": [
      "C:\\Users\\camer\\PycharmProjects\\AI-Lab\\venv\\lib\\site-packages\\sklearn\\base.py:1474: DataConversionWarning: A column-vector y was passed when a 1d array was expected. Please change the shape of y to (n_samples,), for example using ravel().\n",
      "  return fit_method(estimator, *args, **kwargs)\n"
     ]
    }
   ],
   "source": [
    "#HCC/SmartSeq\n",
    "rf = RandomForestClassifier(max_depth=10, n_estimators=50, random_state=42)\n",
    "rf.fit(HCC_SS, y_HCC_SS)\n",
    "y_pred = rf.predict(HCC_SS_test)"
   ],
   "metadata": {
    "collapsed": false
   }
  },
  {
   "cell_type": "code",
   "execution_count": 78,
   "outputs": [
    {
     "data": {
      "text/plain": "array([1, 1, 0, 0, 0, 0, 0, 1, 1, 1, 1, 1, 0, 0, 0, 0, 1, 1, 1, 1, 1, 0,\n       0, 0, 1, 1, 1, 0, 1, 0, 0, 1, 1, 0, 0, 0, 1, 1, 1, 0, 0, 1, 1, 1,\n       1], dtype=int64)"
     },
     "execution_count": 78,
     "metadata": {},
     "output_type": "execute_result"
    }
   ],
   "source": [
    "y_pred"
   ],
   "metadata": {
    "collapsed": false
   }
  },
  {
   "cell_type": "code",
   "execution_count": 79,
   "outputs": [
    {
     "data": {
      "text/plain": "0"
     },
     "execution_count": 79,
     "metadata": {},
     "output_type": "execute_result"
    }
   ],
   "source": [
    "#check none are missing\n",
    "np.isnan(y_pred).sum()"
   ],
   "metadata": {
    "collapsed": false
   }
  },
  {
   "cell_type": "code",
   "execution_count": 80,
   "outputs": [],
   "source": [
    "#save the predictions \"C:\\\\Users\\\\camer\\\\Desktop\\\\class stuff\\\\Semester 4\\\\ai lab\\\\SmartSeq\\\n",
    "np.savetxt(\"C:\\\\Users\\\\camer\\\\Desktop\\\\class stuff\\\\Semester 4\\\\ai lab\\\\SmartSeq\\\\HCC1806_SmartS_Filtered_Normalised_3000_Data_test_predictions.txt\", y_pred, fmt='%s')"
   ],
   "metadata": {
    "collapsed": false
   }
  },
  {
   "cell_type": "code",
   "execution_count": null,
   "outputs": [],
   "source": [],
   "metadata": {
    "collapsed": false
   }
  }
 ],
 "metadata": {
  "kernelspec": {
   "display_name": "Python 3",
   "language": "python",
   "name": "python3"
  },
  "language_info": {
   "codemirror_mode": {
    "name": "ipython",
    "version": 2
   },
   "file_extension": ".py",
   "mimetype": "text/x-python",
   "name": "python",
   "nbconvert_exporter": "python",
   "pygments_lexer": "ipython2",
   "version": "2.7.6"
  }
 },
 "nbformat": 4,
 "nbformat_minor": 0
}
