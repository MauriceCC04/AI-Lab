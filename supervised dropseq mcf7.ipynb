{
 "cells": [
  {
   "cell_type": "code",
   "metadata": {
    "collapsed": true,
    "ExecuteTime": {
     "end_time": "2024-05-06T11:30:12.315890Z",
     "start_time": "2024-05-06T11:30:12.305916Z"
    }
   },
   "source": [
    "import sys\n",
    "import pandas as pd\n",
    "import numpy as np\n",
    "import matplotlib.pyplot as plt             #visualisation\n",
    "import seaborn as sns   #visualisation\n",
    "%matplotlib inline\n",
    "sns.set(color_codes=True)"
   ],
   "outputs": [],
   "execution_count": 6
  },
  {
   "cell_type": "code",
   "source": [
    "#read the data\n",
    "#laptop\n",
    "df_DropSeq_MCF7 = pd.read_csv(\"C:\\\\Users\\\\camer\\\\Desktop\\\\class stuff\\\\Semester 4\\\\ai lab\\\\DropSeq\\\\MCF7_Filtered_Normalised_3000_Data_train.txt\", delimiter=\"\\ \", engine='python', index_col=0)\n",
    "#desktop\n",
    "#C:\\Users\\Cameron\\Desktop\\AILab24\\DropSeq\n",
    "#df_DropSeq_MCF7 = pd.read_csv(\"C:\\\\Users\\\\Cameron\\\\Desktop\\\\AILab24\\\\DropSeq\\\\MCF7_Filtered_Normalised_3000_Data_train.txt\", delimiter=\"\\ \", engine='python', index_col=0)"
   ],
   "metadata": {
    "collapsed": false,
    "ExecuteTime": {
     "end_time": "2024-05-06T11:30:50.926030Z",
     "start_time": "2024-05-06T11:30:12.609193Z"
    }
   },
   "outputs": [],
   "execution_count": 7
  },
  {
   "cell_type": "code",
   "source": [
    "#add a new row to the data frame\n",
    "#add the row to the bottom\n",
    "#if at the column index contains _Normoxia then add 1 to the row, _Hypoxia then add -1\n",
    "#this is just binary classification"
   ],
   "metadata": {
    "collapsed": false,
    "ExecuteTime": {
     "end_time": "2024-05-06T11:30:50.941016Z",
     "start_time": "2024-05-06T11:30:50.927029Z"
    }
   },
   "outputs": [],
   "execution_count": 8
  },
  {
   "cell_type": "code",
   "source": [
    "#function to add new 'Oxia' row to the data frame\n",
    "#1 is Normoxia, 0 is Hypoxia\n",
    "def Oxia(df):\n",
    "    new_row = {col: None for col in df.columns}\n",
    "    for col in df.columns:\n",
    "        if '_Normoxia' in col:\n",
    "            new_row[col] = 1\n",
    "        elif '_Hypoxia' in col:\n",
    "            new_row[col] = 0\n",
    "    df = pd.concat([df, pd.DataFrame(new_row, index=['oxia'])])\n",
    "    return df"
   ],
   "metadata": {
    "collapsed": false,
    "ExecuteTime": {
     "end_time": "2024-05-06T11:30:51.551604Z",
     "start_time": "2024-05-06T11:30:50.941989Z"
    }
   },
   "outputs": [],
   "execution_count": 9
  },
  {
   "cell_type": "code",
   "execution_count": 10,
   "outputs": [
    {
     "data": {
      "text/plain": "            \"AAAAACCTATCG_Normoxia\"  \"AAAACAACCCTA_Normoxia\"  \\\n\"MALAT1\"                          1                        3   \n\"MT-RNR2\"                         0                        0   \n\"NEAT1\"                           0                        0   \n\"H1-5\"                            0                        0   \n\"TFF1\"                            4                        1   \n...                             ...                      ...   \n\"RPS19BP1\"                        0                        0   \n\"AUNIP\"                           0                        0   \n\"TNK2\"                            0                        0   \n\"SUDS3\"                           0                        0   \noxia                              1                        1   \n\n            \"AAAACACTCTCA_Normoxia\"  \"AAAACCAGGCAC_Normoxia\"  \\\n\"MALAT1\"                          3                        6   \n\"MT-RNR2\"                         0                        2   \n\"NEAT1\"                           0                        0   \n\"H1-5\"                            0                        0   \n\"TFF1\"                            1                        1   \n...                             ...                      ...   \n\"RPS19BP1\"                        0                        0   \n\"AUNIP\"                           0                        0   \n\"TNK2\"                            0                        0   \n\"SUDS3\"                           0                        0   \noxia                              1                        1   \n\n            \"AAAACCTAGCTC_Normoxia\"  \"AAAACCTCCGGG_Normoxia\"  \\\n\"MALAT1\"                          4                        5   \n\"MT-RNR2\"                         0                        0   \n\"NEAT1\"                           0                        2   \n\"H1-5\"                            0                        2   \n\"TFF1\"                            0                        0   \n...                             ...                      ...   \n\"RPS19BP1\"                        0                        0   \n\"AUNIP\"                           0                        0   \n\"TNK2\"                            0                        0   \n\"SUDS3\"                           0                        0   \noxia                              1                        1   \n\n            \"AAAACTCGTTGC_Normoxia\"  \"AAAAGAGCTCTC_Normoxia\"  \\\n\"MALAT1\"                          1                       13   \n\"MT-RNR2\"                         2                        1   \n\"NEAT1\"                           0                        1   \n\"H1-5\"                            0                        0   \n\"TFF1\"                            0                        2   \n...                             ...                      ...   \n\"RPS19BP1\"                        0                        0   \n\"AUNIP\"                           0                        0   \n\"TNK2\"                            0                        0   \n\"SUDS3\"                           0                        0   \noxia                              1                        1   \n\n            \"AAAAGCTAGGCG_Normoxia\"  \"AAAATCGCATTT_Normoxia\"  ...  \\\n\"MALAT1\"                          3                        3  ...   \n\"MT-RNR2\"                         7                        0  ...   \n\"NEAT1\"                           2                        0  ...   \n\"H1-5\"                            0                        0  ...   \n\"TFF1\"                            0                        1  ...   \n...                             ...                      ...  ...   \n\"RPS19BP1\"                        0                        0  ...   \n\"AUNIP\"                           0                        0  ...   \n\"TNK2\"                            0                        0  ...   \n\"SUDS3\"                           0                        0  ...   \noxia                              1                        1  ...   \n\n            \"TTTTACAGGATC_Hypoxia\"  \"TTTTACCACGTA_Hypoxia\"  \\\n\"MALAT1\"                         0                       2   \n\"MT-RNR2\"                        0                       0   \n\"NEAT1\"                          0                       0   \n\"H1-5\"                           0                       1   \n\"TFF1\"                           2                       3   \n...                            ...                     ...   \n\"RPS19BP1\"                       0                       0   \n\"AUNIP\"                          0                       0   \n\"TNK2\"                           0                       0   \n\"SUDS3\"                          0                       0   \noxia                             0                       0   \n\n            \"TTTTATGCTACG_Hypoxia\"  \"TTTTCCAGACGC_Hypoxia\"  \\\n\"MALAT1\"                         1                       0   \n\"MT-RNR2\"                        0                       0   \n\"NEAT1\"                          0                       0   \n\"H1-5\"                           0                       0   \n\"TFF1\"                           8                       0   \n...                            ...                     ...   \n\"RPS19BP1\"                       0                       0   \n\"AUNIP\"                          0                       0   \n\"TNK2\"                           0                       0   \n\"SUDS3\"                          0                       0   \noxia                             0                       0   \n\n            \"TTTTCGCGCTCG_Hypoxia\"  \"TTTTCGCGTAGA_Hypoxia\"  \\\n\"MALAT1\"                         1                       0   \n\"MT-RNR2\"                        0                       0   \n\"NEAT1\"                          0                       0   \n\"H1-5\"                           1                       0   \n\"TFF1\"                           0                       3   \n...                            ...                     ...   \n\"RPS19BP1\"                       0                       0   \n\"AUNIP\"                          0                       0   \n\"TNK2\"                           0                       0   \n\"SUDS3\"                          0                       0   \noxia                             0                       0   \n\n            \"TTTTCGTCCGCT_Hypoxia\"  \"TTTTCTCCGGCT_Hypoxia\"  \\\n\"MALAT1\"                         1                       0   \n\"MT-RNR2\"                        0                       0   \n\"NEAT1\"                          0                       0   \n\"H1-5\"                           0                       1   \n\"TFF1\"                           4                       2   \n...                            ...                     ...   \n\"RPS19BP1\"                       0                       0   \n\"AUNIP\"                          0                       0   \n\"TNK2\"                           0                       0   \n\"SUDS3\"                          0                       1   \noxia                             0                       0   \n\n            \"TTTTGTTCAAAG_Hypoxia\"  \"TTTTTTGTATGT_Hypoxia\"  \n\"MALAT1\"                         0                       4  \n\"MT-RNR2\"                        0                       0  \n\"NEAT1\"                          0                       0  \n\"H1-5\"                           0                       0  \n\"TFF1\"                           6                       0  \n...                            ...                     ...  \n\"RPS19BP1\"                       0                       0  \n\"AUNIP\"                          0                       0  \n\"TNK2\"                           0                       0  \n\"SUDS3\"                          0                       0  \noxia                             0                       0  \n\n[3001 rows x 21626 columns]",
      "text/html": "<div>\n<style scoped>\n    .dataframe tbody tr th:only-of-type {\n        vertical-align: middle;\n    }\n\n    .dataframe tbody tr th {\n        vertical-align: top;\n    }\n\n    .dataframe thead th {\n        text-align: right;\n    }\n</style>\n<table border=\"1\" class=\"dataframe\">\n  <thead>\n    <tr style=\"text-align: right;\">\n      <th></th>\n      <th>\"AAAAACCTATCG_Normoxia\"</th>\n      <th>\"AAAACAACCCTA_Normoxia\"</th>\n      <th>\"AAAACACTCTCA_Normoxia\"</th>\n      <th>\"AAAACCAGGCAC_Normoxia\"</th>\n      <th>\"AAAACCTAGCTC_Normoxia\"</th>\n      <th>\"AAAACCTCCGGG_Normoxia\"</th>\n      <th>\"AAAACTCGTTGC_Normoxia\"</th>\n      <th>\"AAAAGAGCTCTC_Normoxia\"</th>\n      <th>\"AAAAGCTAGGCG_Normoxia\"</th>\n      <th>\"AAAATCGCATTT_Normoxia\"</th>\n      <th>...</th>\n      <th>\"TTTTACAGGATC_Hypoxia\"</th>\n      <th>\"TTTTACCACGTA_Hypoxia\"</th>\n      <th>\"TTTTATGCTACG_Hypoxia\"</th>\n      <th>\"TTTTCCAGACGC_Hypoxia\"</th>\n      <th>\"TTTTCGCGCTCG_Hypoxia\"</th>\n      <th>\"TTTTCGCGTAGA_Hypoxia\"</th>\n      <th>\"TTTTCGTCCGCT_Hypoxia\"</th>\n      <th>\"TTTTCTCCGGCT_Hypoxia\"</th>\n      <th>\"TTTTGTTCAAAG_Hypoxia\"</th>\n      <th>\"TTTTTTGTATGT_Hypoxia\"</th>\n    </tr>\n  </thead>\n  <tbody>\n    <tr>\n      <th>\"MALAT1\"</th>\n      <td>1</td>\n      <td>3</td>\n      <td>3</td>\n      <td>6</td>\n      <td>4</td>\n      <td>5</td>\n      <td>1</td>\n      <td>13</td>\n      <td>3</td>\n      <td>3</td>\n      <td>...</td>\n      <td>0</td>\n      <td>2</td>\n      <td>1</td>\n      <td>0</td>\n      <td>1</td>\n      <td>0</td>\n      <td>1</td>\n      <td>0</td>\n      <td>0</td>\n      <td>4</td>\n    </tr>\n    <tr>\n      <th>\"MT-RNR2\"</th>\n      <td>0</td>\n      <td>0</td>\n      <td>0</td>\n      <td>2</td>\n      <td>0</td>\n      <td>0</td>\n      <td>2</td>\n      <td>1</td>\n      <td>7</td>\n      <td>0</td>\n      <td>...</td>\n      <td>0</td>\n      <td>0</td>\n      <td>0</td>\n      <td>0</td>\n      <td>0</td>\n      <td>0</td>\n      <td>0</td>\n      <td>0</td>\n      <td>0</td>\n      <td>0</td>\n    </tr>\n    <tr>\n      <th>\"NEAT1\"</th>\n      <td>0</td>\n      <td>0</td>\n      <td>0</td>\n      <td>0</td>\n      <td>0</td>\n      <td>2</td>\n      <td>0</td>\n      <td>1</td>\n      <td>2</td>\n      <td>0</td>\n      <td>...</td>\n      <td>0</td>\n      <td>0</td>\n      <td>0</td>\n      <td>0</td>\n      <td>0</td>\n      <td>0</td>\n      <td>0</td>\n      <td>0</td>\n      <td>0</td>\n      <td>0</td>\n    </tr>\n    <tr>\n      <th>\"H1-5\"</th>\n      <td>0</td>\n      <td>0</td>\n      <td>0</td>\n      <td>0</td>\n      <td>0</td>\n      <td>2</td>\n      <td>0</td>\n      <td>0</td>\n      <td>0</td>\n      <td>0</td>\n      <td>...</td>\n      <td>0</td>\n      <td>1</td>\n      <td>0</td>\n      <td>0</td>\n      <td>1</td>\n      <td>0</td>\n      <td>0</td>\n      <td>1</td>\n      <td>0</td>\n      <td>0</td>\n    </tr>\n    <tr>\n      <th>\"TFF1\"</th>\n      <td>4</td>\n      <td>1</td>\n      <td>1</td>\n      <td>1</td>\n      <td>0</td>\n      <td>0</td>\n      <td>0</td>\n      <td>2</td>\n      <td>0</td>\n      <td>1</td>\n      <td>...</td>\n      <td>2</td>\n      <td>3</td>\n      <td>8</td>\n      <td>0</td>\n      <td>0</td>\n      <td>3</td>\n      <td>4</td>\n      <td>2</td>\n      <td>6</td>\n      <td>0</td>\n    </tr>\n    <tr>\n      <th>...</th>\n      <td>...</td>\n      <td>...</td>\n      <td>...</td>\n      <td>...</td>\n      <td>...</td>\n      <td>...</td>\n      <td>...</td>\n      <td>...</td>\n      <td>...</td>\n      <td>...</td>\n      <td>...</td>\n      <td>...</td>\n      <td>...</td>\n      <td>...</td>\n      <td>...</td>\n      <td>...</td>\n      <td>...</td>\n      <td>...</td>\n      <td>...</td>\n      <td>...</td>\n      <td>...</td>\n    </tr>\n    <tr>\n      <th>\"RPS19BP1\"</th>\n      <td>0</td>\n      <td>0</td>\n      <td>0</td>\n      <td>0</td>\n      <td>0</td>\n      <td>0</td>\n      <td>0</td>\n      <td>0</td>\n      <td>0</td>\n      <td>0</td>\n      <td>...</td>\n      <td>0</td>\n      <td>0</td>\n      <td>0</td>\n      <td>0</td>\n      <td>0</td>\n      <td>0</td>\n      <td>0</td>\n      <td>0</td>\n      <td>0</td>\n      <td>0</td>\n    </tr>\n    <tr>\n      <th>\"AUNIP\"</th>\n      <td>0</td>\n      <td>0</td>\n      <td>0</td>\n      <td>0</td>\n      <td>0</td>\n      <td>0</td>\n      <td>0</td>\n      <td>0</td>\n      <td>0</td>\n      <td>0</td>\n      <td>...</td>\n      <td>0</td>\n      <td>0</td>\n      <td>0</td>\n      <td>0</td>\n      <td>0</td>\n      <td>0</td>\n      <td>0</td>\n      <td>0</td>\n      <td>0</td>\n      <td>0</td>\n    </tr>\n    <tr>\n      <th>\"TNK2\"</th>\n      <td>0</td>\n      <td>0</td>\n      <td>0</td>\n      <td>0</td>\n      <td>0</td>\n      <td>0</td>\n      <td>0</td>\n      <td>0</td>\n      <td>0</td>\n      <td>0</td>\n      <td>...</td>\n      <td>0</td>\n      <td>0</td>\n      <td>0</td>\n      <td>0</td>\n      <td>0</td>\n      <td>0</td>\n      <td>0</td>\n      <td>0</td>\n      <td>0</td>\n      <td>0</td>\n    </tr>\n    <tr>\n      <th>\"SUDS3\"</th>\n      <td>0</td>\n      <td>0</td>\n      <td>0</td>\n      <td>0</td>\n      <td>0</td>\n      <td>0</td>\n      <td>0</td>\n      <td>0</td>\n      <td>0</td>\n      <td>0</td>\n      <td>...</td>\n      <td>0</td>\n      <td>0</td>\n      <td>0</td>\n      <td>0</td>\n      <td>0</td>\n      <td>0</td>\n      <td>0</td>\n      <td>1</td>\n      <td>0</td>\n      <td>0</td>\n    </tr>\n    <tr>\n      <th>oxia</th>\n      <td>1</td>\n      <td>1</td>\n      <td>1</td>\n      <td>1</td>\n      <td>1</td>\n      <td>1</td>\n      <td>1</td>\n      <td>1</td>\n      <td>1</td>\n      <td>1</td>\n      <td>...</td>\n      <td>0</td>\n      <td>0</td>\n      <td>0</td>\n      <td>0</td>\n      <td>0</td>\n      <td>0</td>\n      <td>0</td>\n      <td>0</td>\n      <td>0</td>\n      <td>0</td>\n    </tr>\n  </tbody>\n</table>\n<p>3001 rows × 21626 columns</p>\n</div>"
     },
     "execution_count": 5,
     "metadata": {},
     "output_type": "execute_result"
    },
    {
     "data": {
      "text/plain": "            \"AAAAACCTATCG_Normoxia\"  \"AAAACAACCCTA_Normoxia\"  \\\n\"MALAT1\"                          1                        3   \n\"MT-RNR2\"                         0                        0   \n\"NEAT1\"                           0                        0   \n\"H1-5\"                            0                        0   \n\"TFF1\"                            4                        1   \n...                             ...                      ...   \n\"RPS19BP1\"                        0                        0   \n\"AUNIP\"                           0                        0   \n\"TNK2\"                            0                        0   \n\"SUDS3\"                           0                        0   \noxia                              1                        1   \n\n            \"AAAACACTCTCA_Normoxia\"  \"AAAACCAGGCAC_Normoxia\"  \\\n\"MALAT1\"                          3                        6   \n\"MT-RNR2\"                         0                        2   \n\"NEAT1\"                           0                        0   \n\"H1-5\"                            0                        0   \n\"TFF1\"                            1                        1   \n...                             ...                      ...   \n\"RPS19BP1\"                        0                        0   \n\"AUNIP\"                           0                        0   \n\"TNK2\"                            0                        0   \n\"SUDS3\"                           0                        0   \noxia                              1                        1   \n\n            \"AAAACCTAGCTC_Normoxia\"  \"AAAACCTCCGGG_Normoxia\"  \\\n\"MALAT1\"                          4                        5   \n\"MT-RNR2\"                         0                        0   \n\"NEAT1\"                           0                        2   \n\"H1-5\"                            0                        2   \n\"TFF1\"                            0                        0   \n...                             ...                      ...   \n\"RPS19BP1\"                        0                        0   \n\"AUNIP\"                           0                        0   \n\"TNK2\"                            0                        0   \n\"SUDS3\"                           0                        0   \noxia                              1                        1   \n\n            \"AAAACTCGTTGC_Normoxia\"  \"AAAAGAGCTCTC_Normoxia\"  \\\n\"MALAT1\"                          1                       13   \n\"MT-RNR2\"                         2                        1   \n\"NEAT1\"                           0                        1   \n\"H1-5\"                            0                        0   \n\"TFF1\"                            0                        2   \n...                             ...                      ...   \n\"RPS19BP1\"                        0                        0   \n\"AUNIP\"                           0                        0   \n\"TNK2\"                            0                        0   \n\"SUDS3\"                           0                        0   \noxia                              1                        1   \n\n            \"AAAAGCTAGGCG_Normoxia\"  \"AAAATCGCATTT_Normoxia\"  ...  \\\n\"MALAT1\"                          3                        3  ...   \n\"MT-RNR2\"                         7                        0  ...   \n\"NEAT1\"                           2                        0  ...   \n\"H1-5\"                            0                        0  ...   \n\"TFF1\"                            0                        1  ...   \n...                             ...                      ...  ...   \n\"RPS19BP1\"                        0                        0  ...   \n\"AUNIP\"                           0                        0  ...   \n\"TNK2\"                            0                        0  ...   \n\"SUDS3\"                           0                        0  ...   \noxia                              1                        1  ...   \n\n            \"TTTTACAGGATC_Hypoxia\"  \"TTTTACCACGTA_Hypoxia\"  \\\n\"MALAT1\"                         0                       2   \n\"MT-RNR2\"                        0                       0   \n\"NEAT1\"                          0                       0   \n\"H1-5\"                           0                       1   \n\"TFF1\"                           2                       3   \n...                            ...                     ...   \n\"RPS19BP1\"                       0                       0   \n\"AUNIP\"                          0                       0   \n\"TNK2\"                           0                       0   \n\"SUDS3\"                          0                       0   \noxia                             0                       0   \n\n            \"TTTTATGCTACG_Hypoxia\"  \"TTTTCCAGACGC_Hypoxia\"  \\\n\"MALAT1\"                         1                       0   \n\"MT-RNR2\"                        0                       0   \n\"NEAT1\"                          0                       0   \n\"H1-5\"                           0                       0   \n\"TFF1\"                           8                       0   \n...                            ...                     ...   \n\"RPS19BP1\"                       0                       0   \n\"AUNIP\"                          0                       0   \n\"TNK2\"                           0                       0   \n\"SUDS3\"                          0                       0   \noxia                             0                       0   \n\n            \"TTTTCGCGCTCG_Hypoxia\"  \"TTTTCGCGTAGA_Hypoxia\"  \\\n\"MALAT1\"                         1                       0   \n\"MT-RNR2\"                        0                       0   \n\"NEAT1\"                          0                       0   \n\"H1-5\"                           1                       0   \n\"TFF1\"                           0                       3   \n...                            ...                     ...   \n\"RPS19BP1\"                       0                       0   \n\"AUNIP\"                          0                       0   \n\"TNK2\"                           0                       0   \n\"SUDS3\"                          0                       0   \noxia                             0                       0   \n\n            \"TTTTCGTCCGCT_Hypoxia\"  \"TTTTCTCCGGCT_Hypoxia\"  \\\n\"MALAT1\"                         1                       0   \n\"MT-RNR2\"                        0                       0   \n\"NEAT1\"                          0                       0   \n\"H1-5\"                           0                       1   \n\"TFF1\"                           4                       2   \n...                            ...                     ...   \n\"RPS19BP1\"                       0                       0   \n\"AUNIP\"                          0                       0   \n\"TNK2\"                           0                       0   \n\"SUDS3\"                          0                       1   \noxia                             0                       0   \n\n            \"TTTTGTTCAAAG_Hypoxia\"  \"TTTTTTGTATGT_Hypoxia\"  \n\"MALAT1\"                         0                       4  \n\"MT-RNR2\"                        0                       0  \n\"NEAT1\"                          0                       0  \n\"H1-5\"                           0                       0  \n\"TFF1\"                           6                       0  \n...                            ...                     ...  \n\"RPS19BP1\"                       0                       0  \n\"AUNIP\"                          0                       0  \n\"TNK2\"                           0                       0  \n\"SUDS3\"                          0                       0  \noxia                             0                       0  \n\n[3001 rows x 21626 columns]",
      "text/html": "<div>\n<style scoped>\n    .dataframe tbody tr th:only-of-type {\n        vertical-align: middle;\n    }\n\n    .dataframe tbody tr th {\n        vertical-align: top;\n    }\n\n    .dataframe thead th {\n        text-align: right;\n    }\n</style>\n<table border=\"1\" class=\"dataframe\">\n  <thead>\n    <tr style=\"text-align: right;\">\n      <th></th>\n      <th>\"AAAAACCTATCG_Normoxia\"</th>\n      <th>\"AAAACAACCCTA_Normoxia\"</th>\n      <th>\"AAAACACTCTCA_Normoxia\"</th>\n      <th>\"AAAACCAGGCAC_Normoxia\"</th>\n      <th>\"AAAACCTAGCTC_Normoxia\"</th>\n      <th>\"AAAACCTCCGGG_Normoxia\"</th>\n      <th>\"AAAACTCGTTGC_Normoxia\"</th>\n      <th>\"AAAAGAGCTCTC_Normoxia\"</th>\n      <th>\"AAAAGCTAGGCG_Normoxia\"</th>\n      <th>\"AAAATCGCATTT_Normoxia\"</th>\n      <th>...</th>\n      <th>\"TTTTACAGGATC_Hypoxia\"</th>\n      <th>\"TTTTACCACGTA_Hypoxia\"</th>\n      <th>\"TTTTATGCTACG_Hypoxia\"</th>\n      <th>\"TTTTCCAGACGC_Hypoxia\"</th>\n      <th>\"TTTTCGCGCTCG_Hypoxia\"</th>\n      <th>\"TTTTCGCGTAGA_Hypoxia\"</th>\n      <th>\"TTTTCGTCCGCT_Hypoxia\"</th>\n      <th>\"TTTTCTCCGGCT_Hypoxia\"</th>\n      <th>\"TTTTGTTCAAAG_Hypoxia\"</th>\n      <th>\"TTTTTTGTATGT_Hypoxia\"</th>\n    </tr>\n  </thead>\n  <tbody>\n    <tr>\n      <th>\"MALAT1\"</th>\n      <td>1</td>\n      <td>3</td>\n      <td>3</td>\n      <td>6</td>\n      <td>4</td>\n      <td>5</td>\n      <td>1</td>\n      <td>13</td>\n      <td>3</td>\n      <td>3</td>\n      <td>...</td>\n      <td>0</td>\n      <td>2</td>\n      <td>1</td>\n      <td>0</td>\n      <td>1</td>\n      <td>0</td>\n      <td>1</td>\n      <td>0</td>\n      <td>0</td>\n      <td>4</td>\n    </tr>\n    <tr>\n      <th>\"MT-RNR2\"</th>\n      <td>0</td>\n      <td>0</td>\n      <td>0</td>\n      <td>2</td>\n      <td>0</td>\n      <td>0</td>\n      <td>2</td>\n      <td>1</td>\n      <td>7</td>\n      <td>0</td>\n      <td>...</td>\n      <td>0</td>\n      <td>0</td>\n      <td>0</td>\n      <td>0</td>\n      <td>0</td>\n      <td>0</td>\n      <td>0</td>\n      <td>0</td>\n      <td>0</td>\n      <td>0</td>\n    </tr>\n    <tr>\n      <th>\"NEAT1\"</th>\n      <td>0</td>\n      <td>0</td>\n      <td>0</td>\n      <td>0</td>\n      <td>0</td>\n      <td>2</td>\n      <td>0</td>\n      <td>1</td>\n      <td>2</td>\n      <td>0</td>\n      <td>...</td>\n      <td>0</td>\n      <td>0</td>\n      <td>0</td>\n      <td>0</td>\n      <td>0</td>\n      <td>0</td>\n      <td>0</td>\n      <td>0</td>\n      <td>0</td>\n      <td>0</td>\n    </tr>\n    <tr>\n      <th>\"H1-5\"</th>\n      <td>0</td>\n      <td>0</td>\n      <td>0</td>\n      <td>0</td>\n      <td>0</td>\n      <td>2</td>\n      <td>0</td>\n      <td>0</td>\n      <td>0</td>\n      <td>0</td>\n      <td>...</td>\n      <td>0</td>\n      <td>1</td>\n      <td>0</td>\n      <td>0</td>\n      <td>1</td>\n      <td>0</td>\n      <td>0</td>\n      <td>1</td>\n      <td>0</td>\n      <td>0</td>\n    </tr>\n    <tr>\n      <th>\"TFF1\"</th>\n      <td>4</td>\n      <td>1</td>\n      <td>1</td>\n      <td>1</td>\n      <td>0</td>\n      <td>0</td>\n      <td>0</td>\n      <td>2</td>\n      <td>0</td>\n      <td>1</td>\n      <td>...</td>\n      <td>2</td>\n      <td>3</td>\n      <td>8</td>\n      <td>0</td>\n      <td>0</td>\n      <td>3</td>\n      <td>4</td>\n      <td>2</td>\n      <td>6</td>\n      <td>0</td>\n    </tr>\n    <tr>\n      <th>...</th>\n      <td>...</td>\n      <td>...</td>\n      <td>...</td>\n      <td>...</td>\n      <td>...</td>\n      <td>...</td>\n      <td>...</td>\n      <td>...</td>\n      <td>...</td>\n      <td>...</td>\n      <td>...</td>\n      <td>...</td>\n      <td>...</td>\n      <td>...</td>\n      <td>...</td>\n      <td>...</td>\n      <td>...</td>\n      <td>...</td>\n      <td>...</td>\n      <td>...</td>\n      <td>...</td>\n    </tr>\n    <tr>\n      <th>\"RPS19BP1\"</th>\n      <td>0</td>\n      <td>0</td>\n      <td>0</td>\n      <td>0</td>\n      <td>0</td>\n      <td>0</td>\n      <td>0</td>\n      <td>0</td>\n      <td>0</td>\n      <td>0</td>\n      <td>...</td>\n      <td>0</td>\n      <td>0</td>\n      <td>0</td>\n      <td>0</td>\n      <td>0</td>\n      <td>0</td>\n      <td>0</td>\n      <td>0</td>\n      <td>0</td>\n      <td>0</td>\n    </tr>\n    <tr>\n      <th>\"AUNIP\"</th>\n      <td>0</td>\n      <td>0</td>\n      <td>0</td>\n      <td>0</td>\n      <td>0</td>\n      <td>0</td>\n      <td>0</td>\n      <td>0</td>\n      <td>0</td>\n      <td>0</td>\n      <td>...</td>\n      <td>0</td>\n      <td>0</td>\n      <td>0</td>\n      <td>0</td>\n      <td>0</td>\n      <td>0</td>\n      <td>0</td>\n      <td>0</td>\n      <td>0</td>\n      <td>0</td>\n    </tr>\n    <tr>\n      <th>\"TNK2\"</th>\n      <td>0</td>\n      <td>0</td>\n      <td>0</td>\n      <td>0</td>\n      <td>0</td>\n      <td>0</td>\n      <td>0</td>\n      <td>0</td>\n      <td>0</td>\n      <td>0</td>\n      <td>...</td>\n      <td>0</td>\n      <td>0</td>\n      <td>0</td>\n      <td>0</td>\n      <td>0</td>\n      <td>0</td>\n      <td>0</td>\n      <td>0</td>\n      <td>0</td>\n      <td>0</td>\n    </tr>\n    <tr>\n      <th>\"SUDS3\"</th>\n      <td>0</td>\n      <td>0</td>\n      <td>0</td>\n      <td>0</td>\n      <td>0</td>\n      <td>0</td>\n      <td>0</td>\n      <td>0</td>\n      <td>0</td>\n      <td>0</td>\n      <td>...</td>\n      <td>0</td>\n      <td>0</td>\n      <td>0</td>\n      <td>0</td>\n      <td>0</td>\n      <td>0</td>\n      <td>0</td>\n      <td>1</td>\n      <td>0</td>\n      <td>0</td>\n    </tr>\n    <tr>\n      <th>oxia</th>\n      <td>1</td>\n      <td>1</td>\n      <td>1</td>\n      <td>1</td>\n      <td>1</td>\n      <td>1</td>\n      <td>1</td>\n      <td>1</td>\n      <td>1</td>\n      <td>1</td>\n      <td>...</td>\n      <td>0</td>\n      <td>0</td>\n      <td>0</td>\n      <td>0</td>\n      <td>0</td>\n      <td>0</td>\n      <td>0</td>\n      <td>0</td>\n      <td>0</td>\n      <td>0</td>\n    </tr>\n  </tbody>\n</table>\n<p>3001 rows × 21626 columns</p>\n</div>"
     },
     "execution_count": 10,
     "metadata": {},
     "output_type": "execute_result"
    }
   ],
   "source": [
    "df_DropSeq_MCF7 = Oxia(df_DropSeq_MCF7)\n",
    "df_DropSeq_MCF7"
   ],
   "metadata": {
    "collapsed": false
   }
  },
  {
   "cell_type": "code",
   "source": [
    "#now to the data\n",
    "#transpose the data\n",
    "df_DropSeq_MCF7 = df_DropSeq_MCF7.T\n",
    "df_DropSeq_MCF7"
   ],
   "metadata": {
    "collapsed": false,
    "ExecuteTime": {
     "end_time": "2024-05-06T11:30:54.577626Z",
     "start_time": "2024-05-06T11:30:54.548704Z"
    }
   },
   "outputs": [
    {
     "data": {
      "text/plain": "                         \"MALAT1\"  \"MT-RNR2\"  \"NEAT1\"  \"H1-5\"  \"TFF1\"  \\\n\"AAAAACCTATCG_Normoxia\"         1          0        0       0       4   \n\"AAAACAACCCTA_Normoxia\"         3          0        0       0       1   \n\"AAAACACTCTCA_Normoxia\"         3          0        0       0       1   \n\"AAAACCAGGCAC_Normoxia\"         6          2        0       0       1   \n\"AAAACCTAGCTC_Normoxia\"         4          0        0       0       0   \n...                           ...        ...      ...     ...     ...   \n\"TTTTCGCGTAGA_Hypoxia\"          0          0        0       0       3   \n\"TTTTCGTCCGCT_Hypoxia\"          1          0        0       0       4   \n\"TTTTCTCCGGCT_Hypoxia\"          0          0        0       1       2   \n\"TTTTGTTCAAAG_Hypoxia\"          0          0        0       0       6   \n\"TTTTTTGTATGT_Hypoxia\"          4          0        0       0       0   \n\n                         \"MT-RNR1\"  \"H4C3\"  \"GDF15\"  \"KRT81\"  \"MT-CO3\"  ...  \\\n\"AAAAACCTATCG_Normoxia\"          0       0        0        0         0  ...   \n\"AAAACAACCCTA_Normoxia\"          0       1        0        0         0  ...   \n\"AAAACACTCTCA_Normoxia\"          0       0        0        0         0  ...   \n\"AAAACCAGGCAC_Normoxia\"          0       1        0        0         0  ...   \n\"AAAACCTAGCTC_Normoxia\"          0       0        0        0         1  ...   \n...                            ...     ...      ...      ...       ...  ...   \n\"TTTTCGCGTAGA_Hypoxia\"           0       7        0        0         0  ...   \n\"TTTTCGTCCGCT_Hypoxia\"           0       1        0        1         0  ...   \n\"TTTTCTCCGGCT_Hypoxia\"           0       4        0        0         0  ...   \n\"TTTTGTTCAAAG_Hypoxia\"           0       0        0        0         0  ...   \n\"TTTTTTGTATGT_Hypoxia\"           0       6        0        0         0  ...   \n\n                         \"SKIDA1\"  \"MICALL1\"  \"RARG\"  \"MYO1F\"  \"BRWD1-AS2\"  \\\n\"AAAAACCTATCG_Normoxia\"         0          0       0        0            0   \n\"AAAACAACCCTA_Normoxia\"         0          0       0        0            0   \n\"AAAACACTCTCA_Normoxia\"         0          0       0        0            0   \n\"AAAACCAGGCAC_Normoxia\"         0          0       0        0            0   \n\"AAAACCTAGCTC_Normoxia\"         0          0       0        0            0   \n...                           ...        ...     ...      ...          ...   \n\"TTTTCGCGTAGA_Hypoxia\"          0          0       0        0            0   \n\"TTTTCGTCCGCT_Hypoxia\"          0          0       0        0            0   \n\"TTTTCTCCGGCT_Hypoxia\"          0          0       0        0            0   \n\"TTTTGTTCAAAG_Hypoxia\"          0          0       0        0            0   \n\"TTTTTTGTATGT_Hypoxia\"          0          0       0        0            0   \n\n                         \"RPS19BP1\"  \"AUNIP\"  \"TNK2\"  \"SUDS3\"  oxia  \n\"AAAAACCTATCG_Normoxia\"           0        0       0        0     1  \n\"AAAACAACCCTA_Normoxia\"           0        0       0        0     1  \n\"AAAACACTCTCA_Normoxia\"           0        0       0        0     1  \n\"AAAACCAGGCAC_Normoxia\"           0        0       0        0     1  \n\"AAAACCTAGCTC_Normoxia\"           0        0       0        0     1  \n...                             ...      ...     ...      ...   ...  \n\"TTTTCGCGTAGA_Hypoxia\"            0        0       0        0     0  \n\"TTTTCGTCCGCT_Hypoxia\"            0        0       0        0     0  \n\"TTTTCTCCGGCT_Hypoxia\"            0        0       0        1     0  \n\"TTTTGTTCAAAG_Hypoxia\"            0        0       0        0     0  \n\"TTTTTTGTATGT_Hypoxia\"            0        0       0        0     0  \n\n[21626 rows x 3001 columns]",
      "text/html": "<div>\n<style scoped>\n    .dataframe tbody tr th:only-of-type {\n        vertical-align: middle;\n    }\n\n    .dataframe tbody tr th {\n        vertical-align: top;\n    }\n\n    .dataframe thead th {\n        text-align: right;\n    }\n</style>\n<table border=\"1\" class=\"dataframe\">\n  <thead>\n    <tr style=\"text-align: right;\">\n      <th></th>\n      <th>\"MALAT1\"</th>\n      <th>\"MT-RNR2\"</th>\n      <th>\"NEAT1\"</th>\n      <th>\"H1-5\"</th>\n      <th>\"TFF1\"</th>\n      <th>\"MT-RNR1\"</th>\n      <th>\"H4C3\"</th>\n      <th>\"GDF15\"</th>\n      <th>\"KRT81\"</th>\n      <th>\"MT-CO3\"</th>\n      <th>...</th>\n      <th>\"SKIDA1\"</th>\n      <th>\"MICALL1\"</th>\n      <th>\"RARG\"</th>\n      <th>\"MYO1F\"</th>\n      <th>\"BRWD1-AS2\"</th>\n      <th>\"RPS19BP1\"</th>\n      <th>\"AUNIP\"</th>\n      <th>\"TNK2\"</th>\n      <th>\"SUDS3\"</th>\n      <th>oxia</th>\n    </tr>\n  </thead>\n  <tbody>\n    <tr>\n      <th>\"AAAAACCTATCG_Normoxia\"</th>\n      <td>1</td>\n      <td>0</td>\n      <td>0</td>\n      <td>0</td>\n      <td>4</td>\n      <td>0</td>\n      <td>0</td>\n      <td>0</td>\n      <td>0</td>\n      <td>0</td>\n      <td>...</td>\n      <td>0</td>\n      <td>0</td>\n      <td>0</td>\n      <td>0</td>\n      <td>0</td>\n      <td>0</td>\n      <td>0</td>\n      <td>0</td>\n      <td>0</td>\n      <td>1</td>\n    </tr>\n    <tr>\n      <th>\"AAAACAACCCTA_Normoxia\"</th>\n      <td>3</td>\n      <td>0</td>\n      <td>0</td>\n      <td>0</td>\n      <td>1</td>\n      <td>0</td>\n      <td>1</td>\n      <td>0</td>\n      <td>0</td>\n      <td>0</td>\n      <td>...</td>\n      <td>0</td>\n      <td>0</td>\n      <td>0</td>\n      <td>0</td>\n      <td>0</td>\n      <td>0</td>\n      <td>0</td>\n      <td>0</td>\n      <td>0</td>\n      <td>1</td>\n    </tr>\n    <tr>\n      <th>\"AAAACACTCTCA_Normoxia\"</th>\n      <td>3</td>\n      <td>0</td>\n      <td>0</td>\n      <td>0</td>\n      <td>1</td>\n      <td>0</td>\n      <td>0</td>\n      <td>0</td>\n      <td>0</td>\n      <td>0</td>\n      <td>...</td>\n      <td>0</td>\n      <td>0</td>\n      <td>0</td>\n      <td>0</td>\n      <td>0</td>\n      <td>0</td>\n      <td>0</td>\n      <td>0</td>\n      <td>0</td>\n      <td>1</td>\n    </tr>\n    <tr>\n      <th>\"AAAACCAGGCAC_Normoxia\"</th>\n      <td>6</td>\n      <td>2</td>\n      <td>0</td>\n      <td>0</td>\n      <td>1</td>\n      <td>0</td>\n      <td>1</td>\n      <td>0</td>\n      <td>0</td>\n      <td>0</td>\n      <td>...</td>\n      <td>0</td>\n      <td>0</td>\n      <td>0</td>\n      <td>0</td>\n      <td>0</td>\n      <td>0</td>\n      <td>0</td>\n      <td>0</td>\n      <td>0</td>\n      <td>1</td>\n    </tr>\n    <tr>\n      <th>\"AAAACCTAGCTC_Normoxia\"</th>\n      <td>4</td>\n      <td>0</td>\n      <td>0</td>\n      <td>0</td>\n      <td>0</td>\n      <td>0</td>\n      <td>0</td>\n      <td>0</td>\n      <td>0</td>\n      <td>1</td>\n      <td>...</td>\n      <td>0</td>\n      <td>0</td>\n      <td>0</td>\n      <td>0</td>\n      <td>0</td>\n      <td>0</td>\n      <td>0</td>\n      <td>0</td>\n      <td>0</td>\n      <td>1</td>\n    </tr>\n    <tr>\n      <th>...</th>\n      <td>...</td>\n      <td>...</td>\n      <td>...</td>\n      <td>...</td>\n      <td>...</td>\n      <td>...</td>\n      <td>...</td>\n      <td>...</td>\n      <td>...</td>\n      <td>...</td>\n      <td>...</td>\n      <td>...</td>\n      <td>...</td>\n      <td>...</td>\n      <td>...</td>\n      <td>...</td>\n      <td>...</td>\n      <td>...</td>\n      <td>...</td>\n      <td>...</td>\n      <td>...</td>\n    </tr>\n    <tr>\n      <th>\"TTTTCGCGTAGA_Hypoxia\"</th>\n      <td>0</td>\n      <td>0</td>\n      <td>0</td>\n      <td>0</td>\n      <td>3</td>\n      <td>0</td>\n      <td>7</td>\n      <td>0</td>\n      <td>0</td>\n      <td>0</td>\n      <td>...</td>\n      <td>0</td>\n      <td>0</td>\n      <td>0</td>\n      <td>0</td>\n      <td>0</td>\n      <td>0</td>\n      <td>0</td>\n      <td>0</td>\n      <td>0</td>\n      <td>0</td>\n    </tr>\n    <tr>\n      <th>\"TTTTCGTCCGCT_Hypoxia\"</th>\n      <td>1</td>\n      <td>0</td>\n      <td>0</td>\n      <td>0</td>\n      <td>4</td>\n      <td>0</td>\n      <td>1</td>\n      <td>0</td>\n      <td>1</td>\n      <td>0</td>\n      <td>...</td>\n      <td>0</td>\n      <td>0</td>\n      <td>0</td>\n      <td>0</td>\n      <td>0</td>\n      <td>0</td>\n      <td>0</td>\n      <td>0</td>\n      <td>0</td>\n      <td>0</td>\n    </tr>\n    <tr>\n      <th>\"TTTTCTCCGGCT_Hypoxia\"</th>\n      <td>0</td>\n      <td>0</td>\n      <td>0</td>\n      <td>1</td>\n      <td>2</td>\n      <td>0</td>\n      <td>4</td>\n      <td>0</td>\n      <td>0</td>\n      <td>0</td>\n      <td>...</td>\n      <td>0</td>\n      <td>0</td>\n      <td>0</td>\n      <td>0</td>\n      <td>0</td>\n      <td>0</td>\n      <td>0</td>\n      <td>0</td>\n      <td>1</td>\n      <td>0</td>\n    </tr>\n    <tr>\n      <th>\"TTTTGTTCAAAG_Hypoxia\"</th>\n      <td>0</td>\n      <td>0</td>\n      <td>0</td>\n      <td>0</td>\n      <td>6</td>\n      <td>0</td>\n      <td>0</td>\n      <td>0</td>\n      <td>0</td>\n      <td>0</td>\n      <td>...</td>\n      <td>0</td>\n      <td>0</td>\n      <td>0</td>\n      <td>0</td>\n      <td>0</td>\n      <td>0</td>\n      <td>0</td>\n      <td>0</td>\n      <td>0</td>\n      <td>0</td>\n    </tr>\n    <tr>\n      <th>\"TTTTTTGTATGT_Hypoxia\"</th>\n      <td>4</td>\n      <td>0</td>\n      <td>0</td>\n      <td>0</td>\n      <td>0</td>\n      <td>0</td>\n      <td>6</td>\n      <td>0</td>\n      <td>0</td>\n      <td>0</td>\n      <td>...</td>\n      <td>0</td>\n      <td>0</td>\n      <td>0</td>\n      <td>0</td>\n      <td>0</td>\n      <td>0</td>\n      <td>0</td>\n      <td>0</td>\n      <td>0</td>\n      <td>0</td>\n    </tr>\n  </tbody>\n</table>\n<p>21626 rows × 3001 columns</p>\n</div>"
     },
     "execution_count": 11,
     "metadata": {},
     "output_type": "execute_result"
    }
   ],
   "execution_count": 11
  },
  {
   "cell_type": "code",
   "source": [
    "#count the number of hypoxic and normoxic samples\n",
    "df_DropSeq_MCF7['oxia'].value_counts()"
   ],
   "metadata": {
    "collapsed": false,
    "ExecuteTime": {
     "end_time": "2024-05-06T11:30:54.593612Z",
     "start_time": "2024-05-06T11:30:54.578624Z"
    }
   },
   "outputs": [
    {
     "data": {
      "text/plain": "oxia\n1    12705\n0     8921\nName: count, dtype: int64"
     },
     "execution_count": 12,
     "metadata": {},
     "output_type": "execute_result"
    }
   ],
   "execution_count": 12
  },
  {
   "cell_type": "code",
   "source": [
    "#now we need to split the data into training and testing data\n",
    "#remove the oxia row and store it in a variable\n",
    "y_DropSeq_MCF7 = df_DropSeq_MCF7['oxia']\n",
    "X_DropSeq_MCF7 = df_DropSeq_MCF7.drop('oxia', axis=1)"
   ],
   "metadata": {
    "collapsed": false,
    "ExecuteTime": {
     "end_time": "2024-05-06T11:30:54.872966Z",
     "start_time": "2024-05-06T11:30:54.594580Z"
    }
   },
   "outputs": [],
   "execution_count": 13
  },
  {
   "cell_type": "markdown",
   "source": [],
   "metadata": {
    "collapsed": false
   }
  },
  {
   "cell_type": "code",
   "source": [
    "X_DropSeq_MCF7 #this is all the data, needs to be split for testing and training"
   ],
   "metadata": {
    "collapsed": false,
    "ExecuteTime": {
     "end_time": "2024-05-06T11:30:54.904904Z",
     "start_time": "2024-05-06T11:30:54.876956Z"
    }
   },
   "outputs": [
    {
     "data": {
      "text/plain": "                         \"MALAT1\"  \"MT-RNR2\"  \"NEAT1\"  \"H1-5\"  \"TFF1\"  \\\n\"AAAAACCTATCG_Normoxia\"         1          0        0       0       4   \n\"AAAACAACCCTA_Normoxia\"         3          0        0       0       1   \n\"AAAACACTCTCA_Normoxia\"         3          0        0       0       1   \n\"AAAACCAGGCAC_Normoxia\"         6          2        0       0       1   \n\"AAAACCTAGCTC_Normoxia\"         4          0        0       0       0   \n...                           ...        ...      ...     ...     ...   \n\"TTTTCGCGTAGA_Hypoxia\"          0          0        0       0       3   \n\"TTTTCGTCCGCT_Hypoxia\"          1          0        0       0       4   \n\"TTTTCTCCGGCT_Hypoxia\"          0          0        0       1       2   \n\"TTTTGTTCAAAG_Hypoxia\"          0          0        0       0       6   \n\"TTTTTTGTATGT_Hypoxia\"          4          0        0       0       0   \n\n                         \"MT-RNR1\"  \"H4C3\"  \"GDF15\"  \"KRT81\"  \"MT-CO3\"  ...  \\\n\"AAAAACCTATCG_Normoxia\"          0       0        0        0         0  ...   \n\"AAAACAACCCTA_Normoxia\"          0       1        0        0         0  ...   \n\"AAAACACTCTCA_Normoxia\"          0       0        0        0         0  ...   \n\"AAAACCAGGCAC_Normoxia\"          0       1        0        0         0  ...   \n\"AAAACCTAGCTC_Normoxia\"          0       0        0        0         1  ...   \n...                            ...     ...      ...      ...       ...  ...   \n\"TTTTCGCGTAGA_Hypoxia\"           0       7        0        0         0  ...   \n\"TTTTCGTCCGCT_Hypoxia\"           0       1        0        1         0  ...   \n\"TTTTCTCCGGCT_Hypoxia\"           0       4        0        0         0  ...   \n\"TTTTGTTCAAAG_Hypoxia\"           0       0        0        0         0  ...   \n\"TTTTTTGTATGT_Hypoxia\"           0       6        0        0         0  ...   \n\n                         \"MROH1\"  \"SKIDA1\"  \"MICALL1\"  \"RARG\"  \"MYO1F\"  \\\n\"AAAAACCTATCG_Normoxia\"        0         0          0       0        0   \n\"AAAACAACCCTA_Normoxia\"        0         0          0       0        0   \n\"AAAACACTCTCA_Normoxia\"        0         0          0       0        0   \n\"AAAACCAGGCAC_Normoxia\"        0         0          0       0        0   \n\"AAAACCTAGCTC_Normoxia\"        0         0          0       0        0   \n...                          ...       ...        ...     ...      ...   \n\"TTTTCGCGTAGA_Hypoxia\"         0         0          0       0        0   \n\"TTTTCGTCCGCT_Hypoxia\"         0         0          0       0        0   \n\"TTTTCTCCGGCT_Hypoxia\"         0         0          0       0        0   \n\"TTTTGTTCAAAG_Hypoxia\"         0         0          0       0        0   \n\"TTTTTTGTATGT_Hypoxia\"         0         0          0       0        0   \n\n                         \"BRWD1-AS2\"  \"RPS19BP1\"  \"AUNIP\"  \"TNK2\"  \"SUDS3\"  \n\"AAAAACCTATCG_Normoxia\"            0           0        0       0        0  \n\"AAAACAACCCTA_Normoxia\"            0           0        0       0        0  \n\"AAAACACTCTCA_Normoxia\"            0           0        0       0        0  \n\"AAAACCAGGCAC_Normoxia\"            0           0        0       0        0  \n\"AAAACCTAGCTC_Normoxia\"            0           0        0       0        0  \n...                              ...         ...      ...     ...      ...  \n\"TTTTCGCGTAGA_Hypoxia\"             0           0        0       0        0  \n\"TTTTCGTCCGCT_Hypoxia\"             0           0        0       0        0  \n\"TTTTCTCCGGCT_Hypoxia\"             0           0        0       0        1  \n\"TTTTGTTCAAAG_Hypoxia\"             0           0        0       0        0  \n\"TTTTTTGTATGT_Hypoxia\"             0           0        0       0        0  \n\n[21626 rows x 3000 columns]",
      "text/html": "<div>\n<style scoped>\n    .dataframe tbody tr th:only-of-type {\n        vertical-align: middle;\n    }\n\n    .dataframe tbody tr th {\n        vertical-align: top;\n    }\n\n    .dataframe thead th {\n        text-align: right;\n    }\n</style>\n<table border=\"1\" class=\"dataframe\">\n  <thead>\n    <tr style=\"text-align: right;\">\n      <th></th>\n      <th>\"MALAT1\"</th>\n      <th>\"MT-RNR2\"</th>\n      <th>\"NEAT1\"</th>\n      <th>\"H1-5\"</th>\n      <th>\"TFF1\"</th>\n      <th>\"MT-RNR1\"</th>\n      <th>\"H4C3\"</th>\n      <th>\"GDF15\"</th>\n      <th>\"KRT81\"</th>\n      <th>\"MT-CO3\"</th>\n      <th>...</th>\n      <th>\"MROH1\"</th>\n      <th>\"SKIDA1\"</th>\n      <th>\"MICALL1\"</th>\n      <th>\"RARG\"</th>\n      <th>\"MYO1F\"</th>\n      <th>\"BRWD1-AS2\"</th>\n      <th>\"RPS19BP1\"</th>\n      <th>\"AUNIP\"</th>\n      <th>\"TNK2\"</th>\n      <th>\"SUDS3\"</th>\n    </tr>\n  </thead>\n  <tbody>\n    <tr>\n      <th>\"AAAAACCTATCG_Normoxia\"</th>\n      <td>1</td>\n      <td>0</td>\n      <td>0</td>\n      <td>0</td>\n      <td>4</td>\n      <td>0</td>\n      <td>0</td>\n      <td>0</td>\n      <td>0</td>\n      <td>0</td>\n      <td>...</td>\n      <td>0</td>\n      <td>0</td>\n      <td>0</td>\n      <td>0</td>\n      <td>0</td>\n      <td>0</td>\n      <td>0</td>\n      <td>0</td>\n      <td>0</td>\n      <td>0</td>\n    </tr>\n    <tr>\n      <th>\"AAAACAACCCTA_Normoxia\"</th>\n      <td>3</td>\n      <td>0</td>\n      <td>0</td>\n      <td>0</td>\n      <td>1</td>\n      <td>0</td>\n      <td>1</td>\n      <td>0</td>\n      <td>0</td>\n      <td>0</td>\n      <td>...</td>\n      <td>0</td>\n      <td>0</td>\n      <td>0</td>\n      <td>0</td>\n      <td>0</td>\n      <td>0</td>\n      <td>0</td>\n      <td>0</td>\n      <td>0</td>\n      <td>0</td>\n    </tr>\n    <tr>\n      <th>\"AAAACACTCTCA_Normoxia\"</th>\n      <td>3</td>\n      <td>0</td>\n      <td>0</td>\n      <td>0</td>\n      <td>1</td>\n      <td>0</td>\n      <td>0</td>\n      <td>0</td>\n      <td>0</td>\n      <td>0</td>\n      <td>...</td>\n      <td>0</td>\n      <td>0</td>\n      <td>0</td>\n      <td>0</td>\n      <td>0</td>\n      <td>0</td>\n      <td>0</td>\n      <td>0</td>\n      <td>0</td>\n      <td>0</td>\n    </tr>\n    <tr>\n      <th>\"AAAACCAGGCAC_Normoxia\"</th>\n      <td>6</td>\n      <td>2</td>\n      <td>0</td>\n      <td>0</td>\n      <td>1</td>\n      <td>0</td>\n      <td>1</td>\n      <td>0</td>\n      <td>0</td>\n      <td>0</td>\n      <td>...</td>\n      <td>0</td>\n      <td>0</td>\n      <td>0</td>\n      <td>0</td>\n      <td>0</td>\n      <td>0</td>\n      <td>0</td>\n      <td>0</td>\n      <td>0</td>\n      <td>0</td>\n    </tr>\n    <tr>\n      <th>\"AAAACCTAGCTC_Normoxia\"</th>\n      <td>4</td>\n      <td>0</td>\n      <td>0</td>\n      <td>0</td>\n      <td>0</td>\n      <td>0</td>\n      <td>0</td>\n      <td>0</td>\n      <td>0</td>\n      <td>1</td>\n      <td>...</td>\n      <td>0</td>\n      <td>0</td>\n      <td>0</td>\n      <td>0</td>\n      <td>0</td>\n      <td>0</td>\n      <td>0</td>\n      <td>0</td>\n      <td>0</td>\n      <td>0</td>\n    </tr>\n    <tr>\n      <th>...</th>\n      <td>...</td>\n      <td>...</td>\n      <td>...</td>\n      <td>...</td>\n      <td>...</td>\n      <td>...</td>\n      <td>...</td>\n      <td>...</td>\n      <td>...</td>\n      <td>...</td>\n      <td>...</td>\n      <td>...</td>\n      <td>...</td>\n      <td>...</td>\n      <td>...</td>\n      <td>...</td>\n      <td>...</td>\n      <td>...</td>\n      <td>...</td>\n      <td>...</td>\n      <td>...</td>\n    </tr>\n    <tr>\n      <th>\"TTTTCGCGTAGA_Hypoxia\"</th>\n      <td>0</td>\n      <td>0</td>\n      <td>0</td>\n      <td>0</td>\n      <td>3</td>\n      <td>0</td>\n      <td>7</td>\n      <td>0</td>\n      <td>0</td>\n      <td>0</td>\n      <td>...</td>\n      <td>0</td>\n      <td>0</td>\n      <td>0</td>\n      <td>0</td>\n      <td>0</td>\n      <td>0</td>\n      <td>0</td>\n      <td>0</td>\n      <td>0</td>\n      <td>0</td>\n    </tr>\n    <tr>\n      <th>\"TTTTCGTCCGCT_Hypoxia\"</th>\n      <td>1</td>\n      <td>0</td>\n      <td>0</td>\n      <td>0</td>\n      <td>4</td>\n      <td>0</td>\n      <td>1</td>\n      <td>0</td>\n      <td>1</td>\n      <td>0</td>\n      <td>...</td>\n      <td>0</td>\n      <td>0</td>\n      <td>0</td>\n      <td>0</td>\n      <td>0</td>\n      <td>0</td>\n      <td>0</td>\n      <td>0</td>\n      <td>0</td>\n      <td>0</td>\n    </tr>\n    <tr>\n      <th>\"TTTTCTCCGGCT_Hypoxia\"</th>\n      <td>0</td>\n      <td>0</td>\n      <td>0</td>\n      <td>1</td>\n      <td>2</td>\n      <td>0</td>\n      <td>4</td>\n      <td>0</td>\n      <td>0</td>\n      <td>0</td>\n      <td>...</td>\n      <td>0</td>\n      <td>0</td>\n      <td>0</td>\n      <td>0</td>\n      <td>0</td>\n      <td>0</td>\n      <td>0</td>\n      <td>0</td>\n      <td>0</td>\n      <td>1</td>\n    </tr>\n    <tr>\n      <th>\"TTTTGTTCAAAG_Hypoxia\"</th>\n      <td>0</td>\n      <td>0</td>\n      <td>0</td>\n      <td>0</td>\n      <td>6</td>\n      <td>0</td>\n      <td>0</td>\n      <td>0</td>\n      <td>0</td>\n      <td>0</td>\n      <td>...</td>\n      <td>0</td>\n      <td>0</td>\n      <td>0</td>\n      <td>0</td>\n      <td>0</td>\n      <td>0</td>\n      <td>0</td>\n      <td>0</td>\n      <td>0</td>\n      <td>0</td>\n    </tr>\n    <tr>\n      <th>\"TTTTTTGTATGT_Hypoxia\"</th>\n      <td>4</td>\n      <td>0</td>\n      <td>0</td>\n      <td>0</td>\n      <td>0</td>\n      <td>0</td>\n      <td>6</td>\n      <td>0</td>\n      <td>0</td>\n      <td>0</td>\n      <td>...</td>\n      <td>0</td>\n      <td>0</td>\n      <td>0</td>\n      <td>0</td>\n      <td>0</td>\n      <td>0</td>\n      <td>0</td>\n      <td>0</td>\n      <td>0</td>\n      <td>0</td>\n    </tr>\n  </tbody>\n</table>\n<p>21626 rows × 3000 columns</p>\n</div>"
     },
     "execution_count": 14,
     "metadata": {},
     "output_type": "execute_result"
    }
   ],
   "execution_count": 14
  },
  {
   "cell_type": "code",
   "source": [
    "y_DropSeq_MCF7 #this is the target data, were trying to predict this"
   ],
   "metadata": {
    "collapsed": false,
    "ExecuteTime": {
     "end_time": "2024-05-06T11:30:54.920838Z",
     "start_time": "2024-05-06T11:30:54.906875Z"
    }
   },
   "outputs": [
    {
     "data": {
      "text/plain": "\"AAAAACCTATCG_Normoxia\"    1\n\"AAAACAACCCTA_Normoxia\"    1\n\"AAAACACTCTCA_Normoxia\"    1\n\"AAAACCAGGCAC_Normoxia\"    1\n\"AAAACCTAGCTC_Normoxia\"    1\n                          ..\n\"TTTTCGCGTAGA_Hypoxia\"     0\n\"TTTTCGTCCGCT_Hypoxia\"     0\n\"TTTTCTCCGGCT_Hypoxia\"     0\n\"TTTTGTTCAAAG_Hypoxia\"     0\n\"TTTTTTGTATGT_Hypoxia\"     0\nName: oxia, Length: 21626, dtype: int64"
     },
     "execution_count": 15,
     "metadata": {},
     "output_type": "execute_result"
    }
   ],
   "execution_count": 15
  },
  {
   "cell_type": "code",
   "source": [
    "import sklearn\n",
    "from sklearn.model_selection import train_test_split\n",
    "#split the data into training and testing data\n",
    "X_train_DropSeq_MCF7, X_test_DropSeq_MCF7, y_train_DropSeq_MCF7, y_test_DropSeq_MCF7 = train_test_split(X_DropSeq_MCF7, y_DropSeq_MCF7, test_size=0.2, random_state=42)\n",
    "#lets see how they are split"
   ],
   "metadata": {
    "collapsed": false,
    "ExecuteTime": {
     "end_time": "2024-05-06T11:30:55.204081Z",
     "start_time": "2024-05-06T11:30:54.921864Z"
    }
   },
   "outputs": [],
   "execution_count": 16
  },
  {
   "cell_type": "code",
   "source": [
    "#and their shapes:\n",
    "print(\"X_train shape: \", X_train_DropSeq_MCF7.shape, \"X_test shape: \", X_test_DropSeq_MCF7.shape, \"y_train shape: \", y_train_DropSeq_MCF7.shape, \"y_test shape: \", y_test_DropSeq_MCF7.shape)"
   ],
   "metadata": {
    "collapsed": false,
    "ExecuteTime": {
     "end_time": "2024-05-06T11:30:55.311792Z",
     "start_time": "2024-05-06T11:30:55.297830Z"
    }
   },
   "outputs": [
    {
     "name": "stdout",
     "output_type": "stream",
     "text": [
      "X_train shape:  (17300, 3000) X_test shape:  (4326, 3000) y_train shape:  (17300,) y_test shape:  (4326,)\n"
     ]
    }
   ],
   "execution_count": 17
  },
  {
   "cell_type": "code",
   "execution_count": 18,
   "outputs": [
    {
     "name": "stdout",
     "output_type": "stream",
     "text": [
      "Mean Squared Error: 0.061820926530451334\n",
      "R^2 Score: 0.7438691949867691\n"
     ]
    }
   ],
   "source": [
    "#now to train the model\n",
    "#lets start with simple linear regression and see how it goes\n",
    "from sklearn.linear_model import LinearRegression\n",
    "from sklearn.metrics import mean_squared_error, r2_score\n",
    "\n",
    "# Step 1: Initialize the Linear Regression model\n",
    "model_linreg_DropSeq_MCF7 = LinearRegression()\n",
    "\n",
    "# Step 2: Fit the model on the training data\n",
    "model_linreg_DropSeq_MCF7.fit(X_train_DropSeq_MCF7, y_train_DropSeq_MCF7)\n",
    "\n",
    "# Step 3: Predict the target variable for the testing data\n",
    "y_pred_lin_DropSeq_MCF7 = model_linreg_DropSeq_MCF7.predict(X_test_DropSeq_MCF7)\n",
    "\n",
    "# Step 4: Evaluate the model's performance\n",
    "mse = mean_squared_error(y_test_DropSeq_MCF7, y_pred_lin_DropSeq_MCF7)\n",
    "r2 = r2_score(y_test_DropSeq_MCF7, y_pred_lin_DropSeq_MCF7)\n",
    "\n",
    "print(f\"Mean Squared Error: {mse}\")\n",
    "print(f\"R^2 Score: {r2}\")"
   ],
   "metadata": {
    "collapsed": false
   }
  },
  {
   "cell_type": "code",
   "source": [
    "#because we already have binary output data it might be worth to try a logistic regression model\n",
    "from sklearn.linear_model import LogisticRegression\n",
    "from sklearn.model_selection import train_test_split, cross_val_score, GridSearchCV\n",
    "from sklearn.metrics import accuracy_score, confusion_matrix\n",
    "model_logistic_DropSeq_MCF7 = LogisticRegression(solver='liblinear')\n",
    "params_log_DropSeq_MCF7 = {'penalty': ['l1', 'l2'], 'C': [0.001, 0.01, 0.1, 1, 10, 100, 1000]}\n",
    "model_logistic_gs_DropSeq_MCF7 = GridSearchCV(model_logistic_DropSeq_MCF7, params_log_DropSeq_MCF7, cv=5, scoring=['neg_log_loss'], refit='neg_log_loss')\n",
    "model_logistic_gs_DropSeq_MCF7.fit(X_train_DropSeq_MCF7, y_train_DropSeq_MCF7)"
   ],
   "metadata": {
    "collapsed": false,
    "ExecuteTime": {
     "end_time": "2024-05-06T11:32:26.414282Z",
     "start_time": "2024-05-06T11:31:09.413747Z"
    }
   },
   "outputs": [
    {
     "data": {
      "text/plain": "GridSearchCV(cv=5, estimator=LogisticRegression(solver='liblinear'),\n             param_grid={'C': [0.001, 0.01, 0.1, 1, 10, 100, 1000],\n                         'penalty': ['l1', 'l2']},\n             refit='neg_log_loss', scoring=['neg_log_loss'])",
      "text/html": "<style>#sk-container-id-1 {\n  /* Definition of color scheme common for light and dark mode */\n  --sklearn-color-text: black;\n  --sklearn-color-line: gray;\n  /* Definition of color scheme for unfitted estimators */\n  --sklearn-color-unfitted-level-0: #fff5e6;\n  --sklearn-color-unfitted-level-1: #f6e4d2;\n  --sklearn-color-unfitted-level-2: #ffe0b3;\n  --sklearn-color-unfitted-level-3: chocolate;\n  /* Definition of color scheme for fitted estimators */\n  --sklearn-color-fitted-level-0: #f0f8ff;\n  --sklearn-color-fitted-level-1: #d4ebff;\n  --sklearn-color-fitted-level-2: #b3dbfd;\n  --sklearn-color-fitted-level-3: cornflowerblue;\n\n  /* Specific color for light theme */\n  --sklearn-color-text-on-default-background: var(--sg-text-color, var(--theme-code-foreground, var(--jp-content-font-color1, black)));\n  --sklearn-color-background: var(--sg-background-color, var(--theme-background, var(--jp-layout-color0, white)));\n  --sklearn-color-border-box: var(--sg-text-color, var(--theme-code-foreground, var(--jp-content-font-color1, black)));\n  --sklearn-color-icon: #696969;\n\n  @media (prefers-color-scheme: dark) {\n    /* Redefinition of color scheme for dark theme */\n    --sklearn-color-text-on-default-background: var(--sg-text-color, var(--theme-code-foreground, var(--jp-content-font-color1, white)));\n    --sklearn-color-background: var(--sg-background-color, var(--theme-background, var(--jp-layout-color0, #111)));\n    --sklearn-color-border-box: var(--sg-text-color, var(--theme-code-foreground, var(--jp-content-font-color1, white)));\n    --sklearn-color-icon: #878787;\n  }\n}\n\n#sk-container-id-1 {\n  color: var(--sklearn-color-text);\n}\n\n#sk-container-id-1 pre {\n  padding: 0;\n}\n\n#sk-container-id-1 input.sk-hidden--visually {\n  border: 0;\n  clip: rect(1px 1px 1px 1px);\n  clip: rect(1px, 1px, 1px, 1px);\n  height: 1px;\n  margin: -1px;\n  overflow: hidden;\n  padding: 0;\n  position: absolute;\n  width: 1px;\n}\n\n#sk-container-id-1 div.sk-dashed-wrapped {\n  border: 1px dashed var(--sklearn-color-line);\n  margin: 0 0.4em 0.5em 0.4em;\n  box-sizing: border-box;\n  padding-bottom: 0.4em;\n  background-color: var(--sklearn-color-background);\n}\n\n#sk-container-id-1 div.sk-container {\n  /* jupyter's `normalize.less` sets `[hidden] { display: none; }`\n     but bootstrap.min.css set `[hidden] { display: none !important; }`\n     so we also need the `!important` here to be able to override the\n     default hidden behavior on the sphinx rendered scikit-learn.org.\n     See: https://github.com/scikit-learn/scikit-learn/issues/21755 */\n  display: inline-block !important;\n  position: relative;\n}\n\n#sk-container-id-1 div.sk-text-repr-fallback {\n  display: none;\n}\n\ndiv.sk-parallel-item,\ndiv.sk-serial,\ndiv.sk-item {\n  /* draw centered vertical line to link estimators */\n  background-image: linear-gradient(var(--sklearn-color-text-on-default-background), var(--sklearn-color-text-on-default-background));\n  background-size: 2px 100%;\n  background-repeat: no-repeat;\n  background-position: center center;\n}\n\n/* Parallel-specific style estimator block */\n\n#sk-container-id-1 div.sk-parallel-item::after {\n  content: \"\";\n  width: 100%;\n  border-bottom: 2px solid var(--sklearn-color-text-on-default-background);\n  flex-grow: 1;\n}\n\n#sk-container-id-1 div.sk-parallel {\n  display: flex;\n  align-items: stretch;\n  justify-content: center;\n  background-color: var(--sklearn-color-background);\n  position: relative;\n}\n\n#sk-container-id-1 div.sk-parallel-item {\n  display: flex;\n  flex-direction: column;\n}\n\n#sk-container-id-1 div.sk-parallel-item:first-child::after {\n  align-self: flex-end;\n  width: 50%;\n}\n\n#sk-container-id-1 div.sk-parallel-item:last-child::after {\n  align-self: flex-start;\n  width: 50%;\n}\n\n#sk-container-id-1 div.sk-parallel-item:only-child::after {\n  width: 0;\n}\n\n/* Serial-specific style estimator block */\n\n#sk-container-id-1 div.sk-serial {\n  display: flex;\n  flex-direction: column;\n  align-items: center;\n  background-color: var(--sklearn-color-background);\n  padding-right: 1em;\n  padding-left: 1em;\n}\n\n\n/* Toggleable style: style used for estimator/Pipeline/ColumnTransformer box that is\nclickable and can be expanded/collapsed.\n- Pipeline and ColumnTransformer use this feature and define the default style\n- Estimators will overwrite some part of the style using the `sk-estimator` class\n*/\n\n/* Pipeline and ColumnTransformer style (default) */\n\n#sk-container-id-1 div.sk-toggleable {\n  /* Default theme specific background. It is overwritten whether we have a\n  specific estimator or a Pipeline/ColumnTransformer */\n  background-color: var(--sklearn-color-background);\n}\n\n/* Toggleable label */\n#sk-container-id-1 label.sk-toggleable__label {\n  cursor: pointer;\n  display: block;\n  width: 100%;\n  margin-bottom: 0;\n  padding: 0.5em;\n  box-sizing: border-box;\n  text-align: center;\n}\n\n#sk-container-id-1 label.sk-toggleable__label-arrow:before {\n  /* Arrow on the left of the label */\n  content: \"▸\";\n  float: left;\n  margin-right: 0.25em;\n  color: var(--sklearn-color-icon);\n}\n\n#sk-container-id-1 label.sk-toggleable__label-arrow:hover:before {\n  color: var(--sklearn-color-text);\n}\n\n/* Toggleable content - dropdown */\n\n#sk-container-id-1 div.sk-toggleable__content {\n  max-height: 0;\n  max-width: 0;\n  overflow: hidden;\n  text-align: left;\n  /* unfitted */\n  background-color: var(--sklearn-color-unfitted-level-0);\n}\n\n#sk-container-id-1 div.sk-toggleable__content.fitted {\n  /* fitted */\n  background-color: var(--sklearn-color-fitted-level-0);\n}\n\n#sk-container-id-1 div.sk-toggleable__content pre {\n  margin: 0.2em;\n  border-radius: 0.25em;\n  color: var(--sklearn-color-text);\n  /* unfitted */\n  background-color: var(--sklearn-color-unfitted-level-0);\n}\n\n#sk-container-id-1 div.sk-toggleable__content.fitted pre {\n  /* unfitted */\n  background-color: var(--sklearn-color-fitted-level-0);\n}\n\n#sk-container-id-1 input.sk-toggleable__control:checked~div.sk-toggleable__content {\n  /* Expand drop-down */\n  max-height: 200px;\n  max-width: 100%;\n  overflow: auto;\n}\n\n#sk-container-id-1 input.sk-toggleable__control:checked~label.sk-toggleable__label-arrow:before {\n  content: \"▾\";\n}\n\n/* Pipeline/ColumnTransformer-specific style */\n\n#sk-container-id-1 div.sk-label input.sk-toggleable__control:checked~label.sk-toggleable__label {\n  color: var(--sklearn-color-text);\n  background-color: var(--sklearn-color-unfitted-level-2);\n}\n\n#sk-container-id-1 div.sk-label.fitted input.sk-toggleable__control:checked~label.sk-toggleable__label {\n  background-color: var(--sklearn-color-fitted-level-2);\n}\n\n/* Estimator-specific style */\n\n/* Colorize estimator box */\n#sk-container-id-1 div.sk-estimator input.sk-toggleable__control:checked~label.sk-toggleable__label {\n  /* unfitted */\n  background-color: var(--sklearn-color-unfitted-level-2);\n}\n\n#sk-container-id-1 div.sk-estimator.fitted input.sk-toggleable__control:checked~label.sk-toggleable__label {\n  /* fitted */\n  background-color: var(--sklearn-color-fitted-level-2);\n}\n\n#sk-container-id-1 div.sk-label label.sk-toggleable__label,\n#sk-container-id-1 div.sk-label label {\n  /* The background is the default theme color */\n  color: var(--sklearn-color-text-on-default-background);\n}\n\n/* On hover, darken the color of the background */\n#sk-container-id-1 div.sk-label:hover label.sk-toggleable__label {\n  color: var(--sklearn-color-text);\n  background-color: var(--sklearn-color-unfitted-level-2);\n}\n\n/* Label box, darken color on hover, fitted */\n#sk-container-id-1 div.sk-label.fitted:hover label.sk-toggleable__label.fitted {\n  color: var(--sklearn-color-text);\n  background-color: var(--sklearn-color-fitted-level-2);\n}\n\n/* Estimator label */\n\n#sk-container-id-1 div.sk-label label {\n  font-family: monospace;\n  font-weight: bold;\n  display: inline-block;\n  line-height: 1.2em;\n}\n\n#sk-container-id-1 div.sk-label-container {\n  text-align: center;\n}\n\n/* Estimator-specific */\n#sk-container-id-1 div.sk-estimator {\n  font-family: monospace;\n  border: 1px dotted var(--sklearn-color-border-box);\n  border-radius: 0.25em;\n  box-sizing: border-box;\n  margin-bottom: 0.5em;\n  /* unfitted */\n  background-color: var(--sklearn-color-unfitted-level-0);\n}\n\n#sk-container-id-1 div.sk-estimator.fitted {\n  /* fitted */\n  background-color: var(--sklearn-color-fitted-level-0);\n}\n\n/* on hover */\n#sk-container-id-1 div.sk-estimator:hover {\n  /* unfitted */\n  background-color: var(--sklearn-color-unfitted-level-2);\n}\n\n#sk-container-id-1 div.sk-estimator.fitted:hover {\n  /* fitted */\n  background-color: var(--sklearn-color-fitted-level-2);\n}\n\n/* Specification for estimator info (e.g. \"i\" and \"?\") */\n\n/* Common style for \"i\" and \"?\" */\n\n.sk-estimator-doc-link,\na:link.sk-estimator-doc-link,\na:visited.sk-estimator-doc-link {\n  float: right;\n  font-size: smaller;\n  line-height: 1em;\n  font-family: monospace;\n  background-color: var(--sklearn-color-background);\n  border-radius: 1em;\n  height: 1em;\n  width: 1em;\n  text-decoration: none !important;\n  margin-left: 1ex;\n  /* unfitted */\n  border: var(--sklearn-color-unfitted-level-1) 1pt solid;\n  color: var(--sklearn-color-unfitted-level-1);\n}\n\n.sk-estimator-doc-link.fitted,\na:link.sk-estimator-doc-link.fitted,\na:visited.sk-estimator-doc-link.fitted {\n  /* fitted */\n  border: var(--sklearn-color-fitted-level-1) 1pt solid;\n  color: var(--sklearn-color-fitted-level-1);\n}\n\n/* On hover */\ndiv.sk-estimator:hover .sk-estimator-doc-link:hover,\n.sk-estimator-doc-link:hover,\ndiv.sk-label-container:hover .sk-estimator-doc-link:hover,\n.sk-estimator-doc-link:hover {\n  /* unfitted */\n  background-color: var(--sklearn-color-unfitted-level-3);\n  color: var(--sklearn-color-background);\n  text-decoration: none;\n}\n\ndiv.sk-estimator.fitted:hover .sk-estimator-doc-link.fitted:hover,\n.sk-estimator-doc-link.fitted:hover,\ndiv.sk-label-container:hover .sk-estimator-doc-link.fitted:hover,\n.sk-estimator-doc-link.fitted:hover {\n  /* fitted */\n  background-color: var(--sklearn-color-fitted-level-3);\n  color: var(--sklearn-color-background);\n  text-decoration: none;\n}\n\n/* Span, style for the box shown on hovering the info icon */\n.sk-estimator-doc-link span {\n  display: none;\n  z-index: 9999;\n  position: relative;\n  font-weight: normal;\n  right: .2ex;\n  padding: .5ex;\n  margin: .5ex;\n  width: min-content;\n  min-width: 20ex;\n  max-width: 50ex;\n  color: var(--sklearn-color-text);\n  box-shadow: 2pt 2pt 4pt #999;\n  /* unfitted */\n  background: var(--sklearn-color-unfitted-level-0);\n  border: .5pt solid var(--sklearn-color-unfitted-level-3);\n}\n\n.sk-estimator-doc-link.fitted span {\n  /* fitted */\n  background: var(--sklearn-color-fitted-level-0);\n  border: var(--sklearn-color-fitted-level-3);\n}\n\n.sk-estimator-doc-link:hover span {\n  display: block;\n}\n\n/* \"?\"-specific style due to the `<a>` HTML tag */\n\n#sk-container-id-1 a.estimator_doc_link {\n  float: right;\n  font-size: 1rem;\n  line-height: 1em;\n  font-family: monospace;\n  background-color: var(--sklearn-color-background);\n  border-radius: 1rem;\n  height: 1rem;\n  width: 1rem;\n  text-decoration: none;\n  /* unfitted */\n  color: var(--sklearn-color-unfitted-level-1);\n  border: var(--sklearn-color-unfitted-level-1) 1pt solid;\n}\n\n#sk-container-id-1 a.estimator_doc_link.fitted {\n  /* fitted */\n  border: var(--sklearn-color-fitted-level-1) 1pt solid;\n  color: var(--sklearn-color-fitted-level-1);\n}\n\n/* On hover */\n#sk-container-id-1 a.estimator_doc_link:hover {\n  /* unfitted */\n  background-color: var(--sklearn-color-unfitted-level-3);\n  color: var(--sklearn-color-background);\n  text-decoration: none;\n}\n\n#sk-container-id-1 a.estimator_doc_link.fitted:hover {\n  /* fitted */\n  background-color: var(--sklearn-color-fitted-level-3);\n}\n</style><div id=\"sk-container-id-1\" class=\"sk-top-container\"><div class=\"sk-text-repr-fallback\"><pre>GridSearchCV(cv=5, estimator=LogisticRegression(solver=&#x27;liblinear&#x27;),\n             param_grid={&#x27;C&#x27;: [0.001, 0.01, 0.1, 1, 10, 100, 1000],\n                         &#x27;penalty&#x27;: [&#x27;l1&#x27;, &#x27;l2&#x27;]},\n             refit=&#x27;neg_log_loss&#x27;, scoring=[&#x27;neg_log_loss&#x27;])</pre><b>In a Jupyter environment, please rerun this cell to show the HTML representation or trust the notebook. <br />On GitHub, the HTML representation is unable to render, please try loading this page with nbviewer.org.</b></div><div class=\"sk-container\" hidden><div class=\"sk-item sk-dashed-wrapped\"><div class=\"sk-label-container\"><div class=\"sk-label fitted sk-toggleable\"><input class=\"sk-toggleable__control sk-hidden--visually\" id=\"sk-estimator-id-1\" type=\"checkbox\" ><label for=\"sk-estimator-id-1\" class=\"sk-toggleable__label fitted sk-toggleable__label-arrow fitted\">&nbsp;&nbsp;GridSearchCV<a class=\"sk-estimator-doc-link fitted\" rel=\"noreferrer\" target=\"_blank\" href=\"https://scikit-learn.org/1.4/modules/generated/sklearn.model_selection.GridSearchCV.html\">?<span>Documentation for GridSearchCV</span></a><span class=\"sk-estimator-doc-link fitted\">i<span>Fitted</span></span></label><div class=\"sk-toggleable__content fitted\"><pre>GridSearchCV(cv=5, estimator=LogisticRegression(solver=&#x27;liblinear&#x27;),\n             param_grid={&#x27;C&#x27;: [0.001, 0.01, 0.1, 1, 10, 100, 1000],\n                         &#x27;penalty&#x27;: [&#x27;l1&#x27;, &#x27;l2&#x27;]},\n             refit=&#x27;neg_log_loss&#x27;, scoring=[&#x27;neg_log_loss&#x27;])</pre></div> </div></div><div class=\"sk-parallel\"><div class=\"sk-parallel-item\"><div class=\"sk-item\"><div class=\"sk-label-container\"><div class=\"sk-label fitted sk-toggleable\"><input class=\"sk-toggleable__control sk-hidden--visually\" id=\"sk-estimator-id-2\" type=\"checkbox\" ><label for=\"sk-estimator-id-2\" class=\"sk-toggleable__label fitted sk-toggleable__label-arrow fitted\">estimator: LogisticRegression</label><div class=\"sk-toggleable__content fitted\"><pre>LogisticRegression(solver=&#x27;liblinear&#x27;)</pre></div> </div></div><div class=\"sk-serial\"><div class=\"sk-item\"><div class=\"sk-estimator fitted sk-toggleable\"><input class=\"sk-toggleable__control sk-hidden--visually\" id=\"sk-estimator-id-3\" type=\"checkbox\" ><label for=\"sk-estimator-id-3\" class=\"sk-toggleable__label fitted sk-toggleable__label-arrow fitted\">&nbsp;LogisticRegression<a class=\"sk-estimator-doc-link fitted\" rel=\"noreferrer\" target=\"_blank\" href=\"https://scikit-learn.org/1.4/modules/generated/sklearn.linear_model.LogisticRegression.html\">?<span>Documentation for LogisticRegression</span></a></label><div class=\"sk-toggleable__content fitted\"><pre>LogisticRegression(solver=&#x27;liblinear&#x27;)</pre></div> </div></div></div></div></div></div></div></div></div>"
     },
     "execution_count": 19,
     "metadata": {},
     "output_type": "execute_result"
    }
   ],
   "execution_count": 19
  },
  {
   "cell_type": "code",
   "source": [
    "best_log_model_DropSeq_MCF7 = model_logistic_gs_DropSeq_MCF7.best_estimator_\n",
    "print(best_log_model_DropSeq_MCF7)\n",
    "print(f\"The best parameters for the logistic regression:{model_logistic_gs_DropSeq_MCF7.best_params_}\")"
   ],
   "metadata": {
    "collapsed": false,
    "ExecuteTime": {
     "end_time": "2024-05-06T11:32:26.430239Z",
     "start_time": "2024-05-06T11:32:26.415279Z"
    }
   },
   "outputs": [
    {
     "name": "stdout",
     "output_type": "stream",
     "text": [
      "LogisticRegression(C=0.1, solver='liblinear')\n",
      "The best parameters for the logistic regression:{'C': 0.1, 'penalty': 'l2'}\n"
     ]
    }
   ],
   "execution_count": 20
  },
  {
   "cell_type": "code",
   "source": [
    "#How accurate were the predictions?\n",
    "y_pred_log = best_log_model_DropSeq_MCF7.predict(X_test_DropSeq_MCF7)\n",
    "accuracy_logistic = accuracy_score(y_test_DropSeq_MCF7, y_pred_log)\n",
    "print(f\"Accuracy: {accuracy_logistic}\")"
   ],
   "metadata": {
    "collapsed": false,
    "ExecuteTime": {
     "end_time": "2024-05-06T11:32:26.509565Z",
     "start_time": "2024-05-06T11:32:26.431237Z"
    }
   },
   "outputs": [
    {
     "name": "stdout",
     "output_type": "stream",
     "text": [
      "Accuracy: 0.9787332408691632\n"
     ]
    }
   ],
   "execution_count": 21
  },
  {
   "cell_type": "code",
   "execution_count": 1,
   "outputs": [
    {
     "ename": "NameError",
     "evalue": "name 'y_train_DropSeq_MCF7' is not defined",
     "output_type": "error",
     "traceback": [
      "\u001B[1;31m---------------------------------------------------------------------------\u001B[0m",
      "\u001B[1;31mNameError\u001B[0m                                 Traceback (most recent call last)",
      "Cell \u001B[1;32mIn[1], line 4\u001B[0m\n\u001B[0;32m      2\u001B[0m \u001B[38;5;28;01mfrom\u001B[39;00m \u001B[38;5;21;01msklearn\u001B[39;00m\u001B[38;5;21;01m.\u001B[39;00m\u001B[38;5;21;01mcluster\u001B[39;00m \u001B[38;5;28;01mimport\u001B[39;00m KMeans\n\u001B[0;32m      3\u001B[0m kmeans_DropSeq_MCF7 \u001B[38;5;241m=\u001B[39m KMeans(n_clusters\u001B[38;5;241m=\u001B[39m\u001B[38;5;241m2\u001B[39m, random_state\u001B[38;5;241m=\u001B[39m\u001B[38;5;241m42\u001B[39m)\n\u001B[1;32m----> 4\u001B[0m preds_DropSeq_MCF7 \u001B[38;5;241m=\u001B[39m kmeans_DropSeq_MCF7\u001B[38;5;241m.\u001B[39mfit_predict(\u001B[43my_train_DropSeq_MCF7\u001B[49m)\n\u001B[0;32m      5\u001B[0m kmeans\u001B[38;5;241m.\u001B[39mfit_predict(y_train_DropSeq_MCF7)\n",
      "\u001B[1;31mNameError\u001B[0m: name 'y_train_DropSeq_MCF7' is not defined"
     ]
    }
   ],
   "source": [
    "#kmeans\n",
    "from sklearn.cluster import KMeans\n",
    "kmeans_DropSeq_MCF7 = KMeans(n_clusters=2, random_state=42)\n",
    "preds_DropSeq_MCF7 = kmeans_DropSeq_MCF7.fit_predict(y_train_DropSeq_MCF7)\n",
    "kmeans.fit_predict(X_test_DropSeq_MCF7)"
   ],
   "metadata": {
    "collapsed": false
   }
  },
  {
   "cell_type": "code",
   "execution_count": null,
   "outputs": [],
   "source": [
    "#print their accuracy\n",
    "accuracy_kmeans = accuracy_score(y_test_DropSeq_MCF7, preds_DropSeq_MCF7)\n",
    "print(f\"Accuracy: {accuracy_kmeans}\")"
   ],
   "metadata": {
    "collapsed": false
   }
  },
  {
   "cell_type": "code",
   "execution_count": null,
   "outputs": [],
   "source": [
    "#random forest\n",
    "from  sklearn.ensemble import RandomForestClassifier\n",
    "Forest_DropSeq_MCF7 = RandomForestClassifier(random_state=42)\n",
    "params_forest_DropSeq_MCF7 = {'n_estimators': [10, 50, 100, 200], 'max_depth': [10, 50, 100, 200]}\n",
    "forest_gs_DropSeq_MCF7 = GridSearchCV(Forest_DropSeq_MCF7, params_forest_DropSeq_MCF7, cv=5, scoring=['neg_log_loss'], refit='neg_log_loss')\n",
    "forest_gs_DropSeq_MCF7.fit(X_train_DropSeq_MCF7, y_train_DropSeq_MCF7)\n",
    "best_forest_DropSeq_MCF7 = forest_gs_DropSeq_MCF7.best_estimator_"
   ],
   "metadata": {
    "collapsed": false
   }
  },
  {
   "cell_type": "code",
   "execution_count": null,
   "outputs": [],
   "source": [
    "best_forest_DropSeq_MCF7.fit(X_train_DropSeq_MCF7, y_train_DropSeq_MCF7)\n",
    "y_forest_pred_DropSeq_MCF7 = best_forest_DropSeq_MCF7.predict(X_test_DropSeq_MCF7)"
   ],
   "metadata": {
    "collapsed": false
   }
  },
  {
   "cell_type": "code",
   "execution_count": null,
   "outputs": [],
   "source": [
    "print(f\"Accuracy: {accuracy_score(y_test_DropSeq_MCF7, y_forest_pred_DropSeq_MCF7)}\")"
   ],
   "metadata": {
    "collapsed": false
   }
  },
  {
   "cell_type": "code",
   "source": [
    "#now to try a different model\n",
    "#how about perceptron multilayer perceptron\n",
    "from sklearn.neural_network import MLPClassifier\n",
    "\n",
    "# Step 1: Initialize the MLP Classifier model\n",
    "NN_DropSeq_MCF7 = MLPClassifier(random_state=42, batch_size='auto', max_iter=1000000, solver='sgd')\n",
    "# Step 2: Fit the model on the training data\n",
    "params_grid = {'hidden_layer_sizes': [(50,), (100,), (50,50), (100,100)], 'learning_rate_init': [0.1, 0.01, 0.001]}\n",
    "NN_gs_DropSeq_MCF7 = GridSearchCV(NN_DropSeq_MCF7, params_grid, cv=3, verbose=2)\n",
    "NN_gs_DropSeq_MCF7.fit(X_train_DropSeq_MCF7, y_train_DropSeq_MCF7)\n",
    "NN_best_DropSeq_MCF7 = NN_gs_DropSeq_MCF7.best_estimator_\n",
    "NN_best_DropSeq_MCF7.fit(X_train_DropSeq_MCF7, y_train_DropSeq_MCF7)"
   ],
   "metadata": {
    "collapsed": false,
    "ExecuteTime": {
     "end_time": "2024-05-06T12:18:26.180764Z",
     "start_time": "2024-05-06T11:32:26.510534Z"
    }
   },
   "outputs": [
    {
     "name": "stdout",
     "output_type": "stream",
     "text": [
      "Fitting 3 folds for each of 12 candidates, totalling 36 fits\n",
      "[CV] END ...hidden_layer_sizes=(50,), learning_rate_init=0.1; total time=  15.9s\n",
      "[CV] END ...hidden_layer_sizes=(50,), learning_rate_init=0.1; total time=  24.0s\n",
      "[CV] END ...hidden_layer_sizes=(50,), learning_rate_init=0.1; total time=  23.5s\n",
      "[CV] END ..hidden_layer_sizes=(50,), learning_rate_init=0.01; total time=  53.1s\n",
      "[CV] END ..hidden_layer_sizes=(50,), learning_rate_init=0.01; total time=  49.4s\n"
     ]
    },
    {
     "name": "stderr",
     "output_type": "stream",
     "text": [
      "C:\\Users\\camer\\PycharmProjects\\AI-Lab\\venv\\lib\\site-packages\\sklearn\\neural_network\\_multilayer_perceptron.py:698: UserWarning: Training interrupted by user.\n",
      "  warnings.warn(\"Training interrupted by user.\")\n"
     ]
    },
    {
     "name": "stdout",
     "output_type": "stream",
     "text": [
      "[CV] END ..hidden_layer_sizes=(50,), learning_rate_init=0.01; total time=  26.0s\n"
     ]
    },
    {
     "name": "stderr",
     "output_type": "stream",
     "text": [
      "C:\\Users\\camer\\PycharmProjects\\AI-Lab\\venv\\lib\\site-packages\\sklearn\\neural_network\\_multilayer_perceptron.py:698: UserWarning: Training interrupted by user.\n",
      "  warnings.warn(\"Training interrupted by user.\")\n"
     ]
    },
    {
     "name": "stdout",
     "output_type": "stream",
     "text": [
      "[CV] END .hidden_layer_sizes=(50,), learning_rate_init=0.001; total time= 3.3min\n"
     ]
    },
    {
     "name": "stderr",
     "output_type": "stream",
     "text": [
      "C:\\Users\\camer\\PycharmProjects\\AI-Lab\\venv\\lib\\site-packages\\sklearn\\neural_network\\_multilayer_perceptron.py:698: UserWarning: Training interrupted by user.\n",
      "  warnings.warn(\"Training interrupted by user.\")\n"
     ]
    },
    {
     "name": "stdout",
     "output_type": "stream",
     "text": [
      "[CV] END .hidden_layer_sizes=(50,), learning_rate_init=0.001; total time=   1.2s\n"
     ]
    },
    {
     "name": "stderr",
     "output_type": "stream",
     "text": [
      "C:\\Users\\camer\\PycharmProjects\\AI-Lab\\venv\\lib\\site-packages\\sklearn\\neural_network\\_multilayer_perceptron.py:698: UserWarning: Training interrupted by user.\n",
      "  warnings.warn(\"Training interrupted by user.\")\n"
     ]
    },
    {
     "name": "stdout",
     "output_type": "stream",
     "text": [
      "[CV] END .hidden_layer_sizes=(50,), learning_rate_init=0.001; total time=   0.8s\n"
     ]
    },
    {
     "ename": "KeyboardInterrupt",
     "evalue": "",
     "output_type": "error",
     "traceback": [
      "\u001B[1;31m---------------------------------------------------------------------------\u001B[0m",
      "\u001B[1;31mKeyboardInterrupt\u001B[0m                         Traceback (most recent call last)",
      "Cell \u001B[1;32mIn[22], line 10\u001B[0m\n\u001B[0;32m      8\u001B[0m params_grid \u001B[38;5;241m=\u001B[39m {\u001B[38;5;124m'\u001B[39m\u001B[38;5;124mhidden_layer_sizes\u001B[39m\u001B[38;5;124m'\u001B[39m: [(\u001B[38;5;241m50\u001B[39m,), (\u001B[38;5;241m100\u001B[39m,), (\u001B[38;5;241m50\u001B[39m,\u001B[38;5;241m50\u001B[39m), (\u001B[38;5;241m100\u001B[39m,\u001B[38;5;241m100\u001B[39m)], \u001B[38;5;124m'\u001B[39m\u001B[38;5;124mlearning_rate_init\u001B[39m\u001B[38;5;124m'\u001B[39m: [\u001B[38;5;241m0.1\u001B[39m, \u001B[38;5;241m0.01\u001B[39m, \u001B[38;5;241m0.001\u001B[39m]}\n\u001B[0;32m      9\u001B[0m NN_gs_DropSeq_MCF7 \u001B[38;5;241m=\u001B[39m GridSearchCV(NN_DropSeq_MCF7, params_grid, cv\u001B[38;5;241m=\u001B[39m\u001B[38;5;241m3\u001B[39m, verbose\u001B[38;5;241m=\u001B[39m\u001B[38;5;241m2\u001B[39m)\n\u001B[1;32m---> 10\u001B[0m \u001B[43mNN_gs_DropSeq_MCF7\u001B[49m\u001B[38;5;241;43m.\u001B[39;49m\u001B[43mfit\u001B[49m\u001B[43m(\u001B[49m\u001B[43mX_train_DropSeq_MCF7\u001B[49m\u001B[43m,\u001B[49m\u001B[43m \u001B[49m\u001B[43my_train_DropSeq_MCF7\u001B[49m\u001B[43m)\u001B[49m\n\u001B[0;32m     11\u001B[0m NN_best_DropSeq_MCF7 \u001B[38;5;241m=\u001B[39m NN_gs_DropSeq_MCF7\u001B[38;5;241m.\u001B[39mbest_estimator_\n\u001B[0;32m     12\u001B[0m NN_best_DropSeq_MCF7\u001B[38;5;241m.\u001B[39mfit(X_train_DropSeq_MCF7, y_train_DropSeq_MCF7)\n",
      "File \u001B[1;32m~\\PycharmProjects\\AI-Lab\\venv\\lib\\site-packages\\sklearn\\base.py:1474\u001B[0m, in \u001B[0;36m_fit_context.<locals>.decorator.<locals>.wrapper\u001B[1;34m(estimator, *args, **kwargs)\u001B[0m\n\u001B[0;32m   1467\u001B[0m     estimator\u001B[38;5;241m.\u001B[39m_validate_params()\n\u001B[0;32m   1469\u001B[0m \u001B[38;5;28;01mwith\u001B[39;00m config_context(\n\u001B[0;32m   1470\u001B[0m     skip_parameter_validation\u001B[38;5;241m=\u001B[39m(\n\u001B[0;32m   1471\u001B[0m         prefer_skip_nested_validation \u001B[38;5;129;01mor\u001B[39;00m global_skip_validation\n\u001B[0;32m   1472\u001B[0m     )\n\u001B[0;32m   1473\u001B[0m ):\n\u001B[1;32m-> 1474\u001B[0m     \u001B[38;5;28;01mreturn\u001B[39;00m fit_method(estimator, \u001B[38;5;241m*\u001B[39margs, \u001B[38;5;241m*\u001B[39m\u001B[38;5;241m*\u001B[39mkwargs)\n",
      "File \u001B[1;32m~\\PycharmProjects\\AI-Lab\\venv\\lib\\site-packages\\sklearn\\model_selection\\_search.py:970\u001B[0m, in \u001B[0;36mBaseSearchCV.fit\u001B[1;34m(self, X, y, **params)\u001B[0m\n\u001B[0;32m    964\u001B[0m     results \u001B[38;5;241m=\u001B[39m \u001B[38;5;28mself\u001B[39m\u001B[38;5;241m.\u001B[39m_format_results(\n\u001B[0;32m    965\u001B[0m         all_candidate_params, n_splits, all_out, all_more_results\n\u001B[0;32m    966\u001B[0m     )\n\u001B[0;32m    968\u001B[0m     \u001B[38;5;28;01mreturn\u001B[39;00m results\n\u001B[1;32m--> 970\u001B[0m \u001B[38;5;28;43mself\u001B[39;49m\u001B[38;5;241;43m.\u001B[39;49m\u001B[43m_run_search\u001B[49m\u001B[43m(\u001B[49m\u001B[43mevaluate_candidates\u001B[49m\u001B[43m)\u001B[49m\n\u001B[0;32m    972\u001B[0m \u001B[38;5;66;03m# multimetric is determined here because in the case of a callable\u001B[39;00m\n\u001B[0;32m    973\u001B[0m \u001B[38;5;66;03m# self.scoring the return type is only known after calling\u001B[39;00m\n\u001B[0;32m    974\u001B[0m first_test_score \u001B[38;5;241m=\u001B[39m all_out[\u001B[38;5;241m0\u001B[39m][\u001B[38;5;124m\"\u001B[39m\u001B[38;5;124mtest_scores\u001B[39m\u001B[38;5;124m\"\u001B[39m]\n",
      "File \u001B[1;32m~\\PycharmProjects\\AI-Lab\\venv\\lib\\site-packages\\sklearn\\model_selection\\_search.py:1527\u001B[0m, in \u001B[0;36mGridSearchCV._run_search\u001B[1;34m(self, evaluate_candidates)\u001B[0m\n\u001B[0;32m   1525\u001B[0m \u001B[38;5;28;01mdef\u001B[39;00m \u001B[38;5;21m_run_search\u001B[39m(\u001B[38;5;28mself\u001B[39m, evaluate_candidates):\n\u001B[0;32m   1526\u001B[0m \u001B[38;5;250m    \u001B[39m\u001B[38;5;124;03m\"\"\"Search all candidates in param_grid\"\"\"\u001B[39;00m\n\u001B[1;32m-> 1527\u001B[0m     \u001B[43mevaluate_candidates\u001B[49m\u001B[43m(\u001B[49m\u001B[43mParameterGrid\u001B[49m\u001B[43m(\u001B[49m\u001B[38;5;28;43mself\u001B[39;49m\u001B[38;5;241;43m.\u001B[39;49m\u001B[43mparam_grid\u001B[49m\u001B[43m)\u001B[49m\u001B[43m)\u001B[49m\n",
      "File \u001B[1;32m~\\PycharmProjects\\AI-Lab\\venv\\lib\\site-packages\\sklearn\\model_selection\\_search.py:916\u001B[0m, in \u001B[0;36mBaseSearchCV.fit.<locals>.evaluate_candidates\u001B[1;34m(candidate_params, cv, more_results)\u001B[0m\n\u001B[0;32m    908\u001B[0m \u001B[38;5;28;01mif\u001B[39;00m \u001B[38;5;28mself\u001B[39m\u001B[38;5;241m.\u001B[39mverbose \u001B[38;5;241m>\u001B[39m \u001B[38;5;241m0\u001B[39m:\n\u001B[0;32m    909\u001B[0m     \u001B[38;5;28mprint\u001B[39m(\n\u001B[0;32m    910\u001B[0m         \u001B[38;5;124m\"\u001B[39m\u001B[38;5;124mFitting \u001B[39m\u001B[38;5;132;01m{0}\u001B[39;00m\u001B[38;5;124m folds for each of \u001B[39m\u001B[38;5;132;01m{1}\u001B[39;00m\u001B[38;5;124m candidates,\u001B[39m\u001B[38;5;124m\"\u001B[39m\n\u001B[0;32m    911\u001B[0m         \u001B[38;5;124m\"\u001B[39m\u001B[38;5;124m totalling \u001B[39m\u001B[38;5;132;01m{2}\u001B[39;00m\u001B[38;5;124m fits\u001B[39m\u001B[38;5;124m\"\u001B[39m\u001B[38;5;241m.\u001B[39mformat(\n\u001B[0;32m    912\u001B[0m             n_splits, n_candidates, n_candidates \u001B[38;5;241m*\u001B[39m n_splits\n\u001B[0;32m    913\u001B[0m         )\n\u001B[0;32m    914\u001B[0m     )\n\u001B[1;32m--> 916\u001B[0m out \u001B[38;5;241m=\u001B[39m \u001B[43mparallel\u001B[49m\u001B[43m(\u001B[49m\n\u001B[0;32m    917\u001B[0m \u001B[43m    \u001B[49m\u001B[43mdelayed\u001B[49m\u001B[43m(\u001B[49m\u001B[43m_fit_and_score\u001B[49m\u001B[43m)\u001B[49m\u001B[43m(\u001B[49m\n\u001B[0;32m    918\u001B[0m \u001B[43m        \u001B[49m\u001B[43mclone\u001B[49m\u001B[43m(\u001B[49m\u001B[43mbase_estimator\u001B[49m\u001B[43m)\u001B[49m\u001B[43m,\u001B[49m\n\u001B[0;32m    919\u001B[0m \u001B[43m        \u001B[49m\u001B[43mX\u001B[49m\u001B[43m,\u001B[49m\n\u001B[0;32m    920\u001B[0m \u001B[43m        \u001B[49m\u001B[43my\u001B[49m\u001B[43m,\u001B[49m\n\u001B[0;32m    921\u001B[0m \u001B[43m        \u001B[49m\u001B[43mtrain\u001B[49m\u001B[38;5;241;43m=\u001B[39;49m\u001B[43mtrain\u001B[49m\u001B[43m,\u001B[49m\n\u001B[0;32m    922\u001B[0m \u001B[43m        \u001B[49m\u001B[43mtest\u001B[49m\u001B[38;5;241;43m=\u001B[39;49m\u001B[43mtest\u001B[49m\u001B[43m,\u001B[49m\n\u001B[0;32m    923\u001B[0m \u001B[43m        \u001B[49m\u001B[43mparameters\u001B[49m\u001B[38;5;241;43m=\u001B[39;49m\u001B[43mparameters\u001B[49m\u001B[43m,\u001B[49m\n\u001B[0;32m    924\u001B[0m \u001B[43m        \u001B[49m\u001B[43msplit_progress\u001B[49m\u001B[38;5;241;43m=\u001B[39;49m\u001B[43m(\u001B[49m\u001B[43msplit_idx\u001B[49m\u001B[43m,\u001B[49m\u001B[43m \u001B[49m\u001B[43mn_splits\u001B[49m\u001B[43m)\u001B[49m\u001B[43m,\u001B[49m\n\u001B[0;32m    925\u001B[0m \u001B[43m        \u001B[49m\u001B[43mcandidate_progress\u001B[49m\u001B[38;5;241;43m=\u001B[39;49m\u001B[43m(\u001B[49m\u001B[43mcand_idx\u001B[49m\u001B[43m,\u001B[49m\u001B[43m \u001B[49m\u001B[43mn_candidates\u001B[49m\u001B[43m)\u001B[49m\u001B[43m,\u001B[49m\n\u001B[0;32m    926\u001B[0m \u001B[43m        \u001B[49m\u001B[38;5;241;43m*\u001B[39;49m\u001B[38;5;241;43m*\u001B[39;49m\u001B[43mfit_and_score_kwargs\u001B[49m\u001B[43m,\u001B[49m\n\u001B[0;32m    927\u001B[0m \u001B[43m    \u001B[49m\u001B[43m)\u001B[49m\n\u001B[0;32m    928\u001B[0m \u001B[43m    \u001B[49m\u001B[38;5;28;43;01mfor\u001B[39;49;00m\u001B[43m \u001B[49m\u001B[43m(\u001B[49m\u001B[43mcand_idx\u001B[49m\u001B[43m,\u001B[49m\u001B[43m \u001B[49m\u001B[43mparameters\u001B[49m\u001B[43m)\u001B[49m\u001B[43m,\u001B[49m\u001B[43m \u001B[49m\u001B[43m(\u001B[49m\u001B[43msplit_idx\u001B[49m\u001B[43m,\u001B[49m\u001B[43m \u001B[49m\u001B[43m(\u001B[49m\u001B[43mtrain\u001B[49m\u001B[43m,\u001B[49m\u001B[43m \u001B[49m\u001B[43mtest\u001B[49m\u001B[43m)\u001B[49m\u001B[43m)\u001B[49m\u001B[43m \u001B[49m\u001B[38;5;129;43;01min\u001B[39;49;00m\u001B[43m \u001B[49m\u001B[43mproduct\u001B[49m\u001B[43m(\u001B[49m\n\u001B[0;32m    929\u001B[0m \u001B[43m        \u001B[49m\u001B[38;5;28;43menumerate\u001B[39;49m\u001B[43m(\u001B[49m\u001B[43mcandidate_params\u001B[49m\u001B[43m)\u001B[49m\u001B[43m,\u001B[49m\n\u001B[0;32m    930\u001B[0m \u001B[43m        \u001B[49m\u001B[38;5;28;43menumerate\u001B[39;49m\u001B[43m(\u001B[49m\u001B[43mcv\u001B[49m\u001B[38;5;241;43m.\u001B[39;49m\u001B[43msplit\u001B[49m\u001B[43m(\u001B[49m\u001B[43mX\u001B[49m\u001B[43m,\u001B[49m\u001B[43m \u001B[49m\u001B[43my\u001B[49m\u001B[43m,\u001B[49m\u001B[43m \u001B[49m\u001B[38;5;241;43m*\u001B[39;49m\u001B[38;5;241;43m*\u001B[39;49m\u001B[43mrouted_params\u001B[49m\u001B[38;5;241;43m.\u001B[39;49m\u001B[43msplitter\u001B[49m\u001B[38;5;241;43m.\u001B[39;49m\u001B[43msplit\u001B[49m\u001B[43m)\u001B[49m\u001B[43m)\u001B[49m\u001B[43m,\u001B[49m\n\u001B[0;32m    931\u001B[0m \u001B[43m    \u001B[49m\u001B[43m)\u001B[49m\n\u001B[0;32m    932\u001B[0m \u001B[43m\u001B[49m\u001B[43m)\u001B[49m\n\u001B[0;32m    934\u001B[0m \u001B[38;5;28;01mif\u001B[39;00m \u001B[38;5;28mlen\u001B[39m(out) \u001B[38;5;241m<\u001B[39m \u001B[38;5;241m1\u001B[39m:\n\u001B[0;32m    935\u001B[0m     \u001B[38;5;28;01mraise\u001B[39;00m \u001B[38;5;167;01mValueError\u001B[39;00m(\n\u001B[0;32m    936\u001B[0m         \u001B[38;5;124m\"\u001B[39m\u001B[38;5;124mNo fits were performed. \u001B[39m\u001B[38;5;124m\"\u001B[39m\n\u001B[0;32m    937\u001B[0m         \u001B[38;5;124m\"\u001B[39m\u001B[38;5;124mWas the CV iterator empty? \u001B[39m\u001B[38;5;124m\"\u001B[39m\n\u001B[0;32m    938\u001B[0m         \u001B[38;5;124m\"\u001B[39m\u001B[38;5;124mWere there no candidates?\u001B[39m\u001B[38;5;124m\"\u001B[39m\n\u001B[0;32m    939\u001B[0m     )\n",
      "File \u001B[1;32m~\\PycharmProjects\\AI-Lab\\venv\\lib\\site-packages\\sklearn\\utils\\parallel.py:67\u001B[0m, in \u001B[0;36mParallel.__call__\u001B[1;34m(self, iterable)\u001B[0m\n\u001B[0;32m     62\u001B[0m config \u001B[38;5;241m=\u001B[39m get_config()\n\u001B[0;32m     63\u001B[0m iterable_with_config \u001B[38;5;241m=\u001B[39m (\n\u001B[0;32m     64\u001B[0m     (_with_config(delayed_func, config), args, kwargs)\n\u001B[0;32m     65\u001B[0m     \u001B[38;5;28;01mfor\u001B[39;00m delayed_func, args, kwargs \u001B[38;5;129;01min\u001B[39;00m iterable\n\u001B[0;32m     66\u001B[0m )\n\u001B[1;32m---> 67\u001B[0m \u001B[38;5;28;01mreturn\u001B[39;00m \u001B[38;5;28;43msuper\u001B[39;49m\u001B[43m(\u001B[49m\u001B[43m)\u001B[49m\u001B[38;5;241;43m.\u001B[39;49m\u001B[38;5;21;43m__call__\u001B[39;49m\u001B[43m(\u001B[49m\u001B[43miterable_with_config\u001B[49m\u001B[43m)\u001B[49m\n",
      "File \u001B[1;32m~\\PycharmProjects\\AI-Lab\\venv\\lib\\site-packages\\joblib\\parallel.py:1918\u001B[0m, in \u001B[0;36mParallel.__call__\u001B[1;34m(self, iterable)\u001B[0m\n\u001B[0;32m   1916\u001B[0m     output \u001B[38;5;241m=\u001B[39m \u001B[38;5;28mself\u001B[39m\u001B[38;5;241m.\u001B[39m_get_sequential_output(iterable)\n\u001B[0;32m   1917\u001B[0m     \u001B[38;5;28mnext\u001B[39m(output)\n\u001B[1;32m-> 1918\u001B[0m     \u001B[38;5;28;01mreturn\u001B[39;00m output \u001B[38;5;28;01mif\u001B[39;00m \u001B[38;5;28mself\u001B[39m\u001B[38;5;241m.\u001B[39mreturn_generator \u001B[38;5;28;01melse\u001B[39;00m \u001B[38;5;28;43mlist\u001B[39;49m\u001B[43m(\u001B[49m\u001B[43moutput\u001B[49m\u001B[43m)\u001B[49m\n\u001B[0;32m   1920\u001B[0m \u001B[38;5;66;03m# Let's create an ID that uniquely identifies the current call. If the\u001B[39;00m\n\u001B[0;32m   1921\u001B[0m \u001B[38;5;66;03m# call is interrupted early and that the same instance is immediately\u001B[39;00m\n\u001B[0;32m   1922\u001B[0m \u001B[38;5;66;03m# re-used, this id will be used to prevent workers that were\u001B[39;00m\n\u001B[0;32m   1923\u001B[0m \u001B[38;5;66;03m# concurrently finalizing a task from the previous call to run the\u001B[39;00m\n\u001B[0;32m   1924\u001B[0m \u001B[38;5;66;03m# callback.\u001B[39;00m\n\u001B[0;32m   1925\u001B[0m \u001B[38;5;28;01mwith\u001B[39;00m \u001B[38;5;28mself\u001B[39m\u001B[38;5;241m.\u001B[39m_lock:\n",
      "File \u001B[1;32m~\\PycharmProjects\\AI-Lab\\venv\\lib\\site-packages\\joblib\\parallel.py:1847\u001B[0m, in \u001B[0;36mParallel._get_sequential_output\u001B[1;34m(self, iterable)\u001B[0m\n\u001B[0;32m   1845\u001B[0m \u001B[38;5;28mself\u001B[39m\u001B[38;5;241m.\u001B[39mn_dispatched_batches \u001B[38;5;241m+\u001B[39m\u001B[38;5;241m=\u001B[39m \u001B[38;5;241m1\u001B[39m\n\u001B[0;32m   1846\u001B[0m \u001B[38;5;28mself\u001B[39m\u001B[38;5;241m.\u001B[39mn_dispatched_tasks \u001B[38;5;241m+\u001B[39m\u001B[38;5;241m=\u001B[39m \u001B[38;5;241m1\u001B[39m\n\u001B[1;32m-> 1847\u001B[0m res \u001B[38;5;241m=\u001B[39m func(\u001B[38;5;241m*\u001B[39margs, \u001B[38;5;241m*\u001B[39m\u001B[38;5;241m*\u001B[39mkwargs)\n\u001B[0;32m   1848\u001B[0m \u001B[38;5;28mself\u001B[39m\u001B[38;5;241m.\u001B[39mn_completed_tasks \u001B[38;5;241m+\u001B[39m\u001B[38;5;241m=\u001B[39m \u001B[38;5;241m1\u001B[39m\n\u001B[0;32m   1849\u001B[0m \u001B[38;5;28mself\u001B[39m\u001B[38;5;241m.\u001B[39mprint_progress()\n",
      "File \u001B[1;32m~\\PycharmProjects\\AI-Lab\\venv\\lib\\site-packages\\sklearn\\utils\\parallel.py:129\u001B[0m, in \u001B[0;36m_FuncWrapper.__call__\u001B[1;34m(self, *args, **kwargs)\u001B[0m\n\u001B[0;32m    127\u001B[0m     config \u001B[38;5;241m=\u001B[39m {}\n\u001B[0;32m    128\u001B[0m \u001B[38;5;28;01mwith\u001B[39;00m config_context(\u001B[38;5;241m*\u001B[39m\u001B[38;5;241m*\u001B[39mconfig):\n\u001B[1;32m--> 129\u001B[0m     \u001B[38;5;28;01mreturn\u001B[39;00m \u001B[38;5;28mself\u001B[39m\u001B[38;5;241m.\u001B[39mfunction(\u001B[38;5;241m*\u001B[39margs, \u001B[38;5;241m*\u001B[39m\u001B[38;5;241m*\u001B[39mkwargs)\n",
      "File \u001B[1;32m~\\PycharmProjects\\AI-Lab\\venv\\lib\\site-packages\\sklearn\\model_selection\\_validation.py:887\u001B[0m, in \u001B[0;36m_fit_and_score\u001B[1;34m(estimator, X, y, scorer, train, test, verbose, parameters, fit_params, score_params, return_train_score, return_parameters, return_n_test_samples, return_times, return_estimator, split_progress, candidate_progress, error_score)\u001B[0m\n\u001B[0;32m    883\u001B[0m     estimator \u001B[38;5;241m=\u001B[39m estimator\u001B[38;5;241m.\u001B[39mset_params(\u001B[38;5;241m*\u001B[39m\u001B[38;5;241m*\u001B[39mclone(parameters, safe\u001B[38;5;241m=\u001B[39m\u001B[38;5;28;01mFalse\u001B[39;00m))\n\u001B[0;32m    885\u001B[0m start_time \u001B[38;5;241m=\u001B[39m time\u001B[38;5;241m.\u001B[39mtime()\n\u001B[1;32m--> 887\u001B[0m X_train, y_train \u001B[38;5;241m=\u001B[39m \u001B[43m_safe_split\u001B[49m\u001B[43m(\u001B[49m\u001B[43mestimator\u001B[49m\u001B[43m,\u001B[49m\u001B[43m \u001B[49m\u001B[43mX\u001B[49m\u001B[43m,\u001B[49m\u001B[43m \u001B[49m\u001B[43my\u001B[49m\u001B[43m,\u001B[49m\u001B[43m \u001B[49m\u001B[43mtrain\u001B[49m\u001B[43m)\u001B[49m\n\u001B[0;32m    888\u001B[0m X_test, y_test \u001B[38;5;241m=\u001B[39m _safe_split(estimator, X, y, test, train)\n\u001B[0;32m    890\u001B[0m result \u001B[38;5;241m=\u001B[39m {}\n",
      "File \u001B[1;32m~\\PycharmProjects\\AI-Lab\\venv\\lib\\site-packages\\sklearn\\utils\\metaestimators.py:158\u001B[0m, in \u001B[0;36m_safe_split\u001B[1;34m(estimator, X, y, indices, train_indices)\u001B[0m\n\u001B[0;32m    156\u001B[0m         X_subset \u001B[38;5;241m=\u001B[39m X[np\u001B[38;5;241m.\u001B[39mix_(indices, train_indices)]\n\u001B[0;32m    157\u001B[0m \u001B[38;5;28;01melse\u001B[39;00m:\n\u001B[1;32m--> 158\u001B[0m     X_subset \u001B[38;5;241m=\u001B[39m \u001B[43m_safe_indexing\u001B[49m\u001B[43m(\u001B[49m\u001B[43mX\u001B[49m\u001B[43m,\u001B[49m\u001B[43m \u001B[49m\u001B[43mindices\u001B[49m\u001B[43m)\u001B[49m\n\u001B[0;32m    160\u001B[0m \u001B[38;5;28;01mif\u001B[39;00m y \u001B[38;5;129;01mis\u001B[39;00m \u001B[38;5;129;01mnot\u001B[39;00m \u001B[38;5;28;01mNone\u001B[39;00m:\n\u001B[0;32m    161\u001B[0m     y_subset \u001B[38;5;241m=\u001B[39m _safe_indexing(y, indices)\n",
      "File \u001B[1;32m~\\PycharmProjects\\AI-Lab\\venv\\lib\\site-packages\\sklearn\\utils\\__init__.py:407\u001B[0m, in \u001B[0;36m_safe_indexing\u001B[1;34m(X, indices, axis)\u001B[0m\n\u001B[0;32m    400\u001B[0m     \u001B[38;5;28;01mraise\u001B[39;00m \u001B[38;5;167;01mValueError\u001B[39;00m(\n\u001B[0;32m    401\u001B[0m         \u001B[38;5;124m\"\u001B[39m\u001B[38;5;124mSpecifying the columns using strings is only supported for dataframes.\u001B[39m\u001B[38;5;124m\"\u001B[39m\n\u001B[0;32m    402\u001B[0m     )\n\u001B[0;32m    404\u001B[0m \u001B[38;5;28;01mif\u001B[39;00m \u001B[38;5;28mhasattr\u001B[39m(X, \u001B[38;5;124m\"\u001B[39m\u001B[38;5;124miloc\u001B[39m\u001B[38;5;124m\"\u001B[39m):\n\u001B[0;32m    405\u001B[0m     \u001B[38;5;66;03m# TODO: we should probably use _is_pandas_df(X) instead but this would\u001B[39;00m\n\u001B[0;32m    406\u001B[0m     \u001B[38;5;66;03m# require updating some tests such as test_train_test_split_mock_pandas.\u001B[39;00m\n\u001B[1;32m--> 407\u001B[0m     \u001B[38;5;28;01mreturn\u001B[39;00m \u001B[43m_pandas_indexing\u001B[49m\u001B[43m(\u001B[49m\u001B[43mX\u001B[49m\u001B[43m,\u001B[49m\u001B[43m \u001B[49m\u001B[43mindices\u001B[49m\u001B[43m,\u001B[49m\u001B[43m \u001B[49m\u001B[43mindices_dtype\u001B[49m\u001B[43m,\u001B[49m\u001B[43m \u001B[49m\u001B[43maxis\u001B[49m\u001B[38;5;241;43m=\u001B[39;49m\u001B[43maxis\u001B[49m\u001B[43m)\u001B[49m\n\u001B[0;32m    408\u001B[0m \u001B[38;5;28;01melif\u001B[39;00m _is_polars_df(X):\n\u001B[0;32m    409\u001B[0m     \u001B[38;5;28;01mreturn\u001B[39;00m _polars_indexing(X, indices, indices_dtype, axis\u001B[38;5;241m=\u001B[39maxis)\n",
      "File \u001B[1;32m~\\PycharmProjects\\AI-Lab\\venv\\lib\\site-packages\\sklearn\\utils\\__init__.py:219\u001B[0m, in \u001B[0;36m_pandas_indexing\u001B[1;34m(X, key, key_dtype, axis)\u001B[0m\n\u001B[0;32m    214\u001B[0m     key \u001B[38;5;241m=\u001B[39m np\u001B[38;5;241m.\u001B[39masarray(key)\n\u001B[0;32m    216\u001B[0m \u001B[38;5;28;01mif\u001B[39;00m key_dtype \u001B[38;5;241m==\u001B[39m \u001B[38;5;124m\"\u001B[39m\u001B[38;5;124mint\u001B[39m\u001B[38;5;124m\"\u001B[39m \u001B[38;5;129;01mand\u001B[39;00m \u001B[38;5;129;01mnot\u001B[39;00m (\u001B[38;5;28misinstance\u001B[39m(key, \u001B[38;5;28mslice\u001B[39m) \u001B[38;5;129;01mor\u001B[39;00m np\u001B[38;5;241m.\u001B[39misscalar(key)):\n\u001B[0;32m    217\u001B[0m     \u001B[38;5;66;03m# using take() instead of iloc[] ensures the return value is a \"proper\"\u001B[39;00m\n\u001B[0;32m    218\u001B[0m     \u001B[38;5;66;03m# copy that will not raise SettingWithCopyWarning\u001B[39;00m\n\u001B[1;32m--> 219\u001B[0m     \u001B[38;5;28;01mreturn\u001B[39;00m \u001B[43mX\u001B[49m\u001B[38;5;241;43m.\u001B[39;49m\u001B[43mtake\u001B[49m\u001B[43m(\u001B[49m\u001B[43mkey\u001B[49m\u001B[43m,\u001B[49m\u001B[43m \u001B[49m\u001B[43maxis\u001B[49m\u001B[38;5;241;43m=\u001B[39;49m\u001B[43maxis\u001B[49m\u001B[43m)\u001B[49m\n\u001B[0;32m    220\u001B[0m \u001B[38;5;28;01melse\u001B[39;00m:\n\u001B[0;32m    221\u001B[0m     \u001B[38;5;66;03m# check whether we should index with loc or iloc\u001B[39;00m\n\u001B[0;32m    222\u001B[0m     indexer \u001B[38;5;241m=\u001B[39m X\u001B[38;5;241m.\u001B[39miloc \u001B[38;5;28;01mif\u001B[39;00m key_dtype \u001B[38;5;241m==\u001B[39m \u001B[38;5;124m\"\u001B[39m\u001B[38;5;124mint\u001B[39m\u001B[38;5;124m\"\u001B[39m \u001B[38;5;28;01melse\u001B[39;00m X\u001B[38;5;241m.\u001B[39mloc\n",
      "File \u001B[1;32m~\\PycharmProjects\\AI-Lab\\venv\\lib\\site-packages\\pandas\\core\\generic.py:4133\u001B[0m, in \u001B[0;36mNDFrame.take\u001B[1;34m(self, indices, axis, **kwargs)\u001B[0m\n\u001B[0;32m   4128\u001B[0m     \u001B[38;5;66;03m# We can get here with a slice via DataFrame.__getitem__\u001B[39;00m\n\u001B[0;32m   4129\u001B[0m     indices \u001B[38;5;241m=\u001B[39m np\u001B[38;5;241m.\u001B[39marange(\n\u001B[0;32m   4130\u001B[0m         indices\u001B[38;5;241m.\u001B[39mstart, indices\u001B[38;5;241m.\u001B[39mstop, indices\u001B[38;5;241m.\u001B[39mstep, dtype\u001B[38;5;241m=\u001B[39mnp\u001B[38;5;241m.\u001B[39mintp\n\u001B[0;32m   4131\u001B[0m     )\n\u001B[1;32m-> 4133\u001B[0m new_data \u001B[38;5;241m=\u001B[39m \u001B[38;5;28;43mself\u001B[39;49m\u001B[38;5;241;43m.\u001B[39;49m\u001B[43m_mgr\u001B[49m\u001B[38;5;241;43m.\u001B[39;49m\u001B[43mtake\u001B[49m\u001B[43m(\u001B[49m\n\u001B[0;32m   4134\u001B[0m \u001B[43m    \u001B[49m\u001B[43mindices\u001B[49m\u001B[43m,\u001B[49m\n\u001B[0;32m   4135\u001B[0m \u001B[43m    \u001B[49m\u001B[43maxis\u001B[49m\u001B[38;5;241;43m=\u001B[39;49m\u001B[38;5;28;43mself\u001B[39;49m\u001B[38;5;241;43m.\u001B[39;49m\u001B[43m_get_block_manager_axis\u001B[49m\u001B[43m(\u001B[49m\u001B[43maxis\u001B[49m\u001B[43m)\u001B[49m\u001B[43m,\u001B[49m\n\u001B[0;32m   4136\u001B[0m \u001B[43m    \u001B[49m\u001B[43mverify\u001B[49m\u001B[38;5;241;43m=\u001B[39;49m\u001B[38;5;28;43;01mTrue\u001B[39;49;00m\u001B[43m,\u001B[49m\n\u001B[0;32m   4137\u001B[0m \u001B[43m\u001B[49m\u001B[43m)\u001B[49m\n\u001B[0;32m   4138\u001B[0m \u001B[38;5;28;01mreturn\u001B[39;00m \u001B[38;5;28mself\u001B[39m\u001B[38;5;241m.\u001B[39m_constructor_from_mgr(new_data, axes\u001B[38;5;241m=\u001B[39mnew_data\u001B[38;5;241m.\u001B[39maxes)\u001B[38;5;241m.\u001B[39m__finalize__(\n\u001B[0;32m   4139\u001B[0m     \u001B[38;5;28mself\u001B[39m, method\u001B[38;5;241m=\u001B[39m\u001B[38;5;124m\"\u001B[39m\u001B[38;5;124mtake\u001B[39m\u001B[38;5;124m\"\u001B[39m\n\u001B[0;32m   4140\u001B[0m )\n",
      "File \u001B[1;32m~\\PycharmProjects\\AI-Lab\\venv\\lib\\site-packages\\pandas\\core\\internals\\managers.py:894\u001B[0m, in \u001B[0;36mBaseBlockManager.take\u001B[1;34m(self, indexer, axis, verify)\u001B[0m\n\u001B[0;32m    891\u001B[0m indexer \u001B[38;5;241m=\u001B[39m maybe_convert_indices(indexer, n, verify\u001B[38;5;241m=\u001B[39mverify)\n\u001B[0;32m    893\u001B[0m new_labels \u001B[38;5;241m=\u001B[39m \u001B[38;5;28mself\u001B[39m\u001B[38;5;241m.\u001B[39maxes[axis]\u001B[38;5;241m.\u001B[39mtake(indexer)\n\u001B[1;32m--> 894\u001B[0m \u001B[38;5;28;01mreturn\u001B[39;00m \u001B[38;5;28;43mself\u001B[39;49m\u001B[38;5;241;43m.\u001B[39;49m\u001B[43mreindex_indexer\u001B[49m\u001B[43m(\u001B[49m\n\u001B[0;32m    895\u001B[0m \u001B[43m    \u001B[49m\u001B[43mnew_axis\u001B[49m\u001B[38;5;241;43m=\u001B[39;49m\u001B[43mnew_labels\u001B[49m\u001B[43m,\u001B[49m\n\u001B[0;32m    896\u001B[0m \u001B[43m    \u001B[49m\u001B[43mindexer\u001B[49m\u001B[38;5;241;43m=\u001B[39;49m\u001B[43mindexer\u001B[49m\u001B[43m,\u001B[49m\n\u001B[0;32m    897\u001B[0m \u001B[43m    \u001B[49m\u001B[43maxis\u001B[49m\u001B[38;5;241;43m=\u001B[39;49m\u001B[43maxis\u001B[49m\u001B[43m,\u001B[49m\n\u001B[0;32m    898\u001B[0m \u001B[43m    \u001B[49m\u001B[43mallow_dups\u001B[49m\u001B[38;5;241;43m=\u001B[39;49m\u001B[38;5;28;43;01mTrue\u001B[39;49;00m\u001B[43m,\u001B[49m\n\u001B[0;32m    899\u001B[0m \u001B[43m    \u001B[49m\u001B[43mcopy\u001B[49m\u001B[38;5;241;43m=\u001B[39;49m\u001B[38;5;28;43;01mNone\u001B[39;49;00m\u001B[43m,\u001B[49m\n\u001B[0;32m    900\u001B[0m \u001B[43m\u001B[49m\u001B[43m)\u001B[49m\n",
      "File \u001B[1;32m~\\PycharmProjects\\AI-Lab\\venv\\lib\\site-packages\\pandas\\core\\internals\\managers.py:687\u001B[0m, in \u001B[0;36mBaseBlockManager.reindex_indexer\u001B[1;34m(self, new_axis, indexer, axis, fill_value, allow_dups, copy, only_slice, use_na_proxy)\u001B[0m\n\u001B[0;32m    680\u001B[0m     new_blocks \u001B[38;5;241m=\u001B[39m \u001B[38;5;28mself\u001B[39m\u001B[38;5;241m.\u001B[39m_slice_take_blocks_ax0(\n\u001B[0;32m    681\u001B[0m         indexer,\n\u001B[0;32m    682\u001B[0m         fill_value\u001B[38;5;241m=\u001B[39mfill_value,\n\u001B[0;32m    683\u001B[0m         only_slice\u001B[38;5;241m=\u001B[39monly_slice,\n\u001B[0;32m    684\u001B[0m         use_na_proxy\u001B[38;5;241m=\u001B[39muse_na_proxy,\n\u001B[0;32m    685\u001B[0m     )\n\u001B[0;32m    686\u001B[0m \u001B[38;5;28;01melse\u001B[39;00m:\n\u001B[1;32m--> 687\u001B[0m     new_blocks \u001B[38;5;241m=\u001B[39m [\n\u001B[0;32m    688\u001B[0m         blk\u001B[38;5;241m.\u001B[39mtake_nd(\n\u001B[0;32m    689\u001B[0m             indexer,\n\u001B[0;32m    690\u001B[0m             axis\u001B[38;5;241m=\u001B[39m\u001B[38;5;241m1\u001B[39m,\n\u001B[0;32m    691\u001B[0m             fill_value\u001B[38;5;241m=\u001B[39m(\n\u001B[0;32m    692\u001B[0m                 fill_value \u001B[38;5;28;01mif\u001B[39;00m fill_value \u001B[38;5;129;01mis\u001B[39;00m \u001B[38;5;129;01mnot\u001B[39;00m \u001B[38;5;28;01mNone\u001B[39;00m \u001B[38;5;28;01melse\u001B[39;00m blk\u001B[38;5;241m.\u001B[39mfill_value\n\u001B[0;32m    693\u001B[0m             ),\n\u001B[0;32m    694\u001B[0m         )\n\u001B[0;32m    695\u001B[0m         \u001B[38;5;28;01mfor\u001B[39;00m blk \u001B[38;5;129;01min\u001B[39;00m \u001B[38;5;28mself\u001B[39m\u001B[38;5;241m.\u001B[39mblocks\n\u001B[0;32m    696\u001B[0m     ]\n\u001B[0;32m    698\u001B[0m new_axes \u001B[38;5;241m=\u001B[39m \u001B[38;5;28mlist\u001B[39m(\u001B[38;5;28mself\u001B[39m\u001B[38;5;241m.\u001B[39maxes)\n\u001B[0;32m    699\u001B[0m new_axes[axis] \u001B[38;5;241m=\u001B[39m new_axis\n",
      "File \u001B[1;32m~\\PycharmProjects\\AI-Lab\\venv\\lib\\site-packages\\pandas\\core\\internals\\managers.py:688\u001B[0m, in \u001B[0;36m<listcomp>\u001B[1;34m(.0)\u001B[0m\n\u001B[0;32m    680\u001B[0m     new_blocks \u001B[38;5;241m=\u001B[39m \u001B[38;5;28mself\u001B[39m\u001B[38;5;241m.\u001B[39m_slice_take_blocks_ax0(\n\u001B[0;32m    681\u001B[0m         indexer,\n\u001B[0;32m    682\u001B[0m         fill_value\u001B[38;5;241m=\u001B[39mfill_value,\n\u001B[0;32m    683\u001B[0m         only_slice\u001B[38;5;241m=\u001B[39monly_slice,\n\u001B[0;32m    684\u001B[0m         use_na_proxy\u001B[38;5;241m=\u001B[39muse_na_proxy,\n\u001B[0;32m    685\u001B[0m     )\n\u001B[0;32m    686\u001B[0m \u001B[38;5;28;01melse\u001B[39;00m:\n\u001B[0;32m    687\u001B[0m     new_blocks \u001B[38;5;241m=\u001B[39m [\n\u001B[1;32m--> 688\u001B[0m         \u001B[43mblk\u001B[49m\u001B[38;5;241;43m.\u001B[39;49m\u001B[43mtake_nd\u001B[49m\u001B[43m(\u001B[49m\n\u001B[0;32m    689\u001B[0m \u001B[43m            \u001B[49m\u001B[43mindexer\u001B[49m\u001B[43m,\u001B[49m\n\u001B[0;32m    690\u001B[0m \u001B[43m            \u001B[49m\u001B[43maxis\u001B[49m\u001B[38;5;241;43m=\u001B[39;49m\u001B[38;5;241;43m1\u001B[39;49m\u001B[43m,\u001B[49m\n\u001B[0;32m    691\u001B[0m \u001B[43m            \u001B[49m\u001B[43mfill_value\u001B[49m\u001B[38;5;241;43m=\u001B[39;49m\u001B[43m(\u001B[49m\n\u001B[0;32m    692\u001B[0m \u001B[43m                \u001B[49m\u001B[43mfill_value\u001B[49m\u001B[43m \u001B[49m\u001B[38;5;28;43;01mif\u001B[39;49;00m\u001B[43m \u001B[49m\u001B[43mfill_value\u001B[49m\u001B[43m \u001B[49m\u001B[38;5;129;43;01mis\u001B[39;49;00m\u001B[43m \u001B[49m\u001B[38;5;129;43;01mnot\u001B[39;49;00m\u001B[43m \u001B[49m\u001B[38;5;28;43;01mNone\u001B[39;49;00m\u001B[43m \u001B[49m\u001B[38;5;28;43;01melse\u001B[39;49;00m\u001B[43m \u001B[49m\u001B[43mblk\u001B[49m\u001B[38;5;241;43m.\u001B[39;49m\u001B[43mfill_value\u001B[49m\n\u001B[0;32m    693\u001B[0m \u001B[43m            \u001B[49m\u001B[43m)\u001B[49m\u001B[43m,\u001B[49m\n\u001B[0;32m    694\u001B[0m \u001B[43m        \u001B[49m\u001B[43m)\u001B[49m\n\u001B[0;32m    695\u001B[0m         \u001B[38;5;28;01mfor\u001B[39;00m blk \u001B[38;5;129;01min\u001B[39;00m \u001B[38;5;28mself\u001B[39m\u001B[38;5;241m.\u001B[39mblocks\n\u001B[0;32m    696\u001B[0m     ]\n\u001B[0;32m    698\u001B[0m new_axes \u001B[38;5;241m=\u001B[39m \u001B[38;5;28mlist\u001B[39m(\u001B[38;5;28mself\u001B[39m\u001B[38;5;241m.\u001B[39maxes)\n\u001B[0;32m    699\u001B[0m new_axes[axis] \u001B[38;5;241m=\u001B[39m new_axis\n",
      "File \u001B[1;32m~\\PycharmProjects\\AI-Lab\\venv\\lib\\site-packages\\pandas\\core\\internals\\blocks.py:1307\u001B[0m, in \u001B[0;36mBlock.take_nd\u001B[1;34m(self, indexer, axis, new_mgr_locs, fill_value)\u001B[0m\n\u001B[0;32m   1304\u001B[0m     allow_fill \u001B[38;5;241m=\u001B[39m \u001B[38;5;28;01mTrue\u001B[39;00m\n\u001B[0;32m   1306\u001B[0m \u001B[38;5;66;03m# Note: algos.take_nd has upcast logic similar to coerce_to_target_dtype\u001B[39;00m\n\u001B[1;32m-> 1307\u001B[0m new_values \u001B[38;5;241m=\u001B[39m \u001B[43malgos\u001B[49m\u001B[38;5;241;43m.\u001B[39;49m\u001B[43mtake_nd\u001B[49m\u001B[43m(\u001B[49m\n\u001B[0;32m   1308\u001B[0m \u001B[43m    \u001B[49m\u001B[43mvalues\u001B[49m\u001B[43m,\u001B[49m\u001B[43m \u001B[49m\u001B[43mindexer\u001B[49m\u001B[43m,\u001B[49m\u001B[43m \u001B[49m\u001B[43maxis\u001B[49m\u001B[38;5;241;43m=\u001B[39;49m\u001B[43maxis\u001B[49m\u001B[43m,\u001B[49m\u001B[43m \u001B[49m\u001B[43mallow_fill\u001B[49m\u001B[38;5;241;43m=\u001B[39;49m\u001B[43mallow_fill\u001B[49m\u001B[43m,\u001B[49m\u001B[43m \u001B[49m\u001B[43mfill_value\u001B[49m\u001B[38;5;241;43m=\u001B[39;49m\u001B[43mfill_value\u001B[49m\n\u001B[0;32m   1309\u001B[0m \u001B[43m\u001B[49m\u001B[43m)\u001B[49m\n\u001B[0;32m   1311\u001B[0m \u001B[38;5;66;03m# Called from three places in managers, all of which satisfy\u001B[39;00m\n\u001B[0;32m   1312\u001B[0m \u001B[38;5;66;03m#  these assertions\u001B[39;00m\n\u001B[0;32m   1313\u001B[0m \u001B[38;5;28;01mif\u001B[39;00m \u001B[38;5;28misinstance\u001B[39m(\u001B[38;5;28mself\u001B[39m, ExtensionBlock):\n\u001B[0;32m   1314\u001B[0m     \u001B[38;5;66;03m# NB: in this case, the 'axis' kwarg will be ignored in the\u001B[39;00m\n\u001B[0;32m   1315\u001B[0m     \u001B[38;5;66;03m#  algos.take_nd call above.\u001B[39;00m\n",
      "File \u001B[1;32m~\\PycharmProjects\\AI-Lab\\venv\\lib\\site-packages\\pandas\\core\\array_algos\\take.py:117\u001B[0m, in \u001B[0;36mtake_nd\u001B[1;34m(arr, indexer, axis, fill_value, allow_fill)\u001B[0m\n\u001B[0;32m    114\u001B[0m     \u001B[38;5;28;01mreturn\u001B[39;00m arr\u001B[38;5;241m.\u001B[39mtake(indexer, fill_value\u001B[38;5;241m=\u001B[39mfill_value, allow_fill\u001B[38;5;241m=\u001B[39mallow_fill)\n\u001B[0;32m    116\u001B[0m arr \u001B[38;5;241m=\u001B[39m np\u001B[38;5;241m.\u001B[39masarray(arr)\n\u001B[1;32m--> 117\u001B[0m \u001B[38;5;28;01mreturn\u001B[39;00m \u001B[43m_take_nd_ndarray\u001B[49m\u001B[43m(\u001B[49m\u001B[43marr\u001B[49m\u001B[43m,\u001B[49m\u001B[43m \u001B[49m\u001B[43mindexer\u001B[49m\u001B[43m,\u001B[49m\u001B[43m \u001B[49m\u001B[43maxis\u001B[49m\u001B[43m,\u001B[49m\u001B[43m \u001B[49m\u001B[43mfill_value\u001B[49m\u001B[43m,\u001B[49m\u001B[43m \u001B[49m\u001B[43mallow_fill\u001B[49m\u001B[43m)\u001B[49m\n",
      "File \u001B[1;32m~\\PycharmProjects\\AI-Lab\\venv\\lib\\site-packages\\pandas\\core\\array_algos\\take.py:162\u001B[0m, in \u001B[0;36m_take_nd_ndarray\u001B[1;34m(arr, indexer, axis, fill_value, allow_fill)\u001B[0m\n\u001B[0;32m    157\u001B[0m     out \u001B[38;5;241m=\u001B[39m np\u001B[38;5;241m.\u001B[39mempty(out_shape, dtype\u001B[38;5;241m=\u001B[39mdtype)\n\u001B[0;32m    159\u001B[0m func \u001B[38;5;241m=\u001B[39m _get_take_nd_function(\n\u001B[0;32m    160\u001B[0m     arr\u001B[38;5;241m.\u001B[39mndim, arr\u001B[38;5;241m.\u001B[39mdtype, out\u001B[38;5;241m.\u001B[39mdtype, axis\u001B[38;5;241m=\u001B[39maxis, mask_info\u001B[38;5;241m=\u001B[39mmask_info\n\u001B[0;32m    161\u001B[0m )\n\u001B[1;32m--> 162\u001B[0m \u001B[43mfunc\u001B[49m\u001B[43m(\u001B[49m\u001B[43marr\u001B[49m\u001B[43m,\u001B[49m\u001B[43m \u001B[49m\u001B[43mindexer\u001B[49m\u001B[43m,\u001B[49m\u001B[43m \u001B[49m\u001B[43mout\u001B[49m\u001B[43m,\u001B[49m\u001B[43m \u001B[49m\u001B[43mfill_value\u001B[49m\u001B[43m)\u001B[49m\n\u001B[0;32m    164\u001B[0m \u001B[38;5;28;01mif\u001B[39;00m flip_order:\n\u001B[0;32m    165\u001B[0m     out \u001B[38;5;241m=\u001B[39m out\u001B[38;5;241m.\u001B[39mT\n",
      "\u001B[1;31mKeyboardInterrupt\u001B[0m: "
     ]
    }
   ],
   "execution_count": 22
  },
  {
   "cell_type": "code",
   "source": [
    "# Step 3: Predict the target variable for the testing data\n",
    "y_NN_pred_DropSeq_MCF7 = NN_best_DropSeq_MCF7.predict(X_test_DropSeq_MCF7)\n",
    "#step 4: Evaluate the model's performance\n",
    "from sklearn.metrics import accuracy_score\n",
    "print(f\"Accuracy: {accuracy_score(y_test_DropSeq_MCF7, y_NN_pred_DropSeq_MCF7)}\")"
   ],
   "metadata": {
    "collapsed": false,
    "ExecuteTime": {
     "end_time": "2024-05-06T12:18:26.308393Z",
     "start_time": "2024-05-06T12:18:26.181731Z"
    }
   },
   "outputs": [],
   "execution_count": null
  },
  {
   "cell_type": "code",
   "source": [
    "#what if we try with the hcc data\n",
    "#laptop\n",
    "#df = pd.read_csv(\"C:\\\\Users\\\\camer\\\\Desktop\\\\class stuff\\\\Semester 4\\\\ai lab\\\\DropSeq\\\\HCC1806_Filtered_Normalised_3000_Data_train.txt\", delimiter=\"\\ \", engine='python', index_col=0)\n",
    "#desktop\n",
    "#C:\\Users\\Cameron\\Desktop\\AILab24\\DropSeq\n",
    "df_DropSeq_HCC = pd.read_csv(\"C:\\\\Users\\\\Cameron\\\\Desktop\\\\AILab24\\\\DropSeq\\\\HCC1806_Filtered_Normalised_3000_Data_train.txt\", delimiter=\"\\ \", engine='python', index_col=0)\n",
    "df_DropSeq_HCC"
   ],
   "metadata": {
    "collapsed": false,
    "ExecuteTime": {
     "end_time": "2024-05-06T12:18:51.069322Z",
     "start_time": "2024-05-06T12:18:26.309390Z"
    }
   },
   "outputs": [],
   "execution_count": null
  },
  {
   "cell_type": "code",
   "source": [
    "#same process as before\n",
    "df_DropSeq_HCC = Oxia(df_DropSeq_HCC)\n",
    "df_DropSeq_HCC"
   ],
   "metadata": {
    "collapsed": false,
    "ExecuteTime": {
     "end_time": "2024-05-06T12:18:51.400344Z",
     "start_time": "2024-05-06T12:18:51.070234Z"
    }
   },
   "outputs": [],
   "execution_count": null
  },
  {
   "cell_type": "code",
   "source": [
    "df_DropSeq_HCC = df_DropSeq_HCC.T\n",
    "df_DropSeq_HCC"
   ],
   "metadata": {
    "collapsed": false,
    "ExecuteTime": {
     "end_time": "2024-05-06T12:18:51.430265Z",
     "start_time": "2024-05-06T12:18:51.401342Z"
    }
   },
   "outputs": [],
   "execution_count": null
  },
  {
   "cell_type": "code",
   "source": [
    "df_DropSeq_HCC['oxia'].value_counts()"
   ],
   "metadata": {
    "collapsed": false,
    "ExecuteTime": {
     "end_time": "2024-05-06T12:18:51.446222Z",
     "start_time": "2024-05-06T12:18:51.431263Z"
    }
   },
   "outputs": [],
   "execution_count": null
  },
  {
   "cell_type": "code",
   "source": [
    "y_DropSeq_HCC = df_DropSeq_HCC['oxia']\n",
    "X_DropSeq_HCC = df_DropSeq_HCC.drop('oxia', axis=1)"
   ],
   "metadata": {
    "collapsed": false,
    "ExecuteTime": {
     "end_time": "2024-05-06T12:18:51.461182Z",
     "start_time": "2024-05-06T12:18:51.450212Z"
    }
   },
   "outputs": [],
   "execution_count": null
  },
  {
   "cell_type": "code",
   "source": [
    "X_train_DropSeq_HCC, X_test_DropSeq_HCC, y_train_DropSeq_HCC, y_test_DropSeq_HCC = train_test_split(X_DropSeq_HCC, y_DropSeq_HCC, test_size=0.2, random_state=42)"
   ],
   "metadata": {
    "collapsed": false,
    "ExecuteTime": {
     "end_time": "2024-05-06T12:18:51.874185Z",
     "start_time": "2024-05-06T12:18:51.668733Z"
    }
   },
   "outputs": [],
   "execution_count": null
  },
  {
   "cell_type": "code",
   "source": [
    "#try the same methods as before, first a linear regression, then try a logistic regression\n",
    "model_linreg_DropSeq_HCC = LinearRegression()\n",
    "model_linreg_DropSeq_HCC.fit(X_train_DropSeq_HCC, y_train_DropSeq_HCC)\n",
    "y_pred_lin_DropSeq_HCC = model_linreg_DropSeq_HCC.predict(X_test_DropSeq_HCC)\n",
    "mse = mean_squared_error(y_test_DropSeq_HCC, y_pred_lin_DropSeq_HCC)\n",
    "r2 = r2_score(y_test_DropSeq_HCC, y_pred_lin_DropSeq_HCC)\n",
    "print(f\"Mean Squared Error: {mse}\")\n",
    "print(f\"R^2 Score: {r2}\")"
   ],
   "metadata": {
    "collapsed": false,
    "ExecuteTime": {
     "end_time": "2024-05-06T12:19:03.201515Z",
     "start_time": "2024-05-06T12:18:51.875182Z"
    }
   },
   "outputs": [],
   "execution_count": null
  },
  {
   "cell_type": "code",
   "source": [
    "model_logistic_DropSeq_HCC = LogisticRegression(solver='liblinear')\n",
    "params_log_DropSeq_HCC = {'penalty': ['l1', 'l2'], 'C': [0.001, 0.01, 0.1, 1, 10, 100, 1000]}\n",
    "model_logistic_gs_DropSeq_HCC = GridSearchCV(model_logistic_DropSeq_HCC, params_log_DropSeq_HCC, cv=5, scoring=['neg_log_loss'], refit='neg_log_loss')\n",
    "model_logistic_gs_DropSeq_HCC.fit(X_train_DropSeq_HCC, y_train_DropSeq_HCC)\n",
    "best_log_model_DropSeq_HCC = model_logistic_gs_DropSeq_HCC.best_estimator_\n",
    "print(best_log_model_DropSeq_HCC)\n",
    "print(f\"The best parameters for the logistic regression:{model_logistic_gs_DropSeq_HCC.best_params_}\")"
   ],
   "metadata": {
    "collapsed": false,
    "ExecuteTime": {
     "end_time": "2024-05-06T12:19:51.772426Z",
     "start_time": "2024-05-06T12:19:03.202513Z"
    }
   },
   "outputs": [],
   "execution_count": null
  },
  {
   "cell_type": "code",
   "source": [
    "y_pred_log = best_log_model_DropSeq_HCC.predict(X_test_DropSeq_HCC)\n",
    "accuracy_logistic = accuracy_score(y_test_DropSeq_HCC, y_pred_log)\n",
    "print(f\"Accuracy: {accuracy_logistic}\")"
   ],
   "metadata": {
    "collapsed": false,
    "ExecuteTime": {
     "end_time": "2024-05-06T12:19:51.867172Z",
     "start_time": "2024-05-06T12:19:51.773399Z"
    }
   },
   "outputs": [],
   "execution_count": null
  },
  {
   "cell_type": "code",
   "execution_count": null,
   "outputs": [],
   "source": [
    "#kmeans\n",
    "from sklearn.cluster import KMeans\n",
    "\n",
    "kmeans_DropSeq_HCC = KMeans(n_clusters=2, random_state=42)\n",
    "preds_DropSeq_HCC = kmeans_DropSeq_MCF7.fit_predict(y_train_DropSeq_HCC)\n",
    "kmeans.fit_predict(X_test_DropSeq_MCF7)\n",
    "#print their accuracy\n",
    "accuracy_kmeans = accuracy_score(y_test_DropSeq_HCC, preds_DropSeq_HCC)\n",
    "print(f\"Accuracy: {accuracy_kmeans}\")"
   ],
   "metadata": {
    "collapsed": false
   }
  },
  {
   "cell_type": "code",
   "execution_count": null,
   "outputs": [],
   "source": [
    "#random forest\n",
    "Forest_DropSeq_HCC = RandomForestClassifier(random_state=42)\n",
    "params_forest_DropSeq_HCC = {'n_estimators': [10, 50, 100, 200], 'max_depth': [10, 50, 100, 200]}\n",
    "forest_gs_DropSeq_HCC = GridSearchCV(Forest_DropSeq_HCC, params_forest_DropSeq_HCC, cv=5, scoring=['neg_log_loss'], refit='neg_log_loss')\n",
    "forest_gs_DropSeq_HCC.fit(X_train_DropSeq_HCC, y_train_DropSeq_HCC)\n",
    "best_forest_DropSeq_HCC = forest_gs_DropSeq_HCC.best_estimator_"
   ],
   "metadata": {
    "collapsed": false
   }
  },
  {
   "cell_type": "code",
   "execution_count": null,
   "outputs": [],
   "source": [
    "best_forest_DropSeq_HCC.fit(X_train_DropSeq_HCC, y_train_DropSeq_HCC)\n",
    "y_forest_pred_DropSeq_HCC = best_forest_DropSeq_HCC.predict(X_test_DropSeq_HCC)"
   ],
   "metadata": {
    "collapsed": false
   }
  },
  {
   "cell_type": "code",
   "execution_count": null,
   "outputs": [],
   "source": [
    "print(f\"Accuracy: {accuracy_score(y_test_DropSeq_HCC, y_forest_pred_DropSeq_HCC)}\")"
   ],
   "metadata": {
    "collapsed": false
   }
  },
  {
   "cell_type": "code",
   "source": [
    "#time for a neural network\n",
    "NN_hcc = MLPClassifier(random_state=42, batch_size='auto', max_iter=1000000, solver='sgd')\n",
    "params_grid = {'hidden_layer_sizes': [(50,), (100,), (50,50), (100,100)], 'learning_rate_init': [0.1, 0.01, 0.001]}\n",
    "NN_gs_DropSeq_HCC = GridSearchCV(NN_hcc, params_grid, cv=3, verbose=2)\n",
    "NN_gs_DropSeq_HCC.fit(X_train_DropSeq_HCC, y_train_DropSeq_HCC)\n",
    "NN_best_DropSeq_HCC = NN_gs_DropSeq_HCC.best_estimator_"
   ],
   "metadata": {
    "collapsed": false,
    "ExecuteTime": {
     "end_time": "2024-05-06T12:49:17.481464Z",
     "start_time": "2024-05-06T12:19:51.868146Z"
    }
   },
   "outputs": [],
   "execution_count": null
  },
  {
   "cell_type": "code",
   "source": [
    "NN_best_DropSeq_HCC.fit(X_train_DropSeq_HCC, y_train_DropSeq_HCC)\n",
    "y_NN_pred_DropSeq_HCC = NN_best_DropSeq_HCC.predict(X_test_DropSeq_HCC)"
   ],
   "metadata": {
    "collapsed": false,
    "ExecuteTime": {
     "end_time": "2024-05-06T12:49:36.051352Z",
     "start_time": "2024-05-06T12:49:17.484948Z"
    }
   },
   "outputs": [],
   "execution_count": null
  },
  {
   "cell_type": "code",
   "source": [
    "print(f\"Accuracy: {accuracy_score(y_test_DropSeq_HCC, y_NN_pred_DropSeq_HCC)}\")"
   ],
   "metadata": {
    "collapsed": false,
    "ExecuteTime": {
     "end_time": "2024-05-06T12:49:36.067281Z",
     "start_time": "2024-05-06T12:49:36.052321Z"
    }
   },
   "outputs": [],
   "execution_count": null
  }
 ],
 "metadata": {
  "kernelspec": {
   "display_name": "Python 3",
   "language": "python",
   "name": "python3"
  },
  "language_info": {
   "codemirror_mode": {
    "name": "ipython",
    "version": 2
   },
   "file_extension": ".py",
   "mimetype": "text/x-python",
   "name": "python",
   "nbconvert_exporter": "python",
   "pygments_lexer": "ipython2",
   "version": "2.7.6"
  }
 },
 "nbformat": 4,
 "nbformat_minor": 0
}
